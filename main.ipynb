{
 "cells": [
  {
   "cell_type": "code",
   "execution_count": 1,
   "metadata": {},
   "outputs": [],
   "source": [
    "import gym\n",
    "import MCTSnet\n",
    "import copy\n",
    "import torch\n",
    "from importlib import reload\n",
    "from IPython import display\n",
    "import time\n",
    "import PIL\n",
    "import copy\n",
    "import marshal\n",
    "\n",
    "device = torch.device('cuda:0' if torch.cuda.is_available() else 'cpu')"
   ]
  },
  {
   "cell_type": "markdown",
   "metadata": {},
   "source": [
    "# Testing environment"
   ]
  },
  {
   "cell_type": "code",
   "execution_count": 2,
   "metadata": {},
   "outputs": [],
   "source": [
    "env = gym.make(\"SokobanEnc-v0\")"
   ]
  },
  {
   "cell_type": "code",
   "execution_count": 3,
   "metadata": {},
   "outputs": [
    {
     "data": {
      "text/plain": [
       "31"
      ]
     },
     "execution_count": 3,
     "metadata": {},
     "output_type": "execute_result"
    }
   ],
   "source": [
    "len(env.solution)"
   ]
  },
  {
   "cell_type": "code",
   "execution_count": 4,
   "metadata": {
    "scrolled": true
   },
   "outputs": [
    {
     "data": {
      "image/png": "[encoded data removed]",
      "text/plain": [
       "<PIL.Image.Image image mode=RGB size=160x160 at 0x1F9D5D1E9B0>"
      ]
     },
     "execution_count": 4,
     "metadata": {},
     "output_type": "execute_result"
    }
   ],
   "source": [
    "env.render()"
   ]
  },
  {
   "cell_type": "code",
   "execution_count": 5,
   "metadata": {},
   "outputs": [
    {
     "data": {
      "image/png": "[encoded data removed]",
      "text/plain": [
       "<PIL.Image.Image image mode=RGB size=160x160 at 0x1F9D5D3BA58>"
      ]
     },
     "metadata": {},
     "output_type": "display_data"
    }
   ],
   "source": [
    "test = []\n",
    "n_env = copy.deepcopy(env)\n",
    "for k in reversed(n_env.solution):\n",
    "    display.clear_output(wait=True)\n",
    "    res = n_env.step(k)\n",
    "    display.display(n_env.render())\n",
    "    time.sleep(0.05)\n",
    "    test.append(marshal.dumps(res[0]))"
   ]
  },
  {
   "cell_type": "code",
   "execution_count": 6,
   "metadata": {},
   "outputs": [
    {
     "data": {
      "text/plain": [
       "31"
      ]
     },
     "execution_count": 6,
     "metadata": {},
     "output_type": "execute_result"
    }
   ],
   "source": [
    "len(list(set(test)))"
   ]
  },
  {
   "cell_type": "markdown",
   "metadata": {},
   "source": [
    "# Testing the four neural networks"
   ]
  },
  {
   "cell_type": "code",
   "execution_count": 7,
   "metadata": {},
   "outputs": [],
   "source": [
    "e = MCTSnet.models.embedding.Epsilon()"
   ]
  },
  {
   "cell_type": "code",
   "execution_count": 8,
   "metadata": {},
   "outputs": [
    {
     "data": {
      "text/plain": [
       "torch.Size([1, 4, 10, 10])"
      ]
     },
     "execution_count": 8,
     "metadata": {},
     "output_type": "execute_result"
    }
   ],
   "source": [
    "state = torch.Tensor(res[0]).to(device)\n",
    "state.reshape((-1,4,10,10)).shape"
   ]
  },
  {
   "cell_type": "code",
   "execution_count": 9,
   "metadata": {},
   "outputs": [],
   "source": [
    "embed = e.forward(state.reshape((-1, 4, 10, 10)))"
   ]
  },
  {
   "cell_type": "code",
   "execution_count": 10,
   "metadata": {},
   "outputs": [],
   "source": [
    "reward = torch.tensor([res[1]], requires_grad=True).to(device)\n",
    "action = torch.tensor([3.], requires_grad=True).to(device)"
   ]
  },
  {
   "cell_type": "code",
   "execution_count": 11,
   "metadata": {},
   "outputs": [],
   "source": [
    "b = MCTSnet.models.backup.BetaMLP()"
   ]
  },
  {
   "cell_type": "code",
   "execution_count": 12,
   "metadata": {},
   "outputs": [],
   "source": [
    "h_s = b(embed, embed, reward.reshape((-1, 1)), action.reshape((-1, 1)))"
   ]
  },
  {
   "cell_type": "code",
   "execution_count": 13,
   "metadata": {},
   "outputs": [],
   "source": [
    "r = MCTSnet.models.readout.Rho()"
   ]
  },
  {
   "cell_type": "code",
   "execution_count": 14,
   "metadata": {},
   "outputs": [
    {
     "data": {
      "text/plain": [
       "tensor([[0.1244, 0.0945, 0.1374, 0.1053, 0.1188, 0.1382, 0.1476, 0.1339]],\n",
       "       device='cuda:0', grad_fn=<SoftmaxBackward>)"
      ]
     },
     "execution_count": 14,
     "metadata": {},
     "output_type": "execute_result"
    }
   ],
   "source": [
    "r(h_s)"
   ]
  },
  {
   "cell_type": "code",
   "execution_count": 15,
   "metadata": {},
   "outputs": [],
   "source": [
    "pi = MCTSnet.models.policy.Pi()\n",
    "actions = pi(torch.cat((h_s, h_s, h_s, h_s, h_s, h_s, h_s, h_s, h_s), dim=0).reshape(-1, 9, 128))"
   ]
  },
  {
   "cell_type": "code",
   "execution_count": 16,
   "metadata": {},
   "outputs": [
    {
     "data": {
      "text/plain": [
       "tensor([[0.1281, 0.1286, 0.1213, 0.1369, 0.1213, 0.1213, 0.1213, 0.1213]],\n",
       "       device='cuda:0', grad_fn=<SoftmaxBackward>)"
      ]
     },
     "execution_count": 16,
     "metadata": {},
     "output_type": "execute_result"
    }
   ],
   "source": [
    "actions"
   ]
  },
  {
   "cell_type": "code",
   "execution_count": 17,
   "metadata": {},
   "outputs": [
    {
     "data": {
      "text/plain": [
       "tensor(3, device='cuda:0')"
      ]
     },
     "execution_count": 17,
     "metadata": {},
     "output_type": "execute_result"
    }
   ],
   "source": [
    "torch.argmax(actions)"
   ]
  },
  {
   "cell_type": "code",
   "execution_count": 18,
   "metadata": {},
   "outputs": [
    {
     "data": {
      "text/plain": [
       "torch.Size([4, 10, 10])"
      ]
     },
     "execution_count": 18,
     "metadata": {},
     "output_type": "execute_result"
    }
   ],
   "source": [
    "state.shape"
   ]
  },
  {
   "cell_type": "markdown",
   "metadata": {},
   "source": [
    "# Testing the full MCTSnet"
   ]
  },
  {
   "cell_type": "code",
   "execution_count": 19,
   "metadata": {},
   "outputs": [],
   "source": [
    "m_net = MCTSnet.models.MCTSnet.MCTSnet(b, e, pi, r)\n",
    "m_net.env = env\n",
    "m_net.reset_tree(state.reshape((-1, 4, 10, 10)))\n",
    "prediction = m_net(state.reshape((-1, 4, 10, 10)).to(device))"
   ]
  },
  {
   "cell_type": "code",
   "execution_count": 20,
   "metadata": {},
   "outputs": [
    {
     "data": {
      "text/plain": [
       "tensor([[0.1266, 0.1213, 0.1230, 0.1186, 0.1158, 0.1301, 0.1394, 0.1252]],\n",
       "       device='cuda:0', grad_fn=<SoftmaxBackward>)"
      ]
     },
     "execution_count": 20,
     "metadata": {},
     "output_type": "execute_result"
    }
   ],
   "source": [
    "prediction"
   ]
  },
  {
   "cell_type": "code",
   "execution_count": 21,
   "metadata": {},
   "outputs": [],
   "source": [
    "criterion = torch.nn.BCELoss()\n",
    "optimizer = torch.optim.SGD(m_net.parameters(), lr=0.0001)"
   ]
  },
  {
   "cell_type": "markdown",
   "metadata": {},
   "source": [
    "### Checking that gradients are computed (is the model differentiable ?)"
   ]
  },
  {
   "cell_type": "code",
   "execution_count": 22,
   "metadata": {},
   "outputs": [],
   "source": [
    "optimizer.zero_grad()\n",
    "loss = criterion(prediction, torch.tensor([[1.,0.,0.,0.,0.,0.,0.,0.]]).to(device))\n",
    "loss.backward()"
   ]
  },
  {
   "cell_type": "code",
   "execution_count": 23,
   "metadata": {},
   "outputs": [
    {
     "data": {
      "text/plain": [
       "tensor([[0., 0., 0.,  ..., 0., -0., 0.],\n",
       "        [0., 0., 0.,  ..., 0., -0., 0.],\n",
       "        [0., 0., 0.,  ..., 0., -0., 0.],\n",
       "        ...,\n",
       "        [0., 0., 0.,  ..., 0., -0., 0.],\n",
       "        [0., 0., 0.,  ..., 0., -0., 0.],\n",
       "        [0., 0., 0.,  ..., 0., -0., 0.]], device='cuda:0')"
      ]
     },
     "execution_count": 23,
     "metadata": {},
     "output_type": "execute_result"
    }
   ],
   "source": [
    "m_net.backup.fc1.weight.grad"
   ]
  },
  {
   "cell_type": "code",
   "execution_count": 24,
   "metadata": {
    "scrolled": true
   },
   "outputs": [
    {
     "data": {
      "text/plain": [
       "tensor([[[[-1.3695e-07, -1.4369e-07, -6.4457e-08],\n",
       "          [-3.0883e-07, -2.3809e-07, -1.3121e-07],\n",
       "          [-2.7892e-07, -2.2506e-07, -1.4998e-07]],\n",
       "\n",
       "         [[ 0.0000e+00, -1.4253e-08, -2.4028e-08],\n",
       "          [ 0.0000e+00,  2.9404e-09, -4.9922e-08],\n",
       "          [ 2.6829e-08, -2.1787e-09, -1.2896e-08]],\n",
       "\n",
       "         [[ 0.0000e+00, -4.4616e-09, -4.1901e-08],\n",
       "          [ 0.0000e+00,  2.4990e-08,  1.4133e-08],\n",
       "          [ 0.0000e+00, -1.7119e-09,  5.4819e-09]],\n",
       "\n",
       "         [[ 0.0000e+00,  0.0000e+00,  0.0000e+00],\n",
       "          [ 0.0000e+00,  0.0000e+00,  0.0000e+00],\n",
       "          [ 0.0000e+00,  0.0000e+00,  0.0000e+00]]],\n",
       "\n",
       "\n",
       "        [[[ 1.3258e-07, -1.8614e-07, -7.0335e-08],\n",
       "          [-1.6326e-08, -1.9404e-07, -6.1082e-08],\n",
       "          [-1.1295e-09, -1.1627e-07, -4.6474e-08]],\n",
       "\n",
       "         [[ 0.0000e+00,  0.0000e+00,  0.0000e+00],\n",
       "          [ 0.0000e+00,  3.1720e-08, -7.4248e-09],\n",
       "          [ 0.0000e+00,  0.0000e+00,  0.0000e+00]],\n",
       "\n",
       "         [[-5.6013e-08,  3.3679e-08, -1.2131e-09],\n",
       "          [-4.1800e-08,  1.6026e-08, -2.2868e-08],\n",
       "          [-6.6714e-09,  0.0000e+00,  3.4415e-08]],\n",
       "\n",
       "         [[ 0.0000e+00,  0.0000e+00,  0.0000e+00],\n",
       "          [ 0.0000e+00,  0.0000e+00,  0.0000e+00],\n",
       "          [ 0.0000e+00,  0.0000e+00,  0.0000e+00]]],\n",
       "\n",
       "\n",
       "        [[[ 4.9499e-08,  3.5483e-08, -7.2419e-08],\n",
       "          [-1.3418e-07, -9.8705e-08, -1.5253e-07],\n",
       "          [-2.6067e-07, -1.5086e-07, -1.4502e-07]],\n",
       "\n",
       "         [[ 4.3821e-09,  0.0000e+00, -2.7889e-08],\n",
       "          [-5.2263e-08,  0.0000e+00, -3.0201e-08],\n",
       "          [ 6.2088e-09,  2.4603e-08,  2.0269e-08]],\n",
       "\n",
       "         [[-2.4715e-08,  5.1302e-08,  7.1338e-08],\n",
       "          [-8.4761e-08,  1.7968e-08, -3.7634e-08],\n",
       "          [ 7.2300e-09, -2.7541e-09,  2.2144e-08]],\n",
       "\n",
       "         [[ 0.0000e+00,  0.0000e+00,  0.0000e+00],\n",
       "          [ 0.0000e+00,  0.0000e+00,  0.0000e+00],\n",
       "          [ 0.0000e+00,  0.0000e+00,  0.0000e+00]]],\n",
       "\n",
       "\n",
       "        ...,\n",
       "\n",
       "\n",
       "        [[[ 1.2150e-07, -1.3951e-08,  1.5571e-08],\n",
       "          [ 1.1959e-07, -4.4526e-08,  2.5362e-10],\n",
       "          [-3.2308e-09, -1.5138e-07, -9.6874e-08]],\n",
       "\n",
       "         [[-4.4330e-09,  0.0000e+00, -1.9086e-09],\n",
       "          [ 1.4524e-08,  0.0000e+00,  0.0000e+00],\n",
       "          [ 1.2827e-08,  0.0000e+00,  0.0000e+00]],\n",
       "\n",
       "         [[ 4.7950e-08, -6.0169e-09, -4.1862e-09],\n",
       "          [ 1.7158e-08,  1.0064e-09, -3.0580e-08],\n",
       "          [-1.2385e-08,  3.4187e-09,  2.9885e-08]],\n",
       "\n",
       "         [[ 0.0000e+00,  0.0000e+00,  0.0000e+00],\n",
       "          [ 0.0000e+00,  0.0000e+00,  0.0000e+00],\n",
       "          [ 0.0000e+00,  0.0000e+00,  0.0000e+00]]],\n",
       "\n",
       "\n",
       "        [[[ 0.0000e+00,  0.0000e+00,  0.0000e+00],\n",
       "          [ 0.0000e+00,  0.0000e+00,  0.0000e+00],\n",
       "          [ 0.0000e+00,  0.0000e+00,  0.0000e+00]],\n",
       "\n",
       "         [[ 0.0000e+00,  0.0000e+00,  0.0000e+00],\n",
       "          [ 0.0000e+00,  0.0000e+00,  0.0000e+00],\n",
       "          [ 0.0000e+00,  0.0000e+00,  0.0000e+00]],\n",
       "\n",
       "         [[ 0.0000e+00,  0.0000e+00,  0.0000e+00],\n",
       "          [ 0.0000e+00,  0.0000e+00,  0.0000e+00],\n",
       "          [ 0.0000e+00,  0.0000e+00,  0.0000e+00]],\n",
       "\n",
       "         [[ 0.0000e+00,  0.0000e+00,  0.0000e+00],\n",
       "          [ 0.0000e+00,  0.0000e+00,  0.0000e+00],\n",
       "          [ 0.0000e+00,  0.0000e+00,  0.0000e+00]]],\n",
       "\n",
       "\n",
       "        [[[-3.1107e-08,  1.3287e-07,  2.1458e-08],\n",
       "          [ 3.2515e-08,  1.9787e-07,  1.0690e-07],\n",
       "          [-2.3342e-08,  9.1643e-08, -3.3552e-10]],\n",
       "\n",
       "         [[ 0.0000e+00,  0.0000e+00,  0.0000e+00],\n",
       "          [ 0.0000e+00,  0.0000e+00,  0.0000e+00],\n",
       "          [-3.3552e-10,  0.0000e+00,  0.0000e+00]],\n",
       "\n",
       "         [[-1.0089e-09, -5.1552e-08,  1.7973e-08],\n",
       "          [ 0.0000e+00, -2.8573e-08,  0.0000e+00],\n",
       "          [ 4.3827e-08,  0.0000e+00, -2.2979e-08]],\n",
       "\n",
       "         [[ 0.0000e+00,  0.0000e+00,  0.0000e+00],\n",
       "          [ 0.0000e+00,  0.0000e+00,  0.0000e+00],\n",
       "          [ 0.0000e+00,  0.0000e+00,  0.0000e+00]]]], device='cuda:0')"
      ]
     },
     "execution_count": 24,
     "metadata": {},
     "output_type": "execute_result"
    }
   ],
   "source": [
    "m_net.embedding.input.weight.grad"
   ]
  },
  {
   "cell_type": "markdown",
   "metadata": {},
   "source": [
    "as \"expected\" the policy doesn't learn and may require additionnal work"
   ]
  },
  {
   "cell_type": "code",
   "execution_count": 25,
   "metadata": {},
   "outputs": [],
   "source": [
    "m_net.policy.piL.fc1.weight.grad"
   ]
  },
  {
   "cell_type": "code",
   "execution_count": 26,
   "metadata": {},
   "outputs": [
    {
     "data": {
      "text/plain": [
       "tensor([[-0., -0., -0.,  ..., -0., -0., -0.],\n",
       "        [0., 0., 0.,  ..., 0., 0., 0.],\n",
       "        [0., 0., 0.,  ..., 0., 0., 0.],\n",
       "        ...,\n",
       "        [0., 0., 0.,  ..., 0., 0., 0.],\n",
       "        [0., 0., 0.,  ..., 0., 0., 0.],\n",
       "        [0., 0., 0.,  ..., 0., 0., 0.]], device='cuda:0')"
      ]
     },
     "execution_count": 26,
     "metadata": {},
     "output_type": "execute_result"
    }
   ],
   "source": [
    "m_net.readout.fc1.weight.grad"
   ]
  },
  {
   "cell_type": "code",
   "execution_count": 27,
   "metadata": {},
   "outputs": [
    {
     "data": {
      "text/plain": [
       "<bound method Module.state_dict of MCTSnet(\n",
       "  (backup): BetaMLP(\n",
       "    (fc1): Linear(in_features=258, out_features=128, bias=True)\n",
       "  )\n",
       "  (embedding): Epsilon(\n",
       "    (input): Conv2d(4, 64, kernel_size=(3, 3), stride=(1, 1), padding=(1, 1))\n",
       "    (res1): Conv2d(64, 64, kernel_size=(3, 3), stride=(1, 1), padding=(1, 1))\n",
       "    (res2): Conv2d(64, 64, kernel_size=(3, 3), stride=(1, 1), padding=(1, 1))\n",
       "    (res3): Conv2d(64, 64, kernel_size=(3, 3), stride=(1, 1), padding=(1, 1))\n",
       "    (final): Conv2d(64, 32, kernel_size=(1, 1), stride=(1, 1))\n",
       "    (out): Linear(in_features=3200, out_features=128, bias=True)\n",
       "  )\n",
       "  (policy): Pi(\n",
       "    (piL): PiLogits(\n",
       "      (fc1): Linear(in_features=128, out_features=8, bias=True)\n",
       "    )\n",
       "    (piPL): PiPriorLogits(\n",
       "      (input): Conv2d(9, 32, kernel_size=(3, 3), stride=(1, 1), padding=(1, 1))\n",
       "      (res1): Conv2d(32, 32, kernel_size=(3, 3), stride=(1, 1), padding=(1, 1))\n",
       "      (res2): Conv2d(32, 32, kernel_size=(3, 3), stride=(1, 1), padding=(1, 1))\n",
       "      (final): Conv2d(32, 16, kernel_size=(1, 1), stride=(1, 1))\n",
       "      (out): Linear(in_features=2048, out_features=8, bias=True)\n",
       "    )\n",
       "  )\n",
       "  (readout): Rho(\n",
       "    (fc1): Linear(in_features=128, out_features=8, bias=True)\n",
       "  )\n",
       ")>"
      ]
     },
     "execution_count": 27,
     "metadata": {},
     "output_type": "execute_result"
    }
   ],
   "source": [
    "m_net.state_dict"
   ]
  },
  {
   "cell_type": "markdown",
   "metadata": {},
   "source": [
    "# Trainer"
   ]
  },
  {
   "cell_type": "code",
   "execution_count": 45,
   "metadata": {},
   "outputs": [],
   "source": [
    "reload(MCTSnet.trainer)\n",
    "reload(MCTSnet)\n",
    "sokoban = MCTSnet.MCTSnetSokoban((4, 10, 10), n_embeddings=128, n_actions=4, n_simulations=10)"
   ]
  },
  {
   "cell_type": "code",
   "execution_count": null,
   "metadata": {
    "scrolled": true
   },
   "outputs": [
    {
     "name": "stdout",
     "output_type": "stream",
     "text": [
      "[1,    24] mean loss: 0.558\n",
      "[1,    49] mean loss: 0.560\n",
      "[1,    74] mean loss: 0.560\n",
      "[1,    99] mean loss: 0.560\n",
      "[1,   124] mean loss: 0.560\n",
      "[1,   149] mean loss: 0.560\n"
     ]
    }
   ],
   "source": [
    "sokoban.train(10)"
   ]
  },
  {
   "cell_type": "code",
   "execution_count": null,
   "metadata": {},
   "outputs": [],
   "source": []
  }
 ],
 "metadata": {
  "kernelspec": {
   "display_name": "Python 3",
   "language": "python",
   "name": "python3"
  },
  "language_info": {
   "codemirror_mode": {
    "name": "ipython",
    "version": 3
   },
   "file_extension": ".py",
   "mimetype": "text/x-python",
   "name": "python",
   "nbconvert_exporter": "python",
   "pygments_lexer": "ipython3",
   "version": "3.6.1"
  }
 },
 "nbformat": 4,
 "nbformat_minor": 2
}
