{
 "cells": [
  {
   "cell_type": "code",
   "execution_count": 319,
   "metadata": {},
   "outputs": [],
   "source": [
    "import gym\n",
    "import MCTSnet\n",
    "import copy\n",
    "import torch\n",
    "from importlib import reload\n",
    "from IPython import display\n",
    "import time\n",
    "import PIL\n",
    "import copy\n",
    "import marshal\n",
    "import numpy as np\n",
    "\n",
    "device = torch.device('cuda:0' if torch.cuda.is_available() else 'cpu')"
   ]
  },
  {
   "cell_type": "markdown",
   "metadata": {},
   "source": [
    "# Testing environment"
   ]
  },
  {
   "cell_type": "code",
   "execution_count": 320,
   "metadata": {},
   "outputs": [],
   "source": [
    "env = gym.make(\"SokobanEnc-v0\")"
   ]
  },
  {
   "cell_type": "code",
   "execution_count": 321,
   "metadata": {},
   "outputs": [
    {
     "data": {
      "text/plain": [
       "293"
      ]
     },
     "execution_count": 321,
     "metadata": {},
     "output_type": "execute_result"
    }
   ],
   "source": [
    "len(env.solution)"
   ]
  },
  {
   "cell_type": "code",
   "execution_count": 322,
   "metadata": {
    "scrolled": true
   },
   "outputs": [
    {
     "data": {
      "image/png": "[encoded data removed]",
      "text/plain": [
       "<PIL.Image.Image image mode=RGB size=160x160 at 0x2019ADD0160>"
      ]
     },
     "execution_count": 322,
     "metadata": {},
     "output_type": "execute_result"
    }
   ],
   "source": [
    "env.render()"
   ]
  },
  {
   "cell_type": "code",
   "execution_count": 5,
   "metadata": {},
   "outputs": [
    {
     "data": {
      "image/png": "[encoded data removed]",
      "text/plain": [
       "<PIL.Image.Image image mode=RGB size=160x160 at 0x201E5DE76A0>"
      ]
     },
     "metadata": {},
     "output_type": "display_data"
    }
   ],
   "source": [
    "test = []\n",
    "n_env = copy.deepcopy(env)\n",
    "for k in reversed(n_env.solution):\n",
    "    display.clear_output(wait=True)\n",
    "    res = n_env.step(k)\n",
    "    display.display(n_env.render())\n",
    "    time.sleep(0.05)\n",
    "    test.append(marshal.dumps(res[0]))"
   ]
  },
  {
   "cell_type": "code",
   "execution_count": 6,
   "metadata": {},
   "outputs": [
    {
     "data": {
      "text/plain": [
       "297"
      ]
     },
     "execution_count": 6,
     "metadata": {},
     "output_type": "execute_result"
    }
   ],
   "source": [
    "len(list(set(test)))"
   ]
  },
  {
   "cell_type": "markdown",
   "metadata": {},
   "source": [
    "# Testing the four neural networks"
   ]
  },
  {
   "cell_type": "code",
   "execution_count": 323,
   "metadata": {},
   "outputs": [],
   "source": [
    "e = MCTSnet.models.embedding.Epsilon()"
   ]
  },
  {
   "cell_type": "code",
   "execution_count": 324,
   "metadata": {},
   "outputs": [
    {
     "data": {
      "text/plain": [
       "torch.Size([1, 4, 10, 10])"
      ]
     },
     "execution_count": 324,
     "metadata": {},
     "output_type": "execute_result"
    }
   ],
   "source": [
    "state = torch.Tensor(res[0]).to(device)\n",
    "state.reshape((-1,4,10,10)).shape"
   ]
  },
  {
   "cell_type": "code",
   "execution_count": 325,
   "metadata": {},
   "outputs": [],
   "source": [
    "embed = e.forward(state.reshape((-1, 4, 10, 10)))"
   ]
  },
  {
   "cell_type": "code",
   "execution_count": 326,
   "metadata": {},
   "outputs": [],
   "source": [
    "reward = torch.tensor([res[1]], requires_grad=True).to(device)\n",
    "action = torch.tensor([3.], requires_grad=True).to(device)"
   ]
  },
  {
   "cell_type": "code",
   "execution_count": 327,
   "metadata": {},
   "outputs": [],
   "source": [
    "b = MCTSnet.models.backup.BetaMLP()"
   ]
  },
  {
   "cell_type": "code",
   "execution_count": 328,
   "metadata": {},
   "outputs": [],
   "source": [
    "h_s = b(embed, embed, reward.reshape((-1, 1)), action.reshape((-1, 1)))"
   ]
  },
  {
   "cell_type": "code",
   "execution_count": 329,
   "metadata": {},
   "outputs": [],
   "source": [
    "r = MCTSnet.models.readout.Rho()"
   ]
  },
  {
   "cell_type": "code",
   "execution_count": 330,
   "metadata": {},
   "outputs": [
    {
     "data": {
      "text/plain": [
       "tensor([[0.1079, 0.1213, 0.1431, 0.1322, 0.1338, 0.1517, 0.1007, 0.1094]],\n",
       "       device='cuda:0', grad_fn=<SoftmaxBackward>)"
      ]
     },
     "execution_count": 330,
     "metadata": {},
     "output_type": "execute_result"
    }
   ],
   "source": [
    "r(h_s)"
   ]
  },
  {
   "cell_type": "code",
   "execution_count": 331,
   "metadata": {},
   "outputs": [],
   "source": [
    "pi = MCTSnet.models.policy.Pi()\n",
    "actions = pi(torch.cat((h_s, h_s, h_s, h_s, h_s, h_s, h_s, h_s, h_s), dim=0).reshape(-1, 9, 128))"
   ]
  },
  {
   "cell_type": "code",
   "execution_count": 332,
   "metadata": {},
   "outputs": [
    {
     "data": {
      "text/plain": [
       "tensor([[0.1212, 0.1229, 0.1451, 0.1205, 0.1213, 0.1234, 0.1204, 0.1252]],\n",
       "       device='cuda:0', grad_fn=<SoftmaxBackward>)"
      ]
     },
     "execution_count": 332,
     "metadata": {},
     "output_type": "execute_result"
    }
   ],
   "source": [
    "actions"
   ]
  },
  {
   "cell_type": "code",
   "execution_count": 333,
   "metadata": {},
   "outputs": [
    {
     "data": {
      "text/plain": [
       "tensor(2, device='cuda:0')"
      ]
     },
     "execution_count": 333,
     "metadata": {},
     "output_type": "execute_result"
    }
   ],
   "source": [
    "torch.argmax(actions)"
   ]
  },
  {
   "cell_type": "code",
   "execution_count": 334,
   "metadata": {},
   "outputs": [
    {
     "data": {
      "text/plain": [
       "torch.Size([4, 10, 10])"
      ]
     },
     "execution_count": 334,
     "metadata": {},
     "output_type": "execute_result"
    }
   ],
   "source": [
    "state.shape"
   ]
  },
  {
   "cell_type": "markdown",
   "metadata": {},
   "source": [
    "# Testing the full MCTSnet"
   ]
  },
  {
   "cell_type": "code",
   "execution_count": 335,
   "metadata": {},
   "outputs": [],
   "source": [
    "m_net = MCTSnet.models.MCTSnet.MCTSnet(b, e, pi, r)\n",
    "m_net.env = env\n",
    "m_net.reset_tree(state.reshape((-1, 4, 10, 10)))\n",
    "prediction = m_net(state.reshape((-1, 4, 10, 10)).to(device))"
   ]
  },
  {
   "cell_type": "code",
   "execution_count": 336,
   "metadata": {},
   "outputs": [
    {
     "data": {
      "text/plain": [
       "tensor([[0.1254, 0.1231, 0.1303, 0.1297, 0.1192, 0.1345, 0.1298, 0.1081]],\n",
       "       device='cuda:0', grad_fn=<SoftmaxBackward>)"
      ]
     },
     "execution_count": 336,
     "metadata": {},
     "output_type": "execute_result"
    }
   ],
   "source": [
    "prediction"
   ]
  },
  {
   "cell_type": "code",
   "execution_count": 337,
   "metadata": {},
   "outputs": [],
   "source": [
    "criterion = torch.nn.BCELoss()\n",
    "optimizer = torch.optim.SGD(m_net.parameters(), lr=0.0001)"
   ]
  },
  {
   "cell_type": "markdown",
   "metadata": {},
   "source": [
    "### Checking that gradients are computed (is the model differentiable ?)"
   ]
  },
  {
   "cell_type": "code",
   "execution_count": 338,
   "metadata": {},
   "outputs": [],
   "source": [
    "optimizer.zero_grad()\n",
    "loss = criterion(prediction, torch.tensor([[1.,0.,0.,0.,0.,0.,0.,0.]]).to(device))\n",
    "loss.backward()"
   ]
  },
  {
   "cell_type": "code",
   "execution_count": 339,
   "metadata": {},
   "outputs": [
    {
     "data": {
      "text/plain": [
       "tensor([[-1.0613e-05, -9.2756e-04, -1.0276e-06,  ..., -1.9513e-06,\n",
       "          1.2318e-03, -1.2318e-02],\n",
       "        [-3.3050e-07, -3.1819e-04,  1.6510e-06,  ..., -2.1129e-05,\n",
       "          4.5626e-04, -6.7068e-03],\n",
       "        [ 0.0000e+00,  0.0000e+00,  0.0000e+00,  ...,  0.0000e+00,\n",
       "         -0.0000e+00,  0.0000e+00],\n",
       "        ...,\n",
       "        [ 0.0000e+00, -1.3925e-04,  0.0000e+00,  ..., -4.1685e-05,\n",
       "          9.6690e-05,  0.0000e+00],\n",
       "        [-1.4224e-05, -6.5381e-04,  0.0000e+00,  ..., -1.1816e-04,\n",
       "          1.0423e-03, -2.0231e-02],\n",
       "        [ 3.4522e-07,  2.6874e-04,  0.0000e+00,  ...,  0.0000e+00,\n",
       "         -3.5349e-04,  3.5349e-03]], device='cuda:0')"
      ]
     },
     "execution_count": 339,
     "metadata": {},
     "output_type": "execute_result"
    }
   ],
   "source": [
    "m_net.backup.fc1.weight.grad"
   ]
  },
  {
   "cell_type": "code",
   "execution_count": 340,
   "metadata": {
    "scrolled": true
   },
   "outputs": [
    {
     "data": {
      "text/plain": [
       "tensor([[[[ 0.0000e+00,  0.0000e+00,  0.0000e+00],\n",
       "          [ 0.0000e+00,  0.0000e+00,  0.0000e+00],\n",
       "          [ 0.0000e+00,  0.0000e+00,  0.0000e+00]],\n",
       "\n",
       "         [[ 0.0000e+00,  0.0000e+00,  0.0000e+00],\n",
       "          [ 7.4617e-06,  0.0000e+00,  0.0000e+00],\n",
       "          [ 0.0000e+00,  0.0000e+00,  0.0000e+00]],\n",
       "\n",
       "         [[ 7.4617e-06,  0.0000e+00,  0.0000e+00],\n",
       "          [ 0.0000e+00,  0.0000e+00,  0.0000e+00],\n",
       "          [ 0.0000e+00,  0.0000e+00,  0.0000e+00]],\n",
       "\n",
       "         [[ 0.0000e+00,  0.0000e+00,  0.0000e+00],\n",
       "          [ 0.0000e+00,  0.0000e+00,  0.0000e+00],\n",
       "          [ 0.0000e+00,  0.0000e+00,  0.0000e+00]]],\n",
       "\n",
       "\n",
       "        [[[ 1.0352e-04,  6.1803e-05,  6.4714e-05],\n",
       "          [ 8.6165e-05,  7.0278e-05,  0.0000e+00],\n",
       "          [ 1.0003e-04,  8.0902e-05,  1.0624e-05]],\n",
       "\n",
       "         [[ 1.2782e-05,  7.6891e-06,  1.8942e-05],\n",
       "          [-1.6284e-05,  0.0000e+00,  0.0000e+00],\n",
       "          [ 0.0000e+00,  0.0000e+00,  0.0000e+00]],\n",
       "\n",
       "         [[-1.6284e-05,  0.0000e+00,  0.0000e+00],\n",
       "          [ 0.0000e+00, -1.1527e-05, -2.3351e-06],\n",
       "          [ 1.8890e-05,  1.9673e-05,  1.2782e-05]],\n",
       "\n",
       "         [[ 0.0000e+00,  0.0000e+00,  0.0000e+00],\n",
       "          [ 0.0000e+00,  0.0000e+00,  0.0000e+00],\n",
       "          [ 0.0000e+00,  0.0000e+00,  0.0000e+00]]],\n",
       "\n",
       "\n",
       "        [[[ 3.8467e-05,  2.5732e-05,  7.7860e-05],\n",
       "          [-1.2648e-05,  3.7293e-07,  3.2710e-05],\n",
       "          [ 2.4893e-05,  2.7269e-05,  8.9152e-06]],\n",
       "\n",
       "         [[ 9.1892e-06,  9.4498e-06,  7.5140e-06],\n",
       "          [ 8.9213e-06,  0.0000e+00, -1.7951e-05],\n",
       "          [ 0.0000e+00, -8.1563e-06, -9.9628e-06]],\n",
       "\n",
       "         [[-2.4424e-05, -3.8300e-05, -2.9716e-05],\n",
       "          [-6.6517e-06, -1.5223e-05, -2.7619e-06],\n",
       "          [ 1.2737e-05, -3.5448e-05, -7.7410e-06]],\n",
       "\n",
       "         [[ 0.0000e+00,  0.0000e+00,  0.0000e+00],\n",
       "          [ 0.0000e+00,  0.0000e+00,  0.0000e+00],\n",
       "          [ 0.0000e+00,  0.0000e+00,  0.0000e+00]]],\n",
       "\n",
       "\n",
       "        ...,\n",
       "\n",
       "\n",
       "        [[[ 6.2536e-05,  8.4578e-05,  7.0813e-05],\n",
       "          [-3.5669e-05,  2.3378e-05, -1.4472e-05],\n",
       "          [-3.4039e-05, -5.2009e-06,  4.5823e-05]],\n",
       "\n",
       "         [[ 0.0000e+00,  9.9675e-06, -1.1616e-06],\n",
       "          [ 0.0000e+00, -3.4948e-06, -8.2044e-06],\n",
       "          [-2.5244e-05,  7.0645e-06, -2.6958e-05]],\n",
       "\n",
       "         [[-2.5757e-07, -3.4948e-06, -2.4904e-06],\n",
       "          [-7.2328e-06,  6.8339e-06, -2.6468e-05],\n",
       "          [-1.6679e-05, -6.6142e-07,  1.0047e-05]],\n",
       "\n",
       "         [[ 0.0000e+00,  0.0000e+00,  0.0000e+00],\n",
       "          [ 0.0000e+00,  0.0000e+00,  0.0000e+00],\n",
       "          [ 0.0000e+00,  0.0000e+00,  0.0000e+00]]],\n",
       "\n",
       "\n",
       "        [[[ 1.5585e-05,  5.1896e-05, -8.6868e-05],\n",
       "          [ 5.5908e-05,  1.2462e-04, -2.5542e-05],\n",
       "          [-3.3127e-05, -1.7476e-05, -1.0088e-04]],\n",
       "\n",
       "         [[ 0.0000e+00,  4.6038e-06, -3.2690e-06],\n",
       "          [ 6.9263e-06,  6.0752e-06,  6.2948e-06],\n",
       "          [ 1.7182e-05,  8.4913e-09,  2.6489e-06]],\n",
       "\n",
       "         [[ 4.3945e-05,  5.1445e-05,  3.4495e-05],\n",
       "          [ 1.1740e-05,  9.7628e-06,  2.3497e-05],\n",
       "          [-1.6110e-05, -1.5624e-05,  9.0418e-06]],\n",
       "\n",
       "         [[ 0.0000e+00,  0.0000e+00,  0.0000e+00],\n",
       "          [ 0.0000e+00,  0.0000e+00,  0.0000e+00],\n",
       "          [ 0.0000e+00,  0.0000e+00,  0.0000e+00]]],\n",
       "\n",
       "\n",
       "        [[[ 0.0000e+00,  0.0000e+00,  0.0000e+00],\n",
       "          [ 0.0000e+00,  0.0000e+00,  0.0000e+00],\n",
       "          [ 0.0000e+00,  0.0000e+00,  0.0000e+00]],\n",
       "\n",
       "         [[-9.0749e-06,  0.0000e+00,  0.0000e+00],\n",
       "          [ 7.8444e-06,  0.0000e+00,  0.0000e+00],\n",
       "          [ 0.0000e+00,  0.0000e+00,  0.0000e+00]],\n",
       "\n",
       "         [[ 7.8444e-06,  0.0000e+00,  0.0000e+00],\n",
       "          [ 0.0000e+00,  0.0000e+00,  0.0000e+00],\n",
       "          [ 0.0000e+00,  0.0000e+00, -9.0749e-06]],\n",
       "\n",
       "         [[ 0.0000e+00,  0.0000e+00,  0.0000e+00],\n",
       "          [ 0.0000e+00,  0.0000e+00,  0.0000e+00],\n",
       "          [ 0.0000e+00,  0.0000e+00,  0.0000e+00]]]], device='cuda:0')"
      ]
     },
     "execution_count": 340,
     "metadata": {},
     "output_type": "execute_result"
    }
   ],
   "source": [
    "m_net.embedding.input.weight.grad"
   ]
  },
  {
   "cell_type": "markdown",
   "metadata": {},
   "source": [
    "as \"expected\" the policy doesn't learn and may require additionnal work"
   ]
  },
  {
   "cell_type": "code",
   "execution_count": 341,
   "metadata": {},
   "outputs": [],
   "source": [
    "m_net.policy.piL.fc1.weight.grad"
   ]
  },
  {
   "cell_type": "code",
   "execution_count": 342,
   "metadata": {},
   "outputs": [
    {
     "data": {
      "text/plain": [
       "tensor([[-3.0171e-04, -1.0741e-02, -0.0000e+00,  ..., -0.0000e+00,\n",
       "         -5.0444e-03, -5.6999e-03],\n",
       "        [ 4.2334e-05,  1.5071e-03,  0.0000e+00,  ...,  0.0000e+00,\n",
       "          7.0778e-04,  7.9976e-04],\n",
       "        [ 4.5176e-05,  1.6083e-03,  0.0000e+00,  ...,  0.0000e+00,\n",
       "          7.5531e-04,  8.5346e-04],\n",
       "        ...,\n",
       "        [ 4.6891e-05,  1.6693e-03,  0.0000e+00,  ...,  0.0000e+00,\n",
       "          7.8398e-04,  8.8586e-04],\n",
       "        [ 4.4984e-05,  1.6014e-03,  0.0000e+00,  ...,  0.0000e+00,\n",
       "          7.5209e-04,  8.4982e-04],\n",
       "        [ 3.6561e-05,  1.3016e-03,  0.0000e+00,  ...,  0.0000e+00,\n",
       "          6.1127e-04,  6.9070e-04]], device='cuda:0')"
      ]
     },
     "execution_count": 342,
     "metadata": {},
     "output_type": "execute_result"
    }
   ],
   "source": [
    "m_net.readout.fc1.weight.grad"
   ]
  },
  {
   "cell_type": "code",
   "execution_count": 343,
   "metadata": {},
   "outputs": [
    {
     "data": {
      "text/plain": [
       "<bound method Module.state_dict of MCTSnet(\n",
       "  (backup): BetaMLP(\n",
       "    (fc1): Linear(in_features=258, out_features=128, bias=True)\n",
       "  )\n",
       "  (embedding): Epsilon(\n",
       "    (input): Conv2d(4, 64, kernel_size=(3, 3), stride=(1, 1), padding=(1, 1))\n",
       "    (res1): Conv2d(64, 64, kernel_size=(3, 3), stride=(1, 1), padding=(1, 1))\n",
       "    (res2): Conv2d(64, 64, kernel_size=(3, 3), stride=(1, 1), padding=(1, 1))\n",
       "    (res3): Conv2d(64, 64, kernel_size=(3, 3), stride=(1, 1), padding=(1, 1))\n",
       "    (final): Conv2d(64, 32, kernel_size=(1, 1), stride=(1, 1))\n",
       "    (out): Linear(in_features=3200, out_features=128, bias=True)\n",
       "  )\n",
       "  (policy): Pi(\n",
       "    (piL): PiLogits(\n",
       "      (fc1): Linear(in_features=128, out_features=8, bias=True)\n",
       "    )\n",
       "    (piPL): PiPriorLogits(\n",
       "      (input): Conv2d(9, 32, kernel_size=(3, 3), stride=(1, 1), padding=(1, 1))\n",
       "      (res1): Conv2d(32, 32, kernel_size=(3, 3), stride=(1, 1), padding=(1, 1))\n",
       "      (res2): Conv2d(32, 32, kernel_size=(3, 3), stride=(1, 1), padding=(1, 1))\n",
       "      (final): Conv2d(32, 16, kernel_size=(1, 1), stride=(1, 1))\n",
       "      (out): Linear(in_features=2048, out_features=8, bias=True)\n",
       "    )\n",
       "  )\n",
       "  (readout): Rho(\n",
       "    (fc1): Linear(in_features=128, out_features=8, bias=True)\n",
       "  )\n",
       ")>"
      ]
     },
     "execution_count": 343,
     "metadata": {},
     "output_type": "execute_result"
    }
   ],
   "source": [
    "m_net.state_dict"
   ]
  },
  {
   "cell_type": "markdown",
   "metadata": {},
   "source": [
    "# Trainer"
   ]
  },
  {
   "cell_type": "code",
   "execution_count": 28,
   "metadata": {},
   "outputs": [],
   "source": [
    "reload(MCTSnet.trainer)\n",
    "reload(MCTSnet)\n",
    "sokoban = MCTSnet.MCTSnetSokoban((4, 10, 10), n_embeddings=128, n_actions=4, n_simulations=10)"
   ]
  },
  {
   "cell_type": "code",
   "execution_count": 29,
   "metadata": {
    "scrolled": true
   },
   "outputs": [
    {
     "ename": "KeyboardInterrupt",
     "evalue": "",
     "output_type": "error",
     "traceback": [
      "\u001b[1;31m---------------------------------------------------------------------------\u001b[0m",
      "\u001b[1;31mKeyboardInterrupt\u001b[0m                         Traceback (most recent call last)",
      "\u001b[1;32m<ipython-input-29-5a21f56298d1>\u001b[0m in \u001b[0;36m<module>\u001b[1;34m\u001b[0m\n\u001b[1;32m----> 1\u001b[1;33m \u001b[0msokoban\u001b[0m\u001b[1;33m.\u001b[0m\u001b[0mtrain\u001b[0m\u001b[1;33m(\u001b[0m\u001b[1;36m500\u001b[0m\u001b[1;33m)\u001b[0m\u001b[1;33m\u001b[0m\u001b[0m\n\u001b[0m",
      "\u001b[1;32mF:\\Projets\\MCTSnet\\MCTSnet\\trainer.py\u001b[0m in \u001b[0;36mtrain\u001b[1;34m(self, training_size, epochs)\u001b[0m\n\u001b[0;32m     68\u001b[0m                 \u001b[0mrandom\u001b[0m\u001b[1;33m.\u001b[0m\u001b[0mseed\u001b[0m\u001b[1;33m(\u001b[0m\u001b[0mseed\u001b[0m\u001b[1;33m)\u001b[0m\u001b[1;33m\u001b[0m\u001b[0m\n\u001b[0;32m     69\u001b[0m                 \u001b[0mnp\u001b[0m\u001b[1;33m.\u001b[0m\u001b[0mrandom\u001b[0m\u001b[1;33m.\u001b[0m\u001b[0mseed\u001b[0m\u001b[1;33m(\u001b[0m\u001b[0mseed\u001b[0m\u001b[1;33m)\u001b[0m\u001b[1;33m\u001b[0m\u001b[0m\n\u001b[1;32m---> 70\u001b[1;33m                 \u001b[0menv\u001b[0m \u001b[1;33m=\u001b[0m \u001b[0mgym\u001b[0m\u001b[1;33m.\u001b[0m\u001b[0mmake\u001b[0m\u001b[1;33m(\u001b[0m\u001b[1;34m\"SokobanEnc-v0\"\u001b[0m\u001b[1;33m)\u001b[0m\u001b[1;33m\u001b[0m\u001b[0m\n\u001b[0m\u001b[0;32m     71\u001b[0m                 \u001b[0mself\u001b[0m\u001b[1;33m.\u001b[0m\u001b[0mmodel\u001b[0m\u001b[1;33m.\u001b[0m\u001b[0menv\u001b[0m \u001b[1;33m=\u001b[0m \u001b[0menv\u001b[0m\u001b[1;33m\u001b[0m\u001b[0m\n\u001b[0;32m     72\u001b[0m                 \u001b[0mself\u001b[0m\u001b[1;33m.\u001b[0m\u001b[0mmodel\u001b[0m\u001b[1;33m.\u001b[0m\u001b[0mtree\u001b[0m \u001b[1;33m=\u001b[0m \u001b[0mMemoryTree\u001b[0m\u001b[1;33m(\u001b[0m\u001b[0mself\u001b[0m\u001b[1;33m.\u001b[0m\u001b[0mn_actions\u001b[0m\u001b[1;33m)\u001b[0m\u001b[1;33m\u001b[0m\u001b[0m\n",
      "\u001b[1;32mf:\\projets\\mctsnet\\.venv\\lib\\site-packages\\gym\\envs\\registration.py\u001b[0m in \u001b[0;36mmake\u001b[1;34m(id, **kwargs)\u001b[0m\n\u001b[0;32m    169\u001b[0m \u001b[1;33m\u001b[0m\u001b[0m\n\u001b[0;32m    170\u001b[0m \u001b[1;32mdef\u001b[0m \u001b[0mmake\u001b[0m\u001b[1;33m(\u001b[0m\u001b[0mid\u001b[0m\u001b[1;33m,\u001b[0m \u001b[1;33m**\u001b[0m\u001b[0mkwargs\u001b[0m\u001b[1;33m)\u001b[0m\u001b[1;33m:\u001b[0m\u001b[1;33m\u001b[0m\u001b[0m\n\u001b[1;32m--> 171\u001b[1;33m     \u001b[1;32mreturn\u001b[0m \u001b[0mregistry\u001b[0m\u001b[1;33m.\u001b[0m\u001b[0mmake\u001b[0m\u001b[1;33m(\u001b[0m\u001b[0mid\u001b[0m\u001b[1;33m,\u001b[0m \u001b[1;33m**\u001b[0m\u001b[0mkwargs\u001b[0m\u001b[1;33m)\u001b[0m\u001b[1;33m\u001b[0m\u001b[0m\n\u001b[0m\u001b[0;32m    172\u001b[0m \u001b[1;33m\u001b[0m\u001b[0m\n\u001b[0;32m    173\u001b[0m \u001b[1;32mdef\u001b[0m \u001b[0mspec\u001b[0m\u001b[1;33m(\u001b[0m\u001b[0mid\u001b[0m\u001b[1;33m)\u001b[0m\u001b[1;33m:\u001b[0m\u001b[1;33m\u001b[0m\u001b[0m\n",
      "\u001b[1;32mf:\\projets\\mctsnet\\.venv\\lib\\site-packages\\gym\\envs\\registration.py\u001b[0m in \u001b[0;36mmake\u001b[1;34m(self, id, **kwargs)\u001b[0m\n\u001b[0;32m    121\u001b[0m             \u001b[0mlogger\u001b[0m\u001b[1;33m.\u001b[0m\u001b[0minfo\u001b[0m\u001b[1;33m(\u001b[0m\u001b[1;34m'Making new env: %s'\u001b[0m\u001b[1;33m,\u001b[0m \u001b[0mid\u001b[0m\u001b[1;33m)\u001b[0m\u001b[1;33m\u001b[0m\u001b[0m\n\u001b[0;32m    122\u001b[0m         \u001b[0mspec\u001b[0m \u001b[1;33m=\u001b[0m \u001b[0mself\u001b[0m\u001b[1;33m.\u001b[0m\u001b[0mspec\u001b[0m\u001b[1;33m(\u001b[0m\u001b[0mid\u001b[0m\u001b[1;33m)\u001b[0m\u001b[1;33m\u001b[0m\u001b[0m\n\u001b[1;32m--> 123\u001b[1;33m         \u001b[0menv\u001b[0m \u001b[1;33m=\u001b[0m \u001b[0mspec\u001b[0m\u001b[1;33m.\u001b[0m\u001b[0mmake\u001b[0m\u001b[1;33m(\u001b[0m\u001b[1;33m**\u001b[0m\u001b[0mkwargs\u001b[0m\u001b[1;33m)\u001b[0m\u001b[1;33m\u001b[0m\u001b[0m\n\u001b[0m\u001b[0;32m    124\u001b[0m         \u001b[1;31m# We used to have people override _reset/_step rather than\u001b[0m\u001b[1;33m\u001b[0m\u001b[1;33m\u001b[0m\u001b[0m\n\u001b[0;32m    125\u001b[0m         \u001b[1;31m# reset/step. Set _gym_disable_underscore_compat = True on\u001b[0m\u001b[1;33m\u001b[0m\u001b[1;33m\u001b[0m\u001b[0m\n",
      "\u001b[1;32mf:\\projets\\mctsnet\\.venv\\lib\\site-packages\\gym\\envs\\registration.py\u001b[0m in \u001b[0;36mmake\u001b[1;34m(self, **kwargs)\u001b[0m\n\u001b[0;32m     85\u001b[0m         \u001b[1;32melse\u001b[0m\u001b[1;33m:\u001b[0m\u001b[1;33m\u001b[0m\u001b[0m\n\u001b[0;32m     86\u001b[0m             \u001b[0mcls\u001b[0m \u001b[1;33m=\u001b[0m \u001b[0mload\u001b[0m\u001b[1;33m(\u001b[0m\u001b[0mself\u001b[0m\u001b[1;33m.\u001b[0m\u001b[0m_entry_point\u001b[0m\u001b[1;33m)\u001b[0m\u001b[1;33m\u001b[0m\u001b[0m\n\u001b[1;32m---> 87\u001b[1;33m             \u001b[0menv\u001b[0m \u001b[1;33m=\u001b[0m \u001b[0mcls\u001b[0m\u001b[1;33m(\u001b[0m\u001b[1;33m**\u001b[0m\u001b[0m_kwargs\u001b[0m\u001b[1;33m)\u001b[0m\u001b[1;33m\u001b[0m\u001b[0m\n\u001b[0m\u001b[0;32m     88\u001b[0m \u001b[1;33m\u001b[0m\u001b[0m\n\u001b[0;32m     89\u001b[0m         \u001b[1;31m# Make the enviroment aware of which spec it came from.\u001b[0m\u001b[1;33m\u001b[0m\u001b[1;33m\u001b[0m\u001b[0m\n",
      "\u001b[1;32mF:\\Projets\\MCTSnet\\MCTSnet\\sokoban\\env.py\u001b[0m in \u001b[0;36m__init__\u001b[1;34m(self, make_gif)\u001b[0m\n\u001b[0;32m      9\u001b[0m \u001b[1;33m\u001b[0m\u001b[0m\n\u001b[0;32m     10\u001b[0m     \u001b[1;32mdef\u001b[0m \u001b[0m__init__\u001b[0m\u001b[1;33m(\u001b[0m\u001b[0mself\u001b[0m\u001b[1;33m,\u001b[0m \u001b[0mmake_gif\u001b[0m\u001b[1;33m=\u001b[0m\u001b[1;32mFalse\u001b[0m\u001b[1;33m)\u001b[0m\u001b[1;33m:\u001b[0m\u001b[1;33m\u001b[0m\u001b[0m\n\u001b[1;32m---> 11\u001b[1;33m         \u001b[0msuper\u001b[0m\u001b[1;33m(\u001b[0m\u001b[1;33m)\u001b[0m\u001b[1;33m.\u001b[0m\u001b[0m__init__\u001b[0m\u001b[1;33m(\u001b[0m\u001b[0mnum_boxes\u001b[0m\u001b[1;33m=\u001b[0m\u001b[1;36m3\u001b[0m\u001b[1;33m,\u001b[0m \u001b[0mmax_steps\u001b[0m\u001b[1;33m=\u001b[0m\u001b[1;36m500\u001b[0m\u001b[1;33m)\u001b[0m\u001b[1;33m\u001b[0m\u001b[0m\n\u001b[0m\u001b[0;32m     12\u001b[0m         \u001b[0mself\u001b[0m\u001b[1;33m.\u001b[0m\u001b[0mmake_gif\u001b[0m \u001b[1;33m=\u001b[0m \u001b[0mmake_gif\u001b[0m\u001b[1;33m\u001b[0m\u001b[0m\n\u001b[0;32m     13\u001b[0m         \u001b[0mself\u001b[0m\u001b[1;33m.\u001b[0m\u001b[0mgif\u001b[0m \u001b[1;33m=\u001b[0m \u001b[1;33m[\u001b[0m\u001b[1;33m]\u001b[0m\u001b[1;33m\u001b[0m\u001b[0m\n",
      "\u001b[1;32mf:\\projets\\mctsnet\\gym-sokoban\\gym_sokoban\\envs\\sokoban_env.py\u001b[0m in \u001b[0;36m__init__\u001b[1;34m(self, dim_room, max_steps, num_boxes, num_gen_steps)\u001b[0m\n\u001b[0;32m     44\u001b[0m \u001b[1;33m\u001b[0m\u001b[0m\n\u001b[0;32m     45\u001b[0m         \u001b[1;31m# Initialize Room\u001b[0m\u001b[1;33m\u001b[0m\u001b[1;33m\u001b[0m\u001b[0m\n\u001b[1;32m---> 46\u001b[1;33m         \u001b[0mself\u001b[0m\u001b[1;33m.\u001b[0m\u001b[0mreset\u001b[0m\u001b[1;33m(\u001b[0m\u001b[1;33m)\u001b[0m\u001b[1;33m\u001b[0m\u001b[0m\n\u001b[0m\u001b[0;32m     47\u001b[0m \u001b[1;33m\u001b[0m\u001b[0m\n\u001b[0;32m     48\u001b[0m     \u001b[1;32mdef\u001b[0m \u001b[0mseed\u001b[0m\u001b[1;33m(\u001b[0m\u001b[0mself\u001b[0m\u001b[1;33m,\u001b[0m \u001b[0mseed\u001b[0m\u001b[1;33m=\u001b[0m\u001b[1;32mNone\u001b[0m\u001b[1;33m)\u001b[0m\u001b[1;33m:\u001b[0m\u001b[1;33m\u001b[0m\u001b[0m\n",
      "\u001b[1;32mf:\\projets\\mctsnet\\gym-sokoban\\gym_sokoban\\envs\\sokoban_env.py\u001b[0m in \u001b[0;36mreset\u001b[1;34m(self, second_player)\u001b[0m\n\u001b[0;32m    199\u001b[0m                 \u001b[0mnum_steps\u001b[0m\u001b[1;33m=\u001b[0m\u001b[0mself\u001b[0m\u001b[1;33m.\u001b[0m\u001b[0mnum_gen_steps\u001b[0m\u001b[1;33m,\u001b[0m\u001b[1;33m\u001b[0m\u001b[0m\n\u001b[0;32m    200\u001b[0m                 \u001b[0mnum_boxes\u001b[0m\u001b[1;33m=\u001b[0m\u001b[0mself\u001b[0m\u001b[1;33m.\u001b[0m\u001b[0mnum_boxes\u001b[0m\u001b[1;33m,\u001b[0m\u001b[1;33m\u001b[0m\u001b[0m\n\u001b[1;32m--> 201\u001b[1;33m                 \u001b[0msecond_player\u001b[0m\u001b[1;33m=\u001b[0m\u001b[0msecond_player\u001b[0m\u001b[1;33m\u001b[0m\u001b[0m\n\u001b[0m\u001b[0;32m    202\u001b[0m             )\n\u001b[0;32m    203\u001b[0m         \u001b[1;32mexcept\u001b[0m \u001b[1;33m(\u001b[0m\u001b[0mRuntimeError\u001b[0m\u001b[1;33m,\u001b[0m \u001b[0mRuntimeWarning\u001b[0m\u001b[1;33m)\u001b[0m \u001b[1;32mas\u001b[0m \u001b[0me\u001b[0m\u001b[1;33m:\u001b[0m\u001b[1;33m\u001b[0m\u001b[0m\n",
      "\u001b[1;32mf:\\projets\\mctsnet\\gym-sokoban\\gym_sokoban\\envs\\room_utils.py\u001b[0m in \u001b[0;36mgenerate_room\u001b[1;34m(dim, p_change_directions, num_steps, num_boxes, tries, second_player)\u001b[0m\n\u001b[0;32m     38\u001b[0m         \u001b[0mroom_state\u001b[0m\u001b[1;33m[\u001b[0m\u001b[0mroom_state\u001b[0m \u001b[1;33m==\u001b[0m \u001b[1;36m2\u001b[0m\u001b[1;33m]\u001b[0m \u001b[1;33m=\u001b[0m \u001b[1;36m4\u001b[0m\u001b[1;33m\u001b[0m\u001b[0m\n\u001b[0;32m     39\u001b[0m \u001b[1;33m\u001b[0m\u001b[0m\n\u001b[1;32m---> 40\u001b[1;33m         \u001b[0mroom_state\u001b[0m\u001b[1;33m,\u001b[0m \u001b[0mscore\u001b[0m\u001b[1;33m,\u001b[0m \u001b[0mbox_mapping\u001b[0m \u001b[1;33m=\u001b[0m \u001b[0mreverse_playing\u001b[0m\u001b[1;33m(\u001b[0m\u001b[0mroom_state\u001b[0m\u001b[1;33m,\u001b[0m \u001b[0mroom_structure\u001b[0m\u001b[1;33m)\u001b[0m\u001b[1;33m\u001b[0m\u001b[0m\n\u001b[0m\u001b[0;32m     41\u001b[0m         \u001b[0mroom_state\u001b[0m\u001b[1;33m[\u001b[0m\u001b[0mroom_state\u001b[0m \u001b[1;33m==\u001b[0m \u001b[1;36m3\u001b[0m\u001b[1;33m]\u001b[0m \u001b[1;33m=\u001b[0m \u001b[1;36m4\u001b[0m\u001b[1;33m\u001b[0m\u001b[0m\n\u001b[0;32m     42\u001b[0m \u001b[1;33m\u001b[0m\u001b[0m\n",
      "\u001b[1;32mf:\\projets\\mctsnet\\gym-sokoban\\gym_sokoban\\envs\\room_utils.py\u001b[0m in \u001b[0;36mreverse_playing\u001b[1;34m(room_state, room_structure, search_depth)\u001b[0m\n\u001b[0;32m    203\u001b[0m     \u001b[0mbest_room_score\u001b[0m \u001b[1;33m=\u001b[0m \u001b[1;33m-\u001b[0m\u001b[1;36m1\u001b[0m\u001b[1;33m\u001b[0m\u001b[0m\n\u001b[0;32m    204\u001b[0m     \u001b[0mbest_box_mapping\u001b[0m \u001b[1;33m=\u001b[0m \u001b[0mbox_mapping\u001b[0m\u001b[1;33m\u001b[0m\u001b[0m\n\u001b[1;32m--> 205\u001b[1;33m     \u001b[0mdepth_first_search\u001b[0m\u001b[1;33m(\u001b[0m\u001b[0mroom_state\u001b[0m\u001b[1;33m,\u001b[0m \u001b[0mroom_structure\u001b[0m\u001b[1;33m,\u001b[0m \u001b[0mbox_mapping\u001b[0m\u001b[1;33m,\u001b[0m \u001b[0mbox_swaps\u001b[0m\u001b[1;33m=\u001b[0m\u001b[1;36m0\u001b[0m\u001b[1;33m,\u001b[0m \u001b[0mlast_pull\u001b[0m\u001b[1;33m=\u001b[0m\u001b[1;33m(\u001b[0m\u001b[1;33m-\u001b[0m\u001b[1;36m1\u001b[0m\u001b[1;33m,\u001b[0m \u001b[1;33m-\u001b[0m\u001b[1;36m1\u001b[0m\u001b[1;33m)\u001b[0m\u001b[1;33m,\u001b[0m \u001b[0mttl\u001b[0m\u001b[1;33m=\u001b[0m\u001b[1;36m300\u001b[0m\u001b[1;33m)\u001b[0m\u001b[1;33m\u001b[0m\u001b[0m\n\u001b[0m\u001b[0;32m    206\u001b[0m \u001b[1;33m\u001b[0m\u001b[0m\n\u001b[0;32m    207\u001b[0m     \u001b[1;32mreturn\u001b[0m \u001b[0mbest_room\u001b[0m\u001b[1;33m,\u001b[0m \u001b[0mbest_room_score\u001b[0m\u001b[1;33m,\u001b[0m \u001b[0mbest_box_mapping\u001b[0m\u001b[1;33m\u001b[0m\u001b[0m\n",
      "\u001b[1;32mF:\\Projets\\MCTSnet\\MCTSnet\\sokoban\\hack.py\u001b[0m in \u001b[0;36mdepth_first_search\u001b[1;34m(room_state, room_structure, box_mapping, box_swaps, last_pull, ttl, actions)\u001b[0m\n\u001b[0;32m     59\u001b[0m \u001b[1;33m\u001b[0m\u001b[0m\n\u001b[0;32m     60\u001b[0m             depth_first_search(room_state_next, room_structure,\n\u001b[1;32m---> 61\u001b[1;33m                                box_mapping_next, box_swaps_next, last_pull, ttl, actions_next)\n\u001b[0m\u001b[0;32m     62\u001b[0m \u001b[1;33m\u001b[0m\u001b[0m\n\u001b[0;32m     63\u001b[0m \u001b[1;33m\u001b[0m\u001b[0m\n",
      "\u001b[1;32mF:\\Projets\\MCTSnet\\MCTSnet\\sokoban\\hack.py\u001b[0m in \u001b[0;36mdepth_first_search\u001b[1;34m(room_state, room_structure, box_mapping, box_swaps, last_pull, ttl, actions)\u001b[0m\n\u001b[0;32m     59\u001b[0m \u001b[1;33m\u001b[0m\u001b[0m\n\u001b[0;32m     60\u001b[0m             depth_first_search(room_state_next, room_structure,\n\u001b[1;32m---> 61\u001b[1;33m                                box_mapping_next, box_swaps_next, last_pull, ttl, actions_next)\n\u001b[0m\u001b[0;32m     62\u001b[0m \u001b[1;33m\u001b[0m\u001b[0m\n\u001b[0;32m     63\u001b[0m \u001b[1;33m\u001b[0m\u001b[0m\n",
      "\u001b[1;32mF:\\Projets\\MCTSnet\\MCTSnet\\sokoban\\hack.py\u001b[0m in \u001b[0;36mdepth_first_search\u001b[1;34m(room_state, room_structure, box_mapping, box_swaps, last_pull, ttl, actions)\u001b[0m\n\u001b[0;32m     59\u001b[0m \u001b[1;33m\u001b[0m\u001b[0m\n\u001b[0;32m     60\u001b[0m             depth_first_search(room_state_next, room_structure,\n\u001b[1;32m---> 61\u001b[1;33m                                box_mapping_next, box_swaps_next, last_pull, ttl, actions_next)\n\u001b[0m\u001b[0;32m     62\u001b[0m \u001b[1;33m\u001b[0m\u001b[0m\n\u001b[0;32m     63\u001b[0m \u001b[1;33m\u001b[0m\u001b[0m\n",
      "\u001b[1;32mF:\\Projets\\MCTSnet\\MCTSnet\\sokoban\\hack.py\u001b[0m in \u001b[0;36mdepth_first_search\u001b[1;34m(room_state, room_structure, box_mapping, box_swaps, last_pull, ttl, actions)\u001b[0m\n\u001b[0;32m     59\u001b[0m \u001b[1;33m\u001b[0m\u001b[0m\n\u001b[0;32m     60\u001b[0m             depth_first_search(room_state_next, room_structure,\n\u001b[1;32m---> 61\u001b[1;33m                                box_mapping_next, box_swaps_next, last_pull, ttl, actions_next)\n\u001b[0m\u001b[0;32m     62\u001b[0m \u001b[1;33m\u001b[0m\u001b[0m\n\u001b[0;32m     63\u001b[0m \u001b[1;33m\u001b[0m\u001b[0m\n",
      "\u001b[1;32mF:\\Projets\\MCTSnet\\MCTSnet\\sokoban\\hack.py\u001b[0m in \u001b[0;36mdepth_first_search\u001b[1;34m(room_state, room_structure, box_mapping, box_swaps, last_pull, ttl, actions)\u001b[0m\n\u001b[0;32m     59\u001b[0m \u001b[1;33m\u001b[0m\u001b[0m\n\u001b[0;32m     60\u001b[0m             depth_first_search(room_state_next, room_structure,\n\u001b[1;32m---> 61\u001b[1;33m                                box_mapping_next, box_swaps_next, last_pull, ttl, actions_next)\n\u001b[0m\u001b[0;32m     62\u001b[0m \u001b[1;33m\u001b[0m\u001b[0m\n\u001b[0;32m     63\u001b[0m \u001b[1;33m\u001b[0m\u001b[0m\n",
      "\u001b[1;32mF:\\Projets\\MCTSnet\\MCTSnet\\sokoban\\hack.py\u001b[0m in \u001b[0;36mdepth_first_search\u001b[1;34m(room_state, room_structure, box_mapping, box_swaps, last_pull, ttl, actions)\u001b[0m\n\u001b[0;32m     59\u001b[0m \u001b[1;33m\u001b[0m\u001b[0m\n\u001b[0;32m     60\u001b[0m             depth_first_search(room_state_next, room_structure,\n\u001b[1;32m---> 61\u001b[1;33m                                box_mapping_next, box_swaps_next, last_pull, ttl, actions_next)\n\u001b[0m\u001b[0;32m     62\u001b[0m \u001b[1;33m\u001b[0m\u001b[0m\n\u001b[0;32m     63\u001b[0m \u001b[1;33m\u001b[0m\u001b[0m\n",
      "\u001b[1;32mF:\\Projets\\MCTSnet\\MCTSnet\\sokoban\\hack.py\u001b[0m in \u001b[0;36mdepth_first_search\u001b[1;34m(room_state, room_structure, box_mapping, box_swaps, last_pull, ttl, actions)\u001b[0m\n\u001b[0;32m     59\u001b[0m \u001b[1;33m\u001b[0m\u001b[0m\n\u001b[0;32m     60\u001b[0m             depth_first_search(room_state_next, room_structure,\n\u001b[1;32m---> 61\u001b[1;33m                                box_mapping_next, box_swaps_next, last_pull, ttl, actions_next)\n\u001b[0m\u001b[0;32m     62\u001b[0m \u001b[1;33m\u001b[0m\u001b[0m\n\u001b[0;32m     63\u001b[0m \u001b[1;33m\u001b[0m\u001b[0m\n",
      "\u001b[1;32mF:\\Projets\\MCTSnet\\MCTSnet\\sokoban\\hack.py\u001b[0m in \u001b[0;36mdepth_first_search\u001b[1;34m(room_state, room_structure, box_mapping, box_swaps, last_pull, ttl, actions)\u001b[0m\n\u001b[0;32m     59\u001b[0m \u001b[1;33m\u001b[0m\u001b[0m\n\u001b[0;32m     60\u001b[0m             depth_first_search(room_state_next, room_structure,\n\u001b[1;32m---> 61\u001b[1;33m                                box_mapping_next, box_swaps_next, last_pull, ttl, actions_next)\n\u001b[0m\u001b[0;32m     62\u001b[0m \u001b[1;33m\u001b[0m\u001b[0m\n\u001b[0;32m     63\u001b[0m \u001b[1;33m\u001b[0m\u001b[0m\n",
      "\u001b[1;32mF:\\Projets\\MCTSnet\\MCTSnet\\sokoban\\hack.py\u001b[0m in \u001b[0;36mdepth_first_search\u001b[1;34m(room_state, room_structure, box_mapping, box_swaps, last_pull, ttl, actions)\u001b[0m\n\u001b[0;32m     59\u001b[0m \u001b[1;33m\u001b[0m\u001b[0m\n\u001b[0;32m     60\u001b[0m             depth_first_search(room_state_next, room_structure,\n\u001b[1;32m---> 61\u001b[1;33m                                box_mapping_next, box_swaps_next, last_pull, ttl, actions_next)\n\u001b[0m\u001b[0;32m     62\u001b[0m \u001b[1;33m\u001b[0m\u001b[0m\n\u001b[0;32m     63\u001b[0m \u001b[1;33m\u001b[0m\u001b[0m\n",
      "\u001b[1;32mF:\\Projets\\MCTSnet\\MCTSnet\\sokoban\\hack.py\u001b[0m in \u001b[0;36mdepth_first_search\u001b[1;34m(room_state, room_structure, box_mapping, box_swaps, last_pull, ttl, actions)\u001b[0m\n\u001b[0;32m     59\u001b[0m \u001b[1;33m\u001b[0m\u001b[0m\n\u001b[0;32m     60\u001b[0m             depth_first_search(room_state_next, room_structure,\n\u001b[1;32m---> 61\u001b[1;33m                                box_mapping_next, box_swaps_next, last_pull, ttl, actions_next)\n\u001b[0m\u001b[0;32m     62\u001b[0m \u001b[1;33m\u001b[0m\u001b[0m\n\u001b[0;32m     63\u001b[0m \u001b[1;33m\u001b[0m\u001b[0m\n",
      "\u001b[1;32mF:\\Projets\\MCTSnet\\MCTSnet\\sokoban\\hack.py\u001b[0m in \u001b[0;36mdepth_first_search\u001b[1;34m(room_state, room_structure, box_mapping, box_swaps, last_pull, ttl, actions)\u001b[0m\n\u001b[0;32m     59\u001b[0m \u001b[1;33m\u001b[0m\u001b[0m\n\u001b[0;32m     60\u001b[0m             depth_first_search(room_state_next, room_structure,\n\u001b[1;32m---> 61\u001b[1;33m                                box_mapping_next, box_swaps_next, last_pull, ttl, actions_next)\n\u001b[0m\u001b[0;32m     62\u001b[0m \u001b[1;33m\u001b[0m\u001b[0m\n\u001b[0;32m     63\u001b[0m \u001b[1;33m\u001b[0m\u001b[0m\n",
      "\u001b[1;32mF:\\Projets\\MCTSnet\\MCTSnet\\sokoban\\hack.py\u001b[0m in \u001b[0;36mdepth_first_search\u001b[1;34m(room_state, room_structure, box_mapping, box_swaps, last_pull, ttl, actions)\u001b[0m\n\u001b[0;32m     59\u001b[0m \u001b[1;33m\u001b[0m\u001b[0m\n\u001b[0;32m     60\u001b[0m             depth_first_search(room_state_next, room_structure,\n\u001b[1;32m---> 61\u001b[1;33m                                box_mapping_next, box_swaps_next, last_pull, ttl, actions_next)\n\u001b[0m\u001b[0;32m     62\u001b[0m \u001b[1;33m\u001b[0m\u001b[0m\n\u001b[0;32m     63\u001b[0m \u001b[1;33m\u001b[0m\u001b[0m\n",
      "\u001b[1;32mF:\\Projets\\MCTSnet\\MCTSnet\\sokoban\\hack.py\u001b[0m in \u001b[0;36mdepth_first_search\u001b[1;34m(room_state, room_structure, box_mapping, box_swaps, last_pull, ttl, actions)\u001b[0m\n\u001b[0;32m     59\u001b[0m \u001b[1;33m\u001b[0m\u001b[0m\n\u001b[0;32m     60\u001b[0m             depth_first_search(room_state_next, room_structure,\n\u001b[1;32m---> 61\u001b[1;33m                                box_mapping_next, box_swaps_next, last_pull, ttl, actions_next)\n\u001b[0m\u001b[0;32m     62\u001b[0m \u001b[1;33m\u001b[0m\u001b[0m\n\u001b[0;32m     63\u001b[0m \u001b[1;33m\u001b[0m\u001b[0m\n",
      "\u001b[1;32mF:\\Projets\\MCTSnet\\MCTSnet\\sokoban\\hack.py\u001b[0m in \u001b[0;36mdepth_first_search\u001b[1;34m(room_state, room_structure, box_mapping, box_swaps, last_pull, ttl, actions)\u001b[0m\n\u001b[0;32m     59\u001b[0m \u001b[1;33m\u001b[0m\u001b[0m\n\u001b[0;32m     60\u001b[0m             depth_first_search(room_state_next, room_structure,\n\u001b[1;32m---> 61\u001b[1;33m                                box_mapping_next, box_swaps_next, last_pull, ttl, actions_next)\n\u001b[0m\u001b[0;32m     62\u001b[0m \u001b[1;33m\u001b[0m\u001b[0m\n\u001b[0;32m     63\u001b[0m \u001b[1;33m\u001b[0m\u001b[0m\n",
      "\u001b[1;32mF:\\Projets\\MCTSnet\\MCTSnet\\sokoban\\hack.py\u001b[0m in \u001b[0;36mdepth_first_search\u001b[1;34m(room_state, room_structure, box_mapping, box_swaps, last_pull, ttl, actions)\u001b[0m\n\u001b[0;32m     59\u001b[0m \u001b[1;33m\u001b[0m\u001b[0m\n\u001b[0;32m     60\u001b[0m             depth_first_search(room_state_next, room_structure,\n\u001b[1;32m---> 61\u001b[1;33m                                box_mapping_next, box_swaps_next, last_pull, ttl, actions_next)\n\u001b[0m\u001b[0;32m     62\u001b[0m \u001b[1;33m\u001b[0m\u001b[0m\n\u001b[0;32m     63\u001b[0m \u001b[1;33m\u001b[0m\u001b[0m\n",
      "\u001b[1;32mF:\\Projets\\MCTSnet\\MCTSnet\\sokoban\\hack.py\u001b[0m in \u001b[0;36mdepth_first_search\u001b[1;34m(room_state, room_structure, box_mapping, box_swaps, last_pull, ttl, actions)\u001b[0m\n\u001b[0;32m     59\u001b[0m \u001b[1;33m\u001b[0m\u001b[0m\n\u001b[0;32m     60\u001b[0m             depth_first_search(room_state_next, room_structure,\n\u001b[1;32m---> 61\u001b[1;33m                                box_mapping_next, box_swaps_next, last_pull, ttl, actions_next)\n\u001b[0m\u001b[0;32m     62\u001b[0m \u001b[1;33m\u001b[0m\u001b[0m\n\u001b[0;32m     63\u001b[0m \u001b[1;33m\u001b[0m\u001b[0m\n",
      "\u001b[1;32mF:\\Projets\\MCTSnet\\MCTSnet\\sokoban\\hack.py\u001b[0m in \u001b[0;36mdepth_first_search\u001b[1;34m(room_state, room_structure, box_mapping, box_swaps, last_pull, ttl, actions)\u001b[0m\n\u001b[0;32m     59\u001b[0m \u001b[1;33m\u001b[0m\u001b[0m\n\u001b[0;32m     60\u001b[0m             depth_first_search(room_state_next, room_structure,\n\u001b[1;32m---> 61\u001b[1;33m                                box_mapping_next, box_swaps_next, last_pull, ttl, actions_next)\n\u001b[0m\u001b[0;32m     62\u001b[0m \u001b[1;33m\u001b[0m\u001b[0m\n\u001b[0;32m     63\u001b[0m \u001b[1;33m\u001b[0m\u001b[0m\n",
      "\u001b[1;32mF:\\Projets\\MCTSnet\\MCTSnet\\sokoban\\hack.py\u001b[0m in \u001b[0;36mdepth_first_search\u001b[1;34m(room_state, room_structure, box_mapping, box_swaps, last_pull, ttl, actions)\u001b[0m\n\u001b[0;32m     59\u001b[0m \u001b[1;33m\u001b[0m\u001b[0m\n\u001b[0;32m     60\u001b[0m             depth_first_search(room_state_next, room_structure,\n\u001b[1;32m---> 61\u001b[1;33m                                box_mapping_next, box_swaps_next, last_pull, ttl, actions_next)\n\u001b[0m\u001b[0;32m     62\u001b[0m \u001b[1;33m\u001b[0m\u001b[0m\n\u001b[0;32m     63\u001b[0m \u001b[1;33m\u001b[0m\u001b[0m\n",
      "\u001b[1;32mF:\\Projets\\MCTSnet\\MCTSnet\\sokoban\\hack.py\u001b[0m in \u001b[0;36mdepth_first_search\u001b[1;34m(room_state, room_structure, box_mapping, box_swaps, last_pull, ttl, actions)\u001b[0m\n\u001b[0;32m     59\u001b[0m \u001b[1;33m\u001b[0m\u001b[0m\n\u001b[0;32m     60\u001b[0m             depth_first_search(room_state_next, room_structure,\n\u001b[1;32m---> 61\u001b[1;33m                                box_mapping_next, box_swaps_next, last_pull, ttl, actions_next)\n\u001b[0m\u001b[0;32m     62\u001b[0m \u001b[1;33m\u001b[0m\u001b[0m\n\u001b[0;32m     63\u001b[0m \u001b[1;33m\u001b[0m\u001b[0m\n",
      "\u001b[1;32mF:\\Projets\\MCTSnet\\MCTSnet\\sokoban\\hack.py\u001b[0m in \u001b[0;36mdepth_first_search\u001b[1;34m(room_state, room_structure, box_mapping, box_swaps, last_pull, ttl, actions)\u001b[0m\n\u001b[0;32m     59\u001b[0m \u001b[1;33m\u001b[0m\u001b[0m\n\u001b[0;32m     60\u001b[0m             depth_first_search(room_state_next, room_structure,\n\u001b[1;32m---> 61\u001b[1;33m                                box_mapping_next, box_swaps_next, last_pull, ttl, actions_next)\n\u001b[0m\u001b[0;32m     62\u001b[0m \u001b[1;33m\u001b[0m\u001b[0m\n\u001b[0;32m     63\u001b[0m \u001b[1;33m\u001b[0m\u001b[0m\n",
      "\u001b[1;32mF:\\Projets\\MCTSnet\\MCTSnet\\sokoban\\hack.py\u001b[0m in \u001b[0;36mdepth_first_search\u001b[1;34m(room_state, room_structure, box_mapping, box_swaps, last_pull, ttl, actions)\u001b[0m\n\u001b[0;32m     59\u001b[0m \u001b[1;33m\u001b[0m\u001b[0m\n\u001b[0;32m     60\u001b[0m             depth_first_search(room_state_next, room_structure,\n\u001b[1;32m---> 61\u001b[1;33m                                box_mapping_next, box_swaps_next, last_pull, ttl, actions_next)\n\u001b[0m\u001b[0;32m     62\u001b[0m \u001b[1;33m\u001b[0m\u001b[0m\n\u001b[0;32m     63\u001b[0m \u001b[1;33m\u001b[0m\u001b[0m\n",
      "\u001b[1;32mF:\\Projets\\MCTSnet\\MCTSnet\\sokoban\\hack.py\u001b[0m in \u001b[0;36mdepth_first_search\u001b[1;34m(room_state, room_structure, box_mapping, box_swaps, last_pull, ttl, actions)\u001b[0m\n\u001b[0;32m     59\u001b[0m \u001b[1;33m\u001b[0m\u001b[0m\n\u001b[0;32m     60\u001b[0m             depth_first_search(room_state_next, room_structure,\n\u001b[1;32m---> 61\u001b[1;33m                                box_mapping_next, box_swaps_next, last_pull, ttl, actions_next)\n\u001b[0m\u001b[0;32m     62\u001b[0m \u001b[1;33m\u001b[0m\u001b[0m\n\u001b[0;32m     63\u001b[0m \u001b[1;33m\u001b[0m\u001b[0m\n",
      "\u001b[1;32mF:\\Projets\\MCTSnet\\MCTSnet\\sokoban\\hack.py\u001b[0m in \u001b[0;36mdepth_first_search\u001b[1;34m(room_state, room_structure, box_mapping, box_swaps, last_pull, ttl, actions)\u001b[0m\n\u001b[0;32m     59\u001b[0m \u001b[1;33m\u001b[0m\u001b[0m\n\u001b[0;32m     60\u001b[0m             depth_first_search(room_state_next, room_structure,\n\u001b[1;32m---> 61\u001b[1;33m                                box_mapping_next, box_swaps_next, last_pull, ttl, actions_next)\n\u001b[0m\u001b[0;32m     62\u001b[0m \u001b[1;33m\u001b[0m\u001b[0m\n\u001b[0;32m     63\u001b[0m \u001b[1;33m\u001b[0m\u001b[0m\n",
      "\u001b[1;32mF:\\Projets\\MCTSnet\\MCTSnet\\sokoban\\hack.py\u001b[0m in \u001b[0;36mdepth_first_search\u001b[1;34m(room_state, room_structure, box_mapping, box_swaps, last_pull, ttl, actions)\u001b[0m\n\u001b[0;32m     59\u001b[0m \u001b[1;33m\u001b[0m\u001b[0m\n\u001b[0;32m     60\u001b[0m             depth_first_search(room_state_next, room_structure,\n\u001b[1;32m---> 61\u001b[1;33m                                box_mapping_next, box_swaps_next, last_pull, ttl, actions_next)\n\u001b[0m\u001b[0;32m     62\u001b[0m \u001b[1;33m\u001b[0m\u001b[0m\n\u001b[0;32m     63\u001b[0m \u001b[1;33m\u001b[0m\u001b[0m\n",
      "\u001b[1;32mF:\\Projets\\MCTSnet\\MCTSnet\\sokoban\\hack.py\u001b[0m in \u001b[0;36mdepth_first_search\u001b[1;34m(room_state, room_structure, box_mapping, box_swaps, last_pull, ttl, actions)\u001b[0m\n\u001b[0;32m     59\u001b[0m \u001b[1;33m\u001b[0m\u001b[0m\n\u001b[0;32m     60\u001b[0m             depth_first_search(room_state_next, room_structure,\n\u001b[1;32m---> 61\u001b[1;33m                                box_mapping_next, box_swaps_next, last_pull, ttl, actions_next)\n\u001b[0m\u001b[0;32m     62\u001b[0m \u001b[1;33m\u001b[0m\u001b[0m\n\u001b[0;32m     63\u001b[0m \u001b[1;33m\u001b[0m\u001b[0m\n",
      "\u001b[1;32mF:\\Projets\\MCTSnet\\MCTSnet\\sokoban\\hack.py\u001b[0m in \u001b[0;36mdepth_first_search\u001b[1;34m(room_state, room_structure, box_mapping, box_swaps, last_pull, ttl, actions)\u001b[0m\n\u001b[0;32m     59\u001b[0m \u001b[1;33m\u001b[0m\u001b[0m\n\u001b[0;32m     60\u001b[0m             depth_first_search(room_state_next, room_structure,\n\u001b[1;32m---> 61\u001b[1;33m                                box_mapping_next, box_swaps_next, last_pull, ttl, actions_next)\n\u001b[0m\u001b[0;32m     62\u001b[0m \u001b[1;33m\u001b[0m\u001b[0m\n\u001b[0;32m     63\u001b[0m \u001b[1;33m\u001b[0m\u001b[0m\n",
      "\u001b[1;32mF:\\Projets\\MCTSnet\\MCTSnet\\sokoban\\hack.py\u001b[0m in \u001b[0;36mdepth_first_search\u001b[1;34m(room_state, room_structure, box_mapping, box_swaps, last_pull, ttl, actions)\u001b[0m\n\u001b[0;32m     59\u001b[0m \u001b[1;33m\u001b[0m\u001b[0m\n\u001b[0;32m     60\u001b[0m             depth_first_search(room_state_next, room_structure,\n\u001b[1;32m---> 61\u001b[1;33m                                box_mapping_next, box_swaps_next, last_pull, ttl, actions_next)\n\u001b[0m\u001b[0;32m     62\u001b[0m \u001b[1;33m\u001b[0m\u001b[0m\n\u001b[0;32m     63\u001b[0m \u001b[1;33m\u001b[0m\u001b[0m\n",
      "\u001b[1;32mF:\\Projets\\MCTSnet\\MCTSnet\\sokoban\\hack.py\u001b[0m in \u001b[0;36mdepth_first_search\u001b[1;34m(room_state, room_structure, box_mapping, box_swaps, last_pull, ttl, actions)\u001b[0m\n\u001b[0;32m     59\u001b[0m \u001b[1;33m\u001b[0m\u001b[0m\n\u001b[0;32m     60\u001b[0m             depth_first_search(room_state_next, room_structure,\n\u001b[1;32m---> 61\u001b[1;33m                                box_mapping_next, box_swaps_next, last_pull, ttl, actions_next)\n\u001b[0m\u001b[0;32m     62\u001b[0m \u001b[1;33m\u001b[0m\u001b[0m\n\u001b[0;32m     63\u001b[0m \u001b[1;33m\u001b[0m\u001b[0m\n",
      "\u001b[1;32mF:\\Projets\\MCTSnet\\MCTSnet\\sokoban\\hack.py\u001b[0m in \u001b[0;36mdepth_first_search\u001b[1;34m(room_state, room_structure, box_mapping, box_swaps, last_pull, ttl, actions)\u001b[0m\n\u001b[0;32m     59\u001b[0m \u001b[1;33m\u001b[0m\u001b[0m\n\u001b[0;32m     60\u001b[0m             depth_first_search(room_state_next, room_structure,\n\u001b[1;32m---> 61\u001b[1;33m                                box_mapping_next, box_swaps_next, last_pull, ttl, actions_next)\n\u001b[0m\u001b[0;32m     62\u001b[0m \u001b[1;33m\u001b[0m\u001b[0m\n\u001b[0;32m     63\u001b[0m \u001b[1;33m\u001b[0m\u001b[0m\n",
      "\u001b[1;32mF:\\Projets\\MCTSnet\\MCTSnet\\sokoban\\hack.py\u001b[0m in \u001b[0;36mdepth_first_search\u001b[1;34m(room_state, room_structure, box_mapping, box_swaps, last_pull, ttl, actions)\u001b[0m\n\u001b[0;32m     59\u001b[0m \u001b[1;33m\u001b[0m\u001b[0m\n\u001b[0;32m     60\u001b[0m             depth_first_search(room_state_next, room_structure,\n\u001b[1;32m---> 61\u001b[1;33m                                box_mapping_next, box_swaps_next, last_pull, ttl, actions_next)\n\u001b[0m\u001b[0;32m     62\u001b[0m \u001b[1;33m\u001b[0m\u001b[0m\n\u001b[0;32m     63\u001b[0m \u001b[1;33m\u001b[0m\u001b[0m\n",
      "\u001b[1;32mF:\\Projets\\MCTSnet\\MCTSnet\\sokoban\\hack.py\u001b[0m in \u001b[0;36mdepth_first_search\u001b[1;34m(room_state, room_structure, box_mapping, box_swaps, last_pull, ttl, actions)\u001b[0m\n\u001b[0;32m     59\u001b[0m \u001b[1;33m\u001b[0m\u001b[0m\n\u001b[0;32m     60\u001b[0m             depth_first_search(room_state_next, room_structure,\n\u001b[1;32m---> 61\u001b[1;33m                                box_mapping_next, box_swaps_next, last_pull, ttl, actions_next)\n\u001b[0m\u001b[0;32m     62\u001b[0m \u001b[1;33m\u001b[0m\u001b[0m\n\u001b[0;32m     63\u001b[0m \u001b[1;33m\u001b[0m\u001b[0m\n",
      "\u001b[1;32mF:\\Projets\\MCTSnet\\MCTSnet\\sokoban\\hack.py\u001b[0m in \u001b[0;36mdepth_first_search\u001b[1;34m(room_state, room_structure, box_mapping, box_swaps, last_pull, ttl, actions)\u001b[0m\n\u001b[0;32m     59\u001b[0m \u001b[1;33m\u001b[0m\u001b[0m\n\u001b[0;32m     60\u001b[0m             depth_first_search(room_state_next, room_structure,\n\u001b[1;32m---> 61\u001b[1;33m                                box_mapping_next, box_swaps_next, last_pull, ttl, actions_next)\n\u001b[0m\u001b[0;32m     62\u001b[0m \u001b[1;33m\u001b[0m\u001b[0m\n\u001b[0;32m     63\u001b[0m \u001b[1;33m\u001b[0m\u001b[0m\n",
      "\u001b[1;32mF:\\Projets\\MCTSnet\\MCTSnet\\sokoban\\hack.py\u001b[0m in \u001b[0;36mdepth_first_search\u001b[1;34m(room_state, room_structure, box_mapping, box_swaps, last_pull, ttl, actions)\u001b[0m\n\u001b[0;32m     59\u001b[0m \u001b[1;33m\u001b[0m\u001b[0m\n\u001b[0;32m     60\u001b[0m             depth_first_search(room_state_next, room_structure,\n\u001b[1;32m---> 61\u001b[1;33m                                box_mapping_next, box_swaps_next, last_pull, ttl, actions_next)\n\u001b[0m\u001b[0;32m     62\u001b[0m \u001b[1;33m\u001b[0m\u001b[0m\n\u001b[0;32m     63\u001b[0m \u001b[1;33m\u001b[0m\u001b[0m\n",
      "\u001b[1;32mF:\\Projets\\MCTSnet\\MCTSnet\\sokoban\\hack.py\u001b[0m in \u001b[0;36mdepth_first_search\u001b[1;34m(room_state, room_structure, box_mapping, box_swaps, last_pull, ttl, actions)\u001b[0m\n\u001b[0;32m     59\u001b[0m \u001b[1;33m\u001b[0m\u001b[0m\n\u001b[0;32m     60\u001b[0m             depth_first_search(room_state_next, room_structure,\n\u001b[1;32m---> 61\u001b[1;33m                                box_mapping_next, box_swaps_next, last_pull, ttl, actions_next)\n\u001b[0m\u001b[0;32m     62\u001b[0m \u001b[1;33m\u001b[0m\u001b[0m\n\u001b[0;32m     63\u001b[0m \u001b[1;33m\u001b[0m\u001b[0m\n",
      "\u001b[1;32mF:\\Projets\\MCTSnet\\MCTSnet\\sokoban\\hack.py\u001b[0m in \u001b[0;36mdepth_first_search\u001b[1;34m(room_state, room_structure, box_mapping, box_swaps, last_pull, ttl, actions)\u001b[0m\n\u001b[0;32m     59\u001b[0m \u001b[1;33m\u001b[0m\u001b[0m\n\u001b[0;32m     60\u001b[0m             depth_first_search(room_state_next, room_structure,\n\u001b[1;32m---> 61\u001b[1;33m                                box_mapping_next, box_swaps_next, last_pull, ttl, actions_next)\n\u001b[0m\u001b[0;32m     62\u001b[0m \u001b[1;33m\u001b[0m\u001b[0m\n\u001b[0;32m     63\u001b[0m \u001b[1;33m\u001b[0m\u001b[0m\n",
      "\u001b[1;32mF:\\Projets\\MCTSnet\\MCTSnet\\sokoban\\hack.py\u001b[0m in \u001b[0;36mdepth_first_search\u001b[1;34m(room_state, room_structure, box_mapping, box_swaps, last_pull, ttl, actions)\u001b[0m\n\u001b[0;32m     59\u001b[0m \u001b[1;33m\u001b[0m\u001b[0m\n\u001b[0;32m     60\u001b[0m             depth_first_search(room_state_next, room_structure,\n\u001b[1;32m---> 61\u001b[1;33m                                box_mapping_next, box_swaps_next, last_pull, ttl, actions_next)\n\u001b[0m\u001b[0;32m     62\u001b[0m \u001b[1;33m\u001b[0m\u001b[0m\n\u001b[0;32m     63\u001b[0m \u001b[1;33m\u001b[0m\u001b[0m\n",
      "\u001b[1;32mF:\\Projets\\MCTSnet\\MCTSnet\\sokoban\\hack.py\u001b[0m in \u001b[0;36mdepth_first_search\u001b[1;34m(room_state, room_structure, box_mapping, box_swaps, last_pull, ttl, actions)\u001b[0m\n\u001b[0;32m     59\u001b[0m \u001b[1;33m\u001b[0m\u001b[0m\n\u001b[0;32m     60\u001b[0m             depth_first_search(room_state_next, room_structure,\n\u001b[1;32m---> 61\u001b[1;33m                                box_mapping_next, box_swaps_next, last_pull, ttl, actions_next)\n\u001b[0m\u001b[0;32m     62\u001b[0m \u001b[1;33m\u001b[0m\u001b[0m\n\u001b[0;32m     63\u001b[0m \u001b[1;33m\u001b[0m\u001b[0m\n",
      "\u001b[1;32mF:\\Projets\\MCTSnet\\MCTSnet\\sokoban\\hack.py\u001b[0m in \u001b[0;36mdepth_first_search\u001b[1;34m(room_state, room_structure, box_mapping, box_swaps, last_pull, ttl, actions)\u001b[0m\n\u001b[0;32m     59\u001b[0m \u001b[1;33m\u001b[0m\u001b[0m\n\u001b[0;32m     60\u001b[0m             depth_first_search(room_state_next, room_structure,\n\u001b[1;32m---> 61\u001b[1;33m                                box_mapping_next, box_swaps_next, last_pull, ttl, actions_next)\n\u001b[0m\u001b[0;32m     62\u001b[0m \u001b[1;33m\u001b[0m\u001b[0m\n\u001b[0;32m     63\u001b[0m \u001b[1;33m\u001b[0m\u001b[0m\n",
      "\u001b[1;32mF:\\Projets\\MCTSnet\\MCTSnet\\sokoban\\hack.py\u001b[0m in \u001b[0;36mdepth_first_search\u001b[1;34m(room_state, room_structure, box_mapping, box_swaps, last_pull, ttl, actions)\u001b[0m\n\u001b[0;32m     59\u001b[0m \u001b[1;33m\u001b[0m\u001b[0m\n\u001b[0;32m     60\u001b[0m             depth_first_search(room_state_next, room_structure,\n\u001b[1;32m---> 61\u001b[1;33m                                box_mapping_next, box_swaps_next, last_pull, ttl, actions_next)\n\u001b[0m\u001b[0;32m     62\u001b[0m \u001b[1;33m\u001b[0m\u001b[0m\n\u001b[0;32m     63\u001b[0m \u001b[1;33m\u001b[0m\u001b[0m\n",
      "\u001b[1;32mF:\\Projets\\MCTSnet\\MCTSnet\\sokoban\\hack.py\u001b[0m in \u001b[0;36mdepth_first_search\u001b[1;34m(room_state, room_structure, box_mapping, box_swaps, last_pull, ttl, actions)\u001b[0m\n\u001b[0;32m     59\u001b[0m \u001b[1;33m\u001b[0m\u001b[0m\n\u001b[0;32m     60\u001b[0m             depth_first_search(room_state_next, room_structure,\n\u001b[1;32m---> 61\u001b[1;33m                                box_mapping_next, box_swaps_next, last_pull, ttl, actions_next)\n\u001b[0m\u001b[0;32m     62\u001b[0m \u001b[1;33m\u001b[0m\u001b[0m\n\u001b[0;32m     63\u001b[0m \u001b[1;33m\u001b[0m\u001b[0m\n",
      "\u001b[1;32mF:\\Projets\\MCTSnet\\MCTSnet\\sokoban\\hack.py\u001b[0m in \u001b[0;36mdepth_first_search\u001b[1;34m(room_state, room_structure, box_mapping, box_swaps, last_pull, ttl, actions)\u001b[0m\n\u001b[0;32m     59\u001b[0m \u001b[1;33m\u001b[0m\u001b[0m\n\u001b[0;32m     60\u001b[0m             depth_first_search(room_state_next, room_structure,\n\u001b[1;32m---> 61\u001b[1;33m                                box_mapping_next, box_swaps_next, last_pull, ttl, actions_next)\n\u001b[0m\u001b[0;32m     62\u001b[0m \u001b[1;33m\u001b[0m\u001b[0m\n\u001b[0;32m     63\u001b[0m \u001b[1;33m\u001b[0m\u001b[0m\n",
      "\u001b[1;32mF:\\Projets\\MCTSnet\\MCTSnet\\sokoban\\hack.py\u001b[0m in \u001b[0;36mdepth_first_search\u001b[1;34m(room_state, room_structure, box_mapping, box_swaps, last_pull, ttl, actions)\u001b[0m\n\u001b[0;32m     59\u001b[0m \u001b[1;33m\u001b[0m\u001b[0m\n\u001b[0;32m     60\u001b[0m             depth_first_search(room_state_next, room_structure,\n\u001b[1;32m---> 61\u001b[1;33m                                box_mapping_next, box_swaps_next, last_pull, ttl, actions_next)\n\u001b[0m\u001b[0;32m     62\u001b[0m \u001b[1;33m\u001b[0m\u001b[0m\n\u001b[0;32m     63\u001b[0m \u001b[1;33m\u001b[0m\u001b[0m\n",
      "\u001b[1;32mF:\\Projets\\MCTSnet\\MCTSnet\\sokoban\\hack.py\u001b[0m in \u001b[0;36mdepth_first_search\u001b[1;34m(room_state, room_structure, box_mapping, box_swaps, last_pull, ttl, actions)\u001b[0m\n\u001b[0;32m     59\u001b[0m \u001b[1;33m\u001b[0m\u001b[0m\n\u001b[0;32m     60\u001b[0m             depth_first_search(room_state_next, room_structure,\n\u001b[1;32m---> 61\u001b[1;33m                                box_mapping_next, box_swaps_next, last_pull, ttl, actions_next)\n\u001b[0m\u001b[0;32m     62\u001b[0m \u001b[1;33m\u001b[0m\u001b[0m\n\u001b[0;32m     63\u001b[0m \u001b[1;33m\u001b[0m\u001b[0m\n",
      "\u001b[1;32mF:\\Projets\\MCTSnet\\MCTSnet\\sokoban\\hack.py\u001b[0m in \u001b[0;36mdepth_first_search\u001b[1;34m(room_state, room_structure, box_mapping, box_swaps, last_pull, ttl, actions)\u001b[0m\n\u001b[0;32m     59\u001b[0m \u001b[1;33m\u001b[0m\u001b[0m\n\u001b[0;32m     60\u001b[0m             depth_first_search(room_state_next, room_structure,\n\u001b[1;32m---> 61\u001b[1;33m                                box_mapping_next, box_swaps_next, last_pull, ttl, actions_next)\n\u001b[0m\u001b[0;32m     62\u001b[0m \u001b[1;33m\u001b[0m\u001b[0m\n\u001b[0;32m     63\u001b[0m \u001b[1;33m\u001b[0m\u001b[0m\n",
      "\u001b[1;32mF:\\Projets\\MCTSnet\\MCTSnet\\sokoban\\hack.py\u001b[0m in \u001b[0;36mdepth_first_search\u001b[1;34m(room_state, room_structure, box_mapping, box_swaps, last_pull, ttl, actions)\u001b[0m\n\u001b[0;32m     59\u001b[0m \u001b[1;33m\u001b[0m\u001b[0m\n\u001b[0;32m     60\u001b[0m             depth_first_search(room_state_next, room_structure,\n\u001b[1;32m---> 61\u001b[1;33m                                box_mapping_next, box_swaps_next, last_pull, ttl, actions_next)\n\u001b[0m\u001b[0;32m     62\u001b[0m \u001b[1;33m\u001b[0m\u001b[0m\n\u001b[0;32m     63\u001b[0m \u001b[1;33m\u001b[0m\u001b[0m\n",
      "\u001b[1;32mF:\\Projets\\MCTSnet\\MCTSnet\\sokoban\\hack.py\u001b[0m in \u001b[0;36mdepth_first_search\u001b[1;34m(room_state, room_structure, box_mapping, box_swaps, last_pull, ttl, actions)\u001b[0m\n\u001b[0;32m     59\u001b[0m \u001b[1;33m\u001b[0m\u001b[0m\n\u001b[0;32m     60\u001b[0m             depth_first_search(room_state_next, room_structure,\n\u001b[1;32m---> 61\u001b[1;33m                                box_mapping_next, box_swaps_next, last_pull, ttl, actions_next)\n\u001b[0m\u001b[0;32m     62\u001b[0m \u001b[1;33m\u001b[0m\u001b[0m\n\u001b[0;32m     63\u001b[0m \u001b[1;33m\u001b[0m\u001b[0m\n",
      "\u001b[1;32mF:\\Projets\\MCTSnet\\MCTSnet\\sokoban\\hack.py\u001b[0m in \u001b[0;36mdepth_first_search\u001b[1;34m(room_state, room_structure, box_mapping, box_swaps, last_pull, ttl, actions)\u001b[0m\n\u001b[0;32m     59\u001b[0m \u001b[1;33m\u001b[0m\u001b[0m\n\u001b[0;32m     60\u001b[0m             depth_first_search(room_state_next, room_structure,\n\u001b[1;32m---> 61\u001b[1;33m                                box_mapping_next, box_swaps_next, last_pull, ttl, actions_next)\n\u001b[0m\u001b[0;32m     62\u001b[0m \u001b[1;33m\u001b[0m\u001b[0m\n\u001b[0;32m     63\u001b[0m \u001b[1;33m\u001b[0m\u001b[0m\n",
      "\u001b[1;32mF:\\Projets\\MCTSnet\\MCTSnet\\sokoban\\hack.py\u001b[0m in \u001b[0;36mdepth_first_search\u001b[1;34m(room_state, room_structure, box_mapping, box_swaps, last_pull, ttl, actions)\u001b[0m\n\u001b[0;32m     59\u001b[0m \u001b[1;33m\u001b[0m\u001b[0m\n\u001b[0;32m     60\u001b[0m             depth_first_search(room_state_next, room_structure,\n\u001b[1;32m---> 61\u001b[1;33m                                box_mapping_next, box_swaps_next, last_pull, ttl, actions_next)\n\u001b[0m\u001b[0;32m     62\u001b[0m \u001b[1;33m\u001b[0m\u001b[0m\n\u001b[0;32m     63\u001b[0m \u001b[1;33m\u001b[0m\u001b[0m\n",
      "\u001b[1;32mF:\\Projets\\MCTSnet\\MCTSnet\\sokoban\\hack.py\u001b[0m in \u001b[0;36mdepth_first_search\u001b[1;34m(room_state, room_structure, box_mapping, box_swaps, last_pull, ttl, actions)\u001b[0m\n\u001b[0;32m     59\u001b[0m \u001b[1;33m\u001b[0m\u001b[0m\n\u001b[0;32m     60\u001b[0m             depth_first_search(room_state_next, room_structure,\n\u001b[1;32m---> 61\u001b[1;33m                                box_mapping_next, box_swaps_next, last_pull, ttl, actions_next)\n\u001b[0m\u001b[0;32m     62\u001b[0m \u001b[1;33m\u001b[0m\u001b[0m\n\u001b[0;32m     63\u001b[0m \u001b[1;33m\u001b[0m\u001b[0m\n",
      "\u001b[1;32mF:\\Projets\\MCTSnet\\MCTSnet\\sokoban\\hack.py\u001b[0m in \u001b[0;36mdepth_first_search\u001b[1;34m(room_state, room_structure, box_mapping, box_swaps, last_pull, ttl, actions)\u001b[0m\n\u001b[0;32m     59\u001b[0m \u001b[1;33m\u001b[0m\u001b[0m\n\u001b[0;32m     60\u001b[0m             depth_first_search(room_state_next, room_structure,\n\u001b[1;32m---> 61\u001b[1;33m                                box_mapping_next, box_swaps_next, last_pull, ttl, actions_next)\n\u001b[0m\u001b[0;32m     62\u001b[0m \u001b[1;33m\u001b[0m\u001b[0m\n\u001b[0;32m     63\u001b[0m \u001b[1;33m\u001b[0m\u001b[0m\n",
      "\u001b[1;32mF:\\Projets\\MCTSnet\\MCTSnet\\sokoban\\hack.py\u001b[0m in \u001b[0;36mdepth_first_search\u001b[1;34m(room_state, room_structure, box_mapping, box_swaps, last_pull, ttl, actions)\u001b[0m\n\u001b[0;32m     59\u001b[0m \u001b[1;33m\u001b[0m\u001b[0m\n\u001b[0;32m     60\u001b[0m             depth_first_search(room_state_next, room_structure,\n\u001b[1;32m---> 61\u001b[1;33m                                box_mapping_next, box_swaps_next, last_pull, ttl, actions_next)\n\u001b[0m\u001b[0;32m     62\u001b[0m \u001b[1;33m\u001b[0m\u001b[0m\n\u001b[0;32m     63\u001b[0m \u001b[1;33m\u001b[0m\u001b[0m\n",
      "\u001b[1;32mF:\\Projets\\MCTSnet\\MCTSnet\\sokoban\\hack.py\u001b[0m in \u001b[0;36mdepth_first_search\u001b[1;34m(room_state, room_structure, box_mapping, box_swaps, last_pull, ttl, actions)\u001b[0m\n\u001b[0;32m     59\u001b[0m \u001b[1;33m\u001b[0m\u001b[0m\n\u001b[0;32m     60\u001b[0m             depth_first_search(room_state_next, room_structure,\n\u001b[1;32m---> 61\u001b[1;33m                                box_mapping_next, box_swaps_next, last_pull, ttl, actions_next)\n\u001b[0m\u001b[0;32m     62\u001b[0m \u001b[1;33m\u001b[0m\u001b[0m\n\u001b[0;32m     63\u001b[0m \u001b[1;33m\u001b[0m\u001b[0m\n",
      "\u001b[1;32mF:\\Projets\\MCTSnet\\MCTSnet\\sokoban\\hack.py\u001b[0m in \u001b[0;36mdepth_first_search\u001b[1;34m(room_state, room_structure, box_mapping, box_swaps, last_pull, ttl, actions)\u001b[0m\n\u001b[0;32m     59\u001b[0m \u001b[1;33m\u001b[0m\u001b[0m\n\u001b[0;32m     60\u001b[0m             depth_first_search(room_state_next, room_structure,\n\u001b[1;32m---> 61\u001b[1;33m                                box_mapping_next, box_swaps_next, last_pull, ttl, actions_next)\n\u001b[0m\u001b[0;32m     62\u001b[0m \u001b[1;33m\u001b[0m\u001b[0m\n\u001b[0;32m     63\u001b[0m \u001b[1;33m\u001b[0m\u001b[0m\n",
      "\u001b[1;32mF:\\Projets\\MCTSnet\\MCTSnet\\sokoban\\hack.py\u001b[0m in \u001b[0;36mdepth_first_search\u001b[1;34m(room_state, room_structure, box_mapping, box_swaps, last_pull, ttl, actions)\u001b[0m\n\u001b[0;32m     59\u001b[0m \u001b[1;33m\u001b[0m\u001b[0m\n\u001b[0;32m     60\u001b[0m             depth_first_search(room_state_next, room_structure,\n\u001b[1;32m---> 61\u001b[1;33m                                box_mapping_next, box_swaps_next, last_pull, ttl, actions_next)\n\u001b[0m\u001b[0;32m     62\u001b[0m \u001b[1;33m\u001b[0m\u001b[0m\n\u001b[0;32m     63\u001b[0m \u001b[1;33m\u001b[0m\u001b[0m\n",
      "\u001b[1;32mF:\\Projets\\MCTSnet\\MCTSnet\\sokoban\\hack.py\u001b[0m in \u001b[0;36mdepth_first_search\u001b[1;34m(room_state, room_structure, box_mapping, box_swaps, last_pull, ttl, actions)\u001b[0m\n\u001b[0;32m     59\u001b[0m \u001b[1;33m\u001b[0m\u001b[0m\n\u001b[0;32m     60\u001b[0m             depth_first_search(room_state_next, room_structure,\n\u001b[1;32m---> 61\u001b[1;33m                                box_mapping_next, box_swaps_next, last_pull, ttl, actions_next)\n\u001b[0m\u001b[0;32m     62\u001b[0m \u001b[1;33m\u001b[0m\u001b[0m\n\u001b[0;32m     63\u001b[0m \u001b[1;33m\u001b[0m\u001b[0m\n",
      "\u001b[1;32mF:\\Projets\\MCTSnet\\MCTSnet\\sokoban\\hack.py\u001b[0m in \u001b[0;36mdepth_first_search\u001b[1;34m(room_state, room_structure, box_mapping, box_swaps, last_pull, ttl, actions)\u001b[0m\n\u001b[0;32m     59\u001b[0m \u001b[1;33m\u001b[0m\u001b[0m\n\u001b[0;32m     60\u001b[0m             depth_first_search(room_state_next, room_structure,\n\u001b[1;32m---> 61\u001b[1;33m                                box_mapping_next, box_swaps_next, last_pull, ttl, actions_next)\n\u001b[0m\u001b[0;32m     62\u001b[0m \u001b[1;33m\u001b[0m\u001b[0m\n\u001b[0;32m     63\u001b[0m \u001b[1;33m\u001b[0m\u001b[0m\n",
      "\u001b[1;32mF:\\Projets\\MCTSnet\\MCTSnet\\sokoban\\hack.py\u001b[0m in \u001b[0;36mdepth_first_search\u001b[1;34m(room_state, room_structure, box_mapping, box_swaps, last_pull, ttl, actions)\u001b[0m\n\u001b[0;32m     59\u001b[0m \u001b[1;33m\u001b[0m\u001b[0m\n\u001b[0;32m     60\u001b[0m             depth_first_search(room_state_next, room_structure,\n\u001b[1;32m---> 61\u001b[1;33m                                box_mapping_next, box_swaps_next, last_pull, ttl, actions_next)\n\u001b[0m\u001b[0;32m     62\u001b[0m \u001b[1;33m\u001b[0m\u001b[0m\n\u001b[0;32m     63\u001b[0m \u001b[1;33m\u001b[0m\u001b[0m\n",
      "\u001b[1;32mF:\\Projets\\MCTSnet\\MCTSnet\\sokoban\\hack.py\u001b[0m in \u001b[0;36mdepth_first_search\u001b[1;34m(room_state, room_structure, box_mapping, box_swaps, last_pull, ttl, actions)\u001b[0m\n\u001b[0;32m     59\u001b[0m \u001b[1;33m\u001b[0m\u001b[0m\n\u001b[0;32m     60\u001b[0m             depth_first_search(room_state_next, room_structure,\n\u001b[1;32m---> 61\u001b[1;33m                                box_mapping_next, box_swaps_next, last_pull, ttl, actions_next)\n\u001b[0m\u001b[0;32m     62\u001b[0m \u001b[1;33m\u001b[0m\u001b[0m\n\u001b[0;32m     63\u001b[0m \u001b[1;33m\u001b[0m\u001b[0m\n",
      "\u001b[1;32mF:\\Projets\\MCTSnet\\MCTSnet\\sokoban\\hack.py\u001b[0m in \u001b[0;36mdepth_first_search\u001b[1;34m(room_state, room_structure, box_mapping, box_swaps, last_pull, ttl, actions)\u001b[0m\n\u001b[0;32m     59\u001b[0m \u001b[1;33m\u001b[0m\u001b[0m\n\u001b[0;32m     60\u001b[0m             depth_first_search(room_state_next, room_structure,\n\u001b[1;32m---> 61\u001b[1;33m                                box_mapping_next, box_swaps_next, last_pull, ttl, actions_next)\n\u001b[0m\u001b[0;32m     62\u001b[0m \u001b[1;33m\u001b[0m\u001b[0m\n\u001b[0;32m     63\u001b[0m \u001b[1;33m\u001b[0m\u001b[0m\n",
      "\u001b[1;32mF:\\Projets\\MCTSnet\\MCTSnet\\sokoban\\hack.py\u001b[0m in \u001b[0;36mdepth_first_search\u001b[1;34m(room_state, room_structure, box_mapping, box_swaps, last_pull, ttl, actions)\u001b[0m\n\u001b[0;32m     59\u001b[0m \u001b[1;33m\u001b[0m\u001b[0m\n\u001b[0;32m     60\u001b[0m             depth_first_search(room_state_next, room_structure,\n\u001b[1;32m---> 61\u001b[1;33m                                box_mapping_next, box_swaps_next, last_pull, ttl, actions_next)\n\u001b[0m\u001b[0;32m     62\u001b[0m \u001b[1;33m\u001b[0m\u001b[0m\n\u001b[0;32m     63\u001b[0m \u001b[1;33m\u001b[0m\u001b[0m\n",
      "\u001b[1;32mF:\\Projets\\MCTSnet\\MCTSnet\\sokoban\\hack.py\u001b[0m in \u001b[0;36mdepth_first_search\u001b[1;34m(room_state, room_structure, box_mapping, box_swaps, last_pull, ttl, actions)\u001b[0m\n\u001b[0;32m     59\u001b[0m \u001b[1;33m\u001b[0m\u001b[0m\n\u001b[0;32m     60\u001b[0m             depth_first_search(room_state_next, room_structure,\n\u001b[1;32m---> 61\u001b[1;33m                                box_mapping_next, box_swaps_next, last_pull, ttl, actions_next)\n\u001b[0m\u001b[0;32m     62\u001b[0m \u001b[1;33m\u001b[0m\u001b[0m\n\u001b[0;32m     63\u001b[0m \u001b[1;33m\u001b[0m\u001b[0m\n",
      "\u001b[1;32mF:\\Projets\\MCTSnet\\MCTSnet\\sokoban\\hack.py\u001b[0m in \u001b[0;36mdepth_first_search\u001b[1;34m(room_state, room_structure, box_mapping, box_swaps, last_pull, ttl, actions)\u001b[0m\n\u001b[0;32m     59\u001b[0m \u001b[1;33m\u001b[0m\u001b[0m\n\u001b[0;32m     60\u001b[0m             depth_first_search(room_state_next, room_structure,\n\u001b[1;32m---> 61\u001b[1;33m                                box_mapping_next, box_swaps_next, last_pull, ttl, actions_next)\n\u001b[0m\u001b[0;32m     62\u001b[0m \u001b[1;33m\u001b[0m\u001b[0m\n\u001b[0;32m     63\u001b[0m \u001b[1;33m\u001b[0m\u001b[0m\n",
      "\u001b[1;32mF:\\Projets\\MCTSnet\\MCTSnet\\sokoban\\hack.py\u001b[0m in \u001b[0;36mdepth_first_search\u001b[1;34m(room_state, room_structure, box_mapping, box_swaps, last_pull, ttl, actions)\u001b[0m\n\u001b[0;32m     59\u001b[0m \u001b[1;33m\u001b[0m\u001b[0m\n\u001b[0;32m     60\u001b[0m             depth_first_search(room_state_next, room_structure,\n\u001b[1;32m---> 61\u001b[1;33m                                box_mapping_next, box_swaps_next, last_pull, ttl, actions_next)\n\u001b[0m\u001b[0;32m     62\u001b[0m \u001b[1;33m\u001b[0m\u001b[0m\n\u001b[0;32m     63\u001b[0m \u001b[1;33m\u001b[0m\u001b[0m\n",
      "\u001b[1;32mF:\\Projets\\MCTSnet\\MCTSnet\\sokoban\\hack.py\u001b[0m in \u001b[0;36mdepth_first_search\u001b[1;34m(room_state, room_structure, box_mapping, box_swaps, last_pull, ttl, actions)\u001b[0m\n\u001b[0;32m     59\u001b[0m \u001b[1;33m\u001b[0m\u001b[0m\n\u001b[0;32m     60\u001b[0m             depth_first_search(room_state_next, room_structure,\n\u001b[1;32m---> 61\u001b[1;33m                                box_mapping_next, box_swaps_next, last_pull, ttl, actions_next)\n\u001b[0m\u001b[0;32m     62\u001b[0m \u001b[1;33m\u001b[0m\u001b[0m\n\u001b[0;32m     63\u001b[0m \u001b[1;33m\u001b[0m\u001b[0m\n",
      "\u001b[1;32mF:\\Projets\\MCTSnet\\MCTSnet\\sokoban\\hack.py\u001b[0m in \u001b[0;36mdepth_first_search\u001b[1;34m(room_state, room_structure, box_mapping, box_swaps, last_pull, ttl, actions)\u001b[0m\n\u001b[0;32m     59\u001b[0m \u001b[1;33m\u001b[0m\u001b[0m\n\u001b[0;32m     60\u001b[0m             depth_first_search(room_state_next, room_structure,\n\u001b[1;32m---> 61\u001b[1;33m                                box_mapping_next, box_swaps_next, last_pull, ttl, actions_next)\n\u001b[0m\u001b[0;32m     62\u001b[0m \u001b[1;33m\u001b[0m\u001b[0m\n\u001b[0;32m     63\u001b[0m \u001b[1;33m\u001b[0m\u001b[0m\n",
      "\u001b[1;32mF:\\Projets\\MCTSnet\\MCTSnet\\sokoban\\hack.py\u001b[0m in \u001b[0;36mdepth_first_search\u001b[1;34m(room_state, room_structure, box_mapping, box_swaps, last_pull, ttl, actions)\u001b[0m\n\u001b[0;32m     59\u001b[0m \u001b[1;33m\u001b[0m\u001b[0m\n\u001b[0;32m     60\u001b[0m             depth_first_search(room_state_next, room_structure,\n\u001b[1;32m---> 61\u001b[1;33m                                box_mapping_next, box_swaps_next, last_pull, ttl, actions_next)\n\u001b[0m\u001b[0;32m     62\u001b[0m \u001b[1;33m\u001b[0m\u001b[0m\n\u001b[0;32m     63\u001b[0m \u001b[1;33m\u001b[0m\u001b[0m\n",
      "\u001b[1;32mF:\\Projets\\MCTSnet\\MCTSnet\\sokoban\\hack.py\u001b[0m in \u001b[0;36mdepth_first_search\u001b[1;34m(room_state, room_structure, box_mapping, box_swaps, last_pull, ttl, actions)\u001b[0m\n\u001b[0;32m     59\u001b[0m \u001b[1;33m\u001b[0m\u001b[0m\n\u001b[0;32m     60\u001b[0m             depth_first_search(room_state_next, room_structure,\n\u001b[1;32m---> 61\u001b[1;33m                                box_mapping_next, box_swaps_next, last_pull, ttl, actions_next)\n\u001b[0m\u001b[0;32m     62\u001b[0m \u001b[1;33m\u001b[0m\u001b[0m\n\u001b[0;32m     63\u001b[0m \u001b[1;33m\u001b[0m\u001b[0m\n",
      "\u001b[1;32mF:\\Projets\\MCTSnet\\MCTSnet\\sokoban\\hack.py\u001b[0m in \u001b[0;36mdepth_first_search\u001b[1;34m(room_state, room_structure, box_mapping, box_swaps, last_pull, ttl, actions)\u001b[0m\n\u001b[0;32m     59\u001b[0m \u001b[1;33m\u001b[0m\u001b[0m\n\u001b[0;32m     60\u001b[0m             depth_first_search(room_state_next, room_structure,\n\u001b[1;32m---> 61\u001b[1;33m                                box_mapping_next, box_swaps_next, last_pull, ttl, actions_next)\n\u001b[0m\u001b[0;32m     62\u001b[0m \u001b[1;33m\u001b[0m\u001b[0m\n\u001b[0;32m     63\u001b[0m \u001b[1;33m\u001b[0m\u001b[0m\n",
      "\u001b[1;32mF:\\Projets\\MCTSnet\\MCTSnet\\sokoban\\hack.py\u001b[0m in \u001b[0;36mdepth_first_search\u001b[1;34m(room_state, room_structure, box_mapping, box_swaps, last_pull, ttl, actions)\u001b[0m\n\u001b[0;32m     59\u001b[0m \u001b[1;33m\u001b[0m\u001b[0m\n\u001b[0;32m     60\u001b[0m             depth_first_search(room_state_next, room_structure,\n\u001b[1;32m---> 61\u001b[1;33m                                box_mapping_next, box_swaps_next, last_pull, ttl, actions_next)\n\u001b[0m\u001b[0;32m     62\u001b[0m \u001b[1;33m\u001b[0m\u001b[0m\n\u001b[0;32m     63\u001b[0m \u001b[1;33m\u001b[0m\u001b[0m\n",
      "\u001b[1;32mF:\\Projets\\MCTSnet\\MCTSnet\\sokoban\\hack.py\u001b[0m in \u001b[0;36mdepth_first_search\u001b[1;34m(room_state, room_structure, box_mapping, box_swaps, last_pull, ttl, actions)\u001b[0m\n\u001b[0;32m     59\u001b[0m \u001b[1;33m\u001b[0m\u001b[0m\n\u001b[0;32m     60\u001b[0m             depth_first_search(room_state_next, room_structure,\n\u001b[1;32m---> 61\u001b[1;33m                                box_mapping_next, box_swaps_next, last_pull, ttl, actions_next)\n\u001b[0m\u001b[0;32m     62\u001b[0m \u001b[1;33m\u001b[0m\u001b[0m\n\u001b[0;32m     63\u001b[0m \u001b[1;33m\u001b[0m\u001b[0m\n",
      "\u001b[1;32mF:\\Projets\\MCTSnet\\MCTSnet\\sokoban\\hack.py\u001b[0m in \u001b[0;36mdepth_first_search\u001b[1;34m(room_state, room_structure, box_mapping, box_swaps, last_pull, ttl, actions)\u001b[0m\n\u001b[0;32m     59\u001b[0m \u001b[1;33m\u001b[0m\u001b[0m\n\u001b[0;32m     60\u001b[0m             depth_first_search(room_state_next, room_structure,\n\u001b[1;32m---> 61\u001b[1;33m                                box_mapping_next, box_swaps_next, last_pull, ttl, actions_next)\n\u001b[0m\u001b[0;32m     62\u001b[0m \u001b[1;33m\u001b[0m\u001b[0m\n\u001b[0;32m     63\u001b[0m \u001b[1;33m\u001b[0m\u001b[0m\n",
      "\u001b[1;32mF:\\Projets\\MCTSnet\\MCTSnet\\sokoban\\hack.py\u001b[0m in \u001b[0;36mdepth_first_search\u001b[1;34m(room_state, room_structure, box_mapping, box_swaps, last_pull, ttl, actions)\u001b[0m\n\u001b[0;32m     59\u001b[0m \u001b[1;33m\u001b[0m\u001b[0m\n\u001b[0;32m     60\u001b[0m             depth_first_search(room_state_next, room_structure,\n\u001b[1;32m---> 61\u001b[1;33m                                box_mapping_next, box_swaps_next, last_pull, ttl, actions_next)\n\u001b[0m\u001b[0;32m     62\u001b[0m \u001b[1;33m\u001b[0m\u001b[0m\n\u001b[0;32m     63\u001b[0m \u001b[1;33m\u001b[0m\u001b[0m\n",
      "\u001b[1;32mF:\\Projets\\MCTSnet\\MCTSnet\\sokoban\\hack.py\u001b[0m in \u001b[0;36mdepth_first_search\u001b[1;34m(room_state, room_structure, box_mapping, box_swaps, last_pull, ttl, actions)\u001b[0m\n\u001b[0;32m     59\u001b[0m \u001b[1;33m\u001b[0m\u001b[0m\n\u001b[0;32m     60\u001b[0m             depth_first_search(room_state_next, room_structure,\n\u001b[1;32m---> 61\u001b[1;33m                                box_mapping_next, box_swaps_next, last_pull, ttl, actions_next)\n\u001b[0m\u001b[0;32m     62\u001b[0m \u001b[1;33m\u001b[0m\u001b[0m\n\u001b[0;32m     63\u001b[0m \u001b[1;33m\u001b[0m\u001b[0m\n",
      "\u001b[1;32mF:\\Projets\\MCTSnet\\MCTSnet\\sokoban\\hack.py\u001b[0m in \u001b[0;36mdepth_first_search\u001b[1;34m(room_state, room_structure, box_mapping, box_swaps, last_pull, ttl, actions)\u001b[0m\n\u001b[0;32m     59\u001b[0m \u001b[1;33m\u001b[0m\u001b[0m\n\u001b[0;32m     60\u001b[0m             depth_first_search(room_state_next, room_structure,\n\u001b[1;32m---> 61\u001b[1;33m                                box_mapping_next, box_swaps_next, last_pull, ttl, actions_next)\n\u001b[0m\u001b[0;32m     62\u001b[0m \u001b[1;33m\u001b[0m\u001b[0m\n\u001b[0;32m     63\u001b[0m \u001b[1;33m\u001b[0m\u001b[0m\n",
      "\u001b[1;32mF:\\Projets\\MCTSnet\\MCTSnet\\sokoban\\hack.py\u001b[0m in \u001b[0;36mdepth_first_search\u001b[1;34m(room_state, room_structure, box_mapping, box_swaps, last_pull, ttl, actions)\u001b[0m\n\u001b[0;32m     59\u001b[0m \u001b[1;33m\u001b[0m\u001b[0m\n\u001b[0;32m     60\u001b[0m             depth_first_search(room_state_next, room_structure,\n\u001b[1;32m---> 61\u001b[1;33m                                box_mapping_next, box_swaps_next, last_pull, ttl, actions_next)\n\u001b[0m\u001b[0;32m     62\u001b[0m \u001b[1;33m\u001b[0m\u001b[0m\n\u001b[0;32m     63\u001b[0m \u001b[1;33m\u001b[0m\u001b[0m\n",
      "\u001b[1;32mF:\\Projets\\MCTSnet\\MCTSnet\\sokoban\\hack.py\u001b[0m in \u001b[0;36mdepth_first_search\u001b[1;34m(room_state, room_structure, box_mapping, box_swaps, last_pull, ttl, actions)\u001b[0m\n\u001b[0;32m     59\u001b[0m \u001b[1;33m\u001b[0m\u001b[0m\n\u001b[0;32m     60\u001b[0m             depth_first_search(room_state_next, room_structure,\n\u001b[1;32m---> 61\u001b[1;33m                                box_mapping_next, box_swaps_next, last_pull, ttl, actions_next)\n\u001b[0m\u001b[0;32m     62\u001b[0m \u001b[1;33m\u001b[0m\u001b[0m\n\u001b[0;32m     63\u001b[0m \u001b[1;33m\u001b[0m\u001b[0m\n",
      "\u001b[1;32mF:\\Projets\\MCTSnet\\MCTSnet\\sokoban\\hack.py\u001b[0m in \u001b[0;36mdepth_first_search\u001b[1;34m(room_state, room_structure, box_mapping, box_swaps, last_pull, ttl, actions)\u001b[0m\n\u001b[0;32m     59\u001b[0m \u001b[1;33m\u001b[0m\u001b[0m\n\u001b[0;32m     60\u001b[0m             depth_first_search(room_state_next, room_structure,\n\u001b[1;32m---> 61\u001b[1;33m                                box_mapping_next, box_swaps_next, last_pull, ttl, actions_next)\n\u001b[0m\u001b[0;32m     62\u001b[0m \u001b[1;33m\u001b[0m\u001b[0m\n\u001b[0;32m     63\u001b[0m \u001b[1;33m\u001b[0m\u001b[0m\n",
      "\u001b[1;32mF:\\Projets\\MCTSnet\\MCTSnet\\sokoban\\hack.py\u001b[0m in \u001b[0;36mdepth_first_search\u001b[1;34m(room_state, room_structure, box_mapping, box_swaps, last_pull, ttl, actions)\u001b[0m\n\u001b[0;32m     59\u001b[0m \u001b[1;33m\u001b[0m\u001b[0m\n\u001b[0;32m     60\u001b[0m             depth_first_search(room_state_next, room_structure,\n\u001b[1;32m---> 61\u001b[1;33m                                box_mapping_next, box_swaps_next, last_pull, ttl, actions_next)\n\u001b[0m\u001b[0;32m     62\u001b[0m \u001b[1;33m\u001b[0m\u001b[0m\n\u001b[0;32m     63\u001b[0m \u001b[1;33m\u001b[0m\u001b[0m\n",
      "\u001b[1;32mF:\\Projets\\MCTSnet\\MCTSnet\\sokoban\\hack.py\u001b[0m in \u001b[0;36mdepth_first_search\u001b[1;34m(room_state, room_structure, box_mapping, box_swaps, last_pull, ttl, actions)\u001b[0m\n\u001b[0;32m     59\u001b[0m \u001b[1;33m\u001b[0m\u001b[0m\n\u001b[0;32m     60\u001b[0m             depth_first_search(room_state_next, room_structure,\n\u001b[1;32m---> 61\u001b[1;33m                                box_mapping_next, box_swaps_next, last_pull, ttl, actions_next)\n\u001b[0m\u001b[0;32m     62\u001b[0m \u001b[1;33m\u001b[0m\u001b[0m\n\u001b[0;32m     63\u001b[0m \u001b[1;33m\u001b[0m\u001b[0m\n",
      "\u001b[1;32mF:\\Projets\\MCTSnet\\MCTSnet\\sokoban\\hack.py\u001b[0m in \u001b[0;36mdepth_first_search\u001b[1;34m(room_state, room_structure, box_mapping, box_swaps, last_pull, ttl, actions)\u001b[0m\n\u001b[0;32m     59\u001b[0m \u001b[1;33m\u001b[0m\u001b[0m\n\u001b[0;32m     60\u001b[0m             depth_first_search(room_state_next, room_structure,\n\u001b[1;32m---> 61\u001b[1;33m                                box_mapping_next, box_swaps_next, last_pull, ttl, actions_next)\n\u001b[0m\u001b[0;32m     62\u001b[0m \u001b[1;33m\u001b[0m\u001b[0m\n\u001b[0;32m     63\u001b[0m \u001b[1;33m\u001b[0m\u001b[0m\n",
      "\u001b[1;32mF:\\Projets\\MCTSnet\\MCTSnet\\sokoban\\hack.py\u001b[0m in \u001b[0;36mdepth_first_search\u001b[1;34m(room_state, room_structure, box_mapping, box_swaps, last_pull, ttl, actions)\u001b[0m\n\u001b[0;32m     59\u001b[0m \u001b[1;33m\u001b[0m\u001b[0m\n\u001b[0;32m     60\u001b[0m             depth_first_search(room_state_next, room_structure,\n\u001b[1;32m---> 61\u001b[1;33m                                box_mapping_next, box_swaps_next, last_pull, ttl, actions_next)\n\u001b[0m\u001b[0;32m     62\u001b[0m \u001b[1;33m\u001b[0m\u001b[0m\n\u001b[0;32m     63\u001b[0m \u001b[1;33m\u001b[0m\u001b[0m\n",
      "\u001b[1;32mF:\\Projets\\MCTSnet\\MCTSnet\\sokoban\\hack.py\u001b[0m in \u001b[0;36mdepth_first_search\u001b[1;34m(room_state, room_structure, box_mapping, box_swaps, last_pull, ttl, actions)\u001b[0m\n\u001b[0;32m     59\u001b[0m \u001b[1;33m\u001b[0m\u001b[0m\n\u001b[0;32m     60\u001b[0m             depth_first_search(room_state_next, room_structure,\n\u001b[1;32m---> 61\u001b[1;33m                                box_mapping_next, box_swaps_next, last_pull, ttl, actions_next)\n\u001b[0m\u001b[0;32m     62\u001b[0m \u001b[1;33m\u001b[0m\u001b[0m\n\u001b[0;32m     63\u001b[0m \u001b[1;33m\u001b[0m\u001b[0m\n",
      "\u001b[1;32mF:\\Projets\\MCTSnet\\MCTSnet\\sokoban\\hack.py\u001b[0m in \u001b[0;36mdepth_first_search\u001b[1;34m(room_state, room_structure, box_mapping, box_swaps, last_pull, ttl, actions)\u001b[0m\n\u001b[0;32m     59\u001b[0m \u001b[1;33m\u001b[0m\u001b[0m\n\u001b[0;32m     60\u001b[0m             depth_first_search(room_state_next, room_structure,\n\u001b[1;32m---> 61\u001b[1;33m                                box_mapping_next, box_swaps_next, last_pull, ttl, actions_next)\n\u001b[0m\u001b[0;32m     62\u001b[0m \u001b[1;33m\u001b[0m\u001b[0m\n\u001b[0;32m     63\u001b[0m \u001b[1;33m\u001b[0m\u001b[0m\n",
      "\u001b[1;32mF:\\Projets\\MCTSnet\\MCTSnet\\sokoban\\hack.py\u001b[0m in \u001b[0;36mdepth_first_search\u001b[1;34m(room_state, room_structure, box_mapping, box_swaps, last_pull, ttl, actions)\u001b[0m\n\u001b[0;32m     59\u001b[0m \u001b[1;33m\u001b[0m\u001b[0m\n\u001b[0;32m     60\u001b[0m             depth_first_search(room_state_next, room_structure,\n\u001b[1;32m---> 61\u001b[1;33m                                box_mapping_next, box_swaps_next, last_pull, ttl, actions_next)\n\u001b[0m\u001b[0;32m     62\u001b[0m \u001b[1;33m\u001b[0m\u001b[0m\n\u001b[0;32m     63\u001b[0m \u001b[1;33m\u001b[0m\u001b[0m\n",
      "\u001b[1;32mF:\\Projets\\MCTSnet\\MCTSnet\\sokoban\\hack.py\u001b[0m in \u001b[0;36mdepth_first_search\u001b[1;34m(room_state, room_structure, box_mapping, box_swaps, last_pull, ttl, actions)\u001b[0m\n\u001b[0;32m     59\u001b[0m \u001b[1;33m\u001b[0m\u001b[0m\n\u001b[0;32m     60\u001b[0m             depth_first_search(room_state_next, room_structure,\n\u001b[1;32m---> 61\u001b[1;33m                                box_mapping_next, box_swaps_next, last_pull, ttl, actions_next)\n\u001b[0m\u001b[0;32m     62\u001b[0m \u001b[1;33m\u001b[0m\u001b[0m\n\u001b[0;32m     63\u001b[0m \u001b[1;33m\u001b[0m\u001b[0m\n",
      "\u001b[1;32mF:\\Projets\\MCTSnet\\MCTSnet\\sokoban\\hack.py\u001b[0m in \u001b[0;36mdepth_first_search\u001b[1;34m(room_state, room_structure, box_mapping, box_swaps, last_pull, ttl, actions)\u001b[0m\n\u001b[0;32m     59\u001b[0m \u001b[1;33m\u001b[0m\u001b[0m\n\u001b[0;32m     60\u001b[0m             depth_first_search(room_state_next, room_structure,\n\u001b[1;32m---> 61\u001b[1;33m                                box_mapping_next, box_swaps_next, last_pull, ttl, actions_next)\n\u001b[0m\u001b[0;32m     62\u001b[0m \u001b[1;33m\u001b[0m\u001b[0m\n\u001b[0;32m     63\u001b[0m \u001b[1;33m\u001b[0m\u001b[0m\n",
      "\u001b[1;32mF:\\Projets\\MCTSnet\\MCTSnet\\sokoban\\hack.py\u001b[0m in \u001b[0;36mdepth_first_search\u001b[1;34m(room_state, room_structure, box_mapping, box_swaps, last_pull, ttl, actions)\u001b[0m\n\u001b[0;32m     59\u001b[0m \u001b[1;33m\u001b[0m\u001b[0m\n\u001b[0;32m     60\u001b[0m             depth_first_search(room_state_next, room_structure,\n\u001b[1;32m---> 61\u001b[1;33m                                box_mapping_next, box_swaps_next, last_pull, ttl, actions_next)\n\u001b[0m\u001b[0;32m     62\u001b[0m \u001b[1;33m\u001b[0m\u001b[0m\n\u001b[0;32m     63\u001b[0m \u001b[1;33m\u001b[0m\u001b[0m\n",
      "\u001b[1;32mF:\\Projets\\MCTSnet\\MCTSnet\\sokoban\\hack.py\u001b[0m in \u001b[0;36mdepth_first_search\u001b[1;34m(room_state, room_structure, box_mapping, box_swaps, last_pull, ttl, actions)\u001b[0m\n\u001b[0;32m     59\u001b[0m \u001b[1;33m\u001b[0m\u001b[0m\n\u001b[0;32m     60\u001b[0m             depth_first_search(room_state_next, room_structure,\n\u001b[1;32m---> 61\u001b[1;33m                                box_mapping_next, box_swaps_next, last_pull, ttl, actions_next)\n\u001b[0m\u001b[0;32m     62\u001b[0m \u001b[1;33m\u001b[0m\u001b[0m\n\u001b[0;32m     63\u001b[0m \u001b[1;33m\u001b[0m\u001b[0m\n",
      "\u001b[1;32mF:\\Projets\\MCTSnet\\MCTSnet\\sokoban\\hack.py\u001b[0m in \u001b[0;36mdepth_first_search\u001b[1;34m(room_state, room_structure, box_mapping, box_swaps, last_pull, ttl, actions)\u001b[0m\n\u001b[0;32m     59\u001b[0m \u001b[1;33m\u001b[0m\u001b[0m\n\u001b[0;32m     60\u001b[0m             depth_first_search(room_state_next, room_structure,\n\u001b[1;32m---> 61\u001b[1;33m                                box_mapping_next, box_swaps_next, last_pull, ttl, actions_next)\n\u001b[0m\u001b[0;32m     62\u001b[0m \u001b[1;33m\u001b[0m\u001b[0m\n\u001b[0;32m     63\u001b[0m \u001b[1;33m\u001b[0m\u001b[0m\n",
      "\u001b[1;32mF:\\Projets\\MCTSnet\\MCTSnet\\sokoban\\hack.py\u001b[0m in \u001b[0;36mdepth_first_search\u001b[1;34m(room_state, room_structure, box_mapping, box_swaps, last_pull, ttl, actions)\u001b[0m\n\u001b[0;32m     59\u001b[0m \u001b[1;33m\u001b[0m\u001b[0m\n\u001b[0;32m     60\u001b[0m             depth_first_search(room_state_next, room_structure,\n\u001b[1;32m---> 61\u001b[1;33m                                box_mapping_next, box_swaps_next, last_pull, ttl, actions_next)\n\u001b[0m\u001b[0;32m     62\u001b[0m \u001b[1;33m\u001b[0m\u001b[0m\n\u001b[0;32m     63\u001b[0m \u001b[1;33m\u001b[0m\u001b[0m\n",
      "\u001b[1;32mF:\\Projets\\MCTSnet\\MCTSnet\\sokoban\\hack.py\u001b[0m in \u001b[0;36mdepth_first_search\u001b[1;34m(room_state, room_structure, box_mapping, box_swaps, last_pull, ttl, actions)\u001b[0m\n\u001b[0;32m     59\u001b[0m \u001b[1;33m\u001b[0m\u001b[0m\n\u001b[0;32m     60\u001b[0m             depth_first_search(room_state_next, room_structure,\n\u001b[1;32m---> 61\u001b[1;33m                                box_mapping_next, box_swaps_next, last_pull, ttl, actions_next)\n\u001b[0m\u001b[0;32m     62\u001b[0m \u001b[1;33m\u001b[0m\u001b[0m\n\u001b[0;32m     63\u001b[0m \u001b[1;33m\u001b[0m\u001b[0m\n",
      "\u001b[1;32mF:\\Projets\\MCTSnet\\MCTSnet\\sokoban\\hack.py\u001b[0m in \u001b[0;36mdepth_first_search\u001b[1;34m(room_state, room_structure, box_mapping, box_swaps, last_pull, ttl, actions)\u001b[0m\n\u001b[0;32m     59\u001b[0m \u001b[1;33m\u001b[0m\u001b[0m\n\u001b[0;32m     60\u001b[0m             depth_first_search(room_state_next, room_structure,\n\u001b[1;32m---> 61\u001b[1;33m                                box_mapping_next, box_swaps_next, last_pull, ttl, actions_next)\n\u001b[0m\u001b[0;32m     62\u001b[0m \u001b[1;33m\u001b[0m\u001b[0m\n\u001b[0;32m     63\u001b[0m \u001b[1;33m\u001b[0m\u001b[0m\n",
      "\u001b[1;32mF:\\Projets\\MCTSnet\\MCTSnet\\sokoban\\hack.py\u001b[0m in \u001b[0;36mdepth_first_search\u001b[1;34m(room_state, room_structure, box_mapping, box_swaps, last_pull, ttl, actions)\u001b[0m\n\u001b[0;32m     59\u001b[0m \u001b[1;33m\u001b[0m\u001b[0m\n\u001b[0;32m     60\u001b[0m             depth_first_search(room_state_next, room_structure,\n\u001b[1;32m---> 61\u001b[1;33m                                box_mapping_next, box_swaps_next, last_pull, ttl, actions_next)\n\u001b[0m\u001b[0;32m     62\u001b[0m \u001b[1;33m\u001b[0m\u001b[0m\n\u001b[0;32m     63\u001b[0m \u001b[1;33m\u001b[0m\u001b[0m\n",
      "\u001b[1;32mF:\\Projets\\MCTSnet\\MCTSnet\\sokoban\\hack.py\u001b[0m in \u001b[0;36mdepth_first_search\u001b[1;34m(room_state, room_structure, box_mapping, box_swaps, last_pull, ttl, actions)\u001b[0m\n\u001b[0;32m     59\u001b[0m \u001b[1;33m\u001b[0m\u001b[0m\n\u001b[0;32m     60\u001b[0m             depth_first_search(room_state_next, room_structure,\n\u001b[1;32m---> 61\u001b[1;33m                                box_mapping_next, box_swaps_next, last_pull, ttl, actions_next)\n\u001b[0m\u001b[0;32m     62\u001b[0m \u001b[1;33m\u001b[0m\u001b[0m\n\u001b[0;32m     63\u001b[0m \u001b[1;33m\u001b[0m\u001b[0m\n",
      "\u001b[1;32mF:\\Projets\\MCTSnet\\MCTSnet\\sokoban\\hack.py\u001b[0m in \u001b[0;36mdepth_first_search\u001b[1;34m(room_state, room_structure, box_mapping, box_swaps, last_pull, ttl, actions)\u001b[0m\n\u001b[0;32m     59\u001b[0m \u001b[1;33m\u001b[0m\u001b[0m\n\u001b[0;32m     60\u001b[0m             depth_first_search(room_state_next, room_structure,\n\u001b[1;32m---> 61\u001b[1;33m                                box_mapping_next, box_swaps_next, last_pull, ttl, actions_next)\n\u001b[0m\u001b[0;32m     62\u001b[0m \u001b[1;33m\u001b[0m\u001b[0m\n\u001b[0;32m     63\u001b[0m \u001b[1;33m\u001b[0m\u001b[0m\n",
      "\u001b[1;32mF:\\Projets\\MCTSnet\\MCTSnet\\sokoban\\hack.py\u001b[0m in \u001b[0;36mdepth_first_search\u001b[1;34m(room_state, room_structure, box_mapping, box_swaps, last_pull, ttl, actions)\u001b[0m\n\u001b[0;32m     59\u001b[0m \u001b[1;33m\u001b[0m\u001b[0m\n\u001b[0;32m     60\u001b[0m             depth_first_search(room_state_next, room_structure,\n\u001b[1;32m---> 61\u001b[1;33m                                box_mapping_next, box_swaps_next, last_pull, ttl, actions_next)\n\u001b[0m\u001b[0;32m     62\u001b[0m \u001b[1;33m\u001b[0m\u001b[0m\n\u001b[0;32m     63\u001b[0m \u001b[1;33m\u001b[0m\u001b[0m\n",
      "\u001b[1;32mF:\\Projets\\MCTSnet\\MCTSnet\\sokoban\\hack.py\u001b[0m in \u001b[0;36mdepth_first_search\u001b[1;34m(room_state, room_structure, box_mapping, box_swaps, last_pull, ttl, actions)\u001b[0m\n\u001b[0;32m     59\u001b[0m \u001b[1;33m\u001b[0m\u001b[0m\n\u001b[0;32m     60\u001b[0m             depth_first_search(room_state_next, room_structure,\n\u001b[1;32m---> 61\u001b[1;33m                                box_mapping_next, box_swaps_next, last_pull, ttl, actions_next)\n\u001b[0m\u001b[0;32m     62\u001b[0m \u001b[1;33m\u001b[0m\u001b[0m\n\u001b[0;32m     63\u001b[0m \u001b[1;33m\u001b[0m\u001b[0m\n",
      "\u001b[1;32mF:\\Projets\\MCTSnet\\MCTSnet\\sokoban\\hack.py\u001b[0m in \u001b[0;36mdepth_first_search\u001b[1;34m(room_state, room_structure, box_mapping, box_swaps, last_pull, ttl, actions)\u001b[0m\n\u001b[0;32m     59\u001b[0m \u001b[1;33m\u001b[0m\u001b[0m\n\u001b[0;32m     60\u001b[0m             depth_first_search(room_state_next, room_structure,\n\u001b[1;32m---> 61\u001b[1;33m                                box_mapping_next, box_swaps_next, last_pull, ttl, actions_next)\n\u001b[0m\u001b[0;32m     62\u001b[0m \u001b[1;33m\u001b[0m\u001b[0m\n\u001b[0;32m     63\u001b[0m \u001b[1;33m\u001b[0m\u001b[0m\n",
      "\u001b[1;32mF:\\Projets\\MCTSnet\\MCTSnet\\sokoban\\hack.py\u001b[0m in \u001b[0;36mdepth_first_search\u001b[1;34m(room_state, room_structure, box_mapping, box_swaps, last_pull, ttl, actions)\u001b[0m\n\u001b[0;32m     59\u001b[0m \u001b[1;33m\u001b[0m\u001b[0m\n\u001b[0;32m     60\u001b[0m             depth_first_search(room_state_next, room_structure,\n\u001b[1;32m---> 61\u001b[1;33m                                box_mapping_next, box_swaps_next, last_pull, ttl, actions_next)\n\u001b[0m\u001b[0;32m     62\u001b[0m \u001b[1;33m\u001b[0m\u001b[0m\n\u001b[0;32m     63\u001b[0m \u001b[1;33m\u001b[0m\u001b[0m\n",
      "\u001b[1;32mF:\\Projets\\MCTSnet\\MCTSnet\\sokoban\\hack.py\u001b[0m in \u001b[0;36mdepth_first_search\u001b[1;34m(room_state, room_structure, box_mapping, box_swaps, last_pull, ttl, actions)\u001b[0m\n\u001b[0;32m     59\u001b[0m \u001b[1;33m\u001b[0m\u001b[0m\n\u001b[0;32m     60\u001b[0m             depth_first_search(room_state_next, room_structure,\n\u001b[1;32m---> 61\u001b[1;33m                                box_mapping_next, box_swaps_next, last_pull, ttl, actions_next)\n\u001b[0m\u001b[0;32m     62\u001b[0m \u001b[1;33m\u001b[0m\u001b[0m\n\u001b[0;32m     63\u001b[0m \u001b[1;33m\u001b[0m\u001b[0m\n",
      "\u001b[1;32mF:\\Projets\\MCTSnet\\MCTSnet\\sokoban\\hack.py\u001b[0m in \u001b[0;36mdepth_first_search\u001b[1;34m(room_state, room_structure, box_mapping, box_swaps, last_pull, ttl, actions)\u001b[0m\n\u001b[0;32m     59\u001b[0m \u001b[1;33m\u001b[0m\u001b[0m\n\u001b[0;32m     60\u001b[0m             depth_first_search(room_state_next, room_structure,\n\u001b[1;32m---> 61\u001b[1;33m                                box_mapping_next, box_swaps_next, last_pull, ttl, actions_next)\n\u001b[0m\u001b[0;32m     62\u001b[0m \u001b[1;33m\u001b[0m\u001b[0m\n\u001b[0;32m     63\u001b[0m \u001b[1;33m\u001b[0m\u001b[0m\n",
      "\u001b[1;32mF:\\Projets\\MCTSnet\\MCTSnet\\sokoban\\hack.py\u001b[0m in \u001b[0;36mdepth_first_search\u001b[1;34m(room_state, room_structure, box_mapping, box_swaps, last_pull, ttl, actions)\u001b[0m\n\u001b[0;32m     59\u001b[0m \u001b[1;33m\u001b[0m\u001b[0m\n\u001b[0;32m     60\u001b[0m             depth_first_search(room_state_next, room_structure,\n\u001b[1;32m---> 61\u001b[1;33m                                box_mapping_next, box_swaps_next, last_pull, ttl, actions_next)\n\u001b[0m\u001b[0;32m     62\u001b[0m \u001b[1;33m\u001b[0m\u001b[0m\n\u001b[0;32m     63\u001b[0m \u001b[1;33m\u001b[0m\u001b[0m\n",
      "\u001b[1;32mF:\\Projets\\MCTSnet\\MCTSnet\\sokoban\\hack.py\u001b[0m in \u001b[0;36mdepth_first_search\u001b[1;34m(room_state, room_structure, box_mapping, box_swaps, last_pull, ttl, actions)\u001b[0m\n\u001b[0;32m     59\u001b[0m \u001b[1;33m\u001b[0m\u001b[0m\n\u001b[0;32m     60\u001b[0m             depth_first_search(room_state_next, room_structure,\n\u001b[1;32m---> 61\u001b[1;33m                                box_mapping_next, box_swaps_next, last_pull, ttl, actions_next)\n\u001b[0m\u001b[0;32m     62\u001b[0m \u001b[1;33m\u001b[0m\u001b[0m\n\u001b[0;32m     63\u001b[0m \u001b[1;33m\u001b[0m\u001b[0m\n",
      "\u001b[1;32mF:\\Projets\\MCTSnet\\MCTSnet\\sokoban\\hack.py\u001b[0m in \u001b[0;36mdepth_first_search\u001b[1;34m(room_state, room_structure, box_mapping, box_swaps, last_pull, ttl, actions)\u001b[0m\n\u001b[0;32m     59\u001b[0m \u001b[1;33m\u001b[0m\u001b[0m\n\u001b[0;32m     60\u001b[0m             depth_first_search(room_state_next, room_structure,\n\u001b[1;32m---> 61\u001b[1;33m                                box_mapping_next, box_swaps_next, last_pull, ttl, actions_next)\n\u001b[0m\u001b[0;32m     62\u001b[0m \u001b[1;33m\u001b[0m\u001b[0m\n\u001b[0;32m     63\u001b[0m \u001b[1;33m\u001b[0m\u001b[0m\n",
      "\u001b[1;32mF:\\Projets\\MCTSnet\\MCTSnet\\sokoban\\hack.py\u001b[0m in \u001b[0;36mdepth_first_search\u001b[1;34m(room_state, room_structure, box_mapping, box_swaps, last_pull, ttl, actions)\u001b[0m\n\u001b[0;32m     59\u001b[0m \u001b[1;33m\u001b[0m\u001b[0m\n\u001b[0;32m     60\u001b[0m             depth_first_search(room_state_next, room_structure,\n\u001b[1;32m---> 61\u001b[1;33m                                box_mapping_next, box_swaps_next, last_pull, ttl, actions_next)\n\u001b[0m\u001b[0;32m     62\u001b[0m \u001b[1;33m\u001b[0m\u001b[0m\n\u001b[0;32m     63\u001b[0m \u001b[1;33m\u001b[0m\u001b[0m\n",
      "\u001b[1;32mF:\\Projets\\MCTSnet\\MCTSnet\\sokoban\\hack.py\u001b[0m in \u001b[0;36mdepth_first_search\u001b[1;34m(room_state, room_structure, box_mapping, box_swaps, last_pull, ttl, actions)\u001b[0m\n\u001b[0;32m     59\u001b[0m \u001b[1;33m\u001b[0m\u001b[0m\n\u001b[0;32m     60\u001b[0m             depth_first_search(room_state_next, room_structure,\n\u001b[1;32m---> 61\u001b[1;33m                                box_mapping_next, box_swaps_next, last_pull, ttl, actions_next)\n\u001b[0m\u001b[0;32m     62\u001b[0m \u001b[1;33m\u001b[0m\u001b[0m\n\u001b[0;32m     63\u001b[0m \u001b[1;33m\u001b[0m\u001b[0m\n",
      "\u001b[1;32mF:\\Projets\\MCTSnet\\MCTSnet\\sokoban\\hack.py\u001b[0m in \u001b[0;36mdepth_first_search\u001b[1;34m(room_state, room_structure, box_mapping, box_swaps, last_pull, ttl, actions)\u001b[0m\n\u001b[0;32m     59\u001b[0m \u001b[1;33m\u001b[0m\u001b[0m\n\u001b[0;32m     60\u001b[0m             depth_first_search(room_state_next, room_structure,\n\u001b[1;32m---> 61\u001b[1;33m                                box_mapping_next, box_swaps_next, last_pull, ttl, actions_next)\n\u001b[0m\u001b[0;32m     62\u001b[0m \u001b[1;33m\u001b[0m\u001b[0m\n\u001b[0;32m     63\u001b[0m \u001b[1;33m\u001b[0m\u001b[0m\n",
      "\u001b[1;32mF:\\Projets\\MCTSnet\\MCTSnet\\sokoban\\hack.py\u001b[0m in \u001b[0;36mdepth_first_search\u001b[1;34m(room_state, room_structure, box_mapping, box_swaps, last_pull, ttl, actions)\u001b[0m\n\u001b[0;32m     59\u001b[0m \u001b[1;33m\u001b[0m\u001b[0m\n\u001b[0;32m     60\u001b[0m             depth_first_search(room_state_next, room_structure,\n\u001b[1;32m---> 61\u001b[1;33m                                box_mapping_next, box_swaps_next, last_pull, ttl, actions_next)\n\u001b[0m\u001b[0;32m     62\u001b[0m \u001b[1;33m\u001b[0m\u001b[0m\n\u001b[0;32m     63\u001b[0m \u001b[1;33m\u001b[0m\u001b[0m\n",
      "\u001b[1;32mF:\\Projets\\MCTSnet\\MCTSnet\\sokoban\\hack.py\u001b[0m in \u001b[0;36mdepth_first_search\u001b[1;34m(room_state, room_structure, box_mapping, box_swaps, last_pull, ttl, actions)\u001b[0m\n\u001b[0;32m     59\u001b[0m \u001b[1;33m\u001b[0m\u001b[0m\n\u001b[0;32m     60\u001b[0m             depth_first_search(room_state_next, room_structure,\n\u001b[1;32m---> 61\u001b[1;33m                                box_mapping_next, box_swaps_next, last_pull, ttl, actions_next)\n\u001b[0m\u001b[0;32m     62\u001b[0m \u001b[1;33m\u001b[0m\u001b[0m\n\u001b[0;32m     63\u001b[0m \u001b[1;33m\u001b[0m\u001b[0m\n",
      "\u001b[1;32mF:\\Projets\\MCTSnet\\MCTSnet\\sokoban\\hack.py\u001b[0m in \u001b[0;36mdepth_first_search\u001b[1;34m(room_state, room_structure, box_mapping, box_swaps, last_pull, ttl, actions)\u001b[0m\n\u001b[0;32m     59\u001b[0m \u001b[1;33m\u001b[0m\u001b[0m\n\u001b[0;32m     60\u001b[0m             depth_first_search(room_state_next, room_structure,\n\u001b[1;32m---> 61\u001b[1;33m                                box_mapping_next, box_swaps_next, last_pull, ttl, actions_next)\n\u001b[0m\u001b[0;32m     62\u001b[0m \u001b[1;33m\u001b[0m\u001b[0m\n\u001b[0;32m     63\u001b[0m \u001b[1;33m\u001b[0m\u001b[0m\n",
      "\u001b[1;32mF:\\Projets\\MCTSnet\\MCTSnet\\sokoban\\hack.py\u001b[0m in \u001b[0;36mdepth_first_search\u001b[1;34m(room_state, room_structure, box_mapping, box_swaps, last_pull, ttl, actions)\u001b[0m\n\u001b[0;32m     59\u001b[0m \u001b[1;33m\u001b[0m\u001b[0m\n\u001b[0;32m     60\u001b[0m             depth_first_search(room_state_next, room_structure,\n\u001b[1;32m---> 61\u001b[1;33m                                box_mapping_next, box_swaps_next, last_pull, ttl, actions_next)\n\u001b[0m\u001b[0;32m     62\u001b[0m \u001b[1;33m\u001b[0m\u001b[0m\n\u001b[0;32m     63\u001b[0m \u001b[1;33m\u001b[0m\u001b[0m\n",
      "\u001b[1;32mF:\\Projets\\MCTSnet\\MCTSnet\\sokoban\\hack.py\u001b[0m in \u001b[0;36mdepth_first_search\u001b[1;34m(room_state, room_structure, box_mapping, box_swaps, last_pull, ttl, actions)\u001b[0m\n\u001b[0;32m     59\u001b[0m \u001b[1;33m\u001b[0m\u001b[0m\n\u001b[0;32m     60\u001b[0m             depth_first_search(room_state_next, room_structure,\n\u001b[1;32m---> 61\u001b[1;33m                                box_mapping_next, box_swaps_next, last_pull, ttl, actions_next)\n\u001b[0m\u001b[0;32m     62\u001b[0m \u001b[1;33m\u001b[0m\u001b[0m\n\u001b[0;32m     63\u001b[0m \u001b[1;33m\u001b[0m\u001b[0m\n",
      "\u001b[1;32mF:\\Projets\\MCTSnet\\MCTSnet\\sokoban\\hack.py\u001b[0m in \u001b[0;36mdepth_first_search\u001b[1;34m(room_state, room_structure, box_mapping, box_swaps, last_pull, ttl, actions)\u001b[0m\n\u001b[0;32m     59\u001b[0m \u001b[1;33m\u001b[0m\u001b[0m\n\u001b[0;32m     60\u001b[0m             depth_first_search(room_state_next, room_structure,\n\u001b[1;32m---> 61\u001b[1;33m                                box_mapping_next, box_swaps_next, last_pull, ttl, actions_next)\n\u001b[0m\u001b[0;32m     62\u001b[0m \u001b[1;33m\u001b[0m\u001b[0m\n\u001b[0;32m     63\u001b[0m \u001b[1;33m\u001b[0m\u001b[0m\n",
      "\u001b[1;32mF:\\Projets\\MCTSnet\\MCTSnet\\sokoban\\hack.py\u001b[0m in \u001b[0;36mdepth_first_search\u001b[1;34m(room_state, room_structure, box_mapping, box_swaps, last_pull, ttl, actions)\u001b[0m\n\u001b[0;32m     59\u001b[0m \u001b[1;33m\u001b[0m\u001b[0m\n\u001b[0;32m     60\u001b[0m             depth_first_search(room_state_next, room_structure,\n\u001b[1;32m---> 61\u001b[1;33m                                box_mapping_next, box_swaps_next, last_pull, ttl, actions_next)\n\u001b[0m\u001b[0;32m     62\u001b[0m \u001b[1;33m\u001b[0m\u001b[0m\n\u001b[0;32m     63\u001b[0m \u001b[1;33m\u001b[0m\u001b[0m\n",
      "\u001b[1;32mF:\\Projets\\MCTSnet\\MCTSnet\\sokoban\\hack.py\u001b[0m in \u001b[0;36mdepth_first_search\u001b[1;34m(room_state, room_structure, box_mapping, box_swaps, last_pull, ttl, actions)\u001b[0m\n\u001b[0;32m     59\u001b[0m \u001b[1;33m\u001b[0m\u001b[0m\n\u001b[0;32m     60\u001b[0m             depth_first_search(room_state_next, room_structure,\n\u001b[1;32m---> 61\u001b[1;33m                                box_mapping_next, box_swaps_next, last_pull, ttl, actions_next)\n\u001b[0m\u001b[0;32m     62\u001b[0m \u001b[1;33m\u001b[0m\u001b[0m\n\u001b[0;32m     63\u001b[0m \u001b[1;33m\u001b[0m\u001b[0m\n",
      "\u001b[1;32mF:\\Projets\\MCTSnet\\MCTSnet\\sokoban\\hack.py\u001b[0m in \u001b[0;36mdepth_first_search\u001b[1;34m(room_state, room_structure, box_mapping, box_swaps, last_pull, ttl, actions)\u001b[0m\n\u001b[0;32m     59\u001b[0m \u001b[1;33m\u001b[0m\u001b[0m\n\u001b[0;32m     60\u001b[0m             depth_first_search(room_state_next, room_structure,\n\u001b[1;32m---> 61\u001b[1;33m                                box_mapping_next, box_swaps_next, last_pull, ttl, actions_next)\n\u001b[0m\u001b[0;32m     62\u001b[0m \u001b[1;33m\u001b[0m\u001b[0m\n\u001b[0;32m     63\u001b[0m \u001b[1;33m\u001b[0m\u001b[0m\n",
      "\u001b[1;32mF:\\Projets\\MCTSnet\\MCTSnet\\sokoban\\hack.py\u001b[0m in \u001b[0;36mdepth_first_search\u001b[1;34m(room_state, room_structure, box_mapping, box_swaps, last_pull, ttl, actions)\u001b[0m\n\u001b[0;32m     59\u001b[0m \u001b[1;33m\u001b[0m\u001b[0m\n\u001b[0;32m     60\u001b[0m             depth_first_search(room_state_next, room_structure,\n\u001b[1;32m---> 61\u001b[1;33m                                box_mapping_next, box_swaps_next, last_pull, ttl, actions_next)\n\u001b[0m\u001b[0;32m     62\u001b[0m \u001b[1;33m\u001b[0m\u001b[0m\n\u001b[0;32m     63\u001b[0m \u001b[1;33m\u001b[0m\u001b[0m\n",
      "\u001b[1;32mF:\\Projets\\MCTSnet\\MCTSnet\\sokoban\\hack.py\u001b[0m in \u001b[0;36mdepth_first_search\u001b[1;34m(room_state, room_structure, box_mapping, box_swaps, last_pull, ttl, actions)\u001b[0m\n\u001b[0;32m     59\u001b[0m \u001b[1;33m\u001b[0m\u001b[0m\n\u001b[0;32m     60\u001b[0m             depth_first_search(room_state_next, room_structure,\n\u001b[1;32m---> 61\u001b[1;33m                                box_mapping_next, box_swaps_next, last_pull, ttl, actions_next)\n\u001b[0m\u001b[0;32m     62\u001b[0m \u001b[1;33m\u001b[0m\u001b[0m\n\u001b[0;32m     63\u001b[0m \u001b[1;33m\u001b[0m\u001b[0m\n",
      "\u001b[1;32mF:\\Projets\\MCTSnet\\MCTSnet\\sokoban\\hack.py\u001b[0m in \u001b[0;36mdepth_first_search\u001b[1;34m(room_state, room_structure, box_mapping, box_swaps, last_pull, ttl, actions)\u001b[0m\n\u001b[0;32m     59\u001b[0m \u001b[1;33m\u001b[0m\u001b[0m\n\u001b[0;32m     60\u001b[0m             depth_first_search(room_state_next, room_structure,\n\u001b[1;32m---> 61\u001b[1;33m                                box_mapping_next, box_swaps_next, last_pull, ttl, actions_next)\n\u001b[0m\u001b[0;32m     62\u001b[0m \u001b[1;33m\u001b[0m\u001b[0m\n\u001b[0;32m     63\u001b[0m \u001b[1;33m\u001b[0m\u001b[0m\n",
      "\u001b[1;32mF:\\Projets\\MCTSnet\\MCTSnet\\sokoban\\hack.py\u001b[0m in \u001b[0;36mdepth_first_search\u001b[1;34m(room_state, room_structure, box_mapping, box_swaps, last_pull, ttl, actions)\u001b[0m\n\u001b[0;32m     59\u001b[0m \u001b[1;33m\u001b[0m\u001b[0m\n\u001b[0;32m     60\u001b[0m             depth_first_search(room_state_next, room_structure,\n\u001b[1;32m---> 61\u001b[1;33m                                box_mapping_next, box_swaps_next, last_pull, ttl, actions_next)\n\u001b[0m\u001b[0;32m     62\u001b[0m \u001b[1;33m\u001b[0m\u001b[0m\n\u001b[0;32m     63\u001b[0m \u001b[1;33m\u001b[0m\u001b[0m\n",
      "\u001b[1;32mF:\\Projets\\MCTSnet\\MCTSnet\\sokoban\\hack.py\u001b[0m in \u001b[0;36mdepth_first_search\u001b[1;34m(room_state, room_structure, box_mapping, box_swaps, last_pull, ttl, actions)\u001b[0m\n\u001b[0;32m     59\u001b[0m \u001b[1;33m\u001b[0m\u001b[0m\n\u001b[0;32m     60\u001b[0m             depth_first_search(room_state_next, room_structure,\n\u001b[1;32m---> 61\u001b[1;33m                                box_mapping_next, box_swaps_next, last_pull, ttl, actions_next)\n\u001b[0m\u001b[0;32m     62\u001b[0m \u001b[1;33m\u001b[0m\u001b[0m\n\u001b[0;32m     63\u001b[0m \u001b[1;33m\u001b[0m\u001b[0m\n",
      "\u001b[1;32mF:\\Projets\\MCTSnet\\MCTSnet\\sokoban\\hack.py\u001b[0m in \u001b[0;36mdepth_first_search\u001b[1;34m(room_state, room_structure, box_mapping, box_swaps, last_pull, ttl, actions)\u001b[0m\n\u001b[0;32m     59\u001b[0m \u001b[1;33m\u001b[0m\u001b[0m\n\u001b[0;32m     60\u001b[0m             depth_first_search(room_state_next, room_structure,\n\u001b[1;32m---> 61\u001b[1;33m                                box_mapping_next, box_swaps_next, last_pull, ttl, actions_next)\n\u001b[0m\u001b[0;32m     62\u001b[0m \u001b[1;33m\u001b[0m\u001b[0m\n\u001b[0;32m     63\u001b[0m \u001b[1;33m\u001b[0m\u001b[0m\n",
      "\u001b[1;32mF:\\Projets\\MCTSnet\\MCTSnet\\sokoban\\hack.py\u001b[0m in \u001b[0;36mdepth_first_search\u001b[1;34m(room_state, room_structure, box_mapping, box_swaps, last_pull, ttl, actions)\u001b[0m\n\u001b[0;32m     59\u001b[0m \u001b[1;33m\u001b[0m\u001b[0m\n\u001b[0;32m     60\u001b[0m             depth_first_search(room_state_next, room_structure,\n\u001b[1;32m---> 61\u001b[1;33m                                box_mapping_next, box_swaps_next, last_pull, ttl, actions_next)\n\u001b[0m\u001b[0;32m     62\u001b[0m \u001b[1;33m\u001b[0m\u001b[0m\n\u001b[0;32m     63\u001b[0m \u001b[1;33m\u001b[0m\u001b[0m\n",
      "\u001b[1;32mF:\\Projets\\MCTSnet\\MCTSnet\\sokoban\\hack.py\u001b[0m in \u001b[0;36mdepth_first_search\u001b[1;34m(room_state, room_structure, box_mapping, box_swaps, last_pull, ttl, actions)\u001b[0m\n\u001b[0;32m     59\u001b[0m \u001b[1;33m\u001b[0m\u001b[0m\n\u001b[0;32m     60\u001b[0m             depth_first_search(room_state_next, room_structure,\n\u001b[1;32m---> 61\u001b[1;33m                                box_mapping_next, box_swaps_next, last_pull, ttl, actions_next)\n\u001b[0m\u001b[0;32m     62\u001b[0m \u001b[1;33m\u001b[0m\u001b[0m\n\u001b[0;32m     63\u001b[0m \u001b[1;33m\u001b[0m\u001b[0m\n",
      "\u001b[1;32mF:\\Projets\\MCTSnet\\MCTSnet\\sokoban\\hack.py\u001b[0m in \u001b[0;36mdepth_first_search\u001b[1;34m(room_state, room_structure, box_mapping, box_swaps, last_pull, ttl, actions)\u001b[0m\n\u001b[0;32m     59\u001b[0m \u001b[1;33m\u001b[0m\u001b[0m\n\u001b[0;32m     60\u001b[0m             depth_first_search(room_state_next, room_structure,\n\u001b[1;32m---> 61\u001b[1;33m                                box_mapping_next, box_swaps_next, last_pull, ttl, actions_next)\n\u001b[0m\u001b[0;32m     62\u001b[0m \u001b[1;33m\u001b[0m\u001b[0m\n\u001b[0;32m     63\u001b[0m \u001b[1;33m\u001b[0m\u001b[0m\n",
      "\u001b[1;32mF:\\Projets\\MCTSnet\\MCTSnet\\sokoban\\hack.py\u001b[0m in \u001b[0;36mdepth_first_search\u001b[1;34m(room_state, room_structure, box_mapping, box_swaps, last_pull, ttl, actions)\u001b[0m\n\u001b[0;32m     59\u001b[0m \u001b[1;33m\u001b[0m\u001b[0m\n\u001b[0;32m     60\u001b[0m             depth_first_search(room_state_next, room_structure,\n\u001b[1;32m---> 61\u001b[1;33m                                box_mapping_next, box_swaps_next, last_pull, ttl, actions_next)\n\u001b[0m\u001b[0;32m     62\u001b[0m \u001b[1;33m\u001b[0m\u001b[0m\n\u001b[0;32m     63\u001b[0m \u001b[1;33m\u001b[0m\u001b[0m\n",
      "\u001b[1;32mF:\\Projets\\MCTSnet\\MCTSnet\\sokoban\\hack.py\u001b[0m in \u001b[0;36mdepth_first_search\u001b[1;34m(room_state, room_structure, box_mapping, box_swaps, last_pull, ttl, actions)\u001b[0m\n\u001b[0;32m     59\u001b[0m \u001b[1;33m\u001b[0m\u001b[0m\n\u001b[0;32m     60\u001b[0m             depth_first_search(room_state_next, room_structure,\n\u001b[1;32m---> 61\u001b[1;33m                                box_mapping_next, box_swaps_next, last_pull, ttl, actions_next)\n\u001b[0m\u001b[0;32m     62\u001b[0m \u001b[1;33m\u001b[0m\u001b[0m\n\u001b[0;32m     63\u001b[0m \u001b[1;33m\u001b[0m\u001b[0m\n",
      "\u001b[1;32mF:\\Projets\\MCTSnet\\MCTSnet\\sokoban\\hack.py\u001b[0m in \u001b[0;36mdepth_first_search\u001b[1;34m(room_state, room_structure, box_mapping, box_swaps, last_pull, ttl, actions)\u001b[0m\n\u001b[0;32m     59\u001b[0m \u001b[1;33m\u001b[0m\u001b[0m\n\u001b[0;32m     60\u001b[0m             depth_first_search(room_state_next, room_structure,\n\u001b[1;32m---> 61\u001b[1;33m                                box_mapping_next, box_swaps_next, last_pull, ttl, actions_next)\n\u001b[0m\u001b[0;32m     62\u001b[0m \u001b[1;33m\u001b[0m\u001b[0m\n\u001b[0;32m     63\u001b[0m \u001b[1;33m\u001b[0m\u001b[0m\n",
      "\u001b[1;32mF:\\Projets\\MCTSnet\\MCTSnet\\sokoban\\hack.py\u001b[0m in \u001b[0;36mdepth_first_search\u001b[1;34m(room_state, room_structure, box_mapping, box_swaps, last_pull, ttl, actions)\u001b[0m\n\u001b[0;32m     59\u001b[0m \u001b[1;33m\u001b[0m\u001b[0m\n\u001b[0;32m     60\u001b[0m             depth_first_search(room_state_next, room_structure,\n\u001b[1;32m---> 61\u001b[1;33m                                box_mapping_next, box_swaps_next, last_pull, ttl, actions_next)\n\u001b[0m\u001b[0;32m     62\u001b[0m \u001b[1;33m\u001b[0m\u001b[0m\n\u001b[0;32m     63\u001b[0m \u001b[1;33m\u001b[0m\u001b[0m\n",
      "\u001b[1;32mF:\\Projets\\MCTSnet\\MCTSnet\\sokoban\\hack.py\u001b[0m in \u001b[0;36mdepth_first_search\u001b[1;34m(room_state, room_structure, box_mapping, box_swaps, last_pull, ttl, actions)\u001b[0m\n\u001b[0;32m     59\u001b[0m \u001b[1;33m\u001b[0m\u001b[0m\n\u001b[0;32m     60\u001b[0m             depth_first_search(room_state_next, room_structure,\n\u001b[1;32m---> 61\u001b[1;33m                                box_mapping_next, box_swaps_next, last_pull, ttl, actions_next)\n\u001b[0m\u001b[0;32m     62\u001b[0m \u001b[1;33m\u001b[0m\u001b[0m\n\u001b[0;32m     63\u001b[0m \u001b[1;33m\u001b[0m\u001b[0m\n",
      "\u001b[1;32mF:\\Projets\\MCTSnet\\MCTSnet\\sokoban\\hack.py\u001b[0m in \u001b[0;36mdepth_first_search\u001b[1;34m(room_state, room_structure, box_mapping, box_swaps, last_pull, ttl, actions)\u001b[0m\n\u001b[0;32m     59\u001b[0m \u001b[1;33m\u001b[0m\u001b[0m\n\u001b[0;32m     60\u001b[0m             depth_first_search(room_state_next, room_structure,\n\u001b[1;32m---> 61\u001b[1;33m                                box_mapping_next, box_swaps_next, last_pull, ttl, actions_next)\n\u001b[0m\u001b[0;32m     62\u001b[0m \u001b[1;33m\u001b[0m\u001b[0m\n\u001b[0;32m     63\u001b[0m \u001b[1;33m\u001b[0m\u001b[0m\n",
      "\u001b[1;32mF:\\Projets\\MCTSnet\\MCTSnet\\sokoban\\hack.py\u001b[0m in \u001b[0;36mdepth_first_search\u001b[1;34m(room_state, room_structure, box_mapping, box_swaps, last_pull, ttl, actions)\u001b[0m\n\u001b[0;32m     59\u001b[0m \u001b[1;33m\u001b[0m\u001b[0m\n\u001b[0;32m     60\u001b[0m             depth_first_search(room_state_next, room_structure,\n\u001b[1;32m---> 61\u001b[1;33m                                box_mapping_next, box_swaps_next, last_pull, ttl, actions_next)\n\u001b[0m\u001b[0;32m     62\u001b[0m \u001b[1;33m\u001b[0m\u001b[0m\n\u001b[0;32m     63\u001b[0m \u001b[1;33m\u001b[0m\u001b[0m\n",
      "\u001b[1;32mF:\\Projets\\MCTSnet\\MCTSnet\\sokoban\\hack.py\u001b[0m in \u001b[0;36mdepth_first_search\u001b[1;34m(room_state, room_structure, box_mapping, box_swaps, last_pull, ttl, actions)\u001b[0m\n\u001b[0;32m     59\u001b[0m \u001b[1;33m\u001b[0m\u001b[0m\n\u001b[0;32m     60\u001b[0m             depth_first_search(room_state_next, room_structure,\n\u001b[1;32m---> 61\u001b[1;33m                                box_mapping_next, box_swaps_next, last_pull, ttl, actions_next)\n\u001b[0m\u001b[0;32m     62\u001b[0m \u001b[1;33m\u001b[0m\u001b[0m\n\u001b[0;32m     63\u001b[0m \u001b[1;33m\u001b[0m\u001b[0m\n",
      "\u001b[1;32mF:\\Projets\\MCTSnet\\MCTSnet\\sokoban\\hack.py\u001b[0m in \u001b[0;36mdepth_first_search\u001b[1;34m(room_state, room_structure, box_mapping, box_swaps, last_pull, ttl, actions)\u001b[0m\n\u001b[0;32m     59\u001b[0m \u001b[1;33m\u001b[0m\u001b[0m\n\u001b[0;32m     60\u001b[0m             depth_first_search(room_state_next, room_structure,\n\u001b[1;32m---> 61\u001b[1;33m                                box_mapping_next, box_swaps_next, last_pull, ttl, actions_next)\n\u001b[0m\u001b[0;32m     62\u001b[0m \u001b[1;33m\u001b[0m\u001b[0m\n\u001b[0;32m     63\u001b[0m \u001b[1;33m\u001b[0m\u001b[0m\n",
      "\u001b[1;32mF:\\Projets\\MCTSnet\\MCTSnet\\sokoban\\hack.py\u001b[0m in \u001b[0;36mdepth_first_search\u001b[1;34m(room_state, room_structure, box_mapping, box_swaps, last_pull, ttl, actions)\u001b[0m\n\u001b[0;32m     59\u001b[0m \u001b[1;33m\u001b[0m\u001b[0m\n\u001b[0;32m     60\u001b[0m             depth_first_search(room_state_next, room_structure,\n\u001b[1;32m---> 61\u001b[1;33m                                box_mapping_next, box_swaps_next, last_pull, ttl, actions_next)\n\u001b[0m\u001b[0;32m     62\u001b[0m \u001b[1;33m\u001b[0m\u001b[0m\n\u001b[0;32m     63\u001b[0m \u001b[1;33m\u001b[0m\u001b[0m\n",
      "\u001b[1;32mF:\\Projets\\MCTSnet\\MCTSnet\\sokoban\\hack.py\u001b[0m in \u001b[0;36mdepth_first_search\u001b[1;34m(room_state, room_structure, box_mapping, box_swaps, last_pull, ttl, actions)\u001b[0m\n\u001b[0;32m     59\u001b[0m \u001b[1;33m\u001b[0m\u001b[0m\n\u001b[0;32m     60\u001b[0m             depth_first_search(room_state_next, room_structure,\n\u001b[1;32m---> 61\u001b[1;33m                                box_mapping_next, box_swaps_next, last_pull, ttl, actions_next)\n\u001b[0m\u001b[0;32m     62\u001b[0m \u001b[1;33m\u001b[0m\u001b[0m\n\u001b[0;32m     63\u001b[0m \u001b[1;33m\u001b[0m\u001b[0m\n",
      "\u001b[1;32mF:\\Projets\\MCTSnet\\MCTSnet\\sokoban\\hack.py\u001b[0m in \u001b[0;36mdepth_first_search\u001b[1;34m(room_state, room_structure, box_mapping, box_swaps, last_pull, ttl, actions)\u001b[0m\n\u001b[0;32m     59\u001b[0m \u001b[1;33m\u001b[0m\u001b[0m\n\u001b[0;32m     60\u001b[0m             depth_first_search(room_state_next, room_structure,\n\u001b[1;32m---> 61\u001b[1;33m                                box_mapping_next, box_swaps_next, last_pull, ttl, actions_next)\n\u001b[0m\u001b[0;32m     62\u001b[0m \u001b[1;33m\u001b[0m\u001b[0m\n\u001b[0;32m     63\u001b[0m \u001b[1;33m\u001b[0m\u001b[0m\n",
      "\u001b[1;32mF:\\Projets\\MCTSnet\\MCTSnet\\sokoban\\hack.py\u001b[0m in \u001b[0;36mdepth_first_search\u001b[1;34m(room_state, room_structure, box_mapping, box_swaps, last_pull, ttl, actions)\u001b[0m\n\u001b[0;32m     59\u001b[0m \u001b[1;33m\u001b[0m\u001b[0m\n\u001b[0;32m     60\u001b[0m             depth_first_search(room_state_next, room_structure,\n\u001b[1;32m---> 61\u001b[1;33m                                box_mapping_next, box_swaps_next, last_pull, ttl, actions_next)\n\u001b[0m\u001b[0;32m     62\u001b[0m \u001b[1;33m\u001b[0m\u001b[0m\n\u001b[0;32m     63\u001b[0m \u001b[1;33m\u001b[0m\u001b[0m\n",
      "\u001b[1;32mF:\\Projets\\MCTSnet\\MCTSnet\\sokoban\\hack.py\u001b[0m in \u001b[0;36mdepth_first_search\u001b[1;34m(room_state, room_structure, box_mapping, box_swaps, last_pull, ttl, actions)\u001b[0m\n\u001b[0;32m     59\u001b[0m \u001b[1;33m\u001b[0m\u001b[0m\n\u001b[0;32m     60\u001b[0m             depth_first_search(room_state_next, room_structure,\n\u001b[1;32m---> 61\u001b[1;33m                                box_mapping_next, box_swaps_next, last_pull, ttl, actions_next)\n\u001b[0m\u001b[0;32m     62\u001b[0m \u001b[1;33m\u001b[0m\u001b[0m\n\u001b[0;32m     63\u001b[0m \u001b[1;33m\u001b[0m\u001b[0m\n",
      "\u001b[1;32mF:\\Projets\\MCTSnet\\MCTSnet\\sokoban\\hack.py\u001b[0m in \u001b[0;36mdepth_first_search\u001b[1;34m(room_state, room_structure, box_mapping, box_swaps, last_pull, ttl, actions)\u001b[0m\n\u001b[0;32m     59\u001b[0m \u001b[1;33m\u001b[0m\u001b[0m\n\u001b[0;32m     60\u001b[0m             depth_first_search(room_state_next, room_structure,\n\u001b[1;32m---> 61\u001b[1;33m                                box_mapping_next, box_swaps_next, last_pull, ttl, actions_next)\n\u001b[0m\u001b[0;32m     62\u001b[0m \u001b[1;33m\u001b[0m\u001b[0m\n\u001b[0;32m     63\u001b[0m \u001b[1;33m\u001b[0m\u001b[0m\n",
      "\u001b[1;32mF:\\Projets\\MCTSnet\\MCTSnet\\sokoban\\hack.py\u001b[0m in \u001b[0;36mdepth_first_search\u001b[1;34m(room_state, room_structure, box_mapping, box_swaps, last_pull, ttl, actions)\u001b[0m\n\u001b[0;32m     59\u001b[0m \u001b[1;33m\u001b[0m\u001b[0m\n\u001b[0;32m     60\u001b[0m             depth_first_search(room_state_next, room_structure,\n\u001b[1;32m---> 61\u001b[1;33m                                box_mapping_next, box_swaps_next, last_pull, ttl, actions_next)\n\u001b[0m\u001b[0;32m     62\u001b[0m \u001b[1;33m\u001b[0m\u001b[0m\n\u001b[0;32m     63\u001b[0m \u001b[1;33m\u001b[0m\u001b[0m\n",
      "\u001b[1;32mF:\\Projets\\MCTSnet\\MCTSnet\\sokoban\\hack.py\u001b[0m in \u001b[0;36mdepth_first_search\u001b[1;34m(room_state, room_structure, box_mapping, box_swaps, last_pull, ttl, actions)\u001b[0m\n\u001b[0;32m     59\u001b[0m \u001b[1;33m\u001b[0m\u001b[0m\n\u001b[0;32m     60\u001b[0m             depth_first_search(room_state_next, room_structure,\n\u001b[1;32m---> 61\u001b[1;33m                                box_mapping_next, box_swaps_next, last_pull, ttl, actions_next)\n\u001b[0m\u001b[0;32m     62\u001b[0m \u001b[1;33m\u001b[0m\u001b[0m\n\u001b[0;32m     63\u001b[0m \u001b[1;33m\u001b[0m\u001b[0m\n",
      "\u001b[1;32mF:\\Projets\\MCTSnet\\MCTSnet\\sokoban\\hack.py\u001b[0m in \u001b[0;36mdepth_first_search\u001b[1;34m(room_state, room_structure, box_mapping, box_swaps, last_pull, ttl, actions)\u001b[0m\n\u001b[0;32m     59\u001b[0m \u001b[1;33m\u001b[0m\u001b[0m\n\u001b[0;32m     60\u001b[0m             depth_first_search(room_state_next, room_structure,\n\u001b[1;32m---> 61\u001b[1;33m                                box_mapping_next, box_swaps_next, last_pull, ttl, actions_next)\n\u001b[0m\u001b[0;32m     62\u001b[0m \u001b[1;33m\u001b[0m\u001b[0m\n\u001b[0;32m     63\u001b[0m \u001b[1;33m\u001b[0m\u001b[0m\n",
      "\u001b[1;32mF:\\Projets\\MCTSnet\\MCTSnet\\sokoban\\hack.py\u001b[0m in \u001b[0;36mdepth_first_search\u001b[1;34m(room_state, room_structure, box_mapping, box_swaps, last_pull, ttl, actions)\u001b[0m\n\u001b[0;32m     59\u001b[0m \u001b[1;33m\u001b[0m\u001b[0m\n\u001b[0;32m     60\u001b[0m             depth_first_search(room_state_next, room_structure,\n\u001b[1;32m---> 61\u001b[1;33m                                box_mapping_next, box_swaps_next, last_pull, ttl, actions_next)\n\u001b[0m\u001b[0;32m     62\u001b[0m \u001b[1;33m\u001b[0m\u001b[0m\n\u001b[0;32m     63\u001b[0m \u001b[1;33m\u001b[0m\u001b[0m\n",
      "\u001b[1;32mF:\\Projets\\MCTSnet\\MCTSnet\\sokoban\\hack.py\u001b[0m in \u001b[0;36mdepth_first_search\u001b[1;34m(room_state, room_structure, box_mapping, box_swaps, last_pull, ttl, actions)\u001b[0m\n\u001b[0;32m     59\u001b[0m \u001b[1;33m\u001b[0m\u001b[0m\n\u001b[0;32m     60\u001b[0m             depth_first_search(room_state_next, room_structure,\n\u001b[1;32m---> 61\u001b[1;33m                                box_mapping_next, box_swaps_next, last_pull, ttl, actions_next)\n\u001b[0m\u001b[0;32m     62\u001b[0m \u001b[1;33m\u001b[0m\u001b[0m\n\u001b[0;32m     63\u001b[0m \u001b[1;33m\u001b[0m\u001b[0m\n",
      "\u001b[1;32mF:\\Projets\\MCTSnet\\MCTSnet\\sokoban\\hack.py\u001b[0m in \u001b[0;36mdepth_first_search\u001b[1;34m(room_state, room_structure, box_mapping, box_swaps, last_pull, ttl, actions)\u001b[0m\n\u001b[0;32m     59\u001b[0m \u001b[1;33m\u001b[0m\u001b[0m\n\u001b[0;32m     60\u001b[0m             depth_first_search(room_state_next, room_structure,\n\u001b[1;32m---> 61\u001b[1;33m                                box_mapping_next, box_swaps_next, last_pull, ttl, actions_next)\n\u001b[0m\u001b[0;32m     62\u001b[0m \u001b[1;33m\u001b[0m\u001b[0m\n\u001b[0;32m     63\u001b[0m \u001b[1;33m\u001b[0m\u001b[0m\n",
      "\u001b[1;32mF:\\Projets\\MCTSnet\\MCTSnet\\sokoban\\hack.py\u001b[0m in \u001b[0;36mdepth_first_search\u001b[1;34m(room_state, room_structure, box_mapping, box_swaps, last_pull, ttl, actions)\u001b[0m\n\u001b[0;32m     59\u001b[0m \u001b[1;33m\u001b[0m\u001b[0m\n\u001b[0;32m     60\u001b[0m             depth_first_search(room_state_next, room_structure,\n\u001b[1;32m---> 61\u001b[1;33m                                box_mapping_next, box_swaps_next, last_pull, ttl, actions_next)\n\u001b[0m\u001b[0;32m     62\u001b[0m \u001b[1;33m\u001b[0m\u001b[0m\n\u001b[0;32m     63\u001b[0m \u001b[1;33m\u001b[0m\u001b[0m\n",
      "\u001b[1;32mF:\\Projets\\MCTSnet\\MCTSnet\\sokoban\\hack.py\u001b[0m in \u001b[0;36mdepth_first_search\u001b[1;34m(room_state, room_structure, box_mapping, box_swaps, last_pull, ttl, actions)\u001b[0m\n\u001b[0;32m     59\u001b[0m \u001b[1;33m\u001b[0m\u001b[0m\n\u001b[0;32m     60\u001b[0m             depth_first_search(room_state_next, room_structure,\n\u001b[1;32m---> 61\u001b[1;33m                                box_mapping_next, box_swaps_next, last_pull, ttl, actions_next)\n\u001b[0m\u001b[0;32m     62\u001b[0m \u001b[1;33m\u001b[0m\u001b[0m\n\u001b[0;32m     63\u001b[0m \u001b[1;33m\u001b[0m\u001b[0m\n",
      "\u001b[1;32mF:\\Projets\\MCTSnet\\MCTSnet\\sokoban\\hack.py\u001b[0m in \u001b[0;36mdepth_first_search\u001b[1;34m(room_state, room_structure, box_mapping, box_swaps, last_pull, ttl, actions)\u001b[0m\n\u001b[0;32m     59\u001b[0m \u001b[1;33m\u001b[0m\u001b[0m\n\u001b[0;32m     60\u001b[0m             depth_first_search(room_state_next, room_structure,\n\u001b[1;32m---> 61\u001b[1;33m                                box_mapping_next, box_swaps_next, last_pull, ttl, actions_next)\n\u001b[0m\u001b[0;32m     62\u001b[0m \u001b[1;33m\u001b[0m\u001b[0m\n\u001b[0;32m     63\u001b[0m \u001b[1;33m\u001b[0m\u001b[0m\n",
      "\u001b[1;32mF:\\Projets\\MCTSnet\\MCTSnet\\sokoban\\hack.py\u001b[0m in \u001b[0;36mdepth_first_search\u001b[1;34m(room_state, room_structure, box_mapping, box_swaps, last_pull, ttl, actions)\u001b[0m\n\u001b[0;32m     59\u001b[0m \u001b[1;33m\u001b[0m\u001b[0m\n\u001b[0;32m     60\u001b[0m             depth_first_search(room_state_next, room_structure,\n\u001b[1;32m---> 61\u001b[1;33m                                box_mapping_next, box_swaps_next, last_pull, ttl, actions_next)\n\u001b[0m\u001b[0;32m     62\u001b[0m \u001b[1;33m\u001b[0m\u001b[0m\n\u001b[0;32m     63\u001b[0m \u001b[1;33m\u001b[0m\u001b[0m\n",
      "\u001b[1;32mF:\\Projets\\MCTSnet\\MCTSnet\\sokoban\\hack.py\u001b[0m in \u001b[0;36mdepth_first_search\u001b[1;34m(room_state, room_structure, box_mapping, box_swaps, last_pull, ttl, actions)\u001b[0m\n\u001b[0;32m     59\u001b[0m \u001b[1;33m\u001b[0m\u001b[0m\n\u001b[0;32m     60\u001b[0m             depth_first_search(room_state_next, room_structure,\n\u001b[1;32m---> 61\u001b[1;33m                                box_mapping_next, box_swaps_next, last_pull, ttl, actions_next)\n\u001b[0m\u001b[0;32m     62\u001b[0m \u001b[1;33m\u001b[0m\u001b[0m\n\u001b[0;32m     63\u001b[0m \u001b[1;33m\u001b[0m\u001b[0m\n",
      "\u001b[1;32mF:\\Projets\\MCTSnet\\MCTSnet\\sokoban\\hack.py\u001b[0m in \u001b[0;36mdepth_first_search\u001b[1;34m(room_state, room_structure, box_mapping, box_swaps, last_pull, ttl, actions)\u001b[0m\n\u001b[0;32m     59\u001b[0m \u001b[1;33m\u001b[0m\u001b[0m\n\u001b[0;32m     60\u001b[0m             depth_first_search(room_state_next, room_structure,\n\u001b[1;32m---> 61\u001b[1;33m                                box_mapping_next, box_swaps_next, last_pull, ttl, actions_next)\n\u001b[0m\u001b[0;32m     62\u001b[0m \u001b[1;33m\u001b[0m\u001b[0m\n\u001b[0;32m     63\u001b[0m \u001b[1;33m\u001b[0m\u001b[0m\n",
      "\u001b[1;32mF:\\Projets\\MCTSnet\\MCTSnet\\sokoban\\hack.py\u001b[0m in \u001b[0;36mdepth_first_search\u001b[1;34m(room_state, room_structure, box_mapping, box_swaps, last_pull, ttl, actions)\u001b[0m\n\u001b[0;32m     59\u001b[0m \u001b[1;33m\u001b[0m\u001b[0m\n\u001b[0;32m     60\u001b[0m             depth_first_search(room_state_next, room_structure,\n\u001b[1;32m---> 61\u001b[1;33m                                box_mapping_next, box_swaps_next, last_pull, ttl, actions_next)\n\u001b[0m\u001b[0;32m     62\u001b[0m \u001b[1;33m\u001b[0m\u001b[0m\n\u001b[0;32m     63\u001b[0m \u001b[1;33m\u001b[0m\u001b[0m\n",
      "\u001b[1;32mF:\\Projets\\MCTSnet\\MCTSnet\\sokoban\\hack.py\u001b[0m in \u001b[0;36mdepth_first_search\u001b[1;34m(room_state, room_structure, box_mapping, box_swaps, last_pull, ttl, actions)\u001b[0m\n\u001b[0;32m     59\u001b[0m \u001b[1;33m\u001b[0m\u001b[0m\n\u001b[0;32m     60\u001b[0m             depth_first_search(room_state_next, room_structure,\n\u001b[1;32m---> 61\u001b[1;33m                                box_mapping_next, box_swaps_next, last_pull, ttl, actions_next)\n\u001b[0m\u001b[0;32m     62\u001b[0m \u001b[1;33m\u001b[0m\u001b[0m\n\u001b[0;32m     63\u001b[0m \u001b[1;33m\u001b[0m\u001b[0m\n",
      "\u001b[1;32mF:\\Projets\\MCTSnet\\MCTSnet\\sokoban\\hack.py\u001b[0m in \u001b[0;36mdepth_first_search\u001b[1;34m(room_state, room_structure, box_mapping, box_swaps, last_pull, ttl, actions)\u001b[0m\n\u001b[0;32m     59\u001b[0m \u001b[1;33m\u001b[0m\u001b[0m\n\u001b[0;32m     60\u001b[0m             depth_first_search(room_state_next, room_structure,\n\u001b[1;32m---> 61\u001b[1;33m                                box_mapping_next, box_swaps_next, last_pull, ttl, actions_next)\n\u001b[0m\u001b[0;32m     62\u001b[0m \u001b[1;33m\u001b[0m\u001b[0m\n\u001b[0;32m     63\u001b[0m \u001b[1;33m\u001b[0m\u001b[0m\n",
      "\u001b[1;32mF:\\Projets\\MCTSnet\\MCTSnet\\sokoban\\hack.py\u001b[0m in \u001b[0;36mdepth_first_search\u001b[1;34m(room_state, room_structure, box_mapping, box_swaps, last_pull, ttl, actions)\u001b[0m\n\u001b[0;32m     59\u001b[0m \u001b[1;33m\u001b[0m\u001b[0m\n\u001b[0;32m     60\u001b[0m             depth_first_search(room_state_next, room_structure,\n\u001b[1;32m---> 61\u001b[1;33m                                box_mapping_next, box_swaps_next, last_pull, ttl, actions_next)\n\u001b[0m\u001b[0;32m     62\u001b[0m \u001b[1;33m\u001b[0m\u001b[0m\n\u001b[0;32m     63\u001b[0m \u001b[1;33m\u001b[0m\u001b[0m\n",
      "\u001b[1;32mF:\\Projets\\MCTSnet\\MCTSnet\\sokoban\\hack.py\u001b[0m in \u001b[0;36mdepth_first_search\u001b[1;34m(room_state, room_structure, box_mapping, box_swaps, last_pull, ttl, actions)\u001b[0m\n\u001b[0;32m     59\u001b[0m \u001b[1;33m\u001b[0m\u001b[0m\n\u001b[0;32m     60\u001b[0m             depth_first_search(room_state_next, room_structure,\n\u001b[1;32m---> 61\u001b[1;33m                                box_mapping_next, box_swaps_next, last_pull, ttl, actions_next)\n\u001b[0m\u001b[0;32m     62\u001b[0m \u001b[1;33m\u001b[0m\u001b[0m\n\u001b[0;32m     63\u001b[0m \u001b[1;33m\u001b[0m\u001b[0m\n",
      "\u001b[1;32mF:\\Projets\\MCTSnet\\MCTSnet\\sokoban\\hack.py\u001b[0m in \u001b[0;36mdepth_first_search\u001b[1;34m(room_state, room_structure, box_mapping, box_swaps, last_pull, ttl, actions)\u001b[0m\n\u001b[0;32m     59\u001b[0m \u001b[1;33m\u001b[0m\u001b[0m\n\u001b[0;32m     60\u001b[0m             depth_first_search(room_state_next, room_structure,\n\u001b[1;32m---> 61\u001b[1;33m                                box_mapping_next, box_swaps_next, last_pull, ttl, actions_next)\n\u001b[0m\u001b[0;32m     62\u001b[0m \u001b[1;33m\u001b[0m\u001b[0m\n\u001b[0;32m     63\u001b[0m \u001b[1;33m\u001b[0m\u001b[0m\n",
      "\u001b[1;32mF:\\Projets\\MCTSnet\\MCTSnet\\sokoban\\hack.py\u001b[0m in \u001b[0;36mdepth_first_search\u001b[1;34m(room_state, room_structure, box_mapping, box_swaps, last_pull, ttl, actions)\u001b[0m\n\u001b[0;32m     59\u001b[0m \u001b[1;33m\u001b[0m\u001b[0m\n\u001b[0;32m     60\u001b[0m             depth_first_search(room_state_next, room_structure,\n\u001b[1;32m---> 61\u001b[1;33m                                box_mapping_next, box_swaps_next, last_pull, ttl, actions_next)\n\u001b[0m\u001b[0;32m     62\u001b[0m \u001b[1;33m\u001b[0m\u001b[0m\n\u001b[0;32m     63\u001b[0m \u001b[1;33m\u001b[0m\u001b[0m\n",
      "\u001b[1;32mF:\\Projets\\MCTSnet\\MCTSnet\\sokoban\\hack.py\u001b[0m in \u001b[0;36mdepth_first_search\u001b[1;34m(room_state, room_structure, box_mapping, box_swaps, last_pull, ttl, actions)\u001b[0m\n\u001b[0;32m     59\u001b[0m \u001b[1;33m\u001b[0m\u001b[0m\n\u001b[0;32m     60\u001b[0m             depth_first_search(room_state_next, room_structure,\n\u001b[1;32m---> 61\u001b[1;33m                                box_mapping_next, box_swaps_next, last_pull, ttl, actions_next)\n\u001b[0m\u001b[0;32m     62\u001b[0m \u001b[1;33m\u001b[0m\u001b[0m\n\u001b[0;32m     63\u001b[0m \u001b[1;33m\u001b[0m\u001b[0m\n",
      "\u001b[1;32mF:\\Projets\\MCTSnet\\MCTSnet\\sokoban\\hack.py\u001b[0m in \u001b[0;36mdepth_first_search\u001b[1;34m(room_state, room_structure, box_mapping, box_swaps, last_pull, ttl, actions)\u001b[0m\n\u001b[0;32m     59\u001b[0m \u001b[1;33m\u001b[0m\u001b[0m\n\u001b[0;32m     60\u001b[0m             depth_first_search(room_state_next, room_structure,\n\u001b[1;32m---> 61\u001b[1;33m                                box_mapping_next, box_swaps_next, last_pull, ttl, actions_next)\n\u001b[0m\u001b[0;32m     62\u001b[0m \u001b[1;33m\u001b[0m\u001b[0m\n\u001b[0;32m     63\u001b[0m \u001b[1;33m\u001b[0m\u001b[0m\n",
      "\u001b[1;32mF:\\Projets\\MCTSnet\\MCTSnet\\sokoban\\hack.py\u001b[0m in \u001b[0;36mdepth_first_search\u001b[1;34m(room_state, room_structure, box_mapping, box_swaps, last_pull, ttl, actions)\u001b[0m\n\u001b[0;32m     59\u001b[0m \u001b[1;33m\u001b[0m\u001b[0m\n\u001b[0;32m     60\u001b[0m             depth_first_search(room_state_next, room_structure,\n\u001b[1;32m---> 61\u001b[1;33m                                box_mapping_next, box_swaps_next, last_pull, ttl, actions_next)\n\u001b[0m\u001b[0;32m     62\u001b[0m \u001b[1;33m\u001b[0m\u001b[0m\n\u001b[0;32m     63\u001b[0m \u001b[1;33m\u001b[0m\u001b[0m\n",
      "\u001b[1;32mF:\\Projets\\MCTSnet\\MCTSnet\\sokoban\\hack.py\u001b[0m in \u001b[0;36mdepth_first_search\u001b[1;34m(room_state, room_structure, box_mapping, box_swaps, last_pull, ttl, actions)\u001b[0m\n\u001b[0;32m     59\u001b[0m \u001b[1;33m\u001b[0m\u001b[0m\n\u001b[0;32m     60\u001b[0m             depth_first_search(room_state_next, room_structure,\n\u001b[1;32m---> 61\u001b[1;33m                                box_mapping_next, box_swaps_next, last_pull, ttl, actions_next)\n\u001b[0m\u001b[0;32m     62\u001b[0m \u001b[1;33m\u001b[0m\u001b[0m\n\u001b[0;32m     63\u001b[0m \u001b[1;33m\u001b[0m\u001b[0m\n",
      "\u001b[1;32mF:\\Projets\\MCTSnet\\MCTSnet\\sokoban\\hack.py\u001b[0m in \u001b[0;36mdepth_first_search\u001b[1;34m(room_state, room_structure, box_mapping, box_swaps, last_pull, ttl, actions)\u001b[0m\n\u001b[0;32m     59\u001b[0m \u001b[1;33m\u001b[0m\u001b[0m\n\u001b[0;32m     60\u001b[0m             depth_first_search(room_state_next, room_structure,\n\u001b[1;32m---> 61\u001b[1;33m                                box_mapping_next, box_swaps_next, last_pull, ttl, actions_next)\n\u001b[0m\u001b[0;32m     62\u001b[0m \u001b[1;33m\u001b[0m\u001b[0m\n\u001b[0;32m     63\u001b[0m \u001b[1;33m\u001b[0m\u001b[0m\n",
      "\u001b[1;32mF:\\Projets\\MCTSnet\\MCTSnet\\sokoban\\hack.py\u001b[0m in \u001b[0;36mdepth_first_search\u001b[1;34m(room_state, room_structure, box_mapping, box_swaps, last_pull, ttl, actions)\u001b[0m\n\u001b[0;32m     59\u001b[0m \u001b[1;33m\u001b[0m\u001b[0m\n\u001b[0;32m     60\u001b[0m             depth_first_search(room_state_next, room_structure,\n\u001b[1;32m---> 61\u001b[1;33m                                box_mapping_next, box_swaps_next, last_pull, ttl, actions_next)\n\u001b[0m\u001b[0;32m     62\u001b[0m \u001b[1;33m\u001b[0m\u001b[0m\n\u001b[0;32m     63\u001b[0m \u001b[1;33m\u001b[0m\u001b[0m\n",
      "\u001b[1;32mF:\\Projets\\MCTSnet\\MCTSnet\\sokoban\\hack.py\u001b[0m in \u001b[0;36mdepth_first_search\u001b[1;34m(room_state, room_structure, box_mapping, box_swaps, last_pull, ttl, actions)\u001b[0m\n\u001b[0;32m     59\u001b[0m \u001b[1;33m\u001b[0m\u001b[0m\n\u001b[0;32m     60\u001b[0m             depth_first_search(room_state_next, room_structure,\n\u001b[1;32m---> 61\u001b[1;33m                                box_mapping_next, box_swaps_next, last_pull, ttl, actions_next)\n\u001b[0m\u001b[0;32m     62\u001b[0m \u001b[1;33m\u001b[0m\u001b[0m\n\u001b[0;32m     63\u001b[0m \u001b[1;33m\u001b[0m\u001b[0m\n",
      "\u001b[1;32mF:\\Projets\\MCTSnet\\MCTSnet\\sokoban\\hack.py\u001b[0m in \u001b[0;36mdepth_first_search\u001b[1;34m(room_state, room_structure, box_mapping, box_swaps, last_pull, ttl, actions)\u001b[0m\n\u001b[0;32m     59\u001b[0m \u001b[1;33m\u001b[0m\u001b[0m\n\u001b[0;32m     60\u001b[0m             depth_first_search(room_state_next, room_structure,\n\u001b[1;32m---> 61\u001b[1;33m                                box_mapping_next, box_swaps_next, last_pull, ttl, actions_next)\n\u001b[0m\u001b[0;32m     62\u001b[0m \u001b[1;33m\u001b[0m\u001b[0m\n\u001b[0;32m     63\u001b[0m \u001b[1;33m\u001b[0m\u001b[0m\n",
      "\u001b[1;32mF:\\Projets\\MCTSnet\\MCTSnet\\sokoban\\hack.py\u001b[0m in \u001b[0;36mdepth_first_search\u001b[1;34m(room_state, room_structure, box_mapping, box_swaps, last_pull, ttl, actions)\u001b[0m\n\u001b[0;32m     59\u001b[0m \u001b[1;33m\u001b[0m\u001b[0m\n\u001b[0;32m     60\u001b[0m             depth_first_search(room_state_next, room_structure,\n\u001b[1;32m---> 61\u001b[1;33m                                box_mapping_next, box_swaps_next, last_pull, ttl, actions_next)\n\u001b[0m\u001b[0;32m     62\u001b[0m \u001b[1;33m\u001b[0m\u001b[0m\n\u001b[0;32m     63\u001b[0m \u001b[1;33m\u001b[0m\u001b[0m\n",
      "\u001b[1;32mF:\\Projets\\MCTSnet\\MCTSnet\\sokoban\\hack.py\u001b[0m in \u001b[0;36mdepth_first_search\u001b[1;34m(room_state, room_structure, box_mapping, box_swaps, last_pull, ttl, actions)\u001b[0m\n\u001b[0;32m     59\u001b[0m \u001b[1;33m\u001b[0m\u001b[0m\n\u001b[0;32m     60\u001b[0m             depth_first_search(room_state_next, room_structure,\n\u001b[1;32m---> 61\u001b[1;33m                                box_mapping_next, box_swaps_next, last_pull, ttl, actions_next)\n\u001b[0m\u001b[0;32m     62\u001b[0m \u001b[1;33m\u001b[0m\u001b[0m\n\u001b[0;32m     63\u001b[0m \u001b[1;33m\u001b[0m\u001b[0m\n",
      "\u001b[1;32mF:\\Projets\\MCTSnet\\MCTSnet\\sokoban\\hack.py\u001b[0m in \u001b[0;36mdepth_first_search\u001b[1;34m(room_state, room_structure, box_mapping, box_swaps, last_pull, ttl, actions)\u001b[0m\n\u001b[0;32m     59\u001b[0m \u001b[1;33m\u001b[0m\u001b[0m\n\u001b[0;32m     60\u001b[0m             depth_first_search(room_state_next, room_structure,\n\u001b[1;32m---> 61\u001b[1;33m                                box_mapping_next, box_swaps_next, last_pull, ttl, actions_next)\n\u001b[0m\u001b[0;32m     62\u001b[0m \u001b[1;33m\u001b[0m\u001b[0m\n\u001b[0;32m     63\u001b[0m \u001b[1;33m\u001b[0m\u001b[0m\n",
      "\u001b[1;32mF:\\Projets\\MCTSnet\\MCTSnet\\sokoban\\hack.py\u001b[0m in \u001b[0;36mdepth_first_search\u001b[1;34m(room_state, room_structure, box_mapping, box_swaps, last_pull, ttl, actions)\u001b[0m\n\u001b[0;32m     59\u001b[0m \u001b[1;33m\u001b[0m\u001b[0m\n\u001b[0;32m     60\u001b[0m             depth_first_search(room_state_next, room_structure,\n\u001b[1;32m---> 61\u001b[1;33m                                box_mapping_next, box_swaps_next, last_pull, ttl, actions_next)\n\u001b[0m\u001b[0;32m     62\u001b[0m \u001b[1;33m\u001b[0m\u001b[0m\n\u001b[0;32m     63\u001b[0m \u001b[1;33m\u001b[0m\u001b[0m\n",
      "\u001b[1;32mF:\\Projets\\MCTSnet\\MCTSnet\\sokoban\\hack.py\u001b[0m in \u001b[0;36mdepth_first_search\u001b[1;34m(room_state, room_structure, box_mapping, box_swaps, last_pull, ttl, actions)\u001b[0m\n\u001b[0;32m     59\u001b[0m \u001b[1;33m\u001b[0m\u001b[0m\n\u001b[0;32m     60\u001b[0m             depth_first_search(room_state_next, room_structure,\n\u001b[1;32m---> 61\u001b[1;33m                                box_mapping_next, box_swaps_next, last_pull, ttl, actions_next)\n\u001b[0m\u001b[0;32m     62\u001b[0m \u001b[1;33m\u001b[0m\u001b[0m\n\u001b[0;32m     63\u001b[0m \u001b[1;33m\u001b[0m\u001b[0m\n",
      "\u001b[1;32mF:\\Projets\\MCTSnet\\MCTSnet\\sokoban\\hack.py\u001b[0m in \u001b[0;36mdepth_first_search\u001b[1;34m(room_state, room_structure, box_mapping, box_swaps, last_pull, ttl, actions)\u001b[0m\n\u001b[0;32m     59\u001b[0m \u001b[1;33m\u001b[0m\u001b[0m\n\u001b[0;32m     60\u001b[0m             depth_first_search(room_state_next, room_structure,\n\u001b[1;32m---> 61\u001b[1;33m                                box_mapping_next, box_swaps_next, last_pull, ttl, actions_next)\n\u001b[0m\u001b[0;32m     62\u001b[0m \u001b[1;33m\u001b[0m\u001b[0m\n\u001b[0;32m     63\u001b[0m \u001b[1;33m\u001b[0m\u001b[0m\n",
      "\u001b[1;32mF:\\Projets\\MCTSnet\\MCTSnet\\sokoban\\hack.py\u001b[0m in \u001b[0;36mdepth_first_search\u001b[1;34m(room_state, room_structure, box_mapping, box_swaps, last_pull, ttl, actions)\u001b[0m\n\u001b[0;32m     59\u001b[0m \u001b[1;33m\u001b[0m\u001b[0m\n\u001b[0;32m     60\u001b[0m             depth_first_search(room_state_next, room_structure,\n\u001b[1;32m---> 61\u001b[1;33m                                box_mapping_next, box_swaps_next, last_pull, ttl, actions_next)\n\u001b[0m\u001b[0;32m     62\u001b[0m \u001b[1;33m\u001b[0m\u001b[0m\n\u001b[0;32m     63\u001b[0m \u001b[1;33m\u001b[0m\u001b[0m\n",
      "\u001b[1;32mF:\\Projets\\MCTSnet\\MCTSnet\\sokoban\\hack.py\u001b[0m in \u001b[0;36mdepth_first_search\u001b[1;34m(room_state, room_structure, box_mapping, box_swaps, last_pull, ttl, actions)\u001b[0m\n\u001b[0;32m     59\u001b[0m \u001b[1;33m\u001b[0m\u001b[0m\n\u001b[0;32m     60\u001b[0m             depth_first_search(room_state_next, room_structure,\n\u001b[1;32m---> 61\u001b[1;33m                                box_mapping_next, box_swaps_next, last_pull, ttl, actions_next)\n\u001b[0m\u001b[0;32m     62\u001b[0m \u001b[1;33m\u001b[0m\u001b[0m\n\u001b[0;32m     63\u001b[0m \u001b[1;33m\u001b[0m\u001b[0m\n",
      "\u001b[1;32mF:\\Projets\\MCTSnet\\MCTSnet\\sokoban\\hack.py\u001b[0m in \u001b[0;36mdepth_first_search\u001b[1;34m(room_state, room_structure, box_mapping, box_swaps, last_pull, ttl, actions)\u001b[0m\n\u001b[0;32m     59\u001b[0m \u001b[1;33m\u001b[0m\u001b[0m\n\u001b[0;32m     60\u001b[0m             depth_first_search(room_state_next, room_structure,\n\u001b[1;32m---> 61\u001b[1;33m                                box_mapping_next, box_swaps_next, last_pull, ttl, actions_next)\n\u001b[0m\u001b[0;32m     62\u001b[0m \u001b[1;33m\u001b[0m\u001b[0m\n\u001b[0;32m     63\u001b[0m \u001b[1;33m\u001b[0m\u001b[0m\n",
      "\u001b[1;32mF:\\Projets\\MCTSnet\\MCTSnet\\sokoban\\hack.py\u001b[0m in \u001b[0;36mdepth_first_search\u001b[1;34m(room_state, room_structure, box_mapping, box_swaps, last_pull, ttl, actions)\u001b[0m\n\u001b[0;32m     59\u001b[0m \u001b[1;33m\u001b[0m\u001b[0m\n\u001b[0;32m     60\u001b[0m             depth_first_search(room_state_next, room_structure,\n\u001b[1;32m---> 61\u001b[1;33m                                box_mapping_next, box_swaps_next, last_pull, ttl, actions_next)\n\u001b[0m\u001b[0;32m     62\u001b[0m \u001b[1;33m\u001b[0m\u001b[0m\n\u001b[0;32m     63\u001b[0m \u001b[1;33m\u001b[0m\u001b[0m\n",
      "\u001b[1;32mF:\\Projets\\MCTSnet\\MCTSnet\\sokoban\\hack.py\u001b[0m in \u001b[0;36mdepth_first_search\u001b[1;34m(room_state, room_structure, box_mapping, box_swaps, last_pull, ttl, actions)\u001b[0m\n\u001b[0;32m     59\u001b[0m \u001b[1;33m\u001b[0m\u001b[0m\n\u001b[0;32m     60\u001b[0m             depth_first_search(room_state_next, room_structure,\n\u001b[1;32m---> 61\u001b[1;33m                                box_mapping_next, box_swaps_next, last_pull, ttl, actions_next)\n\u001b[0m\u001b[0;32m     62\u001b[0m \u001b[1;33m\u001b[0m\u001b[0m\n\u001b[0;32m     63\u001b[0m \u001b[1;33m\u001b[0m\u001b[0m\n",
      "\u001b[1;32mF:\\Projets\\MCTSnet\\MCTSnet\\sokoban\\hack.py\u001b[0m in \u001b[0;36mdepth_first_search\u001b[1;34m(room_state, room_structure, box_mapping, box_swaps, last_pull, ttl, actions)\u001b[0m\n\u001b[0;32m     59\u001b[0m \u001b[1;33m\u001b[0m\u001b[0m\n\u001b[0;32m     60\u001b[0m             depth_first_search(room_state_next, room_structure,\n\u001b[1;32m---> 61\u001b[1;33m                                box_mapping_next, box_swaps_next, last_pull, ttl, actions_next)\n\u001b[0m\u001b[0;32m     62\u001b[0m \u001b[1;33m\u001b[0m\u001b[0m\n\u001b[0;32m     63\u001b[0m \u001b[1;33m\u001b[0m\u001b[0m\n",
      "\u001b[1;32mF:\\Projets\\MCTSnet\\MCTSnet\\sokoban\\hack.py\u001b[0m in \u001b[0;36mdepth_first_search\u001b[1;34m(room_state, room_structure, box_mapping, box_swaps, last_pull, ttl, actions)\u001b[0m\n\u001b[0;32m     59\u001b[0m \u001b[1;33m\u001b[0m\u001b[0m\n\u001b[0;32m     60\u001b[0m             depth_first_search(room_state_next, room_structure,\n\u001b[1;32m---> 61\u001b[1;33m                                box_mapping_next, box_swaps_next, last_pull, ttl, actions_next)\n\u001b[0m\u001b[0;32m     62\u001b[0m \u001b[1;33m\u001b[0m\u001b[0m\n\u001b[0;32m     63\u001b[0m \u001b[1;33m\u001b[0m\u001b[0m\n",
      "\u001b[1;32mF:\\Projets\\MCTSnet\\MCTSnet\\sokoban\\hack.py\u001b[0m in \u001b[0;36mdepth_first_search\u001b[1;34m(room_state, room_structure, box_mapping, box_swaps, last_pull, ttl, actions)\u001b[0m\n\u001b[0;32m     59\u001b[0m \u001b[1;33m\u001b[0m\u001b[0m\n\u001b[0;32m     60\u001b[0m             depth_first_search(room_state_next, room_structure,\n\u001b[1;32m---> 61\u001b[1;33m                                box_mapping_next, box_swaps_next, last_pull, ttl, actions_next)\n\u001b[0m\u001b[0;32m     62\u001b[0m \u001b[1;33m\u001b[0m\u001b[0m\n\u001b[0;32m     63\u001b[0m \u001b[1;33m\u001b[0m\u001b[0m\n",
      "\u001b[1;32mF:\\Projets\\MCTSnet\\MCTSnet\\sokoban\\hack.py\u001b[0m in \u001b[0;36mdepth_first_search\u001b[1;34m(room_state, room_structure, box_mapping, box_swaps, last_pull, ttl, actions)\u001b[0m\n\u001b[0;32m     59\u001b[0m \u001b[1;33m\u001b[0m\u001b[0m\n\u001b[0;32m     60\u001b[0m             depth_first_search(room_state_next, room_structure,\n\u001b[1;32m---> 61\u001b[1;33m                                box_mapping_next, box_swaps_next, last_pull, ttl, actions_next)\n\u001b[0m\u001b[0;32m     62\u001b[0m \u001b[1;33m\u001b[0m\u001b[0m\n\u001b[0;32m     63\u001b[0m \u001b[1;33m\u001b[0m\u001b[0m\n",
      "\u001b[1;32mF:\\Projets\\MCTSnet\\MCTSnet\\sokoban\\hack.py\u001b[0m in \u001b[0;36mdepth_first_search\u001b[1;34m(room_state, room_structure, box_mapping, box_swaps, last_pull, ttl, actions)\u001b[0m\n\u001b[0;32m     59\u001b[0m \u001b[1;33m\u001b[0m\u001b[0m\n\u001b[0;32m     60\u001b[0m             depth_first_search(room_state_next, room_structure,\n\u001b[1;32m---> 61\u001b[1;33m                                box_mapping_next, box_swaps_next, last_pull, ttl, actions_next)\n\u001b[0m\u001b[0;32m     62\u001b[0m \u001b[1;33m\u001b[0m\u001b[0m\n\u001b[0;32m     63\u001b[0m \u001b[1;33m\u001b[0m\u001b[0m\n",
      "\u001b[1;32mF:\\Projets\\MCTSnet\\MCTSnet\\sokoban\\hack.py\u001b[0m in \u001b[0;36mdepth_first_search\u001b[1;34m(room_state, room_structure, box_mapping, box_swaps, last_pull, ttl, actions)\u001b[0m\n\u001b[0;32m     59\u001b[0m \u001b[1;33m\u001b[0m\u001b[0m\n\u001b[0;32m     60\u001b[0m             depth_first_search(room_state_next, room_structure,\n\u001b[1;32m---> 61\u001b[1;33m                                box_mapping_next, box_swaps_next, last_pull, ttl, actions_next)\n\u001b[0m\u001b[0;32m     62\u001b[0m \u001b[1;33m\u001b[0m\u001b[0m\n\u001b[0;32m     63\u001b[0m \u001b[1;33m\u001b[0m\u001b[0m\n",
      "\u001b[1;32mF:\\Projets\\MCTSnet\\MCTSnet\\sokoban\\hack.py\u001b[0m in \u001b[0;36mdepth_first_search\u001b[1;34m(room_state, room_structure, box_mapping, box_swaps, last_pull, ttl, actions)\u001b[0m\n\u001b[0;32m     59\u001b[0m \u001b[1;33m\u001b[0m\u001b[0m\n\u001b[0;32m     60\u001b[0m             depth_first_search(room_state_next, room_structure,\n\u001b[1;32m---> 61\u001b[1;33m                                box_mapping_next, box_swaps_next, last_pull, ttl, actions_next)\n\u001b[0m\u001b[0;32m     62\u001b[0m \u001b[1;33m\u001b[0m\u001b[0m\n\u001b[0;32m     63\u001b[0m \u001b[1;33m\u001b[0m\u001b[0m\n",
      "\u001b[1;32mF:\\Projets\\MCTSnet\\MCTSnet\\sokoban\\hack.py\u001b[0m in \u001b[0;36mdepth_first_search\u001b[1;34m(room_state, room_structure, box_mapping, box_swaps, last_pull, ttl, actions)\u001b[0m\n\u001b[0;32m     59\u001b[0m \u001b[1;33m\u001b[0m\u001b[0m\n\u001b[0;32m     60\u001b[0m             depth_first_search(room_state_next, room_structure,\n\u001b[1;32m---> 61\u001b[1;33m                                box_mapping_next, box_swaps_next, last_pull, ttl, actions_next)\n\u001b[0m\u001b[0;32m     62\u001b[0m \u001b[1;33m\u001b[0m\u001b[0m\n\u001b[0;32m     63\u001b[0m \u001b[1;33m\u001b[0m\u001b[0m\n",
      "\u001b[1;32mF:\\Projets\\MCTSnet\\MCTSnet\\sokoban\\hack.py\u001b[0m in \u001b[0;36mdepth_first_search\u001b[1;34m(room_state, room_structure, box_mapping, box_swaps, last_pull, ttl, actions)\u001b[0m\n\u001b[0;32m     59\u001b[0m \u001b[1;33m\u001b[0m\u001b[0m\n\u001b[0;32m     60\u001b[0m             depth_first_search(room_state_next, room_structure,\n\u001b[1;32m---> 61\u001b[1;33m                                box_mapping_next, box_swaps_next, last_pull, ttl, actions_next)\n\u001b[0m\u001b[0;32m     62\u001b[0m \u001b[1;33m\u001b[0m\u001b[0m\n\u001b[0;32m     63\u001b[0m \u001b[1;33m\u001b[0m\u001b[0m\n",
      "\u001b[1;32mF:\\Projets\\MCTSnet\\MCTSnet\\sokoban\\hack.py\u001b[0m in \u001b[0;36mdepth_first_search\u001b[1;34m(room_state, room_structure, box_mapping, box_swaps, last_pull, ttl, actions)\u001b[0m\n\u001b[0;32m     59\u001b[0m \u001b[1;33m\u001b[0m\u001b[0m\n\u001b[0;32m     60\u001b[0m             depth_first_search(room_state_next, room_structure,\n\u001b[1;32m---> 61\u001b[1;33m                                box_mapping_next, box_swaps_next, last_pull, ttl, actions_next)\n\u001b[0m\u001b[0;32m     62\u001b[0m \u001b[1;33m\u001b[0m\u001b[0m\n\u001b[0;32m     63\u001b[0m \u001b[1;33m\u001b[0m\u001b[0m\n",
      "\u001b[1;32mF:\\Projets\\MCTSnet\\MCTSnet\\sokoban\\hack.py\u001b[0m in \u001b[0;36mdepth_first_search\u001b[1;34m(room_state, room_structure, box_mapping, box_swaps, last_pull, ttl, actions)\u001b[0m\n\u001b[0;32m     59\u001b[0m \u001b[1;33m\u001b[0m\u001b[0m\n\u001b[0;32m     60\u001b[0m             depth_first_search(room_state_next, room_structure,\n\u001b[1;32m---> 61\u001b[1;33m                                box_mapping_next, box_swaps_next, last_pull, ttl, actions_next)\n\u001b[0m\u001b[0;32m     62\u001b[0m \u001b[1;33m\u001b[0m\u001b[0m\n\u001b[0;32m     63\u001b[0m \u001b[1;33m\u001b[0m\u001b[0m\n",
      "\u001b[1;32mF:\\Projets\\MCTSnet\\MCTSnet\\sokoban\\hack.py\u001b[0m in \u001b[0;36mdepth_first_search\u001b[1;34m(room_state, room_structure, box_mapping, box_swaps, last_pull, ttl, actions)\u001b[0m\n\u001b[0;32m     59\u001b[0m \u001b[1;33m\u001b[0m\u001b[0m\n\u001b[0;32m     60\u001b[0m             depth_first_search(room_state_next, room_structure,\n\u001b[1;32m---> 61\u001b[1;33m                                box_mapping_next, box_swaps_next, last_pull, ttl, actions_next)\n\u001b[0m\u001b[0;32m     62\u001b[0m \u001b[1;33m\u001b[0m\u001b[0m\n\u001b[0;32m     63\u001b[0m \u001b[1;33m\u001b[0m\u001b[0m\n",
      "\u001b[1;32mF:\\Projets\\MCTSnet\\MCTSnet\\sokoban\\hack.py\u001b[0m in \u001b[0;36mdepth_first_search\u001b[1;34m(room_state, room_structure, box_mapping, box_swaps, last_pull, ttl, actions)\u001b[0m\n\u001b[0;32m     59\u001b[0m \u001b[1;33m\u001b[0m\u001b[0m\n\u001b[0;32m     60\u001b[0m             depth_first_search(room_state_next, room_structure,\n\u001b[1;32m---> 61\u001b[1;33m                                box_mapping_next, box_swaps_next, last_pull, ttl, actions_next)\n\u001b[0m\u001b[0;32m     62\u001b[0m \u001b[1;33m\u001b[0m\u001b[0m\n\u001b[0;32m     63\u001b[0m \u001b[1;33m\u001b[0m\u001b[0m\n",
      "\u001b[1;32mF:\\Projets\\MCTSnet\\MCTSnet\\sokoban\\hack.py\u001b[0m in \u001b[0;36mdepth_first_search\u001b[1;34m(room_state, room_structure, box_mapping, box_swaps, last_pull, ttl, actions)\u001b[0m\n\u001b[0;32m     59\u001b[0m \u001b[1;33m\u001b[0m\u001b[0m\n\u001b[0;32m     60\u001b[0m             depth_first_search(room_state_next, room_structure,\n\u001b[1;32m---> 61\u001b[1;33m                                box_mapping_next, box_swaps_next, last_pull, ttl, actions_next)\n\u001b[0m\u001b[0;32m     62\u001b[0m \u001b[1;33m\u001b[0m\u001b[0m\n\u001b[0;32m     63\u001b[0m \u001b[1;33m\u001b[0m\u001b[0m\n",
      "\u001b[1;32mF:\\Projets\\MCTSnet\\MCTSnet\\sokoban\\hack.py\u001b[0m in \u001b[0;36mdepth_first_search\u001b[1;34m(room_state, room_structure, box_mapping, box_swaps, last_pull, ttl, actions)\u001b[0m\n\u001b[0;32m     59\u001b[0m \u001b[1;33m\u001b[0m\u001b[0m\n\u001b[0;32m     60\u001b[0m             depth_first_search(room_state_next, room_structure,\n\u001b[1;32m---> 61\u001b[1;33m                                box_mapping_next, box_swaps_next, last_pull, ttl, actions_next)\n\u001b[0m\u001b[0;32m     62\u001b[0m \u001b[1;33m\u001b[0m\u001b[0m\n\u001b[0;32m     63\u001b[0m \u001b[1;33m\u001b[0m\u001b[0m\n",
      "\u001b[1;32mF:\\Projets\\MCTSnet\\MCTSnet\\sokoban\\hack.py\u001b[0m in \u001b[0;36mdepth_first_search\u001b[1;34m(room_state, room_structure, box_mapping, box_swaps, last_pull, ttl, actions)\u001b[0m\n\u001b[0;32m     59\u001b[0m \u001b[1;33m\u001b[0m\u001b[0m\n\u001b[0;32m     60\u001b[0m             depth_first_search(room_state_next, room_structure,\n\u001b[1;32m---> 61\u001b[1;33m                                box_mapping_next, box_swaps_next, last_pull, ttl, actions_next)\n\u001b[0m\u001b[0;32m     62\u001b[0m \u001b[1;33m\u001b[0m\u001b[0m\n\u001b[0;32m     63\u001b[0m \u001b[1;33m\u001b[0m\u001b[0m\n",
      "\u001b[1;32mF:\\Projets\\MCTSnet\\MCTSnet\\sokoban\\hack.py\u001b[0m in \u001b[0;36mdepth_first_search\u001b[1;34m(room_state, room_structure, box_mapping, box_swaps, last_pull, ttl, actions)\u001b[0m\n\u001b[0;32m     59\u001b[0m \u001b[1;33m\u001b[0m\u001b[0m\n\u001b[0;32m     60\u001b[0m             depth_first_search(room_state_next, room_structure,\n\u001b[1;32m---> 61\u001b[1;33m                                box_mapping_next, box_swaps_next, last_pull, ttl, actions_next)\n\u001b[0m\u001b[0;32m     62\u001b[0m \u001b[1;33m\u001b[0m\u001b[0m\n\u001b[0;32m     63\u001b[0m \u001b[1;33m\u001b[0m\u001b[0m\n",
      "\u001b[1;32mF:\\Projets\\MCTSnet\\MCTSnet\\sokoban\\hack.py\u001b[0m in \u001b[0;36mdepth_first_search\u001b[1;34m(room_state, room_structure, box_mapping, box_swaps, last_pull, ttl, actions)\u001b[0m\n\u001b[0;32m     59\u001b[0m \u001b[1;33m\u001b[0m\u001b[0m\n\u001b[0;32m     60\u001b[0m             depth_first_search(room_state_next, room_structure,\n\u001b[1;32m---> 61\u001b[1;33m                                box_mapping_next, box_swaps_next, last_pull, ttl, actions_next)\n\u001b[0m\u001b[0;32m     62\u001b[0m \u001b[1;33m\u001b[0m\u001b[0m\n\u001b[0;32m     63\u001b[0m \u001b[1;33m\u001b[0m\u001b[0m\n",
      "\u001b[1;32mF:\\Projets\\MCTSnet\\MCTSnet\\sokoban\\hack.py\u001b[0m in \u001b[0;36mdepth_first_search\u001b[1;34m(room_state, room_structure, box_mapping, box_swaps, last_pull, ttl, actions)\u001b[0m\n\u001b[0;32m     59\u001b[0m \u001b[1;33m\u001b[0m\u001b[0m\n\u001b[0;32m     60\u001b[0m             depth_first_search(room_state_next, room_structure,\n\u001b[1;32m---> 61\u001b[1;33m                                box_mapping_next, box_swaps_next, last_pull, ttl, actions_next)\n\u001b[0m\u001b[0;32m     62\u001b[0m \u001b[1;33m\u001b[0m\u001b[0m\n\u001b[0;32m     63\u001b[0m \u001b[1;33m\u001b[0m\u001b[0m\n",
      "\u001b[1;32mF:\\Projets\\MCTSnet\\MCTSnet\\sokoban\\hack.py\u001b[0m in \u001b[0;36mdepth_first_search\u001b[1;34m(room_state, room_structure, box_mapping, box_swaps, last_pull, ttl, actions)\u001b[0m\n\u001b[0;32m     59\u001b[0m \u001b[1;33m\u001b[0m\u001b[0m\n\u001b[0;32m     60\u001b[0m             depth_first_search(room_state_next, room_structure,\n\u001b[1;32m---> 61\u001b[1;33m                                box_mapping_next, box_swaps_next, last_pull, ttl, actions_next)\n\u001b[0m\u001b[0;32m     62\u001b[0m \u001b[1;33m\u001b[0m\u001b[0m\n\u001b[0;32m     63\u001b[0m \u001b[1;33m\u001b[0m\u001b[0m\n",
      "\u001b[1;32mF:\\Projets\\MCTSnet\\MCTSnet\\sokoban\\hack.py\u001b[0m in \u001b[0;36mdepth_first_search\u001b[1;34m(room_state, room_structure, box_mapping, box_swaps, last_pull, ttl, actions)\u001b[0m\n\u001b[0;32m     59\u001b[0m \u001b[1;33m\u001b[0m\u001b[0m\n\u001b[0;32m     60\u001b[0m             depth_first_search(room_state_next, room_structure,\n\u001b[1;32m---> 61\u001b[1;33m                                box_mapping_next, box_swaps_next, last_pull, ttl, actions_next)\n\u001b[0m\u001b[0;32m     62\u001b[0m \u001b[1;33m\u001b[0m\u001b[0m\n\u001b[0;32m     63\u001b[0m \u001b[1;33m\u001b[0m\u001b[0m\n",
      "\u001b[1;32mF:\\Projets\\MCTSnet\\MCTSnet\\sokoban\\hack.py\u001b[0m in \u001b[0;36mdepth_first_search\u001b[1;34m(room_state, room_structure, box_mapping, box_swaps, last_pull, ttl, actions)\u001b[0m\n\u001b[0;32m     59\u001b[0m \u001b[1;33m\u001b[0m\u001b[0m\n\u001b[0;32m     60\u001b[0m             depth_first_search(room_state_next, room_structure,\n\u001b[1;32m---> 61\u001b[1;33m                                box_mapping_next, box_swaps_next, last_pull, ttl, actions_next)\n\u001b[0m\u001b[0;32m     62\u001b[0m \u001b[1;33m\u001b[0m\u001b[0m\n\u001b[0;32m     63\u001b[0m \u001b[1;33m\u001b[0m\u001b[0m\n",
      "\u001b[1;32mF:\\Projets\\MCTSnet\\MCTSnet\\sokoban\\hack.py\u001b[0m in \u001b[0;36mdepth_first_search\u001b[1;34m(room_state, room_structure, box_mapping, box_swaps, last_pull, ttl, actions)\u001b[0m\n\u001b[0;32m     59\u001b[0m \u001b[1;33m\u001b[0m\u001b[0m\n\u001b[0;32m     60\u001b[0m             depth_first_search(room_state_next, room_structure,\n\u001b[1;32m---> 61\u001b[1;33m                                box_mapping_next, box_swaps_next, last_pull, ttl, actions_next)\n\u001b[0m\u001b[0;32m     62\u001b[0m \u001b[1;33m\u001b[0m\u001b[0m\n\u001b[0;32m     63\u001b[0m \u001b[1;33m\u001b[0m\u001b[0m\n",
      "\u001b[1;32mF:\\Projets\\MCTSnet\\MCTSnet\\sokoban\\hack.py\u001b[0m in \u001b[0;36mdepth_first_search\u001b[1;34m(room_state, room_structure, box_mapping, box_swaps, last_pull, ttl, actions)\u001b[0m\n\u001b[0;32m     59\u001b[0m \u001b[1;33m\u001b[0m\u001b[0m\n\u001b[0;32m     60\u001b[0m             depth_first_search(room_state_next, room_structure,\n\u001b[1;32m---> 61\u001b[1;33m                                box_mapping_next, box_swaps_next, last_pull, ttl, actions_next)\n\u001b[0m\u001b[0;32m     62\u001b[0m \u001b[1;33m\u001b[0m\u001b[0m\n\u001b[0;32m     63\u001b[0m \u001b[1;33m\u001b[0m\u001b[0m\n",
      "\u001b[1;32mF:\\Projets\\MCTSnet\\MCTSnet\\sokoban\\hack.py\u001b[0m in \u001b[0;36mdepth_first_search\u001b[1;34m(room_state, room_structure, box_mapping, box_swaps, last_pull, ttl, actions)\u001b[0m\n\u001b[0;32m     59\u001b[0m \u001b[1;33m\u001b[0m\u001b[0m\n\u001b[0;32m     60\u001b[0m             depth_first_search(room_state_next, room_structure,\n\u001b[1;32m---> 61\u001b[1;33m                                box_mapping_next, box_swaps_next, last_pull, ttl, actions_next)\n\u001b[0m\u001b[0;32m     62\u001b[0m \u001b[1;33m\u001b[0m\u001b[0m\n\u001b[0;32m     63\u001b[0m \u001b[1;33m\u001b[0m\u001b[0m\n",
      "\u001b[1;32mF:\\Projets\\MCTSnet\\MCTSnet\\sokoban\\hack.py\u001b[0m in \u001b[0;36mdepth_first_search\u001b[1;34m(room_state, room_structure, box_mapping, box_swaps, last_pull, ttl, actions)\u001b[0m\n\u001b[0;32m     59\u001b[0m \u001b[1;33m\u001b[0m\u001b[0m\n\u001b[0;32m     60\u001b[0m             depth_first_search(room_state_next, room_structure,\n\u001b[1;32m---> 61\u001b[1;33m                                box_mapping_next, box_swaps_next, last_pull, ttl, actions_next)\n\u001b[0m\u001b[0;32m     62\u001b[0m \u001b[1;33m\u001b[0m\u001b[0m\n\u001b[0;32m     63\u001b[0m \u001b[1;33m\u001b[0m\u001b[0m\n",
      "\u001b[1;32mF:\\Projets\\MCTSnet\\MCTSnet\\sokoban\\hack.py\u001b[0m in \u001b[0;36mdepth_first_search\u001b[1;34m(room_state, room_structure, box_mapping, box_swaps, last_pull, ttl, actions)\u001b[0m\n\u001b[0;32m     59\u001b[0m \u001b[1;33m\u001b[0m\u001b[0m\n\u001b[0;32m     60\u001b[0m             depth_first_search(room_state_next, room_structure,\n\u001b[1;32m---> 61\u001b[1;33m                                box_mapping_next, box_swaps_next, last_pull, ttl, actions_next)\n\u001b[0m\u001b[0;32m     62\u001b[0m \u001b[1;33m\u001b[0m\u001b[0m\n\u001b[0;32m     63\u001b[0m \u001b[1;33m\u001b[0m\u001b[0m\n",
      "\u001b[1;32mF:\\Projets\\MCTSnet\\MCTSnet\\sokoban\\hack.py\u001b[0m in \u001b[0;36mdepth_first_search\u001b[1;34m(room_state, room_structure, box_mapping, box_swaps, last_pull, ttl, actions)\u001b[0m\n\u001b[0;32m     59\u001b[0m \u001b[1;33m\u001b[0m\u001b[0m\n\u001b[0;32m     60\u001b[0m             depth_first_search(room_state_next, room_structure,\n\u001b[1;32m---> 61\u001b[1;33m                                box_mapping_next, box_swaps_next, last_pull, ttl, actions_next)\n\u001b[0m\u001b[0;32m     62\u001b[0m \u001b[1;33m\u001b[0m\u001b[0m\n\u001b[0;32m     63\u001b[0m \u001b[1;33m\u001b[0m\u001b[0m\n",
      "\u001b[1;32mF:\\Projets\\MCTSnet\\MCTSnet\\sokoban\\hack.py\u001b[0m in \u001b[0;36mdepth_first_search\u001b[1;34m(room_state, room_structure, box_mapping, box_swaps, last_pull, ttl, actions)\u001b[0m\n\u001b[0;32m     59\u001b[0m \u001b[1;33m\u001b[0m\u001b[0m\n\u001b[0;32m     60\u001b[0m             depth_first_search(room_state_next, room_structure,\n\u001b[1;32m---> 61\u001b[1;33m                                box_mapping_next, box_swaps_next, last_pull, ttl, actions_next)\n\u001b[0m\u001b[0;32m     62\u001b[0m \u001b[1;33m\u001b[0m\u001b[0m\n\u001b[0;32m     63\u001b[0m \u001b[1;33m\u001b[0m\u001b[0m\n",
      "\u001b[1;32mF:\\Projets\\MCTSnet\\MCTSnet\\sokoban\\hack.py\u001b[0m in \u001b[0;36mdepth_first_search\u001b[1;34m(room_state, room_structure, box_mapping, box_swaps, last_pull, ttl, actions)\u001b[0m\n\u001b[0;32m     59\u001b[0m \u001b[1;33m\u001b[0m\u001b[0m\n\u001b[0;32m     60\u001b[0m             depth_first_search(room_state_next, room_structure,\n\u001b[1;32m---> 61\u001b[1;33m                                box_mapping_next, box_swaps_next, last_pull, ttl, actions_next)\n\u001b[0m\u001b[0;32m     62\u001b[0m \u001b[1;33m\u001b[0m\u001b[0m\n\u001b[0;32m     63\u001b[0m \u001b[1;33m\u001b[0m\u001b[0m\n",
      "\u001b[1;32mF:\\Projets\\MCTSnet\\MCTSnet\\sokoban\\hack.py\u001b[0m in \u001b[0;36mdepth_first_search\u001b[1;34m(room_state, room_structure, box_mapping, box_swaps, last_pull, ttl, actions)\u001b[0m\n\u001b[0;32m     59\u001b[0m \u001b[1;33m\u001b[0m\u001b[0m\n\u001b[0;32m     60\u001b[0m             depth_first_search(room_state_next, room_structure,\n\u001b[1;32m---> 61\u001b[1;33m                                box_mapping_next, box_swaps_next, last_pull, ttl, actions_next)\n\u001b[0m\u001b[0;32m     62\u001b[0m \u001b[1;33m\u001b[0m\u001b[0m\n\u001b[0;32m     63\u001b[0m \u001b[1;33m\u001b[0m\u001b[0m\n",
      "\u001b[1;32mF:\\Projets\\MCTSnet\\MCTSnet\\sokoban\\hack.py\u001b[0m in \u001b[0;36mdepth_first_search\u001b[1;34m(room_state, room_structure, box_mapping, box_swaps, last_pull, ttl, actions)\u001b[0m\n\u001b[0;32m     59\u001b[0m \u001b[1;33m\u001b[0m\u001b[0m\n\u001b[0;32m     60\u001b[0m             depth_first_search(room_state_next, room_structure,\n\u001b[1;32m---> 61\u001b[1;33m                                box_mapping_next, box_swaps_next, last_pull, ttl, actions_next)\n\u001b[0m\u001b[0;32m     62\u001b[0m \u001b[1;33m\u001b[0m\u001b[0m\n\u001b[0;32m     63\u001b[0m \u001b[1;33m\u001b[0m\u001b[0m\n",
      "\u001b[1;32mF:\\Projets\\MCTSnet\\MCTSnet\\sokoban\\hack.py\u001b[0m in \u001b[0;36mdepth_first_search\u001b[1;34m(room_state, room_structure, box_mapping, box_swaps, last_pull, ttl, actions)\u001b[0m\n\u001b[0;32m     59\u001b[0m \u001b[1;33m\u001b[0m\u001b[0m\n\u001b[0;32m     60\u001b[0m             depth_first_search(room_state_next, room_structure,\n\u001b[1;32m---> 61\u001b[1;33m                                box_mapping_next, box_swaps_next, last_pull, ttl, actions_next)\n\u001b[0m\u001b[0;32m     62\u001b[0m \u001b[1;33m\u001b[0m\u001b[0m\n\u001b[0;32m     63\u001b[0m \u001b[1;33m\u001b[0m\u001b[0m\n",
      "\u001b[1;32mF:\\Projets\\MCTSnet\\MCTSnet\\sokoban\\hack.py\u001b[0m in \u001b[0;36mdepth_first_search\u001b[1;34m(room_state, room_structure, box_mapping, box_swaps, last_pull, ttl, actions)\u001b[0m\n\u001b[0;32m     59\u001b[0m \u001b[1;33m\u001b[0m\u001b[0m\n\u001b[0;32m     60\u001b[0m             depth_first_search(room_state_next, room_structure,\n\u001b[1;32m---> 61\u001b[1;33m                                box_mapping_next, box_swaps_next, last_pull, ttl, actions_next)\n\u001b[0m\u001b[0;32m     62\u001b[0m \u001b[1;33m\u001b[0m\u001b[0m\n\u001b[0;32m     63\u001b[0m \u001b[1;33m\u001b[0m\u001b[0m\n",
      "\u001b[1;32mF:\\Projets\\MCTSnet\\MCTSnet\\sokoban\\hack.py\u001b[0m in \u001b[0;36mdepth_first_search\u001b[1;34m(room_state, room_structure, box_mapping, box_swaps, last_pull, ttl, actions)\u001b[0m\n\u001b[0;32m     59\u001b[0m \u001b[1;33m\u001b[0m\u001b[0m\n\u001b[0;32m     60\u001b[0m             depth_first_search(room_state_next, room_structure,\n\u001b[1;32m---> 61\u001b[1;33m                                box_mapping_next, box_swaps_next, last_pull, ttl, actions_next)\n\u001b[0m\u001b[0;32m     62\u001b[0m \u001b[1;33m\u001b[0m\u001b[0m\n\u001b[0;32m     63\u001b[0m \u001b[1;33m\u001b[0m\u001b[0m\n",
      "\u001b[1;32mF:\\Projets\\MCTSnet\\MCTSnet\\sokoban\\hack.py\u001b[0m in \u001b[0;36mdepth_first_search\u001b[1;34m(room_state, room_structure, box_mapping, box_swaps, last_pull, ttl, actions)\u001b[0m\n\u001b[0;32m     59\u001b[0m \u001b[1;33m\u001b[0m\u001b[0m\n\u001b[0;32m     60\u001b[0m             depth_first_search(room_state_next, room_structure,\n\u001b[1;32m---> 61\u001b[1;33m                                box_mapping_next, box_swaps_next, last_pull, ttl, actions_next)\n\u001b[0m\u001b[0;32m     62\u001b[0m \u001b[1;33m\u001b[0m\u001b[0m\n\u001b[0;32m     63\u001b[0m \u001b[1;33m\u001b[0m\u001b[0m\n",
      "\u001b[1;32mF:\\Projets\\MCTSnet\\MCTSnet\\sokoban\\hack.py\u001b[0m in \u001b[0;36mdepth_first_search\u001b[1;34m(room_state, room_structure, box_mapping, box_swaps, last_pull, ttl, actions)\u001b[0m\n\u001b[0;32m     59\u001b[0m \u001b[1;33m\u001b[0m\u001b[0m\n\u001b[0;32m     60\u001b[0m             depth_first_search(room_state_next, room_structure,\n\u001b[1;32m---> 61\u001b[1;33m                                box_mapping_next, box_swaps_next, last_pull, ttl, actions_next)\n\u001b[0m\u001b[0;32m     62\u001b[0m \u001b[1;33m\u001b[0m\u001b[0m\n\u001b[0;32m     63\u001b[0m \u001b[1;33m\u001b[0m\u001b[0m\n",
      "\u001b[1;32mF:\\Projets\\MCTSnet\\MCTSnet\\sokoban\\hack.py\u001b[0m in \u001b[0;36mdepth_first_search\u001b[1;34m(room_state, room_structure, box_mapping, box_swaps, last_pull, ttl, actions)\u001b[0m\n\u001b[0;32m     59\u001b[0m \u001b[1;33m\u001b[0m\u001b[0m\n\u001b[0;32m     60\u001b[0m             depth_first_search(room_state_next, room_structure,\n\u001b[1;32m---> 61\u001b[1;33m                                box_mapping_next, box_swaps_next, last_pull, ttl, actions_next)\n\u001b[0m\u001b[0;32m     62\u001b[0m \u001b[1;33m\u001b[0m\u001b[0m\n\u001b[0;32m     63\u001b[0m \u001b[1;33m\u001b[0m\u001b[0m\n",
      "\u001b[1;32mF:\\Projets\\MCTSnet\\MCTSnet\\sokoban\\hack.py\u001b[0m in \u001b[0;36mdepth_first_search\u001b[1;34m(room_state, room_structure, box_mapping, box_swaps, last_pull, ttl, actions)\u001b[0m\n\u001b[0;32m     59\u001b[0m \u001b[1;33m\u001b[0m\u001b[0m\n\u001b[0;32m     60\u001b[0m             depth_first_search(room_state_next, room_structure,\n\u001b[1;32m---> 61\u001b[1;33m                                box_mapping_next, box_swaps_next, last_pull, ttl, actions_next)\n\u001b[0m\u001b[0;32m     62\u001b[0m \u001b[1;33m\u001b[0m\u001b[0m\n\u001b[0;32m     63\u001b[0m \u001b[1;33m\u001b[0m\u001b[0m\n",
      "\u001b[1;32mF:\\Projets\\MCTSnet\\MCTSnet\\sokoban\\hack.py\u001b[0m in \u001b[0;36mdepth_first_search\u001b[1;34m(room_state, room_structure, box_mapping, box_swaps, last_pull, ttl, actions)\u001b[0m\n\u001b[0;32m     59\u001b[0m \u001b[1;33m\u001b[0m\u001b[0m\n\u001b[0;32m     60\u001b[0m             depth_first_search(room_state_next, room_structure,\n\u001b[1;32m---> 61\u001b[1;33m                                box_mapping_next, box_swaps_next, last_pull, ttl, actions_next)\n\u001b[0m\u001b[0;32m     62\u001b[0m \u001b[1;33m\u001b[0m\u001b[0m\n\u001b[0;32m     63\u001b[0m \u001b[1;33m\u001b[0m\u001b[0m\n",
      "\u001b[1;32mF:\\Projets\\MCTSnet\\MCTSnet\\sokoban\\hack.py\u001b[0m in \u001b[0;36mdepth_first_search\u001b[1;34m(room_state, room_structure, box_mapping, box_swaps, last_pull, ttl, actions)\u001b[0m\n\u001b[0;32m     59\u001b[0m \u001b[1;33m\u001b[0m\u001b[0m\n\u001b[0;32m     60\u001b[0m             depth_first_search(room_state_next, room_structure,\n\u001b[1;32m---> 61\u001b[1;33m                                box_mapping_next, box_swaps_next, last_pull, ttl, actions_next)\n\u001b[0m\u001b[0;32m     62\u001b[0m \u001b[1;33m\u001b[0m\u001b[0m\n\u001b[0;32m     63\u001b[0m \u001b[1;33m\u001b[0m\u001b[0m\n",
      "\u001b[1;32mF:\\Projets\\MCTSnet\\MCTSnet\\sokoban\\hack.py\u001b[0m in \u001b[0;36mdepth_first_search\u001b[1;34m(room_state, room_structure, box_mapping, box_swaps, last_pull, ttl, actions)\u001b[0m\n\u001b[0;32m     59\u001b[0m \u001b[1;33m\u001b[0m\u001b[0m\n\u001b[0;32m     60\u001b[0m             depth_first_search(room_state_next, room_structure,\n\u001b[1;32m---> 61\u001b[1;33m                                box_mapping_next, box_swaps_next, last_pull, ttl, actions_next)\n\u001b[0m\u001b[0;32m     62\u001b[0m \u001b[1;33m\u001b[0m\u001b[0m\n\u001b[0;32m     63\u001b[0m \u001b[1;33m\u001b[0m\u001b[0m\n",
      "\u001b[1;32mF:\\Projets\\MCTSnet\\MCTSnet\\sokoban\\hack.py\u001b[0m in \u001b[0;36mdepth_first_search\u001b[1;34m(room_state, room_structure, box_mapping, box_swaps, last_pull, ttl, actions)\u001b[0m\n\u001b[0;32m     59\u001b[0m \u001b[1;33m\u001b[0m\u001b[0m\n\u001b[0;32m     60\u001b[0m             depth_first_search(room_state_next, room_structure,\n\u001b[1;32m---> 61\u001b[1;33m                                box_mapping_next, box_swaps_next, last_pull, ttl, actions_next)\n\u001b[0m\u001b[0;32m     62\u001b[0m \u001b[1;33m\u001b[0m\u001b[0m\n\u001b[0;32m     63\u001b[0m \u001b[1;33m\u001b[0m\u001b[0m\n",
      "\u001b[1;32mF:\\Projets\\MCTSnet\\MCTSnet\\sokoban\\hack.py\u001b[0m in \u001b[0;36mdepth_first_search\u001b[1;34m(room_state, room_structure, box_mapping, box_swaps, last_pull, ttl, actions)\u001b[0m\n\u001b[0;32m     59\u001b[0m \u001b[1;33m\u001b[0m\u001b[0m\n\u001b[0;32m     60\u001b[0m             depth_first_search(room_state_next, room_structure,\n\u001b[1;32m---> 61\u001b[1;33m                                box_mapping_next, box_swaps_next, last_pull, ttl, actions_next)\n\u001b[0m\u001b[0;32m     62\u001b[0m \u001b[1;33m\u001b[0m\u001b[0m\n\u001b[0;32m     63\u001b[0m \u001b[1;33m\u001b[0m\u001b[0m\n",
      "\u001b[1;32mF:\\Projets\\MCTSnet\\MCTSnet\\sokoban\\hack.py\u001b[0m in \u001b[0;36mdepth_first_search\u001b[1;34m(room_state, room_structure, box_mapping, box_swaps, last_pull, ttl, actions)\u001b[0m\n\u001b[0;32m     59\u001b[0m \u001b[1;33m\u001b[0m\u001b[0m\n\u001b[0;32m     60\u001b[0m             depth_first_search(room_state_next, room_structure,\n\u001b[1;32m---> 61\u001b[1;33m                                box_mapping_next, box_swaps_next, last_pull, ttl, actions_next)\n\u001b[0m\u001b[0;32m     62\u001b[0m \u001b[1;33m\u001b[0m\u001b[0m\n\u001b[0;32m     63\u001b[0m \u001b[1;33m\u001b[0m\u001b[0m\n",
      "\u001b[1;32mF:\\Projets\\MCTSnet\\MCTSnet\\sokoban\\hack.py\u001b[0m in \u001b[0;36mdepth_first_search\u001b[1;34m(room_state, room_structure, box_mapping, box_swaps, last_pull, ttl, actions)\u001b[0m\n\u001b[0;32m     59\u001b[0m \u001b[1;33m\u001b[0m\u001b[0m\n\u001b[0;32m     60\u001b[0m             depth_first_search(room_state_next, room_structure,\n\u001b[1;32m---> 61\u001b[1;33m                                box_mapping_next, box_swaps_next, last_pull, ttl, actions_next)\n\u001b[0m\u001b[0;32m     62\u001b[0m \u001b[1;33m\u001b[0m\u001b[0m\n\u001b[0;32m     63\u001b[0m \u001b[1;33m\u001b[0m\u001b[0m\n",
      "\u001b[1;32mF:\\Projets\\MCTSnet\\MCTSnet\\sokoban\\hack.py\u001b[0m in \u001b[0;36mdepth_first_search\u001b[1;34m(room_state, room_structure, box_mapping, box_swaps, last_pull, ttl, actions)\u001b[0m\n\u001b[0;32m     59\u001b[0m \u001b[1;33m\u001b[0m\u001b[0m\n\u001b[0;32m     60\u001b[0m             depth_first_search(room_state_next, room_structure,\n\u001b[1;32m---> 61\u001b[1;33m                                box_mapping_next, box_swaps_next, last_pull, ttl, actions_next)\n\u001b[0m\u001b[0;32m     62\u001b[0m \u001b[1;33m\u001b[0m\u001b[0m\n\u001b[0;32m     63\u001b[0m \u001b[1;33m\u001b[0m\u001b[0m\n",
      "\u001b[1;32mF:\\Projets\\MCTSnet\\MCTSnet\\sokoban\\hack.py\u001b[0m in \u001b[0;36mdepth_first_search\u001b[1;34m(room_state, room_structure, box_mapping, box_swaps, last_pull, ttl, actions)\u001b[0m\n\u001b[0;32m     59\u001b[0m \u001b[1;33m\u001b[0m\u001b[0m\n\u001b[0;32m     60\u001b[0m             depth_first_search(room_state_next, room_structure,\n\u001b[1;32m---> 61\u001b[1;33m                                box_mapping_next, box_swaps_next, last_pull, ttl, actions_next)\n\u001b[0m\u001b[0;32m     62\u001b[0m \u001b[1;33m\u001b[0m\u001b[0m\n\u001b[0;32m     63\u001b[0m \u001b[1;33m\u001b[0m\u001b[0m\n",
      "\u001b[1;32mF:\\Projets\\MCTSnet\\MCTSnet\\sokoban\\hack.py\u001b[0m in \u001b[0;36mdepth_first_search\u001b[1;34m(room_state, room_structure, box_mapping, box_swaps, last_pull, ttl, actions)\u001b[0m\n\u001b[0;32m     59\u001b[0m \u001b[1;33m\u001b[0m\u001b[0m\n\u001b[0;32m     60\u001b[0m             depth_first_search(room_state_next, room_structure,\n\u001b[1;32m---> 61\u001b[1;33m                                box_mapping_next, box_swaps_next, last_pull, ttl, actions_next)\n\u001b[0m\u001b[0;32m     62\u001b[0m \u001b[1;33m\u001b[0m\u001b[0m\n\u001b[0;32m     63\u001b[0m \u001b[1;33m\u001b[0m\u001b[0m\n",
      "\u001b[1;32mF:\\Projets\\MCTSnet\\MCTSnet\\sokoban\\hack.py\u001b[0m in \u001b[0;36mdepth_first_search\u001b[1;34m(room_state, room_structure, box_mapping, box_swaps, last_pull, ttl, actions)\u001b[0m\n\u001b[0;32m     59\u001b[0m \u001b[1;33m\u001b[0m\u001b[0m\n\u001b[0;32m     60\u001b[0m             depth_first_search(room_state_next, room_structure,\n\u001b[1;32m---> 61\u001b[1;33m                                box_mapping_next, box_swaps_next, last_pull, ttl, actions_next)\n\u001b[0m\u001b[0;32m     62\u001b[0m \u001b[1;33m\u001b[0m\u001b[0m\n\u001b[0;32m     63\u001b[0m \u001b[1;33m\u001b[0m\u001b[0m\n",
      "\u001b[1;32mF:\\Projets\\MCTSnet\\MCTSnet\\sokoban\\hack.py\u001b[0m in \u001b[0;36mdepth_first_search\u001b[1;34m(room_state, room_structure, box_mapping, box_swaps, last_pull, ttl, actions)\u001b[0m\n\u001b[0;32m     59\u001b[0m \u001b[1;33m\u001b[0m\u001b[0m\n\u001b[0;32m     60\u001b[0m             depth_first_search(room_state_next, room_structure,\n\u001b[1;32m---> 61\u001b[1;33m                                box_mapping_next, box_swaps_next, last_pull, ttl, actions_next)\n\u001b[0m\u001b[0;32m     62\u001b[0m \u001b[1;33m\u001b[0m\u001b[0m\n\u001b[0;32m     63\u001b[0m \u001b[1;33m\u001b[0m\u001b[0m\n",
      "\u001b[1;32mF:\\Projets\\MCTSnet\\MCTSnet\\sokoban\\hack.py\u001b[0m in \u001b[0;36mdepth_first_search\u001b[1;34m(room_state, room_structure, box_mapping, box_swaps, last_pull, ttl, actions)\u001b[0m\n\u001b[0;32m     59\u001b[0m \u001b[1;33m\u001b[0m\u001b[0m\n\u001b[0;32m     60\u001b[0m             depth_first_search(room_state_next, room_structure,\n\u001b[1;32m---> 61\u001b[1;33m                                box_mapping_next, box_swaps_next, last_pull, ttl, actions_next)\n\u001b[0m\u001b[0;32m     62\u001b[0m \u001b[1;33m\u001b[0m\u001b[0m\n\u001b[0;32m     63\u001b[0m \u001b[1;33m\u001b[0m\u001b[0m\n",
      "\u001b[1;32mF:\\Projets\\MCTSnet\\MCTSnet\\sokoban\\hack.py\u001b[0m in \u001b[0;36mdepth_first_search\u001b[1;34m(room_state, room_structure, box_mapping, box_swaps, last_pull, ttl, actions)\u001b[0m\n\u001b[0;32m     59\u001b[0m \u001b[1;33m\u001b[0m\u001b[0m\n\u001b[0;32m     60\u001b[0m             depth_first_search(room_state_next, room_structure,\n\u001b[1;32m---> 61\u001b[1;33m                                box_mapping_next, box_swaps_next, last_pull, ttl, actions_next)\n\u001b[0m\u001b[0;32m     62\u001b[0m \u001b[1;33m\u001b[0m\u001b[0m\n\u001b[0;32m     63\u001b[0m \u001b[1;33m\u001b[0m\u001b[0m\n",
      "\u001b[1;32mF:\\Projets\\MCTSnet\\MCTSnet\\sokoban\\hack.py\u001b[0m in \u001b[0;36mdepth_first_search\u001b[1;34m(room_state, room_structure, box_mapping, box_swaps, last_pull, ttl, actions)\u001b[0m\n\u001b[0;32m     59\u001b[0m \u001b[1;33m\u001b[0m\u001b[0m\n\u001b[0;32m     60\u001b[0m             depth_first_search(room_state_next, room_structure,\n\u001b[1;32m---> 61\u001b[1;33m                                box_mapping_next, box_swaps_next, last_pull, ttl, actions_next)\n\u001b[0m\u001b[0;32m     62\u001b[0m \u001b[1;33m\u001b[0m\u001b[0m\n\u001b[0;32m     63\u001b[0m \u001b[1;33m\u001b[0m\u001b[0m\n",
      "\u001b[1;32mF:\\Projets\\MCTSnet\\MCTSnet\\sokoban\\hack.py\u001b[0m in \u001b[0;36mdepth_first_search\u001b[1;34m(room_state, room_structure, box_mapping, box_swaps, last_pull, ttl, actions)\u001b[0m\n\u001b[0;32m     59\u001b[0m \u001b[1;33m\u001b[0m\u001b[0m\n\u001b[0;32m     60\u001b[0m             depth_first_search(room_state_next, room_structure,\n\u001b[1;32m---> 61\u001b[1;33m                                box_mapping_next, box_swaps_next, last_pull, ttl, actions_next)\n\u001b[0m\u001b[0;32m     62\u001b[0m \u001b[1;33m\u001b[0m\u001b[0m\n\u001b[0;32m     63\u001b[0m \u001b[1;33m\u001b[0m\u001b[0m\n",
      "\u001b[1;32mF:\\Projets\\MCTSnet\\MCTSnet\\sokoban\\hack.py\u001b[0m in \u001b[0;36mdepth_first_search\u001b[1;34m(room_state, room_structure, box_mapping, box_swaps, last_pull, ttl, actions)\u001b[0m\n\u001b[0;32m     59\u001b[0m \u001b[1;33m\u001b[0m\u001b[0m\n\u001b[0;32m     60\u001b[0m             depth_first_search(room_state_next, room_structure,\n\u001b[1;32m---> 61\u001b[1;33m                                box_mapping_next, box_swaps_next, last_pull, ttl, actions_next)\n\u001b[0m\u001b[0;32m     62\u001b[0m \u001b[1;33m\u001b[0m\u001b[0m\n\u001b[0;32m     63\u001b[0m \u001b[1;33m\u001b[0m\u001b[0m\n",
      "\u001b[1;32mF:\\Projets\\MCTSnet\\MCTSnet\\sokoban\\hack.py\u001b[0m in \u001b[0;36mdepth_first_search\u001b[1;34m(room_state, room_structure, box_mapping, box_swaps, last_pull, ttl, actions)\u001b[0m\n\u001b[0;32m     59\u001b[0m \u001b[1;33m\u001b[0m\u001b[0m\n\u001b[0;32m     60\u001b[0m             depth_first_search(room_state_next, room_structure,\n\u001b[1;32m---> 61\u001b[1;33m                                box_mapping_next, box_swaps_next, last_pull, ttl, actions_next)\n\u001b[0m\u001b[0;32m     62\u001b[0m \u001b[1;33m\u001b[0m\u001b[0m\n\u001b[0;32m     63\u001b[0m \u001b[1;33m\u001b[0m\u001b[0m\n",
      "\u001b[1;32mF:\\Projets\\MCTSnet\\MCTSnet\\sokoban\\hack.py\u001b[0m in \u001b[0;36mdepth_first_search\u001b[1;34m(room_state, room_structure, box_mapping, box_swaps, last_pull, ttl, actions)\u001b[0m\n\u001b[0;32m     59\u001b[0m \u001b[1;33m\u001b[0m\u001b[0m\n\u001b[0;32m     60\u001b[0m             depth_first_search(room_state_next, room_structure,\n\u001b[1;32m---> 61\u001b[1;33m                                box_mapping_next, box_swaps_next, last_pull, ttl, actions_next)\n\u001b[0m\u001b[0;32m     62\u001b[0m \u001b[1;33m\u001b[0m\u001b[0m\n\u001b[0;32m     63\u001b[0m \u001b[1;33m\u001b[0m\u001b[0m\n",
      "\u001b[1;32mF:\\Projets\\MCTSnet\\MCTSnet\\sokoban\\hack.py\u001b[0m in \u001b[0;36mdepth_first_search\u001b[1;34m(room_state, room_structure, box_mapping, box_swaps, last_pull, ttl, actions)\u001b[0m\n\u001b[0;32m     59\u001b[0m \u001b[1;33m\u001b[0m\u001b[0m\n\u001b[0;32m     60\u001b[0m             depth_first_search(room_state_next, room_structure,\n\u001b[1;32m---> 61\u001b[1;33m                                box_mapping_next, box_swaps_next, last_pull, ttl, actions_next)\n\u001b[0m\u001b[0;32m     62\u001b[0m \u001b[1;33m\u001b[0m\u001b[0m\n\u001b[0;32m     63\u001b[0m \u001b[1;33m\u001b[0m\u001b[0m\n",
      "\u001b[1;32mF:\\Projets\\MCTSnet\\MCTSnet\\sokoban\\hack.py\u001b[0m in \u001b[0;36mdepth_first_search\u001b[1;34m(room_state, room_structure, box_mapping, box_swaps, last_pull, ttl, actions)\u001b[0m\n\u001b[0;32m     59\u001b[0m \u001b[1;33m\u001b[0m\u001b[0m\n\u001b[0;32m     60\u001b[0m             depth_first_search(room_state_next, room_structure,\n\u001b[1;32m---> 61\u001b[1;33m                                box_mapping_next, box_swaps_next, last_pull, ttl, actions_next)\n\u001b[0m\u001b[0;32m     62\u001b[0m \u001b[1;33m\u001b[0m\u001b[0m\n\u001b[0;32m     63\u001b[0m \u001b[1;33m\u001b[0m\u001b[0m\n",
      "\u001b[1;32mF:\\Projets\\MCTSnet\\MCTSnet\\sokoban\\hack.py\u001b[0m in \u001b[0;36mdepth_first_search\u001b[1;34m(room_state, room_structure, box_mapping, box_swaps, last_pull, ttl, actions)\u001b[0m\n\u001b[0;32m     59\u001b[0m \u001b[1;33m\u001b[0m\u001b[0m\n\u001b[0;32m     60\u001b[0m             depth_first_search(room_state_next, room_structure,\n\u001b[1;32m---> 61\u001b[1;33m                                box_mapping_next, box_swaps_next, last_pull, ttl, actions_next)\n\u001b[0m\u001b[0;32m     62\u001b[0m \u001b[1;33m\u001b[0m\u001b[0m\n\u001b[0;32m     63\u001b[0m \u001b[1;33m\u001b[0m\u001b[0m\n",
      "\u001b[1;32mF:\\Projets\\MCTSnet\\MCTSnet\\sokoban\\hack.py\u001b[0m in \u001b[0;36mdepth_first_search\u001b[1;34m(room_state, room_structure, box_mapping, box_swaps, last_pull, ttl, actions)\u001b[0m\n\u001b[0;32m     59\u001b[0m \u001b[1;33m\u001b[0m\u001b[0m\n\u001b[0;32m     60\u001b[0m             depth_first_search(room_state_next, room_structure,\n\u001b[1;32m---> 61\u001b[1;33m                                box_mapping_next, box_swaps_next, last_pull, ttl, actions_next)\n\u001b[0m\u001b[0;32m     62\u001b[0m \u001b[1;33m\u001b[0m\u001b[0m\n\u001b[0;32m     63\u001b[0m \u001b[1;33m\u001b[0m\u001b[0m\n",
      "\u001b[1;32mF:\\Projets\\MCTSnet\\MCTSnet\\sokoban\\hack.py\u001b[0m in \u001b[0;36mdepth_first_search\u001b[1;34m(room_state, room_structure, box_mapping, box_swaps, last_pull, ttl, actions)\u001b[0m\n\u001b[0;32m     59\u001b[0m \u001b[1;33m\u001b[0m\u001b[0m\n\u001b[0;32m     60\u001b[0m             depth_first_search(room_state_next, room_structure,\n\u001b[1;32m---> 61\u001b[1;33m                                box_mapping_next, box_swaps_next, last_pull, ttl, actions_next)\n\u001b[0m\u001b[0;32m     62\u001b[0m \u001b[1;33m\u001b[0m\u001b[0m\n\u001b[0;32m     63\u001b[0m \u001b[1;33m\u001b[0m\u001b[0m\n",
      "\u001b[1;32mF:\\Projets\\MCTSnet\\MCTSnet\\sokoban\\hack.py\u001b[0m in \u001b[0;36mdepth_first_search\u001b[1;34m(room_state, room_structure, box_mapping, box_swaps, last_pull, ttl, actions)\u001b[0m\n\u001b[0;32m     59\u001b[0m \u001b[1;33m\u001b[0m\u001b[0m\n\u001b[0;32m     60\u001b[0m             depth_first_search(room_state_next, room_structure,\n\u001b[1;32m---> 61\u001b[1;33m                                box_mapping_next, box_swaps_next, last_pull, ttl, actions_next)\n\u001b[0m\u001b[0;32m     62\u001b[0m \u001b[1;33m\u001b[0m\u001b[0m\n\u001b[0;32m     63\u001b[0m \u001b[1;33m\u001b[0m\u001b[0m\n",
      "\u001b[1;32mF:\\Projets\\MCTSnet\\MCTSnet\\sokoban\\hack.py\u001b[0m in \u001b[0;36mdepth_first_search\u001b[1;34m(room_state, room_structure, box_mapping, box_swaps, last_pull, ttl, actions)\u001b[0m\n\u001b[0;32m     59\u001b[0m \u001b[1;33m\u001b[0m\u001b[0m\n\u001b[0;32m     60\u001b[0m             depth_first_search(room_state_next, room_structure,\n\u001b[1;32m---> 61\u001b[1;33m                                box_mapping_next, box_swaps_next, last_pull, ttl, actions_next)\n\u001b[0m\u001b[0;32m     62\u001b[0m \u001b[1;33m\u001b[0m\u001b[0m\n\u001b[0;32m     63\u001b[0m \u001b[1;33m\u001b[0m\u001b[0m\n",
      "\u001b[1;32mF:\\Projets\\MCTSnet\\MCTSnet\\sokoban\\hack.py\u001b[0m in \u001b[0;36mdepth_first_search\u001b[1;34m(room_state, room_structure, box_mapping, box_swaps, last_pull, ttl, actions)\u001b[0m\n\u001b[0;32m     59\u001b[0m \u001b[1;33m\u001b[0m\u001b[0m\n\u001b[0;32m     60\u001b[0m             depth_first_search(room_state_next, room_structure,\n\u001b[1;32m---> 61\u001b[1;33m                                box_mapping_next, box_swaps_next, last_pull, ttl, actions_next)\n\u001b[0m\u001b[0;32m     62\u001b[0m \u001b[1;33m\u001b[0m\u001b[0m\n\u001b[0;32m     63\u001b[0m \u001b[1;33m\u001b[0m\u001b[0m\n",
      "\u001b[1;32mF:\\Projets\\MCTSnet\\MCTSnet\\sokoban\\hack.py\u001b[0m in \u001b[0;36mdepth_first_search\u001b[1;34m(room_state, room_structure, box_mapping, box_swaps, last_pull, ttl, actions)\u001b[0m\n\u001b[0;32m     59\u001b[0m \u001b[1;33m\u001b[0m\u001b[0m\n\u001b[0;32m     60\u001b[0m             depth_first_search(room_state_next, room_structure,\n\u001b[1;32m---> 61\u001b[1;33m                                box_mapping_next, box_swaps_next, last_pull, ttl, actions_next)\n\u001b[0m\u001b[0;32m     62\u001b[0m \u001b[1;33m\u001b[0m\u001b[0m\n\u001b[0;32m     63\u001b[0m \u001b[1;33m\u001b[0m\u001b[0m\n",
      "\u001b[1;32mF:\\Projets\\MCTSnet\\MCTSnet\\sokoban\\hack.py\u001b[0m in \u001b[0;36mdepth_first_search\u001b[1;34m(room_state, room_structure, box_mapping, box_swaps, last_pull, ttl, actions)\u001b[0m\n\u001b[0;32m     59\u001b[0m \u001b[1;33m\u001b[0m\u001b[0m\n\u001b[0;32m     60\u001b[0m             depth_first_search(room_state_next, room_structure,\n\u001b[1;32m---> 61\u001b[1;33m                                box_mapping_next, box_swaps_next, last_pull, ttl, actions_next)\n\u001b[0m\u001b[0;32m     62\u001b[0m \u001b[1;33m\u001b[0m\u001b[0m\n\u001b[0;32m     63\u001b[0m \u001b[1;33m\u001b[0m\u001b[0m\n",
      "\u001b[1;32mF:\\Projets\\MCTSnet\\MCTSnet\\sokoban\\hack.py\u001b[0m in \u001b[0;36mdepth_first_search\u001b[1;34m(room_state, room_structure, box_mapping, box_swaps, last_pull, ttl, actions)\u001b[0m\n\u001b[0;32m     59\u001b[0m \u001b[1;33m\u001b[0m\u001b[0m\n\u001b[0;32m     60\u001b[0m             depth_first_search(room_state_next, room_structure,\n\u001b[1;32m---> 61\u001b[1;33m                                box_mapping_next, box_swaps_next, last_pull, ttl, actions_next)\n\u001b[0m\u001b[0;32m     62\u001b[0m \u001b[1;33m\u001b[0m\u001b[0m\n\u001b[0;32m     63\u001b[0m \u001b[1;33m\u001b[0m\u001b[0m\n",
      "\u001b[1;32mF:\\Projets\\MCTSnet\\MCTSnet\\sokoban\\hack.py\u001b[0m in \u001b[0;36mdepth_first_search\u001b[1;34m(room_state, room_structure, box_mapping, box_swaps, last_pull, ttl, actions)\u001b[0m\n\u001b[0;32m     59\u001b[0m \u001b[1;33m\u001b[0m\u001b[0m\n\u001b[0;32m     60\u001b[0m             depth_first_search(room_state_next, room_structure,\n\u001b[1;32m---> 61\u001b[1;33m                                box_mapping_next, box_swaps_next, last_pull, ttl, actions_next)\n\u001b[0m\u001b[0;32m     62\u001b[0m \u001b[1;33m\u001b[0m\u001b[0m\n\u001b[0;32m     63\u001b[0m \u001b[1;33m\u001b[0m\u001b[0m\n",
      "\u001b[1;32mF:\\Projets\\MCTSnet\\MCTSnet\\sokoban\\hack.py\u001b[0m in \u001b[0;36mdepth_first_search\u001b[1;34m(room_state, room_structure, box_mapping, box_swaps, last_pull, ttl, actions)\u001b[0m\n\u001b[0;32m     59\u001b[0m \u001b[1;33m\u001b[0m\u001b[0m\n\u001b[0;32m     60\u001b[0m             depth_first_search(room_state_next, room_structure,\n\u001b[1;32m---> 61\u001b[1;33m                                box_mapping_next, box_swaps_next, last_pull, ttl, actions_next)\n\u001b[0m\u001b[0;32m     62\u001b[0m \u001b[1;33m\u001b[0m\u001b[0m\n\u001b[0;32m     63\u001b[0m \u001b[1;33m\u001b[0m\u001b[0m\n",
      "\u001b[1;32mF:\\Projets\\MCTSnet\\MCTSnet\\sokoban\\hack.py\u001b[0m in \u001b[0;36mdepth_first_search\u001b[1;34m(room_state, room_structure, box_mapping, box_swaps, last_pull, ttl, actions)\u001b[0m\n\u001b[0;32m     59\u001b[0m \u001b[1;33m\u001b[0m\u001b[0m\n\u001b[0;32m     60\u001b[0m             depth_first_search(room_state_next, room_structure,\n\u001b[1;32m---> 61\u001b[1;33m                                box_mapping_next, box_swaps_next, last_pull, ttl, actions_next)\n\u001b[0m\u001b[0;32m     62\u001b[0m \u001b[1;33m\u001b[0m\u001b[0m\n\u001b[0;32m     63\u001b[0m \u001b[1;33m\u001b[0m\u001b[0m\n",
      "\u001b[1;32mF:\\Projets\\MCTSnet\\MCTSnet\\sokoban\\hack.py\u001b[0m in \u001b[0;36mdepth_first_search\u001b[1;34m(room_state, room_structure, box_mapping, box_swaps, last_pull, ttl, actions)\u001b[0m\n\u001b[0;32m     59\u001b[0m \u001b[1;33m\u001b[0m\u001b[0m\n\u001b[0;32m     60\u001b[0m             depth_first_search(room_state_next, room_structure,\n\u001b[1;32m---> 61\u001b[1;33m                                box_mapping_next, box_swaps_next, last_pull, ttl, actions_next)\n\u001b[0m\u001b[0;32m     62\u001b[0m \u001b[1;33m\u001b[0m\u001b[0m\n\u001b[0;32m     63\u001b[0m \u001b[1;33m\u001b[0m\u001b[0m\n",
      "\u001b[1;32mF:\\Projets\\MCTSnet\\MCTSnet\\sokoban\\hack.py\u001b[0m in \u001b[0;36mdepth_first_search\u001b[1;34m(room_state, room_structure, box_mapping, box_swaps, last_pull, ttl, actions)\u001b[0m\n\u001b[0;32m     59\u001b[0m \u001b[1;33m\u001b[0m\u001b[0m\n\u001b[0;32m     60\u001b[0m             depth_first_search(room_state_next, room_structure,\n\u001b[1;32m---> 61\u001b[1;33m                                box_mapping_next, box_swaps_next, last_pull, ttl, actions_next)\n\u001b[0m\u001b[0;32m     62\u001b[0m \u001b[1;33m\u001b[0m\u001b[0m\n\u001b[0;32m     63\u001b[0m \u001b[1;33m\u001b[0m\u001b[0m\n",
      "\u001b[1;32mF:\\Projets\\MCTSnet\\MCTSnet\\sokoban\\hack.py\u001b[0m in \u001b[0;36mdepth_first_search\u001b[1;34m(room_state, room_structure, box_mapping, box_swaps, last_pull, ttl, actions)\u001b[0m\n\u001b[0;32m     59\u001b[0m \u001b[1;33m\u001b[0m\u001b[0m\n\u001b[0;32m     60\u001b[0m             depth_first_search(room_state_next, room_structure,\n\u001b[1;32m---> 61\u001b[1;33m                                box_mapping_next, box_swaps_next, last_pull, ttl, actions_next)\n\u001b[0m\u001b[0;32m     62\u001b[0m \u001b[1;33m\u001b[0m\u001b[0m\n\u001b[0;32m     63\u001b[0m \u001b[1;33m\u001b[0m\u001b[0m\n",
      "\u001b[1;32mF:\\Projets\\MCTSnet\\MCTSnet\\sokoban\\hack.py\u001b[0m in \u001b[0;36mdepth_first_search\u001b[1;34m(room_state, room_structure, box_mapping, box_swaps, last_pull, ttl, actions)\u001b[0m\n\u001b[0;32m     59\u001b[0m \u001b[1;33m\u001b[0m\u001b[0m\n\u001b[0;32m     60\u001b[0m             depth_first_search(room_state_next, room_structure,\n\u001b[1;32m---> 61\u001b[1;33m                                box_mapping_next, box_swaps_next, last_pull, ttl, actions_next)\n\u001b[0m\u001b[0;32m     62\u001b[0m \u001b[1;33m\u001b[0m\u001b[0m\n\u001b[0;32m     63\u001b[0m \u001b[1;33m\u001b[0m\u001b[0m\n",
      "\u001b[1;32mF:\\Projets\\MCTSnet\\MCTSnet\\sokoban\\hack.py\u001b[0m in \u001b[0;36mdepth_first_search\u001b[1;34m(room_state, room_structure, box_mapping, box_swaps, last_pull, ttl, actions)\u001b[0m\n\u001b[0;32m     59\u001b[0m \u001b[1;33m\u001b[0m\u001b[0m\n\u001b[0;32m     60\u001b[0m             depth_first_search(room_state_next, room_structure,\n\u001b[1;32m---> 61\u001b[1;33m                                box_mapping_next, box_swaps_next, last_pull, ttl, actions_next)\n\u001b[0m\u001b[0;32m     62\u001b[0m \u001b[1;33m\u001b[0m\u001b[0m\n\u001b[0;32m     63\u001b[0m \u001b[1;33m\u001b[0m\u001b[0m\n",
      "\u001b[1;32mF:\\Projets\\MCTSnet\\MCTSnet\\sokoban\\hack.py\u001b[0m in \u001b[0;36mdepth_first_search\u001b[1;34m(room_state, room_structure, box_mapping, box_swaps, last_pull, ttl, actions)\u001b[0m\n\u001b[0;32m     59\u001b[0m \u001b[1;33m\u001b[0m\u001b[0m\n\u001b[0;32m     60\u001b[0m             depth_first_search(room_state_next, room_structure,\n\u001b[1;32m---> 61\u001b[1;33m                                box_mapping_next, box_swaps_next, last_pull, ttl, actions_next)\n\u001b[0m\u001b[0;32m     62\u001b[0m \u001b[1;33m\u001b[0m\u001b[0m\n\u001b[0;32m     63\u001b[0m \u001b[1;33m\u001b[0m\u001b[0m\n",
      "\u001b[1;32mF:\\Projets\\MCTSnet\\MCTSnet\\sokoban\\hack.py\u001b[0m in \u001b[0;36mdepth_first_search\u001b[1;34m(room_state, room_structure, box_mapping, box_swaps, last_pull, ttl, actions)\u001b[0m\n\u001b[0;32m     59\u001b[0m \u001b[1;33m\u001b[0m\u001b[0m\n\u001b[0;32m     60\u001b[0m             depth_first_search(room_state_next, room_structure,\n\u001b[1;32m---> 61\u001b[1;33m                                box_mapping_next, box_swaps_next, last_pull, ttl, actions_next)\n\u001b[0m\u001b[0;32m     62\u001b[0m \u001b[1;33m\u001b[0m\u001b[0m\n\u001b[0;32m     63\u001b[0m \u001b[1;33m\u001b[0m\u001b[0m\n",
      "\u001b[1;32mF:\\Projets\\MCTSnet\\MCTSnet\\sokoban\\hack.py\u001b[0m in \u001b[0;36mdepth_first_search\u001b[1;34m(room_state, room_structure, box_mapping, box_swaps, last_pull, ttl, actions)\u001b[0m\n\u001b[0;32m     59\u001b[0m \u001b[1;33m\u001b[0m\u001b[0m\n\u001b[0;32m     60\u001b[0m             depth_first_search(room_state_next, room_structure,\n\u001b[1;32m---> 61\u001b[1;33m                                box_mapping_next, box_swaps_next, last_pull, ttl, actions_next)\n\u001b[0m\u001b[0;32m     62\u001b[0m \u001b[1;33m\u001b[0m\u001b[0m\n\u001b[0;32m     63\u001b[0m \u001b[1;33m\u001b[0m\u001b[0m\n",
      "\u001b[1;32mF:\\Projets\\MCTSnet\\MCTSnet\\sokoban\\hack.py\u001b[0m in \u001b[0;36mdepth_first_search\u001b[1;34m(room_state, room_structure, box_mapping, box_swaps, last_pull, ttl, actions)\u001b[0m\n\u001b[0;32m     59\u001b[0m \u001b[1;33m\u001b[0m\u001b[0m\n\u001b[0;32m     60\u001b[0m             depth_first_search(room_state_next, room_structure,\n\u001b[1;32m---> 61\u001b[1;33m                                box_mapping_next, box_swaps_next, last_pull, ttl, actions_next)\n\u001b[0m\u001b[0;32m     62\u001b[0m \u001b[1;33m\u001b[0m\u001b[0m\n\u001b[0;32m     63\u001b[0m \u001b[1;33m\u001b[0m\u001b[0m\n",
      "\u001b[1;32mF:\\Projets\\MCTSnet\\MCTSnet\\sokoban\\hack.py\u001b[0m in \u001b[0;36mdepth_first_search\u001b[1;34m(room_state, room_structure, box_mapping, box_swaps, last_pull, ttl, actions)\u001b[0m\n\u001b[0;32m     59\u001b[0m \u001b[1;33m\u001b[0m\u001b[0m\n\u001b[0;32m     60\u001b[0m             depth_first_search(room_state_next, room_structure,\n\u001b[1;32m---> 61\u001b[1;33m                                box_mapping_next, box_swaps_next, last_pull, ttl, actions_next)\n\u001b[0m\u001b[0;32m     62\u001b[0m \u001b[1;33m\u001b[0m\u001b[0m\n\u001b[0;32m     63\u001b[0m \u001b[1;33m\u001b[0m\u001b[0m\n",
      "\u001b[1;32mF:\\Projets\\MCTSnet\\MCTSnet\\sokoban\\hack.py\u001b[0m in \u001b[0;36mdepth_first_search\u001b[1;34m(room_state, room_structure, box_mapping, box_swaps, last_pull, ttl, actions)\u001b[0m\n\u001b[0;32m     59\u001b[0m \u001b[1;33m\u001b[0m\u001b[0m\n\u001b[0;32m     60\u001b[0m             depth_first_search(room_state_next, room_structure,\n\u001b[1;32m---> 61\u001b[1;33m                                box_mapping_next, box_swaps_next, last_pull, ttl, actions_next)\n\u001b[0m\u001b[0;32m     62\u001b[0m \u001b[1;33m\u001b[0m\u001b[0m\n\u001b[0;32m     63\u001b[0m \u001b[1;33m\u001b[0m\u001b[0m\n",
      "\u001b[1;32mF:\\Projets\\MCTSnet\\MCTSnet\\sokoban\\hack.py\u001b[0m in \u001b[0;36mdepth_first_search\u001b[1;34m(room_state, room_structure, box_mapping, box_swaps, last_pull, ttl, actions)\u001b[0m\n\u001b[0;32m     59\u001b[0m \u001b[1;33m\u001b[0m\u001b[0m\n\u001b[0;32m     60\u001b[0m             depth_first_search(room_state_next, room_structure,\n\u001b[1;32m---> 61\u001b[1;33m                                box_mapping_next, box_swaps_next, last_pull, ttl, actions_next)\n\u001b[0m\u001b[0;32m     62\u001b[0m \u001b[1;33m\u001b[0m\u001b[0m\n\u001b[0;32m     63\u001b[0m \u001b[1;33m\u001b[0m\u001b[0m\n",
      "\u001b[1;32mF:\\Projets\\MCTSnet\\MCTSnet\\sokoban\\hack.py\u001b[0m in \u001b[0;36mdepth_first_search\u001b[1;34m(room_state, room_structure, box_mapping, box_swaps, last_pull, ttl, actions)\u001b[0m\n\u001b[0;32m     59\u001b[0m \u001b[1;33m\u001b[0m\u001b[0m\n\u001b[0;32m     60\u001b[0m             depth_first_search(room_state_next, room_structure,\n\u001b[1;32m---> 61\u001b[1;33m                                box_mapping_next, box_swaps_next, last_pull, ttl, actions_next)\n\u001b[0m\u001b[0;32m     62\u001b[0m \u001b[1;33m\u001b[0m\u001b[0m\n\u001b[0;32m     63\u001b[0m \u001b[1;33m\u001b[0m\u001b[0m\n",
      "\u001b[1;32mF:\\Projets\\MCTSnet\\MCTSnet\\sokoban\\hack.py\u001b[0m in \u001b[0;36mdepth_first_search\u001b[1;34m(room_state, room_structure, box_mapping, box_swaps, last_pull, ttl, actions)\u001b[0m\n\u001b[0;32m     59\u001b[0m \u001b[1;33m\u001b[0m\u001b[0m\n\u001b[0;32m     60\u001b[0m             depth_first_search(room_state_next, room_structure,\n\u001b[1;32m---> 61\u001b[1;33m                                box_mapping_next, box_swaps_next, last_pull, ttl, actions_next)\n\u001b[0m\u001b[0;32m     62\u001b[0m \u001b[1;33m\u001b[0m\u001b[0m\n\u001b[0;32m     63\u001b[0m \u001b[1;33m\u001b[0m\u001b[0m\n",
      "\u001b[1;32mF:\\Projets\\MCTSnet\\MCTSnet\\sokoban\\hack.py\u001b[0m in \u001b[0;36mdepth_first_search\u001b[1;34m(room_state, room_structure, box_mapping, box_swaps, last_pull, ttl, actions)\u001b[0m\n\u001b[0;32m     59\u001b[0m \u001b[1;33m\u001b[0m\u001b[0m\n\u001b[0;32m     60\u001b[0m             depth_first_search(room_state_next, room_structure,\n\u001b[1;32m---> 61\u001b[1;33m                                box_mapping_next, box_swaps_next, last_pull, ttl, actions_next)\n\u001b[0m\u001b[0;32m     62\u001b[0m \u001b[1;33m\u001b[0m\u001b[0m\n\u001b[0;32m     63\u001b[0m \u001b[1;33m\u001b[0m\u001b[0m\n",
      "\u001b[1;32mF:\\Projets\\MCTSnet\\MCTSnet\\sokoban\\hack.py\u001b[0m in \u001b[0;36mdepth_first_search\u001b[1;34m(room_state, room_structure, box_mapping, box_swaps, last_pull, ttl, actions)\u001b[0m\n\u001b[0;32m     59\u001b[0m \u001b[1;33m\u001b[0m\u001b[0m\n\u001b[0;32m     60\u001b[0m             depth_first_search(room_state_next, room_structure,\n\u001b[1;32m---> 61\u001b[1;33m                                box_mapping_next, box_swaps_next, last_pull, ttl, actions_next)\n\u001b[0m\u001b[0;32m     62\u001b[0m \u001b[1;33m\u001b[0m\u001b[0m\n\u001b[0;32m     63\u001b[0m \u001b[1;33m\u001b[0m\u001b[0m\n",
      "\u001b[1;32mF:\\Projets\\MCTSnet\\MCTSnet\\sokoban\\hack.py\u001b[0m in \u001b[0;36mdepth_first_search\u001b[1;34m(room_state, room_structure, box_mapping, box_swaps, last_pull, ttl, actions)\u001b[0m\n\u001b[0;32m     59\u001b[0m \u001b[1;33m\u001b[0m\u001b[0m\n\u001b[0;32m     60\u001b[0m             depth_first_search(room_state_next, room_structure,\n\u001b[1;32m---> 61\u001b[1;33m                                box_mapping_next, box_swaps_next, last_pull, ttl, actions_next)\n\u001b[0m\u001b[0;32m     62\u001b[0m \u001b[1;33m\u001b[0m\u001b[0m\n\u001b[0;32m     63\u001b[0m \u001b[1;33m\u001b[0m\u001b[0m\n",
      "\u001b[1;32mF:\\Projets\\MCTSnet\\MCTSnet\\sokoban\\hack.py\u001b[0m in \u001b[0;36mdepth_first_search\u001b[1;34m(room_state, room_structure, box_mapping, box_swaps, last_pull, ttl, actions)\u001b[0m\n\u001b[0;32m     59\u001b[0m \u001b[1;33m\u001b[0m\u001b[0m\n\u001b[0;32m     60\u001b[0m             depth_first_search(room_state_next, room_structure,\n\u001b[1;32m---> 61\u001b[1;33m                                box_mapping_next, box_swaps_next, last_pull, ttl, actions_next)\n\u001b[0m\u001b[0;32m     62\u001b[0m \u001b[1;33m\u001b[0m\u001b[0m\n\u001b[0;32m     63\u001b[0m \u001b[1;33m\u001b[0m\u001b[0m\n",
      "\u001b[1;32mF:\\Projets\\MCTSnet\\MCTSnet\\sokoban\\hack.py\u001b[0m in \u001b[0;36mdepth_first_search\u001b[1;34m(room_state, room_structure, box_mapping, box_swaps, last_pull, ttl, actions)\u001b[0m\n\u001b[0;32m     59\u001b[0m \u001b[1;33m\u001b[0m\u001b[0m\n\u001b[0;32m     60\u001b[0m             depth_first_search(room_state_next, room_structure,\n\u001b[1;32m---> 61\u001b[1;33m                                box_mapping_next, box_swaps_next, last_pull, ttl, actions_next)\n\u001b[0m\u001b[0;32m     62\u001b[0m \u001b[1;33m\u001b[0m\u001b[0m\n\u001b[0;32m     63\u001b[0m \u001b[1;33m\u001b[0m\u001b[0m\n",
      "\u001b[1;32mF:\\Projets\\MCTSnet\\MCTSnet\\sokoban\\hack.py\u001b[0m in \u001b[0;36mdepth_first_search\u001b[1;34m(room_state, room_structure, box_mapping, box_swaps, last_pull, ttl, actions)\u001b[0m\n\u001b[0;32m     59\u001b[0m \u001b[1;33m\u001b[0m\u001b[0m\n\u001b[0;32m     60\u001b[0m             depth_first_search(room_state_next, room_structure,\n\u001b[1;32m---> 61\u001b[1;33m                                box_mapping_next, box_swaps_next, last_pull, ttl, actions_next)\n\u001b[0m\u001b[0;32m     62\u001b[0m \u001b[1;33m\u001b[0m\u001b[0m\n\u001b[0;32m     63\u001b[0m \u001b[1;33m\u001b[0m\u001b[0m\n",
      "\u001b[1;32mF:\\Projets\\MCTSnet\\MCTSnet\\sokoban\\hack.py\u001b[0m in \u001b[0;36mdepth_first_search\u001b[1;34m(room_state, room_structure, box_mapping, box_swaps, last_pull, ttl, actions)\u001b[0m\n\u001b[0;32m     59\u001b[0m \u001b[1;33m\u001b[0m\u001b[0m\n\u001b[0;32m     60\u001b[0m             depth_first_search(room_state_next, room_structure,\n\u001b[1;32m---> 61\u001b[1;33m                                box_mapping_next, box_swaps_next, last_pull, ttl, actions_next)\n\u001b[0m\u001b[0;32m     62\u001b[0m \u001b[1;33m\u001b[0m\u001b[0m\n\u001b[0;32m     63\u001b[0m \u001b[1;33m\u001b[0m\u001b[0m\n",
      "\u001b[1;32mF:\\Projets\\MCTSnet\\MCTSnet\\sokoban\\hack.py\u001b[0m in \u001b[0;36mdepth_first_search\u001b[1;34m(room_state, room_structure, box_mapping, box_swaps, last_pull, ttl, actions)\u001b[0m\n\u001b[0;32m     59\u001b[0m \u001b[1;33m\u001b[0m\u001b[0m\n\u001b[0;32m     60\u001b[0m             depth_first_search(room_state_next, room_structure,\n\u001b[1;32m---> 61\u001b[1;33m                                box_mapping_next, box_swaps_next, last_pull, ttl, actions_next)\n\u001b[0m\u001b[0;32m     62\u001b[0m \u001b[1;33m\u001b[0m\u001b[0m\n\u001b[0;32m     63\u001b[0m \u001b[1;33m\u001b[0m\u001b[0m\n",
      "\u001b[1;32mF:\\Projets\\MCTSnet\\MCTSnet\\sokoban\\hack.py\u001b[0m in \u001b[0;36mdepth_first_search\u001b[1;34m(room_state, room_structure, box_mapping, box_swaps, last_pull, ttl, actions)\u001b[0m\n\u001b[0;32m     59\u001b[0m \u001b[1;33m\u001b[0m\u001b[0m\n\u001b[0;32m     60\u001b[0m             depth_first_search(room_state_next, room_structure,\n\u001b[1;32m---> 61\u001b[1;33m                                box_mapping_next, box_swaps_next, last_pull, ttl, actions_next)\n\u001b[0m\u001b[0;32m     62\u001b[0m \u001b[1;33m\u001b[0m\u001b[0m\n\u001b[0;32m     63\u001b[0m \u001b[1;33m\u001b[0m\u001b[0m\n",
      "\u001b[1;32mF:\\Projets\\MCTSnet\\MCTSnet\\sokoban\\hack.py\u001b[0m in \u001b[0;36mdepth_first_search\u001b[1;34m(room_state, room_structure, box_mapping, box_swaps, last_pull, ttl, actions)\u001b[0m\n\u001b[0;32m     59\u001b[0m \u001b[1;33m\u001b[0m\u001b[0m\n\u001b[0;32m     60\u001b[0m             depth_first_search(room_state_next, room_structure,\n\u001b[1;32m---> 61\u001b[1;33m                                box_mapping_next, box_swaps_next, last_pull, ttl, actions_next)\n\u001b[0m\u001b[0;32m     62\u001b[0m \u001b[1;33m\u001b[0m\u001b[0m\n\u001b[0;32m     63\u001b[0m \u001b[1;33m\u001b[0m\u001b[0m\n",
      "\u001b[1;32mF:\\Projets\\MCTSnet\\MCTSnet\\sokoban\\hack.py\u001b[0m in \u001b[0;36mdepth_first_search\u001b[1;34m(room_state, room_structure, box_mapping, box_swaps, last_pull, ttl, actions)\u001b[0m\n\u001b[0;32m     59\u001b[0m \u001b[1;33m\u001b[0m\u001b[0m\n\u001b[0;32m     60\u001b[0m             depth_first_search(room_state_next, room_structure,\n\u001b[1;32m---> 61\u001b[1;33m                                box_mapping_next, box_swaps_next, last_pull, ttl, actions_next)\n\u001b[0m\u001b[0;32m     62\u001b[0m \u001b[1;33m\u001b[0m\u001b[0m\n\u001b[0;32m     63\u001b[0m \u001b[1;33m\u001b[0m\u001b[0m\n",
      "\u001b[1;32mF:\\Projets\\MCTSnet\\MCTSnet\\sokoban\\hack.py\u001b[0m in \u001b[0;36mdepth_first_search\u001b[1;34m(room_state, room_structure, box_mapping, box_swaps, last_pull, ttl, actions)\u001b[0m\n\u001b[0;32m     59\u001b[0m \u001b[1;33m\u001b[0m\u001b[0m\n\u001b[0;32m     60\u001b[0m             depth_first_search(room_state_next, room_structure,\n\u001b[1;32m---> 61\u001b[1;33m                                box_mapping_next, box_swaps_next, last_pull, ttl, actions_next)\n\u001b[0m\u001b[0;32m     62\u001b[0m \u001b[1;33m\u001b[0m\u001b[0m\n\u001b[0;32m     63\u001b[0m \u001b[1;33m\u001b[0m\u001b[0m\n",
      "\u001b[1;32mF:\\Projets\\MCTSnet\\MCTSnet\\sokoban\\hack.py\u001b[0m in \u001b[0;36mdepth_first_search\u001b[1;34m(room_state, room_structure, box_mapping, box_swaps, last_pull, ttl, actions)\u001b[0m\n\u001b[0;32m     59\u001b[0m \u001b[1;33m\u001b[0m\u001b[0m\n\u001b[0;32m     60\u001b[0m             depth_first_search(room_state_next, room_structure,\n\u001b[1;32m---> 61\u001b[1;33m                                box_mapping_next, box_swaps_next, last_pull, ttl, actions_next)\n\u001b[0m\u001b[0;32m     62\u001b[0m \u001b[1;33m\u001b[0m\u001b[0m\n\u001b[0;32m     63\u001b[0m \u001b[1;33m\u001b[0m\u001b[0m\n",
      "\u001b[1;32mF:\\Projets\\MCTSnet\\MCTSnet\\sokoban\\hack.py\u001b[0m in \u001b[0;36mdepth_first_search\u001b[1;34m(room_state, room_structure, box_mapping, box_swaps, last_pull, ttl, actions)\u001b[0m\n\u001b[0;32m     59\u001b[0m \u001b[1;33m\u001b[0m\u001b[0m\n\u001b[0;32m     60\u001b[0m             depth_first_search(room_state_next, room_structure,\n\u001b[1;32m---> 61\u001b[1;33m                                box_mapping_next, box_swaps_next, last_pull, ttl, actions_next)\n\u001b[0m\u001b[0;32m     62\u001b[0m \u001b[1;33m\u001b[0m\u001b[0m\n\u001b[0;32m     63\u001b[0m \u001b[1;33m\u001b[0m\u001b[0m\n",
      "\u001b[1;32mF:\\Projets\\MCTSnet\\MCTSnet\\sokoban\\hack.py\u001b[0m in \u001b[0;36mdepth_first_search\u001b[1;34m(room_state, room_structure, box_mapping, box_swaps, last_pull, ttl, actions)\u001b[0m\n\u001b[0;32m     59\u001b[0m \u001b[1;33m\u001b[0m\u001b[0m\n\u001b[0;32m     60\u001b[0m             depth_first_search(room_state_next, room_structure,\n\u001b[1;32m---> 61\u001b[1;33m                                box_mapping_next, box_swaps_next, last_pull, ttl, actions_next)\n\u001b[0m\u001b[0;32m     62\u001b[0m \u001b[1;33m\u001b[0m\u001b[0m\n\u001b[0;32m     63\u001b[0m \u001b[1;33m\u001b[0m\u001b[0m\n",
      "\u001b[1;32mF:\\Projets\\MCTSnet\\MCTSnet\\sokoban\\hack.py\u001b[0m in \u001b[0;36mdepth_first_search\u001b[1;34m(room_state, room_structure, box_mapping, box_swaps, last_pull, ttl, actions)\u001b[0m\n\u001b[0;32m     59\u001b[0m \u001b[1;33m\u001b[0m\u001b[0m\n\u001b[0;32m     60\u001b[0m             depth_first_search(room_state_next, room_structure,\n\u001b[1;32m---> 61\u001b[1;33m                                box_mapping_next, box_swaps_next, last_pull, ttl, actions_next)\n\u001b[0m\u001b[0;32m     62\u001b[0m \u001b[1;33m\u001b[0m\u001b[0m\n\u001b[0;32m     63\u001b[0m \u001b[1;33m\u001b[0m\u001b[0m\n",
      "\u001b[1;32mF:\\Projets\\MCTSnet\\MCTSnet\\sokoban\\hack.py\u001b[0m in \u001b[0;36mdepth_first_search\u001b[1;34m(room_state, room_structure, box_mapping, box_swaps, last_pull, ttl, actions)\u001b[0m\n\u001b[0;32m     59\u001b[0m \u001b[1;33m\u001b[0m\u001b[0m\n\u001b[0;32m     60\u001b[0m             depth_first_search(room_state_next, room_structure,\n\u001b[1;32m---> 61\u001b[1;33m                                box_mapping_next, box_swaps_next, last_pull, ttl, actions_next)\n\u001b[0m\u001b[0;32m     62\u001b[0m \u001b[1;33m\u001b[0m\u001b[0m\n\u001b[0;32m     63\u001b[0m \u001b[1;33m\u001b[0m\u001b[0m\n",
      "\u001b[1;32mF:\\Projets\\MCTSnet\\MCTSnet\\sokoban\\hack.py\u001b[0m in \u001b[0;36mdepth_first_search\u001b[1;34m(room_state, room_structure, box_mapping, box_swaps, last_pull, ttl, actions)\u001b[0m\n\u001b[0;32m     59\u001b[0m \u001b[1;33m\u001b[0m\u001b[0m\n\u001b[0;32m     60\u001b[0m             depth_first_search(room_state_next, room_structure,\n\u001b[1;32m---> 61\u001b[1;33m                                box_mapping_next, box_swaps_next, last_pull, ttl, actions_next)\n\u001b[0m\u001b[0;32m     62\u001b[0m \u001b[1;33m\u001b[0m\u001b[0m\n\u001b[0;32m     63\u001b[0m \u001b[1;33m\u001b[0m\u001b[0m\n",
      "\u001b[1;32mF:\\Projets\\MCTSnet\\MCTSnet\\sokoban\\hack.py\u001b[0m in \u001b[0;36mdepth_first_search\u001b[1;34m(room_state, room_structure, box_mapping, box_swaps, last_pull, ttl, actions)\u001b[0m\n\u001b[0;32m     59\u001b[0m \u001b[1;33m\u001b[0m\u001b[0m\n\u001b[0;32m     60\u001b[0m             depth_first_search(room_state_next, room_structure,\n\u001b[1;32m---> 61\u001b[1;33m                                box_mapping_next, box_swaps_next, last_pull, ttl, actions_next)\n\u001b[0m\u001b[0;32m     62\u001b[0m \u001b[1;33m\u001b[0m\u001b[0m\n\u001b[0;32m     63\u001b[0m \u001b[1;33m\u001b[0m\u001b[0m\n",
      "\u001b[1;32mF:\\Projets\\MCTSnet\\MCTSnet\\sokoban\\hack.py\u001b[0m in \u001b[0;36mdepth_first_search\u001b[1;34m(room_state, room_structure, box_mapping, box_swaps, last_pull, ttl, actions)\u001b[0m\n\u001b[0;32m     59\u001b[0m \u001b[1;33m\u001b[0m\u001b[0m\n\u001b[0;32m     60\u001b[0m             depth_first_search(room_state_next, room_structure,\n\u001b[1;32m---> 61\u001b[1;33m                                box_mapping_next, box_swaps_next, last_pull, ttl, actions_next)\n\u001b[0m\u001b[0;32m     62\u001b[0m \u001b[1;33m\u001b[0m\u001b[0m\n\u001b[0;32m     63\u001b[0m \u001b[1;33m\u001b[0m\u001b[0m\n",
      "\u001b[1;32mF:\\Projets\\MCTSnet\\MCTSnet\\sokoban\\hack.py\u001b[0m in \u001b[0;36mdepth_first_search\u001b[1;34m(room_state, room_structure, box_mapping, box_swaps, last_pull, ttl, actions)\u001b[0m\n\u001b[0;32m     59\u001b[0m \u001b[1;33m\u001b[0m\u001b[0m\n\u001b[0;32m     60\u001b[0m             depth_first_search(room_state_next, room_structure,\n\u001b[1;32m---> 61\u001b[1;33m                                box_mapping_next, box_swaps_next, last_pull, ttl, actions_next)\n\u001b[0m\u001b[0;32m     62\u001b[0m \u001b[1;33m\u001b[0m\u001b[0m\n\u001b[0;32m     63\u001b[0m \u001b[1;33m\u001b[0m\u001b[0m\n",
      "\u001b[1;32mF:\\Projets\\MCTSnet\\MCTSnet\\sokoban\\hack.py\u001b[0m in \u001b[0;36mdepth_first_search\u001b[1;34m(room_state, room_structure, box_mapping, box_swaps, last_pull, ttl, actions)\u001b[0m\n\u001b[0;32m     46\u001b[0m             \u001b[1;31m# The state and box mapping  need to be copied to ensure\u001b[0m\u001b[1;33m\u001b[0m\u001b[1;33m\u001b[0m\u001b[0m\n\u001b[0;32m     47\u001b[0m             \u001b[1;31m# every action start from a similar state.\u001b[0m\u001b[1;33m\u001b[0m\u001b[1;33m\u001b[0m\u001b[0m\n\u001b[1;32m---> 48\u001b[1;33m             \u001b[0mroom_state_next\u001b[0m \u001b[1;33m=\u001b[0m \u001b[0mroom_state\u001b[0m\u001b[1;33m.\u001b[0m\u001b[0mcopy\u001b[0m\u001b[1;33m(\u001b[0m\u001b[1;33m)\u001b[0m\u001b[1;33m\u001b[0m\u001b[0m\n\u001b[0m\u001b[0;32m     49\u001b[0m             \u001b[0mbox_mapping_next\u001b[0m \u001b[1;33m=\u001b[0m \u001b[0mbox_mapping\u001b[0m\u001b[1;33m.\u001b[0m\u001b[0mcopy\u001b[0m\u001b[1;33m(\u001b[0m\u001b[1;33m)\u001b[0m\u001b[1;33m\u001b[0m\u001b[0m\n\u001b[0;32m     50\u001b[0m \u001b[1;33m\u001b[0m\u001b[0m\n",
      "\u001b[1;31mKeyboardInterrupt\u001b[0m: "
     ]
    }
   ],
   "source": [
    "# sokoban.train(500)"
   ]
  },
  {
   "cell_type": "markdown",
   "metadata": {},
   "source": [
    "# Attempt at Mouse game\n",
    "\n",
    "Here we attempt to train the model to imitate a very basic MCTS. More precisely the net must guess the expectation of each action based on the explored graph."
   ]
  },
  {
   "cell_type": "code",
   "execution_count": 483,
   "metadata": {},
   "outputs": [],
   "source": [
    "reload(MCTSnet.trainer)\n",
    "reload(MCTSnet.models.readout)\n",
    "reload(MCTSnet.mouse.game)\n",
    "reload(MCTSnet.mouse.solver)\n",
    "env = MCTSnet.mouse.game.EnvironmentExploring()"
   ]
  },
  {
   "cell_type": "markdown",
   "metadata": {},
   "source": [
    "bleu +10, jaune -10"
   ]
  },
  {
   "cell_type": "code",
   "execution_count": 484,
   "metadata": {},
   "outputs": [],
   "source": [
    "state = env.reset()"
   ]
  },
  {
   "cell_type": "code",
   "execution_count": 485,
   "metadata": {},
   "outputs": [
    {
     "data": {
      "text/plain": [
       "(3, 14, 14)"
      ]
     },
     "execution_count": 485,
     "metadata": {},
     "output_type": "execute_result"
    }
   ],
   "source": [
    "state.shape"
   ]
  },
  {
   "cell_type": "code",
   "execution_count": 486,
   "metadata": {},
   "outputs": [],
   "source": [
    "mnet = MCTSnet.trainer.MCTSnetMouse(n_simulations=15)"
   ]
  },
  {
   "cell_type": "code",
   "execution_count": 470,
   "metadata": {},
   "outputs": [
    {
     "data": {
      "image/png": "[encoded data removed]",
      "text/plain": [
       "<PIL.Image.Image image mode=RGB size=224x224 at 0x201960F67F0>"
      ]
     },
     "metadata": {},
     "output_type": "display_data"
    },
    {
     "name": "stdout",
     "output_type": "stream",
     "text": [
      "Score: -187.0\n"
     ]
    }
   ],
   "source": [
    "mnet.play_solution(4, max_steps=200)"
   ]
  },
  {
   "cell_type": "code",
   "execution_count": null,
   "metadata": {},
   "outputs": [
    {
     "name": "stderr",
     "output_type": "stream",
     "text": [
      "100%|██████████████████████████████████████████████████████████████████████████████████████████████████████████████████████████████████████████████████████████████████████████████████████████████████████| 200/200 [00:09<00:00, 21.96it/s]\n"
     ]
    },
    {
     "name": "stdout",
     "output_type": "stream",
     "text": [
      "[1,   199] mean loss: 11.166\n"
     ]
    },
    {
     "name": "stderr",
     "output_type": "stream",
     "text": [
      "100%|██████████████████████████████████████████████████████████████████████████████████████████████████████████████████████████████████████████████████████████████████████████████████████████████████████| 200/200 [00:08<00:00, 23.03it/s]\n"
     ]
    },
    {
     "name": "stdout",
     "output_type": "stream",
     "text": [
      "[1,   399] mean loss: 10.696\n"
     ]
    },
    {
     "name": "stderr",
     "output_type": "stream",
     "text": [
      "100%|██████████████████████████████████████████████████████████████████████████████████████████████████████████████████████████████████████████████████████████████████████████████████████████████████████| 200/200 [00:08<00:00, 23.67it/s]\n"
     ]
    },
    {
     "name": "stdout",
     "output_type": "stream",
     "text": [
      "[1,   599] mean loss: 7.489\n"
     ]
    },
    {
     "name": "stderr",
     "output_type": "stream",
     "text": [
      "100%|██████████████████████████████████████████████████████████████████████████████████████████████████████████████████████████████████████████████████████████████████████████████████████████████████████| 200/200 [00:09<00:00, 22.18it/s]\n"
     ]
    },
    {
     "name": "stdout",
     "output_type": "stream",
     "text": [
      "[1,   799] mean loss: 8.185\n"
     ]
    },
    {
     "name": "stderr",
     "output_type": "stream",
     "text": [
      " 32%|███████████████████████████████████████████████████████████████▋                                                                                                                                       | 64/200 [00:02<00:05, 23.80it/s]"
     ]
    }
   ],
   "source": [
    "mnet.train(400, 1, 200)"
   ]
  },
  {
   "cell_type": "code",
   "execution_count": 481,
   "metadata": {},
   "outputs": [
    {
     "data": {
      "image/png": "[encoded data removed]",
      "text/plain": [
       "<PIL.Image.Image image mode=RGB size=224x224 at 0x201AEA6E6A0>"
      ]
     },
     "metadata": {},
     "output_type": "display_data"
    }
   ],
   "source": [
    "mnet.play(35)"
   ]
  },
  {
   "cell_type": "code",
   "execution_count": null,
   "metadata": {},
   "outputs": [],
   "source": []
  },
  {
   "cell_type": "code",
   "execution_count": null,
   "metadata": {},
   "outputs": [],
   "source": []
  }
 ],
 "metadata": {
  "kernelspec": {
   "display_name": "Python 3",
   "language": "python",
   "name": "python3"
  },
  "language_info": {
   "codemirror_mode": {
    "name": "ipython",
    "version": 3
   },
   "file_extension": ".py",
   "mimetype": "text/x-python",
   "name": "python",
   "nbconvert_exporter": "python",
   "pygments_lexer": "ipython3",
   "version": "3.6.1"
  }
 },
 "nbformat": 4,
 "nbformat_minor": 2
}
