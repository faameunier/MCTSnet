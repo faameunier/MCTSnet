{
 "cells": [
  {
   "cell_type": "code",
   "execution_count": 1,
   "metadata": {},
   "outputs": [],
   "source": [
    "import gym\n",
    "import MCTSnet\n",
    "import copy\n",
    "import torch\n",
    "from importlib import reload\n",
    "from IPython import display\n",
    "import time\n",
    "import PIL\n",
    "import copy\n",
    "import marshal\n",
    "import numpy as np\n",
    "\n",
    "device = torch.device('cuda:0' if torch.cuda.is_available() else 'cpu')"
   ]
  },
  {
   "cell_type": "markdown",
   "metadata": {},
   "source": [
    "# Testing environment"
   ]
  },
  {
   "cell_type": "code",
   "execution_count": 2,
   "metadata": {},
   "outputs": [],
   "source": [
    "env = gym.make(\"SokobanEnc-v0\")"
   ]
  },
  {
   "cell_type": "code",
   "execution_count": 3,
   "metadata": {},
   "outputs": [
    {
     "data": {
      "text/plain": [
       "288"
      ]
     },
     "execution_count": 3,
     "metadata": {},
     "output_type": "execute_result"
    }
   ],
   "source": [
    "len(env.solution)"
   ]
  },
  {
   "cell_type": "code",
   "execution_count": 4,
   "metadata": {
    "scrolled": true
   },
   "outputs": [
    {
     "data": {
      "image/png": "[encoded data removed]",
      "text/plain": [
       "<PIL.Image.Image image mode=RGB size=160x160 at 0x1384E43AEB8>"
      ]
     },
     "execution_count": 4,
     "metadata": {},
     "output_type": "execute_result"
    }
   ],
   "source": [
    "env.render()"
   ]
  },
  {
   "cell_type": "code",
   "execution_count": 5,
   "metadata": {},
   "outputs": [
    {
     "data": {
      "image/png": "[encoded data removed]",
      "text/plain": [
       "<PIL.Image.Image image mode=RGB size=160x160 at 0x1384E451E10>"
      ]
     },
     "metadata": {},
     "output_type": "display_data"
    }
   ],
   "source": [
    "test = []\n",
    "n_env = copy.deepcopy(env)\n",
    "for k in reversed(n_env.solution):\n",
    "    display.clear_output(wait=True)\n",
    "    res = n_env.step(k)\n",
    "    display.display(n_env.render())\n",
    "    time.sleep(0.05)\n",
    "    test.append(marshal.dumps(res[0]))"
   ]
  },
  {
   "cell_type": "code",
   "execution_count": 6,
   "metadata": {},
   "outputs": [
    {
     "data": {
      "text/plain": [
       "257"
      ]
     },
     "execution_count": 6,
     "metadata": {},
     "output_type": "execute_result"
    }
   ],
   "source": [
    "len(list(set(test)))"
   ]
  },
  {
   "cell_type": "markdown",
   "metadata": {},
   "source": [
    "# Testing the four neural networks"
   ]
  },
  {
   "cell_type": "code",
   "execution_count": 7,
   "metadata": {},
   "outputs": [],
   "source": [
    "e = MCTSnet.models.embedding.Epsilon()"
   ]
  },
  {
   "cell_type": "code",
   "execution_count": 8,
   "metadata": {},
   "outputs": [
    {
     "data": {
      "text/plain": [
       "torch.Size([1, 4, 10, 10])"
      ]
     },
     "execution_count": 8,
     "metadata": {},
     "output_type": "execute_result"
    }
   ],
   "source": [
    "state = torch.Tensor(res[0]).to(device)\n",
    "state.reshape((-1,4,10,10)).shape"
   ]
  },
  {
   "cell_type": "code",
   "execution_count": 9,
   "metadata": {},
   "outputs": [],
   "source": [
    "embed = e.forward(state.reshape((-1, 4, 10, 10)))"
   ]
  },
  {
   "cell_type": "code",
   "execution_count": 10,
   "metadata": {},
   "outputs": [],
   "source": [
    "reward = torch.tensor([res[1]], requires_grad=True).to(device)\n",
    "action = torch.tensor([3.], requires_grad=True).to(device)"
   ]
  },
  {
   "cell_type": "code",
   "execution_count": 11,
   "metadata": {},
   "outputs": [],
   "source": [
    "b = MCTSnet.models.backup.BetaMLP()"
   ]
  },
  {
   "cell_type": "code",
   "execution_count": 12,
   "metadata": {},
   "outputs": [],
   "source": [
    "h_s = b(embed, embed, reward.reshape((-1, 1)), action.reshape((-1, 1)))"
   ]
  },
  {
   "cell_type": "code",
   "execution_count": 13,
   "metadata": {},
   "outputs": [],
   "source": [
    "r = MCTSnet.models.readout.Rho()"
   ]
  },
  {
   "cell_type": "code",
   "execution_count": 14,
   "metadata": {},
   "outputs": [
    {
     "data": {
      "text/plain": [
       "tensor([[0.1291, 0.1250, 0.0890, 0.1322, 0.1395, 0.1286, 0.1460, 0.1106]],\n",
       "       device='cuda:0', grad_fn=<SoftmaxBackward>)"
      ]
     },
     "execution_count": 14,
     "metadata": {},
     "output_type": "execute_result"
    }
   ],
   "source": [
    "r(h_s)"
   ]
  },
  {
   "cell_type": "code",
   "execution_count": 15,
   "metadata": {},
   "outputs": [],
   "source": [
    "pi = MCTSnet.models.policy.Pi()\n",
    "actions = pi(torch.cat((h_s, h_s, h_s, h_s, h_s, h_s, h_s, h_s, h_s), dim=0).reshape(-1, 9, 128))"
   ]
  },
  {
   "cell_type": "code",
   "execution_count": 16,
   "metadata": {},
   "outputs": [
    {
     "data": {
      "text/plain": [
       "tensor([[0.1240, 0.1235, 0.1330, 0.1255, 0.1292, 0.1177, 0.1177, 0.1295]],\n",
       "       device='cuda:0', grad_fn=<SoftmaxBackward>)"
      ]
     },
     "execution_count": 16,
     "metadata": {},
     "output_type": "execute_result"
    }
   ],
   "source": [
    "actions"
   ]
  },
  {
   "cell_type": "code",
   "execution_count": 17,
   "metadata": {},
   "outputs": [
    {
     "data": {
      "text/plain": [
       "tensor(2, device='cuda:0')"
      ]
     },
     "execution_count": 17,
     "metadata": {},
     "output_type": "execute_result"
    }
   ],
   "source": [
    "torch.argmax(actions)"
   ]
  },
  {
   "cell_type": "code",
   "execution_count": 18,
   "metadata": {},
   "outputs": [
    {
     "data": {
      "text/plain": [
       "torch.Size([4, 10, 10])"
      ]
     },
     "execution_count": 18,
     "metadata": {},
     "output_type": "execute_result"
    }
   ],
   "source": [
    "state.shape"
   ]
  },
  {
   "cell_type": "markdown",
   "metadata": {},
   "source": [
    "# Testing the full MCTSnet"
   ]
  },
  {
   "cell_type": "code",
   "execution_count": 2,
   "metadata": {},
   "outputs": [
    {
     "ename": "NameError",
     "evalue": "name 'b' is not defined",
     "output_type": "error",
     "traceback": [
      "\u001b[1;31m---------------------------------------------------------------------------\u001b[0m",
      "\u001b[1;31mNameError\u001b[0m                                 Traceback (most recent call last)",
      "\u001b[1;32m<ipython-input-2-31c666daaad3>\u001b[0m in \u001b[0;36m<module>\u001b[1;34m\u001b[0m\n\u001b[1;32m----> 1\u001b[1;33m \u001b[0mm_net\u001b[0m \u001b[1;33m=\u001b[0m \u001b[0mMCTSnet\u001b[0m\u001b[1;33m.\u001b[0m\u001b[0mmodels\u001b[0m\u001b[1;33m.\u001b[0m\u001b[0mMCTSnet\u001b[0m\u001b[1;33m.\u001b[0m\u001b[0mMCTSnet\u001b[0m\u001b[1;33m(\u001b[0m\u001b[0mb\u001b[0m\u001b[1;33m,\u001b[0m \u001b[0me\u001b[0m\u001b[1;33m,\u001b[0m \u001b[0mpi\u001b[0m\u001b[1;33m,\u001b[0m \u001b[0mr\u001b[0m\u001b[1;33m)\u001b[0m\u001b[1;33m\u001b[0m\u001b[0m\n\u001b[0m\u001b[0;32m      2\u001b[0m \u001b[0mm_net\u001b[0m\u001b[1;33m.\u001b[0m\u001b[0menv\u001b[0m \u001b[1;33m=\u001b[0m \u001b[0menv\u001b[0m\u001b[1;33m\u001b[0m\u001b[0m\n\u001b[0;32m      3\u001b[0m \u001b[0mm_net\u001b[0m\u001b[1;33m.\u001b[0m\u001b[0mreset_tree\u001b[0m\u001b[1;33m(\u001b[0m\u001b[0mstate\u001b[0m\u001b[1;33m.\u001b[0m\u001b[0mreshape\u001b[0m\u001b[1;33m(\u001b[0m\u001b[1;33m(\u001b[0m\u001b[1;33m-\u001b[0m\u001b[1;36m1\u001b[0m\u001b[1;33m,\u001b[0m \u001b[1;36m4\u001b[0m\u001b[1;33m,\u001b[0m \u001b[1;36m10\u001b[0m\u001b[1;33m,\u001b[0m \u001b[1;36m10\u001b[0m\u001b[1;33m)\u001b[0m\u001b[1;33m)\u001b[0m\u001b[1;33m)\u001b[0m\u001b[1;33m\u001b[0m\u001b[0m\n\u001b[0;32m      4\u001b[0m \u001b[0mprediction\u001b[0m \u001b[1;33m=\u001b[0m \u001b[0mm_net\u001b[0m\u001b[1;33m(\u001b[0m\u001b[0mstate\u001b[0m\u001b[1;33m.\u001b[0m\u001b[0mreshape\u001b[0m\u001b[1;33m(\u001b[0m\u001b[1;33m(\u001b[0m\u001b[1;33m-\u001b[0m\u001b[1;36m1\u001b[0m\u001b[1;33m,\u001b[0m \u001b[1;36m4\u001b[0m\u001b[1;33m,\u001b[0m \u001b[1;36m10\u001b[0m\u001b[1;33m,\u001b[0m \u001b[1;36m10\u001b[0m\u001b[1;33m)\u001b[0m\u001b[1;33m)\u001b[0m\u001b[1;33m.\u001b[0m\u001b[0mto\u001b[0m\u001b[1;33m(\u001b[0m\u001b[0mdevice\u001b[0m\u001b[1;33m)\u001b[0m\u001b[1;33m)\u001b[0m\u001b[1;33m\u001b[0m\u001b[0m\n",
      "\u001b[1;31mNameError\u001b[0m: name 'b' is not defined"
     ]
    }
   ],
   "source": [
    "m_net = MCTSnet.models.MCTSnet.MCTSnet(b, e, pi, r)\n",
    "m_net.env = env\n",
    "m_net.reset_tree(state.reshape((-1, 4, 10, 10)))\n",
    "prediction = m_net(state.reshape((-1, 4, 10, 10)).to(device))"
   ]
  },
  {
   "cell_type": "code",
   "execution_count": 20,
   "metadata": {},
   "outputs": [
    {
     "data": {
      "text/plain": [
       "tensor([[0.1417, 0.1251, 0.1192, 0.1213, 0.1205, 0.1088, 0.1313, 0.1321]],\n",
       "       device='cuda:0', grad_fn=<SoftmaxBackward>)"
      ]
     },
     "execution_count": 20,
     "metadata": {},
     "output_type": "execute_result"
    }
   ],
   "source": [
    "prediction"
   ]
  },
  {
   "cell_type": "code",
   "execution_count": 21,
   "metadata": {},
   "outputs": [],
   "source": [
    "criterion = torch.nn.BCELoss()\n",
    "optimizer = torch.optim.SGD(m_net.parameters(), lr=0.0001)"
   ]
  },
  {
   "cell_type": "markdown",
   "metadata": {},
   "source": [
    "### Checking that gradients are computed (is the model differentiable ?)"
   ]
  },
  {
   "cell_type": "code",
   "execution_count": 22,
   "metadata": {},
   "outputs": [],
   "source": [
    "optimizer.zero_grad()\n",
    "loss = criterion(prediction, torch.tensor([[1.,0.,0.,0.,0.,0.,0.,0.]]).to(device))\n",
    "loss.backward()"
   ]
  },
  {
   "cell_type": "code",
   "execution_count": 23,
   "metadata": {},
   "outputs": [
    {
     "data": {
      "text/plain": [
       "tensor([[-1.3825e-04, -3.3288e-04,  0.0000e+00,  ..., -3.1039e-04,\n",
       "          3.1080e-04, -1.0484e-02],\n",
       "        [-4.9653e-05, -9.3596e-05,  0.0000e+00,  ..., -5.5446e-05,\n",
       "          1.0298e-04, -3.8395e-03],\n",
       "        [ 0.0000e+00,  0.0000e+00,  0.0000e+00,  ...,  0.0000e+00,\n",
       "         -0.0000e+00,  0.0000e+00],\n",
       "        ...,\n",
       "        [ 2.9465e-06,  6.5254e-06,  0.0000e+00,  ...,  4.0941e-06,\n",
       "         -4.6379e-06,  1.3914e-04],\n",
       "        [ 2.5059e-04,  5.4204e-04,  0.0000e+00,  ...,  3.8780e-04,\n",
       "         -4.6067e-04,  1.6059e-02],\n",
       "        [ 4.6379e-04,  8.2963e-04,  0.0000e+00,  ...,  5.6997e-04,\n",
       "         -7.0156e-04,  1.9398e-02]], device='cuda:0')"
      ]
     },
     "execution_count": 23,
     "metadata": {},
     "output_type": "execute_result"
    }
   ],
   "source": [
    "m_net.backup.fc1.weight.grad"
   ]
  },
  {
   "cell_type": "code",
   "execution_count": 24,
   "metadata": {
    "scrolled": true
   },
   "outputs": [
    {
     "data": {
      "text/plain": [
       "tensor([[[[ 5.5346e-06, -1.1842e-05,  6.5757e-06],\n",
       "          [-2.8254e-05, -5.7331e-05,  2.0448e-07],\n",
       "          [-1.9496e-05, -3.5733e-05,  1.0429e-05]],\n",
       "\n",
       "         [[-4.6562e-07, -1.9081e-06,  4.0307e-06],\n",
       "          [-3.6391e-06,  4.2549e-06,  1.2776e-06],\n",
       "          [ 1.0281e-05, -3.3777e-06, -8.7429e-06]],\n",
       "\n",
       "         [[-7.2266e-06, -1.5701e-07,  6.2290e-06],\n",
       "          [-2.1490e-06,  1.3885e-06,  5.7727e-07],\n",
       "          [-6.2708e-06, -2.2712e-06, -8.5498e-06]],\n",
       "\n",
       "         [[ 0.0000e+00,  0.0000e+00,  0.0000e+00],\n",
       "          [ 0.0000e+00,  0.0000e+00,  0.0000e+00],\n",
       "          [ 0.0000e+00,  0.0000e+00,  0.0000e+00]]],\n",
       "\n",
       "\n",
       "        [[[-2.3142e-05, -2.6199e-05, -1.5284e-05],\n",
       "          [-3.1806e-06,  1.5894e-06, -5.9759e-06],\n",
       "          [-1.4218e-05, -4.2831e-06, -5.8098e-06]],\n",
       "\n",
       "         [[ 0.0000e+00,  0.0000e+00,  0.0000e+00],\n",
       "          [-5.7305e-06, -4.3887e-06,  0.0000e+00],\n",
       "          [-1.2954e-08, -3.8651e-06,  0.0000e+00]],\n",
       "\n",
       "         [[-1.6341e-06, -1.2954e-08, -4.4458e-06],\n",
       "          [ 0.0000e+00, -1.4714e-06, -1.1246e-06],\n",
       "          [ 1.2049e-06, -7.2058e-06,  5.9562e-07]],\n",
       "\n",
       "         [[ 0.0000e+00,  0.0000e+00,  0.0000e+00],\n",
       "          [ 0.0000e+00,  0.0000e+00,  0.0000e+00],\n",
       "          [ 0.0000e+00,  0.0000e+00,  0.0000e+00]]],\n",
       "\n",
       "\n",
       "        [[[ 1.4653e-05,  4.3269e-05,  2.4018e-05],\n",
       "          [ 7.7109e-06,  3.2939e-05, -2.5773e-06],\n",
       "          [-1.8946e-05,  8.5165e-06, -5.2478e-06]],\n",
       "\n",
       "         [[ 1.0973e-06,  0.0000e+00, -7.1563e-07],\n",
       "          [ 0.0000e+00,  0.0000e+00,  1.5322e-06],\n",
       "          [ 0.0000e+00,  1.4087e-06,  1.3570e-05]],\n",
       "\n",
       "         [[-3.2699e-06, -2.7465e-06, -1.8862e-06],\n",
       "          [ 2.3217e-06,  3.5713e-06,  5.8556e-06],\n",
       "          [-7.4889e-07, -1.2745e-05,  4.9401e-06]],\n",
       "\n",
       "         [[ 0.0000e+00,  0.0000e+00,  0.0000e+00],\n",
       "          [ 0.0000e+00,  0.0000e+00,  0.0000e+00],\n",
       "          [ 0.0000e+00,  0.0000e+00,  0.0000e+00]]],\n",
       "\n",
       "\n",
       "        ...,\n",
       "\n",
       "\n",
       "        [[[ 2.0165e-05,  8.7083e-06,  2.3838e-06],\n",
       "          [-2.0949e-05, -3.0963e-05, -1.5968e-05],\n",
       "          [-1.4800e-05, -3.9508e-05, -1.6109e-05]],\n",
       "\n",
       "         [[ 0.0000e+00,  0.0000e+00, -3.9943e-06],\n",
       "          [-1.7922e-06,  0.0000e+00,  0.0000e+00],\n",
       "          [ 0.0000e+00,  0.0000e+00,  0.0000e+00]],\n",
       "\n",
       "         [[-8.5530e-06,  0.0000e+00,  1.4436e-06],\n",
       "          [-2.8914e-06, -6.0924e-06, -6.8422e-06],\n",
       "          [ 6.2546e-06,  0.0000e+00,  1.2430e-06]],\n",
       "\n",
       "         [[ 0.0000e+00,  0.0000e+00,  0.0000e+00],\n",
       "          [ 0.0000e+00,  0.0000e+00,  0.0000e+00],\n",
       "          [ 0.0000e+00,  0.0000e+00,  0.0000e+00]]],\n",
       "\n",
       "\n",
       "        [[[ 1.3147e-06,  7.2521e-06,  3.3777e-05],\n",
       "          [-2.3102e-05,  2.2471e-06, -1.9538e-05],\n",
       "          [ 1.2161e-06, -1.3269e-05, -2.8037e-05]],\n",
       "\n",
       "         [[ 0.0000e+00,  0.0000e+00, -6.4984e-06],\n",
       "          [-6.4831e-06,  2.0146e-06,  2.2085e-06],\n",
       "          [ 2.2536e-06,  2.7742e-07, -3.1586e-06]],\n",
       "\n",
       "         [[ 0.0000e+00,  2.2536e-06,  1.8772e-06],\n",
       "          [-1.7169e-05, -9.5574e-06, -5.9756e-07],\n",
       "          [ 4.7345e-06, -2.2145e-06,  1.1982e-05]],\n",
       "\n",
       "         [[ 0.0000e+00,  0.0000e+00,  0.0000e+00],\n",
       "          [ 0.0000e+00,  0.0000e+00,  0.0000e+00],\n",
       "          [ 0.0000e+00,  0.0000e+00,  0.0000e+00]]],\n",
       "\n",
       "\n",
       "        [[[-2.4397e-07, -2.6476e-06,  6.3928e-06],\n",
       "          [ 8.7129e-06,  1.3761e-05,  7.2294e-06],\n",
       "          [ 8.5872e-06,  3.1022e-05, -4.4711e-06]],\n",
       "\n",
       "         [[ 2.9448e-08, -1.1452e-06,  4.1443e-06],\n",
       "          [-1.6335e-06,  0.0000e+00, -8.6251e-06],\n",
       "          [ 0.0000e+00, -4.3238e-07, -6.7601e-07]],\n",
       "\n",
       "         [[-2.1363e-06, -5.7502e-06,  1.5311e-07],\n",
       "          [ 8.0483e-07, -2.5193e-06,  1.2741e-06],\n",
       "          [-1.0835e-06,  0.0000e+00,  0.0000e+00]],\n",
       "\n",
       "         [[ 0.0000e+00,  0.0000e+00,  0.0000e+00],\n",
       "          [ 0.0000e+00,  0.0000e+00,  0.0000e+00],\n",
       "          [ 0.0000e+00,  0.0000e+00,  0.0000e+00]]]], device='cuda:0')"
      ]
     },
     "execution_count": 24,
     "metadata": {},
     "output_type": "execute_result"
    }
   ],
   "source": [
    "m_net.embedding.input.weight.grad"
   ]
  },
  {
   "cell_type": "markdown",
   "metadata": {},
   "source": [
    "as \"expected\" the policy doesn't learn and may require additionnal work"
   ]
  },
  {
   "cell_type": "code",
   "execution_count": 25,
   "metadata": {},
   "outputs": [],
   "source": [
    "m_net.policy.piL.fc1.weight.grad"
   ]
  },
  {
   "cell_type": "code",
   "execution_count": 26,
   "metadata": {},
   "outputs": [
    {
     "data": {
      "text/plain": [
       "tensor([[-0.0030, -0.0085, -0.0000,  ..., -0.0000, -0.0125, -0.0108],\n",
       "        [ 0.0004,  0.0012,  0.0000,  ...,  0.0000,  0.0018,  0.0016],\n",
       "        [ 0.0004,  0.0012,  0.0000,  ...,  0.0000,  0.0017,  0.0015],\n",
       "        ...,\n",
       "        [ 0.0004,  0.0011,  0.0000,  ...,  0.0000,  0.0016,  0.0014],\n",
       "        [ 0.0005,  0.0013,  0.0000,  ...,  0.0000,  0.0019,  0.0017],\n",
       "        [ 0.0005,  0.0013,  0.0000,  ...,  0.0000,  0.0019,  0.0017]],\n",
       "       device='cuda:0')"
      ]
     },
     "execution_count": 26,
     "metadata": {},
     "output_type": "execute_result"
    }
   ],
   "source": [
    "m_net.readout.fc1.weight.grad"
   ]
  },
  {
   "cell_type": "code",
   "execution_count": 27,
   "metadata": {},
   "outputs": [
    {
     "data": {
      "text/plain": [
       "<bound method Module.state_dict of MCTSnet(\n",
       "  (backup): BetaMLP(\n",
       "    (fc1): Linear(in_features=258, out_features=128, bias=True)\n",
       "  )\n",
       "  (embedding): Epsilon(\n",
       "    (input): Conv2d(4, 64, kernel_size=(3, 3), stride=(1, 1), padding=(1, 1))\n",
       "    (res1): Conv2d(64, 64, kernel_size=(3, 3), stride=(1, 1), padding=(1, 1))\n",
       "    (res2): Conv2d(64, 64, kernel_size=(3, 3), stride=(1, 1), padding=(1, 1))\n",
       "    (res3): Conv2d(64, 64, kernel_size=(3, 3), stride=(1, 1), padding=(1, 1))\n",
       "    (final): Conv2d(64, 32, kernel_size=(1, 1), stride=(1, 1))\n",
       "    (out): Linear(in_features=3200, out_features=128, bias=True)\n",
       "  )\n",
       "  (policy): Pi(\n",
       "    (piL): PiLogits(\n",
       "      (fc1): Linear(in_features=128, out_features=8, bias=True)\n",
       "    )\n",
       "    (piPL): PiPriorLogits(\n",
       "      (input): Conv2d(9, 32, kernel_size=(3, 3), stride=(1, 1), padding=(1, 1))\n",
       "      (res1): Conv2d(32, 32, kernel_size=(3, 3), stride=(1, 1), padding=(1, 1))\n",
       "      (res2): Conv2d(32, 32, kernel_size=(3, 3), stride=(1, 1), padding=(1, 1))\n",
       "      (final): Conv2d(32, 16, kernel_size=(1, 1), stride=(1, 1))\n",
       "      (out): Linear(in_features=2048, out_features=8, bias=True)\n",
       "    )\n",
       "  )\n",
       "  (readout): Rho(\n",
       "    (fc1): Linear(in_features=128, out_features=8, bias=True)\n",
       "  )\n",
       ")>"
      ]
     },
     "execution_count": 27,
     "metadata": {},
     "output_type": "execute_result"
    }
   ],
   "source": [
    "m_net.state_dict"
   ]
  },
  {
   "cell_type": "markdown",
   "metadata": {},
   "source": [
    "# Trainer"
   ]
  },
  {
   "cell_type": "code",
   "execution_count": 28,
   "metadata": {},
   "outputs": [],
   "source": [
    "reload(MCTSnet.trainer)\n",
    "reload(MCTSnet)\n",
    "sokoban = MCTSnet.MCTSnetSokoban((4, 10, 10), n_embeddings=128, n_actions=4, n_simulations=10)"
   ]
  },
  {
   "cell_type": "code",
   "execution_count": 29,
   "metadata": {
    "scrolled": true
   },
   "outputs": [],
   "source": [
    "# sokoban.train(500)"
   ]
  },
  {
   "cell_type": "markdown",
   "metadata": {},
   "source": [
    "# Attempt at Mouse game\n",
    "\n",
    "Here we attempt to train the model to imitate a very basic MCTS. More precisely the net must guess the expectation of each action based on the explored graph."
   ]
  },
  {
   "cell_type": "code",
   "execution_count": 41,
   "metadata": {},
   "outputs": [],
   "source": [
    "reload(MCTSnet.memory.tree)\n",
    "reload(MCTSnet.memory)\n",
    "reload(MCTSnet.trainer)\n",
    "reload(MCTSnet.models.readout)\n",
    "reload(MCTSnet.models.backup)\n",
    "reload(MCTSnet.models.embedding)\n",
    "reload(MCTSnet.models.MCTSnet)\n",
    "reload(MCTSnet.mouse.game)\n",
    "reload(MCTSnet.mouse.solver)\n",
    "env = MCTSnet.mouse.game.EnvironmentExploring()"
   ]
  },
  {
   "cell_type": "markdown",
   "metadata": {},
   "source": [
    "bleu +10, jaune -10"
   ]
  },
  {
   "cell_type": "code",
   "execution_count": 3,
   "metadata": {},
   "outputs": [],
   "source": [
    "state = env.reset()"
   ]
  },
  {
   "cell_type": "code",
   "execution_count": 4,
   "metadata": {},
   "outputs": [
    {
     "data": {
      "text/plain": [
       "(2, 10, 10)"
      ]
     },
     "execution_count": 4,
     "metadata": {},
     "output_type": "execute_result"
    }
   ],
   "source": [
    "state.shape"
   ]
  },
  {
   "cell_type": "code",
   "execution_count": 5,
   "metadata": {},
   "outputs": [],
   "source": [
    "mnet = MCTSnet.trainer.MCTSnetMouse(n_simulations=15)"
   ]
  },
  {
   "cell_type": "code",
   "execution_count": 39,
   "metadata": {},
   "outputs": [],
   "source": [
    "# mnet.build_training_set(1000, 100)"
   ]
  },
  {
   "cell_type": "code",
   "execution_count": 6,
   "metadata": {},
   "outputs": [],
   "source": [
    "mnet.load_training_set(\"data/mouse_1000_100\")"
   ]
  },
  {
   "cell_type": "code",
   "execution_count": 25,
   "metadata": {
    "scrolled": true
   },
   "outputs": [
    {
     "data": {
      "image/png": "[encoded data removed]",
      "text/plain": [
       "<PIL.Image.Image image mode=RGB size=160x160 at 0x287C10F4C88>"
      ]
     },
     "metadata": {},
     "output_type": "display_data"
    },
    {
     "data": {
      "text/plain": [
       "10.0"
      ]
     },
     "execution_count": 25,
     "metadata": {},
     "output_type": "execute_result"
    }
   ],
   "source": [
    "mnet.play_solution(20, max_steps=100)"
   ]
  },
  {
   "cell_type": "code",
   "execution_count": 7,
   "metadata": {
    "scrolled": true
   },
   "outputs": [
    {
     "name": "stdout",
     "output_type": "stream",
     "text": [
      "[1,    99] mean loss: 1.449\n",
      "[1,   199] mean loss: 1.422\n",
      "[1,   299] mean loss: 1.393\n",
      "[1,   399] mean loss: 1.373\n",
      "[1,   499] mean loss: 1.430\n",
      "[1,   599] mean loss: 1.400\n",
      "[1,   699] mean loss: 1.380\n",
      "[1,   799] mean loss: 1.431\n",
      "[1,   899] mean loss: 1.406\n",
      "[1,   999] mean loss: 1.407\n",
      "[2,    99] mean loss: 1.376\n",
      "[2,   199] mean loss: 1.423\n",
      "[2,   299] mean loss: 1.405\n",
      "[2,   399] mean loss: 1.396\n",
      "[2,   499] mean loss: 1.375\n",
      "[2,   599] mean loss: 1.413\n",
      "[2,   699] mean loss: 1.395\n",
      "[2,   799] mean loss: 1.388\n",
      "[2,   899] mean loss: 1.399\n",
      "[2,   999] mean loss: 1.403\n",
      "[3,    99] mean loss: 1.369\n",
      "[3,   199] mean loss: 1.394\n",
      "[3,   299] mean loss: 1.392\n",
      "[3,   399] mean loss: 1.406\n",
      "[3,   499] mean loss: 1.406\n",
      "[3,   599] mean loss: 1.386\n",
      "[3,   699] mean loss: 1.366\n",
      "[3,   799] mean loss: 1.416\n",
      "[3,   899] mean loss: 1.409\n",
      "[3,   999] mean loss: 1.374\n",
      "[4,    99] mean loss: 1.361\n",
      "[4,   199] mean loss: 1.391\n",
      "[4,   299] mean loss: 1.393\n",
      "[4,   399] mean loss: 1.383\n",
      "[4,   499] mean loss: 1.362\n",
      "[4,   599] mean loss: 1.439\n",
      "[4,   699] mean loss: 1.393\n",
      "[4,   799] mean loss: 1.389\n",
      "[4,   899] mean loss: 1.379\n",
      "[4,   999] mean loss: 1.388\n",
      "[5,    99] mean loss: 1.343\n",
      "[5,   199] mean loss: 1.378\n",
      "[5,   299] mean loss: 1.387\n",
      "[5,   399] mean loss: 1.396\n",
      "[5,   499] mean loss: 1.380\n",
      "[5,   599] mean loss: 1.394\n",
      "[5,   699] mean loss: 1.405\n",
      "[5,   799] mean loss: 1.381\n",
      "[5,   899] mean loss: 1.385\n",
      "[5,   999] mean loss: 1.420\n",
      "[6,    99] mean loss: 1.368\n",
      "[6,   199] mean loss: 1.383\n",
      "[6,   299] mean loss: 1.363\n",
      "[6,   399] mean loss: 1.413\n",
      "[6,   499] mean loss: 1.386\n",
      "[6,   599] mean loss: 1.380\n",
      "[6,   699] mean loss: 1.385\n",
      "[6,   799] mean loss: 1.381\n",
      "[6,   899] mean loss: 1.374\n",
      "[6,   999] mean loss: 1.389\n",
      "[7,    99] mean loss: 1.352\n",
      "[7,   199] mean loss: 1.399\n",
      "[7,   299] mean loss: 1.394\n",
      "[7,   399] mean loss: 1.346\n",
      "[7,   499] mean loss: 1.379\n",
      "[7,   599] mean loss: 1.402\n",
      "[7,   699] mean loss: 1.374\n",
      "[7,   799] mean loss: 1.389\n",
      "[7,   899] mean loss: 1.393\n",
      "[7,   999] mean loss: 1.386\n",
      "[8,    99] mean loss: 1.346\n",
      "[8,   199] mean loss: 1.370\n",
      "[8,   299] mean loss: 1.349\n",
      "[8,   399] mean loss: 1.408\n",
      "[8,   499] mean loss: 1.369\n",
      "[8,   599] mean loss: 1.392\n",
      "[8,   699] mean loss: 1.399\n",
      "[8,   799] mean loss: 1.377\n",
      "[8,   899] mean loss: 1.385\n",
      "[8,   999] mean loss: 1.382\n",
      "[9,    99] mean loss: 1.362\n",
      "[9,   199] mean loss: 1.377\n",
      "[9,   299] mean loss: 1.342\n",
      "[9,   399] mean loss: 1.379\n",
      "[9,   499] mean loss: 1.353\n",
      "[9,   599] mean loss: 1.386\n",
      "[9,   699] mean loss: 1.370\n",
      "[9,   799] mean loss: 1.394\n",
      "[9,   899] mean loss: 1.402\n",
      "[9,   999] mean loss: 1.403\n",
      "[10,    99] mean loss: 1.343\n",
      "[10,   199] mean loss: 1.370\n",
      "[10,   299] mean loss: 1.345\n",
      "[10,   399] mean loss: 1.390\n",
      "[10,   499] mean loss: 1.364\n",
      "[10,   599] mean loss: 1.367\n",
      "[10,   699] mean loss: 1.415\n",
      "[10,   799] mean loss: 1.368\n",
      "[10,   899] mean loss: 1.359\n",
      "[10,   999] mean loss: 1.406\n",
      "[11,    99] mean loss: 1.387\n",
      "[11,   199] mean loss: 1.328\n",
      "[11,   299] mean loss: 1.374\n",
      "[11,   399] mean loss: 1.407\n",
      "[11,   499] mean loss: 1.383\n",
      "[11,   599] mean loss: 1.388\n",
      "[11,   699] mean loss: 1.342\n",
      "[11,   799] mean loss: 1.385\n",
      "[11,   899] mean loss: 1.362\n",
      "[11,   999] mean loss: 1.348\n",
      "[12,    99] mean loss: 1.354\n",
      "[12,   199] mean loss: 1.369\n",
      "[12,   299] mean loss: 1.393\n",
      "[12,   399] mean loss: 1.364\n",
      "[12,   499] mean loss: 1.376\n",
      "[12,   599] mean loss: 1.362\n",
      "[12,   699] mean loss: 1.318\n",
      "[12,   799] mean loss: 1.386\n",
      "[12,   899] mean loss: 1.368\n",
      "[12,   999] mean loss: 1.365\n",
      "[13,    99] mean loss: 1.337\n",
      "[13,   199] mean loss: 1.327\n",
      "[13,   299] mean loss: 1.416\n",
      "[13,   399] mean loss: 1.382\n",
      "[13,   499] mean loss: 1.374\n",
      "[13,   599] mean loss: 1.364\n",
      "[13,   699] mean loss: 1.378\n",
      "[13,   799] mean loss: 1.363\n",
      "[13,   899] mean loss: 1.333\n",
      "[13,   999] mean loss: 1.366\n",
      "[14,    99] mean loss: 1.335\n",
      "[14,   199] mean loss: 1.315\n",
      "[14,   299] mean loss: 1.389\n",
      "[14,   399] mean loss: 1.381\n",
      "[14,   499] mean loss: 1.387\n",
      "[14,   599] mean loss: 1.358\n",
      "[14,   699] mean loss: 1.349\n",
      "[14,   799] mean loss: 1.321\n",
      "[14,   899] mean loss: 1.387\n",
      "[14,   999] mean loss: 1.387\n",
      "[15,    99] mean loss: 1.288\n",
      "[15,   199] mean loss: 1.398\n",
      "[15,   299] mean loss: 1.383\n",
      "[15,   399] mean loss: 1.371\n",
      "[15,   499] mean loss: 1.335\n",
      "[15,   599] mean loss: 1.349\n",
      "[15,   699] mean loss: 1.363\n",
      "[15,   799] mean loss: 1.366\n",
      "[15,   899] mean loss: 1.357\n",
      "[15,   999] mean loss: 1.364\n",
      "[16,    99] mean loss: 1.325\n",
      "[16,   199] mean loss: 1.344\n",
      "[16,   299] mean loss: 1.392\n",
      "[16,   399] mean loss: 1.387\n",
      "[16,   499] mean loss: 1.367\n",
      "[16,   599] mean loss: 1.357\n",
      "[16,   699] mean loss: 1.331\n",
      "[16,   799] mean loss: 1.338\n",
      "[16,   899] mean loss: 1.333\n",
      "[16,   999] mean loss: 1.375\n",
      "[17,    99] mean loss: 1.317\n",
      "[17,   199] mean loss: 1.364\n",
      "[17,   299] mean loss: 1.378\n",
      "[17,   399] mean loss: 1.357\n",
      "[17,   499] mean loss: 1.349\n",
      "[17,   599] mean loss: 1.355\n",
      "[17,   699] mean loss: 1.373\n",
      "[17,   799] mean loss: 1.310\n",
      "[17,   899] mean loss: 1.354\n",
      "[17,   999] mean loss: 1.346\n",
      "[18,    99] mean loss: 1.334\n",
      "[18,   199] mean loss: 1.357\n",
      "[18,   299] mean loss: 1.352\n",
      "[18,   399] mean loss: 1.347\n",
      "[18,   499] mean loss: 1.380\n",
      "[18,   599] mean loss: 1.323\n",
      "[18,   699] mean loss: 1.328\n",
      "[18,   799] mean loss: 1.368\n",
      "[18,   899] mean loss: 1.361\n",
      "[18,   999] mean loss: 1.359\n",
      "[19,    99] mean loss: 1.335\n",
      "[19,   199] mean loss: 1.340\n",
      "[19,   299] mean loss: 1.287\n",
      "[19,   399] mean loss: 1.377\n",
      "[19,   499] mean loss: 1.353\n",
      "[19,   599] mean loss: 1.379\n",
      "[19,   699] mean loss: 1.340\n",
      "[19,   799] mean loss: 1.350\n",
      "[19,   899] mean loss: 1.333\n",
      "[19,   999] mean loss: 1.331\n",
      "[20,    99] mean loss: 1.326\n",
      "[20,   199] mean loss: 1.358\n",
      "[20,   299] mean loss: 1.310\n",
      "[20,   399] mean loss: 1.329\n",
      "[20,   499] mean loss: 1.345\n",
      "[20,   599] mean loss: 1.380\n",
      "[20,   699] mean loss: 1.353\n",
      "[20,   799] mean loss: 1.330\n",
      "[20,   899] mean loss: 1.319\n",
      "[20,   999] mean loss: 1.372\n",
      "[21,    99] mean loss: 1.313\n",
      "[21,   199] mean loss: 1.382\n",
      "[21,   299] mean loss: 1.310\n",
      "[21,   399] mean loss: 1.334\n",
      "[21,   499] mean loss: 1.364\n",
      "[21,   599] mean loss: 1.312\n",
      "[21,   699] mean loss: 1.347\n",
      "[21,   799] mean loss: 1.337\n",
      "[21,   899] mean loss: 1.363\n",
      "[21,   999] mean loss: 1.376\n",
      "[22,    99] mean loss: 1.266\n",
      "[22,   199] mean loss: 1.397\n",
      "[22,   299] mean loss: 1.336\n",
      "[22,   399] mean loss: 1.365\n",
      "[22,   499] mean loss: 1.324\n",
      "[22,   599] mean loss: 1.335\n",
      "[22,   699] mean loss: 1.361\n",
      "[22,   799] mean loss: 1.370\n",
      "[22,   899] mean loss: 1.335\n",
      "[22,   999] mean loss: 1.323\n",
      "[23,    99] mean loss: 1.305\n",
      "[23,   199] mean loss: 1.358\n",
      "[23,   299] mean loss: 1.322\n",
      "[23,   399] mean loss: 1.322\n",
      "[23,   499] mean loss: 1.317\n",
      "[23,   599] mean loss: 1.301\n",
      "[23,   699] mean loss: 1.384\n",
      "[23,   799] mean loss: 1.329\n",
      "[23,   899] mean loss: 1.313\n",
      "[23,   999] mean loss: 1.366\n",
      "[24,    99] mean loss: 1.304\n",
      "[24,   199] mean loss: 1.331\n",
      "[24,   299] mean loss: 1.343\n",
      "[24,   399] mean loss: 1.352\n",
      "[24,   499] mean loss: 1.319\n",
      "[24,   599] mean loss: 1.336\n",
      "[24,   699] mean loss: 1.354\n",
      "[24,   799] mean loss: 1.377\n",
      "[24,   899] mean loss: 1.363\n",
      "[24,   999] mean loss: 1.306\n",
      "[25,    99] mean loss: 1.358\n",
      "[25,   199] mean loss: 1.368\n",
      "[25,   299] mean loss: 1.341\n",
      "[25,   399] mean loss: 1.336\n",
      "[25,   499] mean loss: 1.322\n",
      "[25,   599] mean loss: 1.318\n",
      "[25,   699] mean loss: 1.291\n",
      "[25,   799] mean loss: 1.259\n",
      "[25,   899] mean loss: 1.327\n",
      "[25,   999] mean loss: 1.410\n",
      "[26,    99] mean loss: 1.308\n",
      "[26,   199] mean loss: 1.355\n",
      "[26,   299] mean loss: 1.299\n",
      "[26,   399] mean loss: 1.275\n",
      "[26,   499] mean loss: 1.367\n",
      "[26,   599] mean loss: 1.320\n",
      "[26,   699] mean loss: 1.302\n",
      "[26,   799] mean loss: 1.390\n",
      "[26,   899] mean loss: 1.321\n",
      "[26,   999] mean loss: 1.354\n",
      "[27,    99] mean loss: 1.311\n",
      "[27,   199] mean loss: 1.354\n",
      "[27,   299] mean loss: 1.339\n",
      "[27,   399] mean loss: 1.330\n",
      "[27,   499] mean loss: 1.321\n",
      "[27,   599] mean loss: 1.333\n",
      "[27,   699] mean loss: 1.318\n",
      "[27,   799] mean loss: 1.304\n",
      "[27,   899] mean loss: 1.306\n",
      "[27,   999] mean loss: 1.360\n",
      "[28,    99] mean loss: 1.310\n",
      "[28,   199] mean loss: 1.373\n",
      "[28,   299] mean loss: 1.299\n",
      "[28,   399] mean loss: 1.301\n",
      "[28,   499] mean loss: 1.285\n",
      "[28,   599] mean loss: 1.330\n",
      "[28,   699] mean loss: 1.302\n",
      "[28,   799] mean loss: 1.308\n",
      "[28,   899] mean loss: 1.336\n",
      "[28,   999] mean loss: 1.373\n",
      "[29,    99] mean loss: 1.301\n",
      "[29,   199] mean loss: 1.302\n",
      "[29,   299] mean loss: 1.286\n",
      "[29,   399] mean loss: 1.304\n",
      "[29,   499] mean loss: 1.290\n"
     ]
    },
    {
     "name": "stdout",
     "output_type": "stream",
     "text": [
      "[29,   599] mean loss: 1.313\n",
      "[29,   699] mean loss: 1.381\n",
      "[29,   799] mean loss: 1.346\n",
      "[29,   899] mean loss: 1.337\n",
      "[29,   999] mean loss: 1.338\n",
      "[30,    99] mean loss: 1.323\n",
      "[30,   199] mean loss: 1.302\n",
      "[30,   299] mean loss: 1.313\n",
      "[30,   399] mean loss: 1.291\n",
      "[30,   499] mean loss: 1.363\n",
      "[30,   599] mean loss: 1.294\n",
      "[30,   699] mean loss: 1.297\n",
      "[30,   799] mean loss: 1.275\n",
      "[30,   899] mean loss: 1.338\n",
      "[30,   999] mean loss: 1.356\n",
      "[31,    99] mean loss: 1.286\n",
      "[31,   199] mean loss: 1.288\n",
      "[31,   299] mean loss: 1.302\n",
      "[31,   399] mean loss: 1.263\n",
      "[31,   499] mean loss: 1.305\n",
      "[31,   599] mean loss: 1.282\n",
      "[31,   699] mean loss: 1.348\n",
      "[31,   799] mean loss: 1.358\n",
      "[31,   899] mean loss: 1.301\n",
      "[31,   999] mean loss: 1.361\n",
      "[32,    99] mean loss: 1.276\n",
      "[32,   199] mean loss: 1.310\n",
      "[32,   299] mean loss: 1.332\n",
      "[32,   399] mean loss: 1.308\n",
      "[32,   499] mean loss: 1.345\n",
      "[32,   599] mean loss: 1.295\n",
      "[32,   699] mean loss: 1.321\n",
      "[32,   799] mean loss: 1.308\n",
      "[32,   899] mean loss: 1.290\n",
      "[32,   999] mean loss: 1.300\n",
      "[33,    99] mean loss: 1.285\n",
      "[33,   199] mean loss: 1.252\n",
      "[33,   299] mean loss: 1.292\n",
      "[33,   399] mean loss: 1.320\n",
      "[33,   499] mean loss: 1.303\n",
      "[33,   599] mean loss: 1.309\n",
      "[33,   699] mean loss: 1.311\n",
      "[33,   799] mean loss: 1.366\n",
      "[33,   899] mean loss: 1.302\n",
      "[33,   999] mean loss: 1.376\n",
      "[34,    99] mean loss: 1.281\n",
      "[34,   199] mean loss: 1.291\n",
      "[34,   299] mean loss: 1.348\n",
      "[34,   399] mean loss: 1.337\n",
      "[34,   499] mean loss: 1.284\n",
      "[34,   599] mean loss: 1.307\n",
      "[34,   699] mean loss: 1.278\n",
      "[34,   799] mean loss: 1.266\n",
      "[34,   899] mean loss: 1.297\n",
      "[34,   999] mean loss: 1.367\n",
      "[35,    99] mean loss: 1.258\n",
      "[35,   199] mean loss: 1.180\n",
      "[35,   299] mean loss: 1.294\n",
      "[35,   399] mean loss: 1.304\n",
      "[35,   499] mean loss: 1.294\n",
      "[35,   599] mean loss: 1.372\n",
      "[35,   699] mean loss: 1.338\n",
      "[35,   799] mean loss: 1.298\n",
      "[35,   899] mean loss: 1.354\n",
      "[35,   999] mean loss: 1.290\n"
     ]
    },
    {
     "ename": "KeyboardInterrupt",
     "evalue": "",
     "output_type": "error",
     "traceback": [
      "\u001b[1;31m---------------------------------------------------------------------------\u001b[0m",
      "\u001b[1;31mKeyboardInterrupt\u001b[0m                         Traceback (most recent call last)",
      "\u001b[1;32m<ipython-input-7-a4def83bbdac>\u001b[0m in \u001b[0;36m<module>\u001b[1;34m\u001b[0m\n\u001b[1;32m----> 1\u001b[1;33m \u001b[0mmnet\u001b[0m\u001b[1;33m.\u001b[0m\u001b[0mtrain\u001b[0m\u001b[1;33m(\u001b[0m\u001b[1;36m10\u001b[0m\u001b[1;33m,\u001b[0m \u001b[1;36m40\u001b[0m\u001b[1;33m,\u001b[0m \u001b[0moffset\u001b[0m\u001b[1;33m=\u001b[0m\u001b[1;36m0\u001b[0m\u001b[1;33m)\u001b[0m\u001b[1;33m\u001b[0m\u001b[0m\n\u001b[0m",
      "\u001b[1;32mF:\\Projets\\MCTSnet\\MCTSnet\\trainer.py\u001b[0m in \u001b[0;36mtrain\u001b[1;34m(self, training_size, epochs, offset)\u001b[0m\n\u001b[0;32m    165\u001b[0m \u001b[1;33m\u001b[0m\u001b[0m\n\u001b[0;32m    166\u001b[0m                 \u001b[0mloss\u001b[0m \u001b[1;33m=\u001b[0m \u001b[0mself\u001b[0m\u001b[1;33m.\u001b[0m\u001b[0mcriterion\u001b[0m\u001b[1;33m(\u001b[0m\u001b[0moutputs\u001b[0m\u001b[1;33m,\u001b[0m \u001b[0mobjectif2\u001b[0m\u001b[1;33m)\u001b[0m\u001b[1;33m\u001b[0m\u001b[0m\n\u001b[1;32m--> 167\u001b[1;33m                 \u001b[0mloss\u001b[0m\u001b[1;33m.\u001b[0m\u001b[0mbackward\u001b[0m\u001b[1;33m(\u001b[0m\u001b[1;33m)\u001b[0m\u001b[1;33m\u001b[0m\u001b[0m\n\u001b[0m\u001b[0;32m    168\u001b[0m                 \u001b[0mself\u001b[0m\u001b[1;33m.\u001b[0m\u001b[0moptimizer\u001b[0m\u001b[1;33m.\u001b[0m\u001b[0mstep\u001b[0m\u001b[1;33m(\u001b[0m\u001b[1;33m)\u001b[0m\u001b[1;33m\u001b[0m\u001b[0m\n\u001b[0;32m    169\u001b[0m \u001b[1;33m\u001b[0m\u001b[0m\n",
      "\u001b[1;32mf:\\projets\\mctsnet\\.venv\\lib\\site-packages\\torch\\tensor.py\u001b[0m in \u001b[0;36mbackward\u001b[1;34m(self, gradient, retain_graph, create_graph)\u001b[0m\n\u001b[0;32m    100\u001b[0m                 \u001b[0mproducts\u001b[0m\u001b[1;33m.\u001b[0m \u001b[0mDefaults\u001b[0m \u001b[0mto\u001b[0m\u001b[0;31m \u001b[0m\u001b[0;31m`\u001b[0m\u001b[0;31m`\u001b[0m\u001b[1;32mFalse\u001b[0m\u001b[0;31m`\u001b[0m\u001b[0;31m`\u001b[0m\u001b[1;33m.\u001b[0m\u001b[1;33m\u001b[0m\u001b[0m\n\u001b[0;32m    101\u001b[0m         \"\"\"\n\u001b[1;32m--> 102\u001b[1;33m         \u001b[0mtorch\u001b[0m\u001b[1;33m.\u001b[0m\u001b[0mautograd\u001b[0m\u001b[1;33m.\u001b[0m\u001b[0mbackward\u001b[0m\u001b[1;33m(\u001b[0m\u001b[0mself\u001b[0m\u001b[1;33m,\u001b[0m \u001b[0mgradient\u001b[0m\u001b[1;33m,\u001b[0m \u001b[0mretain_graph\u001b[0m\u001b[1;33m,\u001b[0m \u001b[0mcreate_graph\u001b[0m\u001b[1;33m)\u001b[0m\u001b[1;33m\u001b[0m\u001b[0m\n\u001b[0m\u001b[0;32m    103\u001b[0m \u001b[1;33m\u001b[0m\u001b[0m\n\u001b[0;32m    104\u001b[0m     \u001b[1;32mdef\u001b[0m \u001b[0mregister_hook\u001b[0m\u001b[1;33m(\u001b[0m\u001b[0mself\u001b[0m\u001b[1;33m,\u001b[0m \u001b[0mhook\u001b[0m\u001b[1;33m)\u001b[0m\u001b[1;33m:\u001b[0m\u001b[1;33m\u001b[0m\u001b[0m\n",
      "\u001b[1;32mf:\\projets\\mctsnet\\.venv\\lib\\site-packages\\torch\\autograd\\__init__.py\u001b[0m in \u001b[0;36mbackward\u001b[1;34m(tensors, grad_tensors, retain_graph, create_graph, grad_variables)\u001b[0m\n\u001b[0;32m     88\u001b[0m     Variable._execution_engine.run_backward(\n\u001b[0;32m     89\u001b[0m         \u001b[0mtensors\u001b[0m\u001b[1;33m,\u001b[0m \u001b[0mgrad_tensors\u001b[0m\u001b[1;33m,\u001b[0m \u001b[0mretain_graph\u001b[0m\u001b[1;33m,\u001b[0m \u001b[0mcreate_graph\u001b[0m\u001b[1;33m,\u001b[0m\u001b[1;33m\u001b[0m\u001b[0m\n\u001b[1;32m---> 90\u001b[1;33m         allow_unreachable=True)  # allow_unreachable flag\n\u001b[0m\u001b[0;32m     91\u001b[0m \u001b[1;33m\u001b[0m\u001b[0m\n\u001b[0;32m     92\u001b[0m \u001b[1;33m\u001b[0m\u001b[0m\n",
      "\u001b[1;31mKeyboardInterrupt\u001b[0m: "
     ]
    }
   ],
   "source": [
    "mnet.train(10, 40, offset=0)  # 19h07"
   ]
  },
  {
   "cell_type": "code",
   "execution_count": 8,
   "metadata": {},
   "outputs": [],
   "source": [
    "mnet.save_weights(\"mnet_10_40_0\")"
   ]
  },
  {
   "cell_type": "code",
   "execution_count": 42,
   "metadata": {},
   "outputs": [],
   "source": [
    "mnet2 = MCTSnet.trainer.MCTSnetMouse(n_simulations=15)"
   ]
  },
  {
   "cell_type": "code",
   "execution_count": 43,
   "metadata": {},
   "outputs": [],
   "source": [
    "mnet2.load_weights(\"mnet_10_40_0\")"
   ]
  },
  {
   "cell_type": "code",
   "execution_count": 48,
   "metadata": {},
   "outputs": [
    {
     "data": {
      "image/png": "[encoded data removed]",
      "text/plain": [
       "<PIL.Image.Image image mode=RGB size=160x160 at 0x11E0530A5F8>"
      ]
     },
     "metadata": {},
     "output_type": "display_data"
    },
    {
     "data": {
      "text/plain": [
       "-2.0"
      ]
     },
     "execution_count": 48,
     "metadata": {},
     "output_type": "execute_result"
    }
   ],
   "source": [
    "mnet2.play(3, max_steps=100)"
   ]
  },
  {
   "cell_type": "code",
   "execution_count": 46,
   "metadata": {},
   "outputs": [
    {
     "data": {
      "image/png": "[encoded data removed]",
      "text/plain": [
       "<PIL.Image.Image image mode=RGB size=160x160 at 0x11E052D5E48>"
      ]
     },
     "metadata": {},
     "output_type": "display_data"
    },
    {
     "data": {
      "text/plain": [
       "40.0"
      ]
     },
     "execution_count": 46,
     "metadata": {},
     "output_type": "execute_result"
    }
   ],
   "source": [
    "mnet2.play_solution(2, max_steps=100)"
   ]
  },
  {
   "cell_type": "code",
   "execution_count": null,
   "metadata": {},
   "outputs": [],
   "source": []
  }
 ],
 "metadata": {
  "kernelspec": {
   "display_name": "Python 3",
   "language": "python",
   "name": "python3"
  },
  "language_info": {
   "codemirror_mode": {
    "name": "ipython",
    "version": 3
   },
   "file_extension": ".py",
   "mimetype": "text/x-python",
   "name": "python",
   "nbconvert_exporter": "python",
   "pygments_lexer": "ipython3",
   "version": "3.6.1"
  }
 },
 "nbformat": 4,
 "nbformat_minor": 2
}
