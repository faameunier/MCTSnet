{
 "cells": [
  {
   "cell_type": "code",
   "execution_count": 1,
   "metadata": {},
   "outputs": [],
   "source": [
    "import gym\n",
    "import MCTSnet\n",
    "import copy\n",
    "import torch\n",
    "from importlib import reload\n",
    "from IPython import display\n",
    "import time\n",
    "import PIL\n",
    "import copy\n",
    "import marshal\n",
    "import numpy as np\n",
    "\n",
    "device = torch.device('cuda:0' if torch.cuda.is_available() else 'cpu')"
   ]
  },
  {
   "cell_type": "markdown",
   "metadata": {},
   "source": [
    "# Testing environment"
   ]
  },
  {
   "cell_type": "code",
   "execution_count": 2,
   "metadata": {},
   "outputs": [],
   "source": [
    "env = gym.make(\"SokobanEnc-v0\")"
   ]
  },
  {
   "cell_type": "code",
   "execution_count": 3,
   "metadata": {},
   "outputs": [
    {
     "data": {
      "text/plain": [
       "102"
      ]
     },
     "execution_count": 3,
     "metadata": {},
     "output_type": "execute_result"
    }
   ],
   "source": [
    "len(env.solution)"
   ]
  },
  {
   "cell_type": "code",
   "execution_count": 4,
   "metadata": {
    "scrolled": true
   },
   "outputs": [
    {
     "data": {
      "image/png": "[encoded data removed]",
      "text/plain": [
       "<PIL.Image.Image image mode=RGB size=160x160 at 0x19FD64E7D68>"
      ]
     },
     "execution_count": 4,
     "metadata": {},
     "output_type": "execute_result"
    }
   ],
   "source": [
    "env.render()"
   ]
  },
  {
   "cell_type": "code",
   "execution_count": 5,
   "metadata": {},
   "outputs": [
    {
     "data": {
      "image/png": "[encoded data removed]",
      "text/plain": [
       "<PIL.Image.Image image mode=RGB size=160x160 at 0x19FD65039B0>"
      ]
     },
     "metadata": {},
     "output_type": "display_data"
    }
   ],
   "source": [
    "test = []\n",
    "n_env = copy.deepcopy(env)\n",
    "for k in reversed(n_env.solution):\n",
    "    display.clear_output(wait=True)\n",
    "    res = n_env.step(k)\n",
    "    display.display(n_env.render())\n",
    "    time.sleep(0.05)\n",
    "    test.append(marshal.dumps(res[0]))"
   ]
  },
  {
   "cell_type": "code",
   "execution_count": 6,
   "metadata": {},
   "outputs": [
    {
     "data": {
      "text/plain": [
       "102"
      ]
     },
     "execution_count": 6,
     "metadata": {},
     "output_type": "execute_result"
    }
   ],
   "source": [
    "len(list(set(test)))"
   ]
  },
  {
   "cell_type": "markdown",
   "metadata": {},
   "source": [
    "# Testing the four neural networks"
   ]
  },
  {
   "cell_type": "code",
   "execution_count": 7,
   "metadata": {},
   "outputs": [],
   "source": [
    "e = MCTSnet.models.embedding.Epsilon()"
   ]
  },
  {
   "cell_type": "code",
   "execution_count": 8,
   "metadata": {},
   "outputs": [
    {
     "data": {
      "text/plain": [
       "torch.Size([1, 4, 10, 10])"
      ]
     },
     "execution_count": 8,
     "metadata": {},
     "output_type": "execute_result"
    }
   ],
   "source": [
    "state = torch.Tensor(res[0]).to(device)\n",
    "state.reshape((-1,4,10,10)).shape"
   ]
  },
  {
   "cell_type": "code",
   "execution_count": 9,
   "metadata": {},
   "outputs": [],
   "source": [
    "embed = e.forward(state.reshape((-1, 4, 10, 10)))"
   ]
  },
  {
   "cell_type": "code",
   "execution_count": 10,
   "metadata": {},
   "outputs": [],
   "source": [
    "reward = torch.tensor([res[1]], requires_grad=True).to(device)\n",
    "action = torch.tensor([3.], requires_grad=True).to(device)"
   ]
  },
  {
   "cell_type": "code",
   "execution_count": 11,
   "metadata": {},
   "outputs": [],
   "source": [
    "b = MCTSnet.models.backup.BetaMLP()"
   ]
  },
  {
   "cell_type": "code",
   "execution_count": 12,
   "metadata": {},
   "outputs": [],
   "source": [
    "h_s = b(embed, embed, reward.reshape((-1, 1)), action.reshape((-1, 1)))"
   ]
  },
  {
   "cell_type": "code",
   "execution_count": 13,
   "metadata": {},
   "outputs": [],
   "source": [
    "r = MCTSnet.models.readout.Rho()"
   ]
  },
  {
   "cell_type": "code",
   "execution_count": 14,
   "metadata": {},
   "outputs": [
    {
     "data": {
      "text/plain": [
       "tensor([[0.1427, 0.1450, 0.1329, 0.1042, 0.1006, 0.1316, 0.1220, 0.1210]],\n",
       "       device='cuda:0', grad_fn=<SoftmaxBackward>)"
      ]
     },
     "execution_count": 14,
     "metadata": {},
     "output_type": "execute_result"
    }
   ],
   "source": [
    "r(h_s)"
   ]
  },
  {
   "cell_type": "code",
   "execution_count": 34,
   "metadata": {},
   "outputs": [],
   "source": [
    "pi = MCTSnet.models.policy.randomPi()\n",
    "actions = pi(torch.cat((h_s, h_s, h_s, h_s, h_s, h_s, h_s, h_s, h_s), dim=0).reshape(-1, 9, 128))"
   ]
  },
  {
   "cell_type": "code",
   "execution_count": 35,
   "metadata": {},
   "outputs": [
    {
     "data": {
      "text/plain": [
       "tensor([[0.7898, 0.8604, 0.6761, 0.4712, 0.4879, 0.6919, 0.7295, 0.0829]],\n",
       "       dtype=torch.float64)"
      ]
     },
     "execution_count": 35,
     "metadata": {},
     "output_type": "execute_result"
    }
   ],
   "source": [
    "actions"
   ]
  },
  {
   "cell_type": "code",
   "execution_count": 36,
   "metadata": {},
   "outputs": [
    {
     "data": {
      "text/plain": [
       "tensor(1)"
      ]
     },
     "execution_count": 36,
     "metadata": {},
     "output_type": "execute_result"
    }
   ],
   "source": [
    "torch.argmax(actions)"
   ]
  },
  {
   "cell_type": "code",
   "execution_count": 37,
   "metadata": {},
   "outputs": [
    {
     "data": {
      "text/plain": [
       "torch.Size([4, 10, 10])"
      ]
     },
     "execution_count": 37,
     "metadata": {},
     "output_type": "execute_result"
    }
   ],
   "source": [
    "state.shape"
   ]
  },
  {
   "cell_type": "markdown",
   "metadata": {},
   "source": [
    "# Testing the full MCTSnet"
   ]
  },
  {
   "cell_type": "code",
   "execution_count": 40,
   "metadata": {},
   "outputs": [
    {
     "data": {
      "text/plain": [
       "<module 'MCTSnet.models.MCTSnet' from 'F:\\\\Projets\\\\MCTSnet\\\\MCTSnet\\\\models\\\\MCTSnet.py'>"
      ]
     },
     "execution_count": 40,
     "metadata": {},
     "output_type": "execute_result"
    }
   ],
   "source": [
    "reload(MCTSnet.memory.maze)\n",
    "reload(MCTSnet.memory)\n",
    "reload(MCTSnet.models.MCTSnet)"
   ]
  },
  {
   "cell_type": "code",
   "execution_count": 41,
   "metadata": {},
   "outputs": [],
   "source": [
    "m_net = MCTSnet.models.MCTSnet.MCTSnet(b, e, pi, r)\n",
    "m_net.env = env\n",
    "m_net.reset_tree(state.reshape((-1, 4, 10, 10)))\n",
    "prediction = m_net(state.reshape((-1, 4, 10, 10)).to(device))"
   ]
  },
  {
   "cell_type": "code",
   "execution_count": 42,
   "metadata": {},
   "outputs": [
    {
     "data": {
      "text/plain": [
       "tensor([[0.1283, 0.1271, 0.1237, 0.1199, 0.1136, 0.1352, 0.1274, 0.1247]],\n",
       "       device='cuda:0', grad_fn=<SoftmaxBackward>)"
      ]
     },
     "execution_count": 42,
     "metadata": {},
     "output_type": "execute_result"
    }
   ],
   "source": [
    "prediction"
   ]
  },
  {
   "cell_type": "code",
   "execution_count": 43,
   "metadata": {},
   "outputs": [],
   "source": [
    "criterion = torch.nn.BCELoss()\n",
    "optimizer = torch.optim.SGD(m_net.parameters(), lr=0.0001)"
   ]
  },
  {
   "cell_type": "markdown",
   "metadata": {},
   "source": [
    "### Checking that gradients are computed (is the model differentiable ?)"
   ]
  },
  {
   "cell_type": "code",
   "execution_count": 44,
   "metadata": {},
   "outputs": [],
   "source": [
    "optimizer.zero_grad()\n",
    "loss = criterion(prediction, torch.tensor([[1.,0.,0.,0.,0.,0.,0.,0.]]).to(device))\n",
    "loss.backward()"
   ]
  },
  {
   "cell_type": "code",
   "execution_count": 45,
   "metadata": {},
   "outputs": [
    {
     "data": {
      "text/plain": [
       "tensor([[ 5.4700e-05, -1.4760e-09, -7.9938e-06,  ..., -8.7007e-09,\n",
       "          2.5563e-04, -6.1789e-03],\n",
       "        [ 0.0000e+00,  0.0000e+00,  0.0000e+00,  ...,  0.0000e+00,\n",
       "         -0.0000e+00,  0.0000e+00],\n",
       "        [-3.6515e-07, -7.9912e-07, -7.2803e-09,  ..., -1.2280e-08,\n",
       "         -7.2119e-06, -4.7485e-05],\n",
       "        ...,\n",
       "        [-7.7050e-06,  2.2128e-09,  0.0000e+00,  ...,  0.0000e+00,\n",
       "          2.4296e-05,  0.0000e+00],\n",
       "        [-6.4327e-05, -3.1960e-07, -4.0074e-06,  ...,  1.9535e-08,\n",
       "         -6.3018e-05,  1.1556e-03],\n",
       "        [ 0.0000e+00,  0.0000e+00,  0.0000e+00,  ...,  0.0000e+00,\n",
       "         -3.2348e-07,  0.0000e+00]], device='cuda:0')"
      ]
     },
     "execution_count": 45,
     "metadata": {},
     "output_type": "execute_result"
    }
   ],
   "source": [
    "m_net.backup.fc1.weight.grad"
   ]
  },
  {
   "cell_type": "code",
   "execution_count": 46,
   "metadata": {
    "scrolled": true
   },
   "outputs": [
    {
     "data": {
      "text/plain": [
       "tensor([[[[-1.0372e-06, -2.2035e-06, -1.3931e-06],\n",
       "          [-2.6383e-06, -3.8248e-06, -3.8858e-06],\n",
       "          [-3.7126e-06, -5.6735e-06, -4.7376e-06]],\n",
       "\n",
       "         [[-3.4174e-07, -4.0296e-07, -3.8513e-07],\n",
       "          [-2.0798e-07, -4.6167e-07,  0.0000e+00],\n",
       "          [ 1.7256e-07, -4.0988e-07,  7.1241e-07]],\n",
       "\n",
       "         [[ 1.5778e-07,  5.7113e-07,  0.0000e+00],\n",
       "          [ 1.1309e-06,  3.2969e-07,  0.0000e+00],\n",
       "          [-5.3004e-07,  2.1950e-07,  0.0000e+00]],\n",
       "\n",
       "         [[ 0.0000e+00,  0.0000e+00,  0.0000e+00],\n",
       "          [ 0.0000e+00,  0.0000e+00,  0.0000e+00],\n",
       "          [ 0.0000e+00,  0.0000e+00,  0.0000e+00]]],\n",
       "\n",
       "\n",
       "        [[[-8.6662e-07, -2.6114e-06, -2.5883e-08],\n",
       "          [-2.3779e-06, -6.0239e-07,  1.6899e-06],\n",
       "          [-6.3630e-07, -1.1896e-07,  8.1090e-07]],\n",
       "\n",
       "         [[ 0.0000e+00,  0.0000e+00,  0.0000e+00],\n",
       "          [-8.3061e-07,  0.0000e+00,  0.0000e+00],\n",
       "          [ 0.0000e+00,  0.0000e+00,  0.0000e+00]],\n",
       "\n",
       "         [[ 0.0000e+00,  2.2701e-07,  0.0000e+00],\n",
       "          [-8.5013e-07,  4.0289e-07, -6.7594e-07],\n",
       "          [ 0.0000e+00,  0.0000e+00,  0.0000e+00]],\n",
       "\n",
       "         [[ 0.0000e+00,  0.0000e+00,  0.0000e+00],\n",
       "          [ 0.0000e+00,  0.0000e+00,  0.0000e+00],\n",
       "          [ 0.0000e+00,  0.0000e+00,  0.0000e+00]]],\n",
       "\n",
       "\n",
       "        [[[-3.5787e-06, -1.2627e-06,  4.5453e-08],\n",
       "          [-3.3682e-06, -1.5400e-06, -1.4432e-06],\n",
       "          [-3.9642e-06, -2.1310e-06, -5.0227e-06]],\n",
       "\n",
       "         [[ 0.0000e+00,  0.0000e+00, -3.4193e-07],\n",
       "          [ 0.0000e+00,  4.8295e-07, -9.4308e-07],\n",
       "          [ 0.0000e+00,  8.8667e-07,  9.4058e-08]],\n",
       "\n",
       "         [[-6.4945e-08, -6.2056e-07, -1.2982e-06],\n",
       "          [-4.5975e-07, -1.3735e-07, -5.2599e-07],\n",
       "          [-4.9464e-07,  8.0851e-07,  1.9155e-08]],\n",
       "\n",
       "         [[ 0.0000e+00,  0.0000e+00,  0.0000e+00],\n",
       "          [ 0.0000e+00,  0.0000e+00,  0.0000e+00],\n",
       "          [ 0.0000e+00,  0.0000e+00,  0.0000e+00]]],\n",
       "\n",
       "\n",
       "        ...,\n",
       "\n",
       "\n",
       "        [[[-5.8273e-06, -1.4130e-05, -9.1470e-06],\n",
       "          [-1.3194e-06, -9.0069e-06, -4.0807e-06],\n",
       "          [ 6.2776e-07, -3.0892e-06, -1.9274e-06]],\n",
       "\n",
       "         [[-7.6937e-07,  1.6600e-06, -4.9375e-07],\n",
       "          [ 5.0537e-07, -5.4500e-07, -4.2857e-07],\n",
       "          [-1.6304e-07, -3.7408e-07, -3.5975e-07]],\n",
       "\n",
       "         [[-3.7840e-07, -1.7247e-06,  1.3143e-06],\n",
       "          [-8.7919e-08,  2.6582e-07,  1.0305e-06],\n",
       "          [-1.7163e-06, -7.9349e-07,  6.7179e-09]],\n",
       "\n",
       "         [[ 0.0000e+00,  0.0000e+00,  0.0000e+00],\n",
       "          [ 0.0000e+00,  0.0000e+00,  0.0000e+00],\n",
       "          [ 0.0000e+00,  0.0000e+00,  0.0000e+00]]],\n",
       "\n",
       "\n",
       "        [[[ 1.1138e-06, -2.9579e-06, -4.6558e-06],\n",
       "          [ 1.2894e-06, -1.3356e-06, -3.0678e-06],\n",
       "          [ 6.0499e-07, -2.7304e-06, -7.7440e-06]],\n",
       "\n",
       "         [[-9.1366e-07,  1.0148e-07, -3.7671e-07],\n",
       "          [ 6.4704e-08,  0.0000e+00,  0.0000e+00],\n",
       "          [-1.9615e-07, -6.1567e-07, -8.4661e-07]],\n",
       "\n",
       "         [[-8.6285e-09, -2.6696e-06,  0.0000e+00],\n",
       "          [-5.5500e-07,  3.0325e-07,  3.9554e-07],\n",
       "          [ 1.3761e-07, -1.9780e-06,  6.8260e-07]],\n",
       "\n",
       "         [[ 0.0000e+00,  0.0000e+00,  0.0000e+00],\n",
       "          [ 0.0000e+00,  0.0000e+00,  0.0000e+00],\n",
       "          [ 0.0000e+00,  0.0000e+00,  0.0000e+00]]],\n",
       "\n",
       "\n",
       "        [[[ 0.0000e+00, -1.1445e-07,  5.8798e-08],\n",
       "          [ 0.0000e+00, -1.1445e-07,  0.0000e+00],\n",
       "          [ 0.0000e+00, -1.7324e-07, -3.9000e-07]],\n",
       "\n",
       "         [[ 0.0000e+00,  0.0000e+00,  0.0000e+00],\n",
       "          [ 0.0000e+00,  0.0000e+00,  0.0000e+00],\n",
       "          [ 0.0000e+00,  0.0000e+00,  0.0000e+00]],\n",
       "\n",
       "         [[ 0.0000e+00,  0.0000e+00,  0.0000e+00],\n",
       "          [ 5.8798e-08,  0.0000e+00,  0.0000e+00],\n",
       "          [ 0.0000e+00,  0.0000e+00,  0.0000e+00]],\n",
       "\n",
       "         [[ 0.0000e+00,  0.0000e+00,  0.0000e+00],\n",
       "          [ 0.0000e+00,  0.0000e+00,  0.0000e+00],\n",
       "          [ 0.0000e+00,  0.0000e+00,  0.0000e+00]]]], device='cuda:0')"
      ]
     },
     "execution_count": 46,
     "metadata": {},
     "output_type": "execute_result"
    }
   ],
   "source": [
    "m_net.embedding.input.weight.grad"
   ]
  },
  {
   "cell_type": "markdown",
   "metadata": {},
   "source": [
    "as \"expected\" the policy doesn't learn and may require additionnal work"
   ]
  },
  {
   "cell_type": "code",
   "execution_count": 47,
   "metadata": {},
   "outputs": [
    {
     "ename": "AttributeError",
     "evalue": "'randomPi' object has no attribute 'piL'",
     "output_type": "error",
     "traceback": [
      "\u001b[1;31m---------------------------------------------------------------------------\u001b[0m",
      "\u001b[1;31mAttributeError\u001b[0m                            Traceback (most recent call last)",
      "\u001b[1;32m<ipython-input-47-fc8c436de1ab>\u001b[0m in \u001b[0;36m<module>\u001b[1;34m\u001b[0m\n\u001b[1;32m----> 1\u001b[1;33m \u001b[0mm_net\u001b[0m\u001b[1;33m.\u001b[0m\u001b[0mpolicy\u001b[0m\u001b[1;33m.\u001b[0m\u001b[0mpiL\u001b[0m\u001b[1;33m.\u001b[0m\u001b[0mfc1\u001b[0m\u001b[1;33m.\u001b[0m\u001b[0mweight\u001b[0m\u001b[1;33m.\u001b[0m\u001b[0mgrad\u001b[0m\u001b[1;33m.\u001b[0m\u001b[0mmin\u001b[0m\u001b[1;33m(\u001b[0m\u001b[1;33m)\u001b[0m\u001b[1;33m\u001b[0m\u001b[0m\n\u001b[0m",
      "\u001b[1;32mf:\\projets\\mctsnet\\.venv\\lib\\site-packages\\torch\\nn\\modules\\module.py\u001b[0m in \u001b[0;36m__getattr__\u001b[1;34m(self, name)\u001b[0m\n\u001b[0;32m    533\u001b[0m                 \u001b[1;32mreturn\u001b[0m \u001b[0mmodules\u001b[0m\u001b[1;33m[\u001b[0m\u001b[0mname\u001b[0m\u001b[1;33m]\u001b[0m\u001b[1;33m\u001b[0m\u001b[0m\n\u001b[0;32m    534\u001b[0m         raise AttributeError(\"'{}' object has no attribute '{}'\".format(\n\u001b[1;32m--> 535\u001b[1;33m             type(self).__name__, name))\n\u001b[0m\u001b[0;32m    536\u001b[0m \u001b[1;33m\u001b[0m\u001b[0m\n\u001b[0;32m    537\u001b[0m     \u001b[1;32mdef\u001b[0m \u001b[0m__setattr__\u001b[0m\u001b[1;33m(\u001b[0m\u001b[0mself\u001b[0m\u001b[1;33m,\u001b[0m \u001b[0mname\u001b[0m\u001b[1;33m,\u001b[0m \u001b[0mvalue\u001b[0m\u001b[1;33m)\u001b[0m\u001b[1;33m:\u001b[0m\u001b[1;33m\u001b[0m\u001b[0m\n",
      "\u001b[1;31mAttributeError\u001b[0m: 'randomPi' object has no attribute 'piL'"
     ]
    }
   ],
   "source": [
    "m_net.policy.piL.fc1.weight.grad.min()"
   ]
  },
  {
   "cell_type": "code",
   "execution_count": 48,
   "metadata": {},
   "outputs": [
    {
     "data": {
      "text/plain": [
       "tensor([[-7.7370e-05, -0.0000e+00, -0.0000e+00,  ..., -0.0000e+00,\n",
       "         -1.0349e-02, -0.0000e+00],\n",
       "        [ 1.1313e-05,  0.0000e+00,  0.0000e+00,  ...,  0.0000e+00,\n",
       "          1.5133e-03,  0.0000e+00],\n",
       "        [ 1.0968e-05,  0.0000e+00,  0.0000e+00,  ...,  0.0000e+00,\n",
       "          1.4671e-03,  0.0000e+00],\n",
       "        ...,\n",
       "        [ 1.2143e-05,  0.0000e+00,  0.0000e+00,  ...,  0.0000e+00,\n",
       "          1.6242e-03,  0.0000e+00],\n",
       "        [ 1.1342e-05,  0.0000e+00,  0.0000e+00,  ...,  0.0000e+00,\n",
       "          1.5171e-03,  0.0000e+00],\n",
       "        [ 1.1065e-05,  0.0000e+00,  0.0000e+00,  ...,  0.0000e+00,\n",
       "          1.4800e-03,  0.0000e+00]], device='cuda:0')"
      ]
     },
     "execution_count": 48,
     "metadata": {},
     "output_type": "execute_result"
    }
   ],
   "source": [
    "m_net.readout.fc1.weight.grad"
   ]
  },
  {
   "cell_type": "code",
   "execution_count": 49,
   "metadata": {},
   "outputs": [
    {
     "data": {
      "text/plain": [
       "<bound method Module.state_dict of MCTSnet(\n",
       "  (backup): BetaMLP(\n",
       "    (fc1): Linear(in_features=258, out_features=128, bias=True)\n",
       "  )\n",
       "  (embedding): Epsilon(\n",
       "    (input): Conv2d(4, 64, kernel_size=(3, 3), stride=(1, 1), padding=(1, 1))\n",
       "    (res1): Conv2d(64, 64, kernel_size=(3, 3), stride=(1, 1), padding=(1, 1))\n",
       "    (res2): Conv2d(64, 64, kernel_size=(3, 3), stride=(1, 1), padding=(1, 1))\n",
       "    (res3): Conv2d(64, 64, kernel_size=(3, 3), stride=(1, 1), padding=(1, 1))\n",
       "    (final): Conv2d(64, 32, kernel_size=(1, 1), stride=(1, 1))\n",
       "    (out): Linear(in_features=3200, out_features=128, bias=True)\n",
       "  )\n",
       "  (policy): randomPi(\n",
       "    (out): Linear(in_features=8, out_features=1, bias=True)\n",
       "  )\n",
       "  (readout): Rho(\n",
       "    (fc1): Linear(in_features=128, out_features=8, bias=True)\n",
       "  )\n",
       ")>"
      ]
     },
     "execution_count": 49,
     "metadata": {},
     "output_type": "execute_result"
    }
   ],
   "source": [
    "m_net.state_dict"
   ]
  },
  {
   "cell_type": "markdown",
   "metadata": {},
   "source": [
    "# Trainer"
   ]
  },
  {
   "cell_type": "code",
   "execution_count": 28,
   "metadata": {},
   "outputs": [],
   "source": [
    "reload(MCTSnet.trainer)\n",
    "reload(MCTSnet)\n",
    "sokoban = MCTSnet.MCTSnetSokoban((4, 10, 10), n_embeddings=128, n_actions=4, n_simulations=10)"
   ]
  },
  {
   "cell_type": "code",
   "execution_count": 29,
   "metadata": {
    "scrolled": true
   },
   "outputs": [],
   "source": [
    "# sokoban.train(500)"
   ]
  },
  {
   "cell_type": "markdown",
   "metadata": {},
   "source": [
    "# Attempt at Mouse game\n",
    "\n",
    "Here we attempt to train the model to imitate a very basic MCTS. More precisely the net must guess the expectation of each action based on the explored graph."
   ]
  },
  {
   "cell_type": "code",
   "execution_count": 88,
   "metadata": {},
   "outputs": [],
   "source": [
    "reload(MCTSnet.memory.tree)\n",
    "reload(MCTSnet.memory.maze)\n",
    "reload(MCTSnet.memory)\n",
    "reload(MCTSnet.trainer)\n",
    "reload(MCTSnet.models.readout)\n",
    "reload(MCTSnet.models.backup)\n",
    "reload(MCTSnet.models.embedding)\n",
    "reload(MCTSnet.models.MCTSnet)\n",
    "reload(MCTSnet.mouse.game)\n",
    "reload(MCTSnet.mouse.solver)\n",
    "env = MCTSnet.mouse.game.EnvironmentExploring()"
   ]
  },
  {
   "cell_type": "markdown",
   "metadata": {},
   "source": [
    "bleu +10, jaune -10"
   ]
  },
  {
   "cell_type": "code",
   "execution_count": 89,
   "metadata": {},
   "outputs": [],
   "source": [
    "state = env.reset()"
   ]
  },
  {
   "cell_type": "code",
   "execution_count": 90,
   "metadata": {},
   "outputs": [
    {
     "data": {
      "text/plain": [
       "(2, 10, 10)"
      ]
     },
     "execution_count": 90,
     "metadata": {},
     "output_type": "execute_result"
    }
   ],
   "source": [
    "state.shape"
   ]
  },
  {
   "cell_type": "code",
   "execution_count": 91,
   "metadata": {},
   "outputs": [],
   "source": [
    "mnet = MCTSnet.trainer.MCTSnetMouse(n_simulations=15)"
   ]
  },
  {
   "cell_type": "code",
   "execution_count": 92,
   "metadata": {},
   "outputs": [],
   "source": [
    "# mnet.build_training_set(1000, 100)"
   ]
  },
  {
   "cell_type": "code",
   "execution_count": 93,
   "metadata": {},
   "outputs": [],
   "source": [
    "mnet.load_training_set(\"data/mouse_1000_100\")"
   ]
  },
  {
   "cell_type": "code",
   "execution_count": 45,
   "metadata": {
    "scrolled": true
   },
   "outputs": [
    {
     "data": {
      "image/png": "[encoded data removed]",
      "text/plain": [
       "<PIL.Image.Image image mode=RGB size=160x160 at 0x124AE01C160>"
      ]
     },
     "metadata": {},
     "output_type": "display_data"
    },
    {
     "data": {
      "text/plain": [
       "40.0"
      ]
     },
     "execution_count": 45,
     "metadata": {},
     "output_type": "execute_result"
    }
   ],
   "source": [
    "mnet.play_solution(1, max_steps=100)"
   ]
  },
  {
   "cell_type": "code",
   "execution_count": null,
   "metadata": {
    "scrolled": true
   },
   "outputs": [
    {
     "name": "stdout",
     "output_type": "stream",
     "text": [
      "[1,    99] mean loss: 1.337\n",
      "[1,   199] mean loss: 1.370\n",
      "[1,   299] mean loss: 1.370\n",
      "[1,   399] mean loss: 1.319\n",
      "[1,   499] mean loss: 1.304\n",
      "[1,   599] mean loss: 1.356\n",
      "[1,   699] mean loss: 1.327\n",
      "[1,   799] mean loss: 1.380\n",
      "[1,   899] mean loss: 1.302\n",
      "[1,   999] mean loss: 1.363\n",
      "[1,  1099] mean loss: 1.303\n",
      "[1,  1199] mean loss: 1.331\n",
      "[1,  1299] mean loss: 1.326\n",
      "[1,  1399] mean loss: 1.328\n",
      "[1,  1499] mean loss: 1.365\n",
      "[1,  1599] mean loss: 1.295\n",
      "[1,  1699] mean loss: 1.352\n",
      "[1,  1799] mean loss: 1.358\n",
      "[1,  1899] mean loss: 1.314\n",
      "[1,  1999] mean loss: 1.365\n",
      "[1,  2099] mean loss: 1.307\n",
      "[1,  2199] mean loss: 1.359\n",
      "[1,  2299] mean loss: 1.386\n",
      "[1,  2399] mean loss: 1.341\n",
      "[1,  2499] mean loss: 1.303\n",
      "[1,  2599] mean loss: 1.294\n",
      "[1,  2699] mean loss: 1.354\n",
      "[1,  2799] mean loss: 1.318\n",
      "[1,  2899] mean loss: 1.366\n",
      "[1,  2999] mean loss: 1.356\n",
      "[1,  3099] mean loss: 1.329\n",
      "[1,  3199] mean loss: 1.349\n",
      "[1,  3299] mean loss: 1.344\n",
      "[1,  3399] mean loss: 1.366\n",
      "[1,  3499] mean loss: 1.346\n",
      "[1,  3599] mean loss: 1.371\n",
      "[1,  3699] mean loss: 1.326\n",
      "[1,  3799] mean loss: 1.352\n",
      "[1,  3899] mean loss: 1.346\n",
      "[1,  3999] mean loss: 1.349\n",
      "[1,  4099] mean loss: 1.309\n",
      "[1,  4199] mean loss: 1.368\n",
      "[1,  4299] mean loss: 1.320\n",
      "[1,  4399] mean loss: 1.345\n",
      "[1,  4499] mean loss: 1.318\n",
      "[1,  4599] mean loss: 1.366\n",
      "[1,  4699] mean loss: 1.360\n",
      "[1,  4799] mean loss: 1.343\n",
      "[1,  4899] mean loss: 1.314\n",
      "[1,  4999] mean loss: 1.399\n",
      "[1,  5099] mean loss: 1.354\n",
      "[1,  5199] mean loss: 1.314\n",
      "[1,  5299] mean loss: 1.375\n",
      "[1,  5399] mean loss: 1.380\n",
      "[1,  5499] mean loss: 1.336\n",
      "[1,  5599] mean loss: 1.275\n",
      "[1,  5699] mean loss: 1.343\n",
      "[1,  5799] mean loss: 1.379\n",
      "[1,  5899] mean loss: 1.340\n",
      "[1,  5999] mean loss: 1.324\n",
      "[1,  6099] mean loss: 1.341\n",
      "[1,  6199] mean loss: 1.324\n",
      "[1,  6299] mean loss: 1.331\n",
      "[1,  6399] mean loss: 1.379\n",
      "[1,  6499] mean loss: 1.359\n",
      "[1,  6599] mean loss: 1.409\n",
      "[1,  6699] mean loss: 1.367\n",
      "[1,  6799] mean loss: 1.372\n",
      "[1,  6899] mean loss: 1.330\n",
      "[1,  6999] mean loss: 1.337\n",
      "[1,  7099] mean loss: 1.340\n",
      "[1,  7199] mean loss: 1.351\n",
      "[1,  7299] mean loss: 1.359\n",
      "[1,  7399] mean loss: 1.384\n",
      "[1,  7499] mean loss: 1.347\n",
      "[1,  7599] mean loss: 1.334\n",
      "[1,  7699] mean loss: 1.333\n",
      "[1,  7799] mean loss: 1.370\n",
      "[1,  7899] mean loss: 1.365\n",
      "[1,  7999] mean loss: 1.346\n",
      "[1,  8099] mean loss: 1.350\n",
      "[1,  8199] mean loss: 1.341\n",
      "[1,  8299] mean loss: 1.348\n",
      "[1,  8399] mean loss: 1.297\n",
      "[1,  8499] mean loss: 1.358\n"
     ]
    }
   ],
   "source": [
    "mnet.optimizer = torch.optim.Adam(mnet.model.parameters(), lr=0.0001)\n",
    "mnet.train(400, 100, offset=0)  # 21h"
   ]
  },
  {
   "cell_type": "code",
   "execution_count": 78,
   "metadata": {},
   "outputs": [],
   "source": [
    "mnet.save_weights(\"mnet_400_100_227k\")"
   ]
  },
  {
   "cell_type": "code",
   "execution_count": 8,
   "metadata": {},
   "outputs": [],
   "source": [
    "mnet2 = MCTSnet.trainer.MCTSnetMouse(n_simulations=15)"
   ]
  },
  {
   "cell_type": "code",
   "execution_count": 94,
   "metadata": {},
   "outputs": [],
   "source": [
    "mnet.load_weights(\"mnet_400_100_227k\")"
   ]
  },
  {
   "cell_type": "code",
   "execution_count": 103,
   "metadata": {},
   "outputs": [
    {
     "data": {
      "image/png": "[encoded data removed]",
      "text/plain": [
       "<PIL.Image.Image image mode=RGB size=160x160 at 0x1A051EE20B8>"
      ]
     },
     "metadata": {},
     "output_type": "display_data"
    },
    {
     "data": {
      "text/plain": [
       "-90.0"
      ]
     },
     "execution_count": 103,
     "metadata": {},
     "output_type": "execute_result"
    }
   ],
   "source": [
    "mnet.play(478, max_steps=100)"
   ]
  },
  {
   "cell_type": "code",
   "execution_count": 57,
   "metadata": {},
   "outputs": [
    {
     "data": {
      "image/png": "[encoded data removed]",
      "text/plain": [
       "<PIL.Image.Image image mode=RGB size=160x160 at 0x1FA9D957048>"
      ]
     },
     "metadata": {},
     "output_type": "display_data"
    },
    {
     "data": {
      "text/plain": [
       "40.0"
      ]
     },
     "execution_count": 57,
     "metadata": {},
     "output_type": "execute_result"
    }
   ],
   "source": [
    "mnet2.play_solution(2, max_steps=100)"
   ]
  },
  {
   "cell_type": "code",
   "execution_count": null,
   "metadata": {},
   "outputs": [],
   "source": []
  }
 ],
 "metadata": {
  "kernelspec": {
   "display_name": "Python 3",
   "language": "python",
   "name": "python3"
  },
  "language_info": {
   "codemirror_mode": {
    "name": "ipython",
    "version": 3
   },
   "file_extension": ".py",
   "mimetype": "text/x-python",
   "name": "python",
   "nbconvert_exporter": "python",
   "pygments_lexer": "ipython3",
   "version": "3.6.1"
  }
 },
 "nbformat": 4,
 "nbformat_minor": 2
}
