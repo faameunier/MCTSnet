{
 "cells": [
  {
   "cell_type": "code",
   "execution_count": 1,
   "metadata": {},
   "outputs": [],
   "source": [
    "import gym\n",
    "import MCTSnet\n",
    "import copy\n",
    "import torch"
   ]
  },
  {
   "cell_type": "code",
   "execution_count": 2,
   "metadata": {},
   "outputs": [],
   "source": [
    "env = gym.make(\"SokobanEnc-v0\")"
   ]
  },
  {
   "cell_type": "code",
   "execution_count": 3,
   "metadata": {},
   "outputs": [
    {
     "data": {
      "image/png": "[encoded data removed]",
      "text/plain": [
       "<PIL.Image.Image image mode=RGB size=160x160 at 0x1AC7176AB38>"
      ]
     },
     "execution_count": 3,
     "metadata": {},
     "output_type": "execute_result"
    }
   ],
   "source": [
    "env.render()"
   ]
  },
  {
   "cell_type": "code",
   "execution_count": 4,
   "metadata": {},
   "outputs": [
    {
     "data": {
      "image/png": "[encoded data removed]",
      "text/plain": [
       "<PIL.Image.Image image mode=RGB size=160x160 at 0x1AC5E5BE080>"
      ]
     },
     "execution_count": 4,
     "metadata": {},
     "output_type": "execute_result"
    }
   ],
   "source": [
    "res = env.step(3)\n",
    "env.render()"
   ]
  },
  {
   "cell_type": "code",
   "execution_count": 5,
   "metadata": {},
   "outputs": [],
   "source": [
    "e = MCTSnet.models.embedding.Epsilon()"
   ]
  },
  {
   "cell_type": "code",
   "execution_count": 6,
   "metadata": {},
   "outputs": [
    {
     "data": {
      "text/plain": [
       "torch.Size([1, 4, 10, 10])"
      ]
     },
     "execution_count": 6,
     "metadata": {},
     "output_type": "execute_result"
    }
   ],
   "source": [
    "state = torch.Tensor(res[0])\n",
    "state.reshape((-1,4,10,10)).shape"
   ]
  },
  {
   "cell_type": "code",
   "execution_count": 7,
   "metadata": {},
   "outputs": [],
   "source": [
    "embed = e.forward(state.reshape((-1, 4, 10, 10)))"
   ]
  },
  {
   "cell_type": "code",
   "execution_count": 8,
   "metadata": {},
   "outputs": [],
   "source": [
    "reward = torch.tensor([res[1]], requires_grad=True)\n",
    "action = torch.tensor([3.], requires_grad=True)"
   ]
  },
  {
   "cell_type": "code",
   "execution_count": 9,
   "metadata": {},
   "outputs": [],
   "source": [
    "b = MCTSnet.models.backup.BetaMLP()"
   ]
  },
  {
   "cell_type": "code",
   "execution_count": 10,
   "metadata": {},
   "outputs": [],
   "source": [
    "h_s = b(embed, embed, reward.reshape((-1, 1)), action.reshape((-1, 1)))"
   ]
  },
  {
   "cell_type": "code",
   "execution_count": 11,
   "metadata": {},
   "outputs": [],
   "source": [
    "r = MCTSnet.models.readout.Rho()"
   ]
  },
  {
   "cell_type": "code",
   "execution_count": 12,
   "metadata": {},
   "outputs": [
    {
     "data": {
      "text/plain": [
       "tensor([[0.1336, 0.1265, 0.1206, 0.1230, 0.1243, 0.1261, 0.1145, 0.1315]],\n",
       "       grad_fn=<SoftmaxBackward>)"
      ]
     },
     "execution_count": 12,
     "metadata": {},
     "output_type": "execute_result"
    }
   ],
   "source": [
    "r(h_s)"
   ]
  },
  {
   "cell_type": "code",
   "execution_count": 13,
   "metadata": {},
   "outputs": [
    {
     "data": {
      "text/plain": [
       "tensor([[0.0000, 0.0011, 0.0636, 0.0279, 0.0000, 0.0345, 0.0000, 0.0000]],\n",
       "       grad_fn=<ReluBackward0>)"
      ]
     },
     "execution_count": 13,
     "metadata": {},
     "output_type": "execute_result"
    }
   ],
   "source": [
    "pi0 = MCTSnet.models.policy.PiLogits()\n",
    "pi0(h_s)"
   ]
  },
  {
   "cell_type": "code",
   "execution_count": 14,
   "metadata": {},
   "outputs": [
    {
     "data": {
      "text/plain": [
       "tensor([[0.0000, 0.0000, 0.1576, 0.0000, 0.0000, 0.0000, 0.0253, 0.0000, 0.1973,\n",
       "         0.0000, 0.0000, 0.0083, 0.1636, 0.0000, 0.1915, 0.1127, 0.0000, 0.2099,\n",
       "         0.0000, 0.0213, 0.0921, 0.0000, 0.0000, 0.0823, 0.0000, 0.0000, 0.0334,\n",
       "         0.0000, 0.0000, 0.0000, 0.1694, 0.1015, 0.0000, 0.0000, 0.0714, 0.0000,\n",
       "         0.0000, 0.1474, 0.0000, 0.0000, 0.0060, 0.0159, 0.0061, 0.0000, 0.0000,\n",
       "         0.0338, 0.0000, 0.1511, 0.0000, 0.0000, 0.0000, 0.1026, 0.1153, 0.0845,\n",
       "         0.1034, 0.0000, 0.0000, 0.0000, 0.0000, 0.1207, 0.1974, 0.1620, 0.0930,\n",
       "         0.0000, 0.0372, 0.0000, 0.1996, 0.0000, 0.0000, 0.0492, 0.0000, 0.0130,\n",
       "         0.1293, 0.1539, 0.0000, 0.0000, 0.0000, 0.0000, 0.0840, 0.0719, 0.0000,\n",
       "         0.0114, 0.0000, 0.0000, 0.0000, 0.1169, 0.0913, 0.0000, 0.1469, 0.0897,\n",
       "         0.0000, 0.0017, 0.1524, 0.1405, 0.0143, 0.2109, 0.0000, 0.0000, 0.0000,\n",
       "         0.2086, 0.0000, 0.0397, 0.1631, 0.0000, 0.0726, 0.1008, 0.1391, 0.0000,\n",
       "         0.0603, 0.0067, 0.0540, 0.0000, 0.0447, 0.0236, 0.0595, 0.0000, 0.0609,\n",
       "         0.0736, 0.1154, 0.0000, 0.0032, 0.0188, 0.0000, 0.0000, 0.0659, 0.0437,\n",
       "         0.0000, 0.0686]], grad_fn=<ReluBackward0>)"
      ]
     },
     "execution_count": 14,
     "metadata": {},
     "output_type": "execute_result"
    }
   ],
   "source": [
    "h_s"
   ]
  },
  {
   "cell_type": "code",
   "execution_count": 15,
   "metadata": {},
   "outputs": [
    {
     "data": {
      "text/plain": [
       "tensor([[0.0000, 0.0340, 0.0403, 0.0000, 0.0174, 0.0592, 0.0236, 0.0716]],\n",
       "       grad_fn=<ReluBackward0>)"
      ]
     },
     "execution_count": 15,
     "metadata": {},
     "output_type": "execute_result"
    }
   ],
   "source": [
    "pi1 = MCTSnet.models.policy.PiPriorLogits()\n",
    "pi1(torch.cat((h_s, h_s, h_s, h_s, h_s, h_s, h_s, h_s, h_s), dim=0).reshape((-1, 9, 128, 1)))"
   ]
  },
  {
   "cell_type": "code",
   "execution_count": 17,
   "metadata": {},
   "outputs": [
    {
     "data": {
      "text/plain": [
       "tensor([[0.1227, 0.1248, 0.1298, 0.1227, 0.1244, 0.1252, 0.1256, 0.1249]],\n",
       "       grad_fn=<SoftmaxBackward>)"
      ]
     },
     "execution_count": 17,
     "metadata": {},
     "output_type": "execute_result"
    }
   ],
   "source": [
    "pi = MCTSnet.models.policy.Pi()\n",
    "pi(torch.cat((h_s, h_s, h_s, h_s, h_s, h_s, h_s, h_s, h_s), dim=0).reshape(-1, 9, 128))"
   ]
  }
 ],
 "metadata": {
  "kernelspec": {
   "display_name": "Python 3",
   "language": "python",
   "name": "python3"
  },
  "language_info": {
   "codemirror_mode": {
    "name": "ipython",
    "version": 3
   },
   "file_extension": ".py",
   "mimetype": "text/x-python",
   "name": "python",
   "nbconvert_exporter": "python",
   "pygments_lexer": "ipython3",
   "version": "3.6.1"
  }
 },
 "nbformat": 4,
 "nbformat_minor": 2
}
