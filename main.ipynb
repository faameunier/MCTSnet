{
 "cells": [
  {
   "cell_type": "code",
   "execution_count": 1,
   "metadata": {},
   "outputs": [],
   "source": [
    "import gym\n",
    "import MCTSnet\n",
    "import copy\n",
    "import torch"
   ]
  },
  {
   "cell_type": "markdown",
   "metadata": {},
   "source": [
    "# Testing environment"
   ]
  },
  {
   "cell_type": "code",
   "execution_count": 2,
   "metadata": {},
   "outputs": [],
   "source": [
    "env = gym.make(\"SokobanEnc-v0\")"
   ]
  },
  {
   "cell_type": "code",
   "execution_count": 3,
   "metadata": {},
   "outputs": [
    {
     "data": {
      "image/png": "[encoded data removed]",
      "text/plain": [
       "<PIL.Image.Image image mode=RGB size=160x160 at 0x180E7968208>"
      ]
     },
     "execution_count": 3,
     "metadata": {},
     "output_type": "execute_result"
    }
   ],
   "source": [
    "env.render()"
   ]
  },
  {
   "cell_type": "code",
   "execution_count": 4,
   "metadata": {},
   "outputs": [
    {
     "data": {
      "image/png": "[encoded data removed]",
      "text/plain": [
       "<PIL.Image.Image image mode=RGB size=160x160 at 0x180E79687B8>"
      ]
     },
     "execution_count": 4,
     "metadata": {},
     "output_type": "execute_result"
    }
   ],
   "source": [
    "res = env.step(3)\n",
    "env.render()"
   ]
  },
  {
   "cell_type": "markdown",
   "metadata": {},
   "source": [
    "# Testing the four neural networks"
   ]
  },
  {
   "cell_type": "code",
   "execution_count": 5,
   "metadata": {},
   "outputs": [],
   "source": [
    "e = MCTSnet.models.embedding.Epsilon()"
   ]
  },
  {
   "cell_type": "code",
   "execution_count": 6,
   "metadata": {},
   "outputs": [
    {
     "data": {
      "text/plain": [
       "torch.Size([1, 4, 10, 10])"
      ]
     },
     "execution_count": 6,
     "metadata": {},
     "output_type": "execute_result"
    }
   ],
   "source": [
    "state = torch.Tensor(res[0])\n",
    "state.reshape((-1,4,10,10)).shape"
   ]
  },
  {
   "cell_type": "code",
   "execution_count": 7,
   "metadata": {},
   "outputs": [],
   "source": [
    "embed = e.forward(state.reshape((-1, 4, 10, 10)))"
   ]
  },
  {
   "cell_type": "code",
   "execution_count": 8,
   "metadata": {},
   "outputs": [],
   "source": [
    "reward = torch.tensor([res[1]], requires_grad=True)\n",
    "action = torch.tensor([3.], requires_grad=True)"
   ]
  },
  {
   "cell_type": "code",
   "execution_count": 9,
   "metadata": {},
   "outputs": [],
   "source": [
    "b = MCTSnet.models.backup.BetaMLP()"
   ]
  },
  {
   "cell_type": "code",
   "execution_count": 10,
   "metadata": {},
   "outputs": [],
   "source": [
    "h_s = b(embed, embed, reward.reshape((-1, 1)), action.reshape((-1, 1)))"
   ]
  },
  {
   "cell_type": "code",
   "execution_count": 11,
   "metadata": {},
   "outputs": [],
   "source": [
    "r = MCTSnet.models.readout.Rho()"
   ]
  },
  {
   "cell_type": "code",
   "execution_count": 12,
   "metadata": {},
   "outputs": [
    {
     "data": {
      "text/plain": [
       "tensor([[0.1395, 0.1258, 0.1358, 0.1081, 0.1217, 0.1453, 0.1082, 0.1156]],\n",
       "       grad_fn=<SoftmaxBackward>)"
      ]
     },
     "execution_count": 12,
     "metadata": {},
     "output_type": "execute_result"
    }
   ],
   "source": [
    "r(h_s)"
   ]
  },
  {
   "cell_type": "code",
   "execution_count": 13,
   "metadata": {},
   "outputs": [],
   "source": [
    "pi = MCTSnet.models.policy.Pi()\n",
    "actions = pi(torch.cat((h_s, h_s, h_s, h_s, h_s, h_s, h_s, h_s, h_s), dim=0).reshape(-1, 9, 128))"
   ]
  },
  {
   "cell_type": "code",
   "execution_count": 14,
   "metadata": {},
   "outputs": [
    {
     "data": {
      "text/plain": [
       "tensor([[0.1278, 0.1212, 0.1211, 0.1226, 0.1255, 0.1290, 0.1250, 0.1279]],\n",
       "       grad_fn=<SoftmaxBackward>)"
      ]
     },
     "execution_count": 14,
     "metadata": {},
     "output_type": "execute_result"
    }
   ],
   "source": [
    "actions"
   ]
  },
  {
   "cell_type": "code",
   "execution_count": 15,
   "metadata": {},
   "outputs": [
    {
     "data": {
      "text/plain": [
       "tensor(5)"
      ]
     },
     "execution_count": 15,
     "metadata": {},
     "output_type": "execute_result"
    }
   ],
   "source": [
    "torch.argmax(actions)"
   ]
  },
  {
   "cell_type": "code",
   "execution_count": 16,
   "metadata": {},
   "outputs": [
    {
     "data": {
      "text/plain": [
       "torch.Size([4, 10, 10])"
      ]
     },
     "execution_count": 16,
     "metadata": {},
     "output_type": "execute_result"
    }
   ],
   "source": [
    "state.shape"
   ]
  },
  {
   "cell_type": "markdown",
   "metadata": {},
   "source": [
    "# Testing the full MCTSnet"
   ]
  },
  {
   "cell_type": "code",
   "execution_count": 17,
   "metadata": {},
   "outputs": [
    {
     "name": "stdout",
     "output_type": "stream",
     "text": [
      "tensor(5)\n",
      "tensor(5., grad_fn=<SumBackward0>)\n",
      "tensor(7)\n",
      "tensor(7., grad_fn=<SumBackward0>)\n",
      "tensor(7)\n",
      "tensor(7., grad_fn=<SumBackward0>)\n",
      "tensor(5)\n",
      "tensor(5., grad_fn=<SumBackward0>)\n",
      "tensor(5)\n",
      "tensor(5., grad_fn=<SumBackward0>)\n",
      "tensor(5)\n",
      "tensor(5., grad_fn=<SumBackward0>)\n",
      "tensor(5)\n",
      "tensor(5., grad_fn=<SumBackward0>)\n",
      "tensor(7)\n",
      "tensor(7., grad_fn=<SumBackward0>)\n",
      "tensor(5)\n",
      "tensor(5., grad_fn=<SumBackward0>)\n",
      "tensor(7)\n",
      "tensor(7., grad_fn=<SumBackward0>)\n",
      "tensor(5)\n",
      "tensor(5., grad_fn=<SumBackward0>)\n",
      "tensor(5)\n",
      "tensor(5., grad_fn=<SumBackward0>)\n",
      "tensor(5)\n",
      "tensor(5., grad_fn=<SumBackward0>)\n",
      "tensor(5)\n",
      "tensor(5., grad_fn=<SumBackward0>)\n",
      "tensor(5)\n",
      "tensor(5., grad_fn=<SumBackward0>)\n",
      "tensor(5)\n",
      "tensor(5., grad_fn=<SumBackward0>)\n",
      "tensor(7)\n",
      "tensor(7., grad_fn=<SumBackward0>)\n",
      "tensor(5)\n",
      "tensor(5., grad_fn=<SumBackward0>)\n",
      "tensor(5)\n",
      "tensor(5., grad_fn=<SumBackward0>)\n",
      "tensor(7)\n",
      "tensor(7., grad_fn=<SumBackward0>)\n",
      "tensor(5)\n",
      "tensor(5., grad_fn=<SumBackward0>)\n",
      "tensor(5)\n",
      "tensor(5., grad_fn=<SumBackward0>)\n",
      "tensor(5)\n",
      "tensor(5., grad_fn=<SumBackward0>)\n",
      "tensor(5)\n",
      "tensor(5., grad_fn=<SumBackward0>)\n",
      "tensor(5)\n",
      "tensor(5., grad_fn=<SumBackward0>)\n"
     ]
    },
    {
     "name": "stderr",
     "output_type": "stream",
     "text": [
      "F:\\Projets\\MCTSnet\\MCTSnet\\utils.py:18: UserWarning: Implicit dimension choice for softmax has been deprecated. Change the call to include dim=X as an argument.\n",
      "  return torch.sum(torch.nn.functional.softmax(x * beta) * x_range)\n"
     ]
    }
   ],
   "source": [
    "m_net = MCTSnet.models.MCTSnet.MCTSnet(env, b, e, pi, r)\n",
    "m_net.reset_tree(state.reshape((-1, 4, 10, 10)))\n",
    "prediction = m_net(state.reshape((-1, 4, 10, 10)))"
   ]
  },
  {
   "cell_type": "code",
   "execution_count": 18,
   "metadata": {},
   "outputs": [
    {
     "data": {
      "text/plain": [
       "tensor([[0.1404, 0.1175, 0.1346, 0.1084, 0.1249, 0.1618, 0.1085, 0.1040]],\n",
       "       grad_fn=<SoftmaxBackward>)"
      ]
     },
     "execution_count": 18,
     "metadata": {},
     "output_type": "execute_result"
    }
   ],
   "source": [
    "prediction"
   ]
  },
  {
   "cell_type": "code",
   "execution_count": 19,
   "metadata": {},
   "outputs": [],
   "source": [
    "criterion = torch.nn.BCELoss()\n",
    "optimizer = torch.optim.SGD(m_net.parameters(), lr=0.0001)"
   ]
  },
  {
   "cell_type": "markdown",
   "metadata": {},
   "source": [
    "### Checking that gradients are computed (is the model differentiable ?)"
   ]
  },
  {
   "cell_type": "code",
   "execution_count": 20,
   "metadata": {},
   "outputs": [],
   "source": [
    "optimizer.zero_grad()\n",
    "loss = criterion(prediction, torch.tensor([[1.,0.,0.,0.,0.,0.,0.,0.]]))\n",
    "loss.backward()"
   ]
  },
  {
   "cell_type": "code",
   "execution_count": 21,
   "metadata": {},
   "outputs": [
    {
     "data": {
      "text/plain": [
       "tensor([[ 0.0000e+00,  0.0000e+00,  0.0000e+00,  ...,  0.0000e+00,\n",
       "         -0.0000e+00,  0.0000e+00],\n",
       "        [-4.6099e-06,  4.1199e-04,  6.6004e-05,  ...,  2.1650e-04,\n",
       "         -2.6273e-04,  1.2540e-02],\n",
       "        [ 0.0000e+00, -4.8464e-04, -8.8804e-06,  ...,  2.5041e-05,\n",
       "          2.4390e-04, -1.2195e-02],\n",
       "        ...,\n",
       "        [ 0.0000e+00,  1.6143e-03,  3.7526e-04,  ...,  2.6592e-04,\n",
       "         -1.0880e-03,  5.3754e-02],\n",
       "        [-2.2211e-06, -1.4328e-03, -5.2177e-04,  ..., -3.8231e-04,\n",
       "          1.1535e-03, -5.7754e-02],\n",
       "        [ 2.6695e-06, -3.3431e-04, -1.0638e-04,  ..., -1.2037e-04,\n",
       "          2.5411e-04, -1.1833e-02]])"
      ]
     },
     "execution_count": 21,
     "metadata": {},
     "output_type": "execute_result"
    }
   ],
   "source": [
    "m_net.backup.fc1.weight.grad"
   ]
  },
  {
   "cell_type": "code",
   "execution_count": 22,
   "metadata": {
    "scrolled": true
   },
   "outputs": [
    {
     "data": {
      "text/plain": [
       "tensor([[[[ 3.8092e-06,  1.1472e-05,  8.3684e-06],\n",
       "          [ 3.6278e-06,  1.8923e-05,  5.9207e-06],\n",
       "          [-1.8571e-06,  1.0023e-05,  1.7708e-06]],\n",
       "\n",
       "         [[ 0.0000e+00,  0.0000e+00,  0.0000e+00],\n",
       "          [ 1.8405e-06, -7.3025e-07,  0.0000e+00],\n",
       "          [ 2.1297e-07,  0.0000e+00,  0.0000e+00]],\n",
       "\n",
       "         [[-7.6444e-07,  0.0000e+00,  2.4012e-06],\n",
       "          [ 1.2855e-07,  1.8405e-06, -7.3025e-07],\n",
       "          [ 5.5491e-06, -3.9952e-07,  0.0000e+00]],\n",
       "\n",
       "         [[ 0.0000e+00,  0.0000e+00,  1.8060e-06],\n",
       "          [ 0.0000e+00,  0.0000e+00,  0.0000e+00],\n",
       "          [ 0.0000e+00,  0.0000e+00,  3.0708e-06]]],\n",
       "\n",
       "\n",
       "        [[[-1.0608e-05, -5.3875e-06, -1.4197e-05],\n",
       "          [-5.8863e-06, -3.3623e-06, -3.5040e-06],\n",
       "          [-3.5125e-06, -7.0617e-06, -2.5361e-06]],\n",
       "\n",
       "         [[ 1.2106e-07, -1.1561e-06,  3.0534e-07],\n",
       "          [ 0.0000e+00,  0.0000e+00,  0.0000e+00],\n",
       "          [ 0.0000e+00,  0.0000e+00, -9.4701e-07]],\n",
       "\n",
       "         [[-4.9088e-06,  8.9155e-07, -1.1707e-06],\n",
       "          [ 3.7175e-06, -1.1561e-06, -2.5056e-06],\n",
       "          [ 3.4838e-07,  0.0000e+00,  0.0000e+00]],\n",
       "\n",
       "         [[-2.9087e-06,  0.0000e+00, -1.6689e-07],\n",
       "          [ 3.6955e-07,  0.0000e+00,  1.7420e-07],\n",
       "          [-5.4302e-07,  0.0000e+00,  1.9336e-06]]],\n",
       "\n",
       "\n",
       "        [[[-4.3210e-06, -4.8895e-06,  3.2077e-07],\n",
       "          [-4.6862e-06,  4.3309e-06,  1.1623e-06],\n",
       "          [ 7.7904e-06, -2.7890e-06, -4.9877e-06]],\n",
       "\n",
       "         [[-2.7600e-06,  4.7432e-07, -4.0941e-06],\n",
       "          [-3.0034e-07, -1.2663e-06, -1.6952e-07],\n",
       "          [-1.7870e-07, -2.4590e-06, -1.3945e-07]],\n",
       "\n",
       "         [[-4.0758e-06,  4.6391e-07, -4.0927e-07],\n",
       "          [-5.8527e-06, -4.2849e-07, -4.8500e-06],\n",
       "          [-1.4001e-07, -2.0517e-07, -1.2093e-06]],\n",
       "\n",
       "         [[ 2.0396e-06, -8.0823e-07, -2.8963e-06],\n",
       "          [ 1.7501e-06,  1.6798e-06, -2.7548e-06],\n",
       "          [ 3.4946e-06, -1.9461e-06, -3.0664e-06]]],\n",
       "\n",
       "\n",
       "        ...,\n",
       "\n",
       "\n",
       "        [[[ 2.8058e-07, -6.3608e-06, -4.6129e-06],\n",
       "          [ 2.2386e-06,  5.6589e-06, -4.9301e-06],\n",
       "          [ 5.6929e-06,  7.3771e-06,  5.1659e-07]],\n",
       "\n",
       "         [[-1.3879e-06,  1.3776e-06, -1.0338e-06],\n",
       "          [ 1.2459e-06,  5.0523e-08, -2.3169e-06],\n",
       "          [ 9.7278e-07, -1.0694e-06, -5.2230e-07]],\n",
       "\n",
       "         [[ 2.8626e-06, -4.4324e-06,  4.5903e-06],\n",
       "          [-3.6592e-06,  3.7244e-06, -1.7242e-06],\n",
       "          [ 1.7384e-06,  2.4676e-06, -6.7304e-06]],\n",
       "\n",
       "         [[ 1.5065e-06,  3.3075e-06, -7.3461e-07],\n",
       "          [-4.7457e-06, -2.0469e-06,  4.9110e-06],\n",
       "          [ 2.3255e-06, -5.6173e-06,  2.2431e-06]]],\n",
       "\n",
       "\n",
       "        [[[-9.6089e-06, -9.6089e-06, -9.6089e-06],\n",
       "          [-4.1679e-06, -4.1679e-06, -4.1679e-06],\n",
       "          [-1.7582e-06,  0.0000e+00,  0.0000e+00]],\n",
       "\n",
       "         [[ 0.0000e+00,  0.0000e+00,  0.0000e+00],\n",
       "          [ 0.0000e+00, -2.7230e-06,  0.0000e+00],\n",
       "          [ 0.0000e+00,  0.0000e+00, -1.7582e-06]],\n",
       "\n",
       "         [[ 0.0000e+00,  0.0000e+00,  0.0000e+00],\n",
       "          [ 0.0000e+00,  0.0000e+00, -2.7230e-06],\n",
       "          [ 0.0000e+00, -2.4763e-06, -2.9647e-06]],\n",
       "\n",
       "         [[ 0.0000e+00,  0.0000e+00,  0.0000e+00],\n",
       "          [-2.9647e-06,  0.0000e+00,  0.0000e+00],\n",
       "          [ 0.0000e+00,  0.0000e+00,  0.0000e+00]]],\n",
       "\n",
       "\n",
       "        [[[-2.5341e-06,  1.1600e-05,  5.4728e-06],\n",
       "          [ 1.0284e-05,  1.7275e-05,  1.4933e-05],\n",
       "          [ 1.6816e-05,  1.7675e-05,  1.2348e-05]],\n",
       "\n",
       "         [[ 0.0000e+00,  0.0000e+00,  0.0000e+00],\n",
       "          [ 0.0000e+00, -1.3833e-06,  1.7811e-06],\n",
       "          [-1.6660e-06, -2.7787e-07,  2.3626e-06]],\n",
       "\n",
       "         [[ 0.0000e+00,  2.3886e-06,  1.1705e-06],\n",
       "          [ 0.0000e+00,  0.0000e+00, -1.3833e-06],\n",
       "          [ 1.1414e-06, -4.5497e-06,  4.0144e-06]],\n",
       "\n",
       "         [[-2.2747e-06, -5.6137e-07,  1.3972e-06],\n",
       "          [ 2.3670e-06,  0.0000e+00,  2.3568e-07],\n",
       "          [ 1.0154e-06, -1.2028e-06,  1.7505e-06]]]])"
      ]
     },
     "execution_count": 22,
     "metadata": {},
     "output_type": "execute_result"
    }
   ],
   "source": [
    "m_net.embedding.input.weight.grad"
   ]
  },
  {
   "cell_type": "markdown",
   "metadata": {},
   "source": [
    "as \"expected\" the policy doesn't learn and may require additionnal work"
   ]
  },
  {
   "cell_type": "code",
   "execution_count": 26,
   "metadata": {},
   "outputs": [
    {
     "data": {
      "text/plain": [
       "tensor(0.)"
      ]
     },
     "execution_count": 26,
     "metadata": {},
     "output_type": "execute_result"
    }
   ],
   "source": [
    "m_net.policy.piL.fc1.weight.grad.max()"
   ]
  },
  {
   "cell_type": "code",
   "execution_count": 24,
   "metadata": {},
   "outputs": [
    {
     "data": {
      "text/plain": [
       "tensor([[-0.0000, -0.0171, -0.0034,  ..., -0.0170, -0.0026, -0.0023],\n",
       "        [ 0.0000,  0.0023,  0.0005,  ...,  0.0023,  0.0004,  0.0003],\n",
       "        [ 0.0000,  0.0027,  0.0005,  ...,  0.0027,  0.0004,  0.0004],\n",
       "        ...,\n",
       "        [ 0.0000,  0.0034,  0.0007,  ...,  0.0033,  0.0005,  0.0005],\n",
       "        [ 0.0000,  0.0021,  0.0004,  ...,  0.0021,  0.0003,  0.0003],\n",
       "        [ 0.0000,  0.0020,  0.0004,  ...,  0.0020,  0.0003,  0.0003]])"
      ]
     },
     "execution_count": 24,
     "metadata": {},
     "output_type": "execute_result"
    }
   ],
   "source": [
    "m_net.readout.fc1.weight.grad"
   ]
  },
  {
   "cell_type": "code",
   "execution_count": 27,
   "metadata": {},
   "outputs": [
    {
     "data": {
      "text/plain": [
       "<bound method Module.state_dict of MCTSnet(\n",
       "  (backup): BetaMLP(\n",
       "    (fc1): Linear(in_features=258, out_features=128, bias=True)\n",
       "  )\n",
       "  (embedding): Epsilon(\n",
       "    (input): Conv2d(4, 64, kernel_size=(3, 3), stride=(1, 1), padding=(1, 1))\n",
       "    (res1): Conv2d(64, 64, kernel_size=(3, 3), stride=(1, 1), padding=(1, 1))\n",
       "    (res2): Conv2d(64, 64, kernel_size=(3, 3), stride=(1, 1), padding=(1, 1))\n",
       "    (res3): Conv2d(64, 64, kernel_size=(3, 3), stride=(1, 1), padding=(1, 1))\n",
       "    (final): Conv2d(64, 32, kernel_size=(1, 1), stride=(1, 1))\n",
       "    (out): Linear(in_features=3200, out_features=128, bias=True)\n",
       "  )\n",
       "  (policy): Pi(\n",
       "    (piL): PiLogits(\n",
       "      (fc1): Linear(in_features=128, out_features=8, bias=True)\n",
       "    )\n",
       "    (piPL): PiPriorLogits(\n",
       "      (input): Conv2d(9, 32, kernel_size=(3, 3), stride=(1, 1), padding=(1, 1))\n",
       "      (res1): Conv2d(32, 32, kernel_size=(3, 3), stride=(1, 1), padding=(1, 1))\n",
       "      (res2): Conv2d(32, 32, kernel_size=(3, 3), stride=(1, 1), padding=(1, 1))\n",
       "      (final): Conv2d(32, 16, kernel_size=(1, 1), stride=(1, 1))\n",
       "      (out): Linear(in_features=2048, out_features=8, bias=True)\n",
       "    )\n",
       "  )\n",
       "  (readout): Rho(\n",
       "    (fc1): Linear(in_features=128, out_features=8, bias=True)\n",
       "  )\n",
       ")>"
      ]
     },
     "execution_count": 27,
     "metadata": {},
     "output_type": "execute_result"
    }
   ],
   "source": [
    "m_net.state_dict"
   ]
  }
 ],
 "metadata": {
  "kernelspec": {
   "display_name": "Python 3",
   "language": "python",
   "name": "python3"
  },
  "language_info": {
   "codemirror_mode": {
    "name": "ipython",
    "version": 3
   },
   "file_extension": ".py",
   "mimetype": "text/x-python",
   "name": "python",
   "nbconvert_exporter": "python",
   "pygments_lexer": "ipython3",
   "version": "3.6.1"
  }
 },
 "nbformat": 4,
 "nbformat_minor": 2
}
