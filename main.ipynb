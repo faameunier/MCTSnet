{
 "cells": [
  {
   "cell_type": "code",
   "execution_count": 1,
   "metadata": {},
   "outputs": [],
   "source": [
    "import gym\n",
    "import MCTSnet\n",
    "import copy\n",
    "import torch"
   ]
  },
  {
   "cell_type": "markdown",
   "metadata": {},
   "source": [
    "# Testing environment"
   ]
  },
  {
   "cell_type": "code",
   "execution_count": 2,
   "metadata": {},
   "outputs": [],
   "source": [
    "env = gym.make(\"SokobanEnc-v0\")"
   ]
  },
  {
   "cell_type": "code",
   "execution_count": 3,
   "metadata": {},
   "outputs": [
    {
     "data": {
      "image/png": "[encoded data removed]",
      "text/plain": [
       "<PIL.Image.Image image mode=RGB size=160x160 at 0x1B4E0FFE128>"
      ]
     },
     "execution_count": 3,
     "metadata": {},
     "output_type": "execute_result"
    }
   ],
   "source": [
    "env.render()"
   ]
  },
  {
   "cell_type": "code",
   "execution_count": 4,
   "metadata": {},
   "outputs": [
    {
     "data": {
      "image/png": "[encoded data removed]",
      "text/plain": [
       "<PIL.Image.Image image mode=RGB size=160x160 at 0x1B481D565F8>"
      ]
     },
     "execution_count": 4,
     "metadata": {},
     "output_type": "execute_result"
    }
   ],
   "source": [
    "res = env.step(3)\n",
    "env.render()"
   ]
  },
  {
   "cell_type": "markdown",
   "metadata": {},
   "source": [
    "# Testing the four neural networks"
   ]
  },
  {
   "cell_type": "code",
   "execution_count": 5,
   "metadata": {},
   "outputs": [],
   "source": [
    "e = MCTSnet.models.embedding.Epsilon()"
   ]
  },
  {
   "cell_type": "code",
   "execution_count": 6,
   "metadata": {},
   "outputs": [
    {
     "data": {
      "text/plain": [
       "torch.Size([1, 4, 10, 10])"
      ]
     },
     "execution_count": 6,
     "metadata": {},
     "output_type": "execute_result"
    }
   ],
   "source": [
    "state = torch.Tensor(res[0])\n",
    "state.reshape((-1,4,10,10)).shape"
   ]
  },
  {
   "cell_type": "code",
   "execution_count": 7,
   "metadata": {},
   "outputs": [],
   "source": [
    "embed = e.forward(state.reshape((-1, 4, 10, 10)))"
   ]
  },
  {
   "cell_type": "code",
   "execution_count": 8,
   "metadata": {},
   "outputs": [],
   "source": [
    "reward = torch.tensor([res[1]], requires_grad=True)\n",
    "action = torch.tensor([3.], requires_grad=True)"
   ]
  },
  {
   "cell_type": "code",
   "execution_count": 9,
   "metadata": {},
   "outputs": [],
   "source": [
    "b = MCTSnet.models.backup.BetaMLP()"
   ]
  },
  {
   "cell_type": "code",
   "execution_count": 10,
   "metadata": {},
   "outputs": [],
   "source": [
    "h_s = b(embed, embed, reward.reshape((-1, 1)), action.reshape((-1, 1)))"
   ]
  },
  {
   "cell_type": "code",
   "execution_count": 11,
   "metadata": {},
   "outputs": [],
   "source": [
    "r = MCTSnet.models.readout.Rho()"
   ]
  },
  {
   "cell_type": "code",
   "execution_count": 12,
   "metadata": {},
   "outputs": [
    {
     "data": {
      "text/plain": [
       "tensor([[0.1239, 0.1248, 0.1313, 0.1272, 0.1116, 0.1235, 0.1310, 0.1267]],\n",
       "       grad_fn=<SoftmaxBackward>)"
      ]
     },
     "execution_count": 12,
     "metadata": {},
     "output_type": "execute_result"
    }
   ],
   "source": [
    "r(h_s)"
   ]
  },
  {
   "cell_type": "code",
   "execution_count": 13,
   "metadata": {},
   "outputs": [],
   "source": [
    "pi = MCTSnet.models.policy.Pi()\n",
    "actions = pi(torch.cat((h_s, h_s, h_s, h_s, h_s, h_s, h_s, h_s, h_s), dim=0).reshape(-1, 9, 128))"
   ]
  },
  {
   "cell_type": "code",
   "execution_count": 14,
   "metadata": {},
   "outputs": [
    {
     "data": {
      "text/plain": [
       "tensor([[0.1240, 0.1304, 0.1243, 0.1215, 0.1271, 0.1250, 0.1268, 0.1209]],\n",
       "       grad_fn=<SoftmaxBackward>)"
      ]
     },
     "execution_count": 14,
     "metadata": {},
     "output_type": "execute_result"
    }
   ],
   "source": [
    "actions"
   ]
  },
  {
   "cell_type": "code",
   "execution_count": 15,
   "metadata": {},
   "outputs": [
    {
     "data": {
      "text/plain": [
       "tensor(1)"
      ]
     },
     "execution_count": 15,
     "metadata": {},
     "output_type": "execute_result"
    }
   ],
   "source": [
    "torch.argmax(actions)"
   ]
  },
  {
   "cell_type": "code",
   "execution_count": 16,
   "metadata": {},
   "outputs": [
    {
     "data": {
      "text/plain": [
       "torch.Size([4, 10, 10])"
      ]
     },
     "execution_count": 16,
     "metadata": {},
     "output_type": "execute_result"
    }
   ],
   "source": [
    "state.shape"
   ]
  },
  {
   "cell_type": "markdown",
   "metadata": {},
   "source": [
    "# Testing the full MCTSnet"
   ]
  },
  {
   "cell_type": "code",
   "execution_count": 17,
   "metadata": {},
   "outputs": [],
   "source": [
    "m_net = MCTSnet.models.MCTSnet.MCTSnet(env, b, e, pi, r)\n",
    "m_net.reset_tree(state.reshape((-1, 4, 10, 10)))\n",
    "prediction = m_net(state.reshape((-1, 4, 10, 10)))"
   ]
  },
  {
   "cell_type": "code",
   "execution_count": 18,
   "metadata": {},
   "outputs": [
    {
     "data": {
      "text/plain": [
       "tensor([[0.1219, 0.1230, 0.1342, 0.1258, 0.1171, 0.1238, 0.1259, 0.1282]],\n",
       "       grad_fn=<SoftmaxBackward>)"
      ]
     },
     "execution_count": 18,
     "metadata": {},
     "output_type": "execute_result"
    }
   ],
   "source": [
    "prediction"
   ]
  },
  {
   "cell_type": "code",
   "execution_count": 19,
   "metadata": {},
   "outputs": [],
   "source": [
    "criterion = torch.nn.BCELoss()\n",
    "optimizer = torch.optim.SGD(m_net.parameters(), lr=0.0001)"
   ]
  },
  {
   "cell_type": "markdown",
   "metadata": {},
   "source": [
    "### Checking that gradients are computed (is the model differentiable ?)"
   ]
  },
  {
   "cell_type": "code",
   "execution_count": 20,
   "metadata": {},
   "outputs": [],
   "source": [
    "optimizer.zero_grad()\n",
    "loss = criterion(prediction, torch.tensor([[1.,0.,0.,0.,0.,0.,0.,0.]]))\n",
    "loss.backward()"
   ]
  },
  {
   "cell_type": "code",
   "execution_count": 28,
   "metadata": {},
   "outputs": [
    {
     "data": {
      "text/plain": [
       "tensor([[ 2.7878e-04, -1.5192e-08,  2.3460e-04,  ...,  0.0000e+00,\n",
       "         -1.2648e-03,  1.2648e-02],\n",
       "        [ 0.0000e+00,  1.7888e-08,  7.5133e-09,  ...,  0.0000e+00,\n",
       "         -2.2308e-08,  2.2308e-07],\n",
       "        [-9.1358e-05, -2.4121e-08, -7.6811e-05,  ...,  0.0000e+00,\n",
       "          4.1319e-04, -4.1319e-03],\n",
       "        ...,\n",
       "        [-3.5190e-05, -3.0203e-09, -2.9628e-05,  ...,  0.0000e+00,\n",
       "          1.6046e-04, -1.6046e-03],\n",
       "        [ 0.0000e+00,  0.0000e+00,  0.0000e+00,  ...,  0.0000e+00,\n",
       "         -0.0000e+00,  0.0000e+00],\n",
       "        [ 0.0000e+00,  0.0000e+00,  0.0000e+00,  ...,  0.0000e+00,\n",
       "         -0.0000e+00,  0.0000e+00]])"
      ]
     },
     "execution_count": 28,
     "metadata": {},
     "output_type": "execute_result"
    }
   ],
   "source": [
    "m_net.backup.fc1.weight.grad"
   ]
  },
  {
   "cell_type": "code",
   "execution_count": 29,
   "metadata": {
    "scrolled": true
   },
   "outputs": [
    {
     "data": {
      "text/plain": [
       "tensor([[[[-2.3999e-08,  3.6270e-09, -1.8610e-08],\n",
       "          [-6.4656e-08, -5.4420e-08, -4.1927e-08],\n",
       "          [ 0.0000e+00, -1.6351e-10,  1.9553e-08]],\n",
       "\n",
       "         [[ 0.0000e+00,  0.0000e+00,  0.0000e+00],\n",
       "          [ 0.0000e+00,  0.0000e+00, -4.7303e-09],\n",
       "          [ 0.0000e+00,  0.0000e+00,  0.0000e+00]],\n",
       "\n",
       "         [[ 0.0000e+00, -4.7303e-09,  0.0000e+00],\n",
       "          [ 0.0000e+00,  0.0000e+00, -1.6351e-10],\n",
       "          [ 2.4182e-08, -4.7303e-09,  0.0000e+00]],\n",
       "\n",
       "         [[ 0.0000e+00,  0.0000e+00,  0.0000e+00],\n",
       "          [ 0.0000e+00,  0.0000e+00,  0.0000e+00],\n",
       "          [-3.5382e-09,  1.6266e-08,  0.0000e+00]]],\n",
       "\n",
       "\n",
       "        [[[-3.5222e-08, -8.2309e-09, -2.6388e-08],\n",
       "          [-3.6939e-08, -2.1827e-08, -3.2125e-08],\n",
       "          [-5.4436e-08, -3.8190e-08, -3.4126e-08]],\n",
       "\n",
       "         [[ 0.0000e+00,  0.0000e+00,  0.0000e+00],\n",
       "          [ 6.9295e-09,  0.0000e+00, -4.8753e-09],\n",
       "          [ 4.9345e-09,  0.0000e+00, -6.7748e-10]],\n",
       "\n",
       "         [[ 0.0000e+00, -8.9300e-09, -3.5304e-09],\n",
       "          [ 0.0000e+00, -6.7748e-10,  1.2915e-08],\n",
       "          [ 1.1926e-08, -4.8766e-09,  3.6818e-09]],\n",
       "\n",
       "         [[-4.9806e-09, -1.4997e-09, -6.7952e-09],\n",
       "          [ 0.0000e+00,  1.1964e-08,  0.0000e+00],\n",
       "          [-4.8753e-09, -1.3121e-09, -1.3470e-12]]],\n",
       "\n",
       "\n",
       "        [[[ 4.3954e-08,  8.9349e-09,  1.4620e-08],\n",
       "          [ 5.4492e-08,  2.6690e-08,  4.7936e-09],\n",
       "          [ 3.7611e-08, -8.2319e-09,  6.8528e-09]],\n",
       "\n",
       "         [[-3.0448e-09, -4.3321e-09,  6.4168e-10],\n",
       "          [ 8.9734e-09, -1.0358e-08,  5.2977e-09],\n",
       "          [ 1.0872e-09, -2.6516e-09, -1.5405e-09]],\n",
       "\n",
       "         [[-7.3166e-09,  1.8116e-08,  5.1286e-09],\n",
       "          [-9.8109e-09, -4.0233e-10, -6.0801e-09],\n",
       "          [-2.5622e-09,  2.4678e-09, -6.0210e-09]],\n",
       "\n",
       "         [[-1.1821e-09,  5.7341e-09,  9.1064e-09],\n",
       "          [ 6.1302e-09, -6.6198e-09, -8.0834e-09],\n",
       "          [-1.5852e-08,  1.2475e-08, -2.2127e-08]]],\n",
       "\n",
       "\n",
       "        ...,\n",
       "\n",
       "\n",
       "        [[[-1.2982e-09, -3.5814e-08, -3.6970e-08],\n",
       "          [ 4.5580e-08,  2.2278e-08,  8.9493e-09],\n",
       "          [ 3.2924e-08, -2.7820e-09, -2.1172e-08]],\n",
       "\n",
       "         [[-1.4075e-08,  2.2513e-09,  0.0000e+00],\n",
       "          [-7.0275e-10, -5.5887e-09,  0.0000e+00],\n",
       "          [ 1.4170e-10,  4.8131e-09, -6.9020e-10]],\n",
       "\n",
       "         [[-4.0543e-09, -2.8348e-09, -1.0900e-08],\n",
       "          [ 7.6676e-09, -6.9020e-10, -4.1927e-09],\n",
       "          [-1.0666e-08,  6.6496e-10, -2.2338e-08]],\n",
       "\n",
       "         [[ 6.4081e-10, -3.7957e-10,  4.7966e-09],\n",
       "          [ 5.6020e-09, -4.3821e-09, -1.6555e-08],\n",
       "          [-8.7047e-09, -4.2744e-09,  3.9190e-09]]],\n",
       "\n",
       "\n",
       "        [[[-4.6087e-08, -4.5452e-08, -1.0454e-08],\n",
       "          [-6.2326e-08, -5.1299e-08, -3.7131e-08],\n",
       "          [-3.8722e-08, -1.9755e-08, -4.1772e-09]],\n",
       "\n",
       "         [[ 0.0000e+00,  0.0000e+00, -5.3392e-09],\n",
       "          [ 0.0000e+00,  0.0000e+00,  0.0000e+00],\n",
       "          [ 0.0000e+00,  0.0000e+00,  8.1698e-09]],\n",
       "\n",
       "         [[ 0.0000e+00, -3.5164e-09, -6.9630e-09],\n",
       "          [ 3.8046e-09, -4.3605e-09, -3.4034e-09],\n",
       "          [ 7.3046e-10, -4.6999e-09,  5.5551e-09]],\n",
       "\n",
       "         [[ 4.6534e-09, -4.8045e-09, -3.2267e-09],\n",
       "          [-5.3392e-09, -4.0479e-09,  3.5985e-09],\n",
       "          [-7.0585e-09,  2.4944e-09, -4.0626e-09]]],\n",
       "\n",
       "\n",
       "        [[[-1.0128e-08, -1.3018e-08,  1.3098e-08],\n",
       "          [ 4.2041e-08, -8.4857e-09,  2.2164e-08],\n",
       "          [ 1.5872e-08, -1.0888e-10,  2.1798e-08]],\n",
       "\n",
       "         [[-6.1810e-09, -6.4431e-09, -6.5424e-09],\n",
       "          [ 1.2101e-08, -1.0874e-08,  1.4086e-08],\n",
       "          [ 5.6186e-09,  1.6188e-09,  0.0000e+00]],\n",
       "\n",
       "         [[-2.7448e-10,  2.4987e-08, -9.0796e-09],\n",
       "          [-1.6735e-09, -6.5424e-09,  6.4072e-10],\n",
       "          [-4.4752e-10,  7.9201e-09, -1.5686e-08]],\n",
       "\n",
       "         [[ 1.6524e-09,  0.0000e+00,  9.1739e-09],\n",
       "          [-9.5198e-09,  6.6616e-09, -2.8544e-09],\n",
       "          [ 9.5181e-09, -1.1547e-08, -6.6337e-09]]]])"
      ]
     },
     "execution_count": 29,
     "metadata": {},
     "output_type": "execute_result"
    }
   ],
   "source": [
    "m_net.embedding.input.weight.grad"
   ]
  },
  {
   "cell_type": "markdown",
   "metadata": {},
   "source": [
    "as \"expected\" the policy doesn't learn and may require additionnal work"
   ]
  },
  {
   "cell_type": "code",
   "execution_count": 34,
   "metadata": {},
   "outputs": [],
   "source": [
    "m_net.policy.piPL.input.weight.grad"
   ]
  },
  {
   "cell_type": "code",
   "execution_count": 32,
   "metadata": {},
   "outputs": [
    {
     "data": {
      "text/plain": [
       "tensor([[-0.0028, -0.0000, -0.0023,  ..., -0.0040, -0.0000, -0.0000],\n",
       "        [ 0.0004,  0.0000,  0.0003,  ...,  0.0006,  0.0000,  0.0000],\n",
       "        [ 0.0004,  0.0000,  0.0004,  ...,  0.0006,  0.0000,  0.0000],\n",
       "        ...,\n",
       "        [ 0.0004,  0.0000,  0.0003,  ...,  0.0006,  0.0000,  0.0000],\n",
       "        [ 0.0004,  0.0000,  0.0003,  ...,  0.0006,  0.0000,  0.0000],\n",
       "        [ 0.0004,  0.0000,  0.0003,  ...,  0.0006,  0.0000,  0.0000]])"
      ]
     },
     "execution_count": 32,
     "metadata": {},
     "output_type": "execute_result"
    }
   ],
   "source": [
    "m_net.readout.fc1.weight.grad"
   ]
  }
 ],
 "metadata": {
  "kernelspec": {
   "display_name": "Python 3",
   "language": "python",
   "name": "python3"
  },
  "language_info": {
   "codemirror_mode": {
    "name": "ipython",
    "version": 3
   },
   "file_extension": ".py",
   "mimetype": "text/x-python",
   "name": "python",
   "nbconvert_exporter": "python",
   "pygments_lexer": "ipython3",
   "version": "3.6.1"
  }
 },
 "nbformat": 4,
 "nbformat_minor": 2
}
