{
 "cells": [
  {
   "cell_type": "markdown",
   "metadata": {},
   "source": [
    "# Pilot - Sokoban Environment\n",
    "## v1"
   ]
  },
  {
   "cell_type": "code",
   "execution_count": 13,
   "metadata": {
    "ExecuteTime": {
     "end_time": "2019-03-07T15:20:03.141919Z",
     "start_time": "2019-03-07T15:20:03.133697Z"
    }
   },
   "outputs": [],
   "source": [
    "import gym\n",
    "import gym_sokoban\n",
    "import time\n",
    "import PIL\n",
    "import numpy as np\n",
    "from IPython import display\n"
   ]
  },
  {
   "cell_type": "markdown",
   "metadata": {
    "heading_collapsed": true
   },
   "source": [
    "## 0 - Random Sampling"
   ]
  },
  {
   "cell_type": "code",
   "execution_count": 2,
   "metadata": {
    "ExecuteTime": {
     "end_time": "2019-03-07T15:16:50.896258Z",
     "start_time": "2019-03-07T15:16:40.378510Z"
    },
    "hidden": true
   },
   "outputs": [
    {
     "name": "stdout",
     "output_type": "stream",
     "text": [
      "push right -0.1 False {'action.name': 'push right', 'action.moved_player': True, 'action.moved_box': True}\n",
      "push left -0.1 False {'action.name': 'push left', 'action.moved_player': True, 'action.moved_box': False}\n",
      "push left -0.1 False {'action.name': 'push left', 'action.moved_player': False, 'action.moved_box': False}\n",
      "move down -0.1 False {'action.name': 'move down', 'action.moved_player': False, 'action.moved_box': False}\n",
      "move down -0.1 False {'action.name': 'move down', 'action.moved_player': False, 'action.moved_box': False}\n",
      "push up -0.1 False {'action.name': 'push up', 'action.moved_player': False, 'action.moved_box': False}\n"
     ]
    },
    {
     "ename": "KeyboardInterrupt",
     "evalue": "",
     "output_type": "error",
     "traceback": [
      "\u001b[0;31m---------------------------------------------------------------------------\u001b[0m",
      "\u001b[0;31mKeyboardInterrupt\u001b[0m                         Traceback (most recent call last)",
      "\u001b[0;32m<ipython-input-2-fefd98e9d4a8>\u001b[0m in \u001b[0;36m<module>\u001b[0;34m\u001b[0m\n\u001b[1;32m     13\u001b[0m \u001b[0;34m\u001b[0m\u001b[0m\n\u001b[1;32m     14\u001b[0m         \u001b[0;31m# Sleep makes the actions visible for users\u001b[0m\u001b[0;34m\u001b[0m\u001b[0;34m\u001b[0m\u001b[0;34m\u001b[0m\u001b[0m\n\u001b[0;32m---> 15\u001b[0;31m         \u001b[0mtime\u001b[0m\u001b[0;34m.\u001b[0m\u001b[0msleep\u001b[0m\u001b[0;34m(\u001b[0m\u001b[0;36m1\u001b[0m\u001b[0;34m)\u001b[0m\u001b[0;34m\u001b[0m\u001b[0;34m\u001b[0m\u001b[0m\n\u001b[0m\u001b[1;32m     16\u001b[0m         \u001b[0mobservation\u001b[0m\u001b[0;34m,\u001b[0m \u001b[0mreward\u001b[0m\u001b[0;34m,\u001b[0m \u001b[0mdone\u001b[0m\u001b[0;34m,\u001b[0m \u001b[0minfo\u001b[0m \u001b[0;34m=\u001b[0m \u001b[0menv\u001b[0m\u001b[0;34m.\u001b[0m\u001b[0mstep\u001b[0m\u001b[0;34m(\u001b[0m\u001b[0maction\u001b[0m\u001b[0;34m)\u001b[0m\u001b[0;34m\u001b[0m\u001b[0;34m\u001b[0m\u001b[0m\n\u001b[1;32m     17\u001b[0m \u001b[0;34m\u001b[0m\u001b[0m\n",
      "\u001b[0;31mKeyboardInterrupt\u001b[0m: "
     ]
    }
   ],
   "source": [
    "import time\n",
    "\n",
    "env = gym.make('Sokoban-v0')\n",
    "ACTION_LOOKUP = env.unwrapped.get_action_lookup()\n",
    "\n",
    "\n",
    "for i_episode in range(1):#20\n",
    "    observation = env.reset()\n",
    "\n",
    "    for t in range(100):#100\n",
    "        env.render(mode='human')\n",
    "        action = env.action_space.sample()\n",
    "\n",
    "        # Sleep makes the actions visible for users\n",
    "        time.sleep(1)\n",
    "        observation, reward, done, info = env.step(action)\n",
    "\n",
    "        print(ACTION_LOOKUP[action], reward, done, info)\n",
    "        if done:\n",
    "            print(\"Episode finished after {} timesteps\".format(t+1))\n",
    "            env.render()\n",
    "            break\n",
    "\n",
    "    env.close()\n",
    "time.sleep(10)"
   ]
  },
  {
   "cell_type": "markdown",
   "metadata": {},
   "source": [
    "## 1 - Pilot"
   ]
  },
  {
   "cell_type": "code",
   "execution_count": 3,
   "metadata": {
    "ExecuteTime": {
     "end_time": "2019-03-07T15:17:00.384490Z",
     "start_time": "2019-03-07T15:16:52.624544Z"
    }
   },
   "outputs": [],
   "source": [
    "env = gym.make('Sokoban-v0')\n",
    "\n",
    "env.render('human')\n",
    "\n",
    "action = env.action_space.sample()\n",
    "observation, reward, done, info = env.step(action)\n",
    "time.sleep(5)\n",
    "env.close()"
   ]
  },
  {
   "cell_type": "code",
   "execution_count": 8,
   "metadata": {
    "ExecuteTime": {
     "end_time": "2019-03-07T15:17:48.093694Z",
     "start_time": "2019-03-07T15:17:48.078946Z"
    }
   },
   "outputs": [
    {
     "data": {
      "image/png": "[encoded data removed]",
      "text/plain": [
       "<PIL.Image.Image image mode=RGB size=160x160 at 0x7F9A70E73400>"
      ]
     },
     "metadata": {},
     "output_type": "display_data"
    }
   ],
   "source": [
    "def render_img(env):\n",
    "    img = env.render(mode='rgb_array')\n",
    "    display_img = PIL.Image.fromarray(img)\n",
    "    display.clear_output(wait=True)\n",
    "    display.display(display_img)\n",
    "    return img\n",
    "render_img(env) ;\n",
    "x = env.room_state"
   ]
  },
  {
   "cell_type": "code",
   "execution_count": 9,
   "metadata": {
    "ExecuteTime": {
     "end_time": "2019-03-07T15:17:59.800183Z",
     "start_time": "2019-03-07T15:17:49.518676Z"
    }
   },
   "outputs": [
    {
     "data": {
      "image/png": "[encoded data removed]",
      "text/plain": [
       "<PIL.Image.Image image mode=RGB size=160x160 at 0x7F9A70E73898>"
      ]
     },
     "metadata": {},
     "output_type": "display_data"
    },
    {
     "name": "stdout",
     "output_type": "stream",
     "text": [
      "-0.1\n",
      "step\n"
     ]
    }
   ],
   "source": [
    "\n",
    "env = gym.make('Sokoban-v0')\n",
    "frames = []  # only useful for the GIF\n",
    "for _ in range(10):\n",
    "    img = render_img(env)\n",
    "    frames.append(img)\n",
    "\n",
    "    action = env.action_space.sample()\n",
    "    observation, reward, done, info = env.step(action)\n",
    "    print(reward)\n",
    "    print(\"step\")\n",
    "    time.sleep(1)"
   ]
  },
  {
   "cell_type": "code",
   "execution_count": 14,
   "metadata": {
    "ExecuteTime": {
     "end_time": "2019-03-07T15:20:07.409182Z",
     "start_time": "2019-03-07T15:20:07.396781Z"
    }
   },
   "outputs": [],
   "source": [
    "import torch\n",
    "def encode(x):\n",
    "    y = np.zeros((4, 10, 10))\n",
    "    y[0] = x == 0  # wall\n",
    "    y[1] = x == 5  # agent\n",
    "    y[2] = (x == 3) | (x == 4)  #box\n",
    "    y[3] = x == 2  #target\n",
    "    return y\n",
    "\n",
    "x = encode(env.room_state)"
   ]
  },
  {
   "cell_type": "code",
   "execution_count": 15,
   "metadata": {
    "ExecuteTime": {
     "end_time": "2019-03-07T15:20:08.604085Z",
     "start_time": "2019-03-07T15:20:08.599852Z"
    }
   },
   "outputs": [],
   "source": [
    "import torch\n",
    "import torch.nn.functional as F\n",
    "import torch.nn as nn\n",
    "import torch.optim as optim\n",
    "\n",
    "class DQN(nn.Module):\n",
    "    def __init__(self):\n",
    "        super().__init__()\n",
    "        self.fc1 = nn.Linear(10*10*4, 128)\n",
    "    \n",
    "    def forward(self, x):\n",
    "        h = self.fc1(x.view(x.size(0), -1))\n",
    "        return F.softmax(h)\n",
    "\n",
    "y = torch.tensor(x.reshape((1, 4, 10, 10)), dtype=torch.float)"
   ]
  },
  {
   "cell_type": "code",
   "execution_count": 16,
   "metadata": {
    "ExecuteTime": {
     "end_time": "2019-03-07T15:20:09.848416Z",
     "start_time": "2019-03-07T15:20:09.820935Z"
    }
   },
   "outputs": [
    {
     "name": "stderr",
     "output_type": "stream",
     "text": [
      "/home/peterparker/anaconda3/envs/sokoban/lib/python3.6/site-packages/ipykernel_launcher.py:13: UserWarning: Implicit dimension choice for softmax has been deprecated. Change the call to include dim=X as an argument.\n",
      "  del sys.path[0]\n"
     ]
    },
    {
     "data": {
      "text/plain": [
       "tensor([[0.0060, 0.0047, 0.0102, 0.0080, 0.0076, 0.0061, 0.0055, 0.0063, 0.0071,\n",
       "         0.0068, 0.0066, 0.0117, 0.0073, 0.0087, 0.0063, 0.0078, 0.0084, 0.0055,\n",
       "         0.0059, 0.0089, 0.0072, 0.0087, 0.0095, 0.0065, 0.0108, 0.0055, 0.0134,\n",
       "         0.0038, 0.0068, 0.0119, 0.0068, 0.0056, 0.0093, 0.0088, 0.0057, 0.0089,\n",
       "         0.0080, 0.0092, 0.0049, 0.0107, 0.0101, 0.0069, 0.0106, 0.0034, 0.0095,\n",
       "         0.0074, 0.0079, 0.0073, 0.0067, 0.0067, 0.0050, 0.0072, 0.0086, 0.0057,\n",
       "         0.0071, 0.0059, 0.0087, 0.0100, 0.0094, 0.0066, 0.0078, 0.0075, 0.0058,\n",
       "         0.0096, 0.0106, 0.0107, 0.0079, 0.0096, 0.0069, 0.0071, 0.0065, 0.0066,\n",
       "         0.0074, 0.0052, 0.0075, 0.0059, 0.0060, 0.0120, 0.0058, 0.0056, 0.0056,\n",
       "         0.0111, 0.0061, 0.0082, 0.0150, 0.0090, 0.0097, 0.0089, 0.0090, 0.0082,\n",
       "         0.0081, 0.0071, 0.0072, 0.0080, 0.0077, 0.0058, 0.0078, 0.0112, 0.0087,\n",
       "         0.0071, 0.0089, 0.0073, 0.0070, 0.0087, 0.0095, 0.0067, 0.0102, 0.0069,\n",
       "         0.0098, 0.0071, 0.0067, 0.0074, 0.0062, 0.0080, 0.0078, 0.0068, 0.0076,\n",
       "         0.0088, 0.0061, 0.0085, 0.0127, 0.0033, 0.0058, 0.0109, 0.0064, 0.0053,\n",
       "         0.0076, 0.0121]], grad_fn=<SoftmaxBackward>)"
      ]
     },
     "execution_count": 16,
     "metadata": {},
     "output_type": "execute_result"
    }
   ],
   "source": [
    "n = DQN()\n",
    "n(y)"
   ]
  },
  {
   "cell_type": "code",
   "execution_count": 17,
   "metadata": {
    "ExecuteTime": {
     "end_time": "2019-03-07T15:20:10.523962Z",
     "start_time": "2019-03-07T15:20:10.503167Z"
    }
   },
   "outputs": [],
   "source": [
    "class CNN(nn.Module):\n",
    "    def __init__(self):\n",
    "        super().__init__()\n",
    "        self.conv1 = nn.Conv2d(4, 64, kernel_size=(3, 3), stride=1)\n",
    "        self.conv2 = nn.Conv2d(64, 64, kernel_size=(3, 3), stride=1)\n",
    "        self.conv3 = nn.Conv2d(64, 64, kernel_size=(3, 3), stride=1)\n",
    "        self.conv4 = nn.Conv2d(64, 32, kernel_size=(1, 1), stride=1)\n",
    "        self.fc1 = nn.Linear(32*4*4, 128)\n",
    "    \n",
    "    def forward(self, x):\n",
    "        h = F.relu(self.conv1(x))\n",
    "        h = F.relu(self.conv2(h))\n",
    "        h = F.relu(self.conv3(h))\n",
    "        h = F.relu(self.conv4(h))\n",
    "        h = self.fc1(h.view(h.size(0), -1))\n",
    "        return F.softmax(h)"
   ]
  },
  {
   "cell_type": "code",
   "execution_count": 18,
   "metadata": {
    "ExecuteTime": {
     "end_time": "2019-03-07T15:20:11.469047Z",
     "start_time": "2019-03-07T15:20:11.464359Z"
    }
   },
   "outputs": [
    {
     "data": {
      "text/plain": [
       "torch.Size([1, 4, 10, 10])"
      ]
     },
     "execution_count": 18,
     "metadata": {},
     "output_type": "execute_result"
    }
   ],
   "source": [
    "y.shape"
   ]
  },
  {
   "cell_type": "code",
   "execution_count": 72,
   "metadata": {
    "ExecuteTime": {
     "end_time": "2019-03-07T15:24:54.463902Z",
     "start_time": "2019-03-07T15:24:54.458468Z"
    }
   },
   "outputs": [],
   "source": [
    "class ReadoutNet(nn.Module):\n",
    "    def __init__(self):\n",
    "        super().__init__()\n",
    "        self.fc1 = nn.Linear(128, 128)\n",
    "        self.fc2 = nn.Linear(128, 8)\n",
    "    \n",
    "    def forward(self, x):\n",
    "        h = F.relu(self.fc1(x))\n",
    "        return F.sigmoid(self.fc2(x))"
   ]
  },
  {
   "cell_type": "code",
   "execution_count": 78,
   "metadata": {
    "ExecuteTime": {
     "end_time": "2019-03-07T15:26:40.755595Z",
     "start_time": "2019-03-07T15:25:52.655301Z"
    }
   },
   "outputs": [
    {
     "name": "stderr",
     "output_type": "stream",
     "text": [
      "/home/peterparker/anaconda3/envs/sokoban/lib/python3.6/site-packages/ipykernel_launcher.py:16: UserWarning: Implicit dimension choice for softmax has been deprecated. Change the call to include dim=X as an argument.\n",
      "  app.launch_new_instance()\n"
     ]
    }
   ],
   "source": [
    "c = CNN()\n",
    "r = ReadoutNet()\n",
    "optimizer1 = optim.Adam(c.parameters())\n",
    "optimizer2 = optim.Adam(r.parameters())\n",
    "\n",
    "for i in range(5000):\n",
    "    optimizer1.zero_grad()\n",
    "    optimizer2.zero_grad()\n",
    "    out1 = c(y)\n",
    "    out2 = r(out1)\n",
    "    loss = torch.mean(out2)**2\n",
    "    loss.backward()\n",
    "    optimizer1.step()\n",
    "    optimizer2.step()"
   ]
  },
  {
   "cell_type": "code",
   "execution_count": 79,
   "metadata": {
    "ExecuteTime": {
     "end_time": "2019-03-07T15:26:40.760870Z",
     "start_time": "2019-03-07T15:26:40.756957Z"
    }
   },
   "outputs": [
    {
     "data": {
      "text/plain": [
       "tensor([[0.0000e+00, 0.0000e+00, 0.0000e+00, 0.0000e+00, 0.0000e+00, 0.0000e+00,\n",
       "         0.0000e+00, 0.0000e+00, 0.0000e+00, 0.0000e+00, 0.0000e+00, 0.0000e+00,\n",
       "         0.0000e+00, 0.0000e+00, 0.0000e+00, 0.0000e+00, 0.0000e+00, 0.0000e+00,\n",
       "         0.0000e+00, 0.0000e+00, 0.0000e+00, 0.0000e+00, 0.0000e+00, 0.0000e+00,\n",
       "         0.0000e+00, 0.0000e+00, 0.0000e+00, 0.0000e+00, 0.0000e+00, 0.0000e+00,\n",
       "         0.0000e+00, 0.0000e+00, 0.0000e+00, 0.0000e+00, 0.0000e+00, 0.0000e+00,\n",
       "         0.0000e+00, 0.0000e+00, 0.0000e+00, 0.0000e+00, 0.0000e+00, 0.0000e+00,\n",
       "         0.0000e+00, 0.0000e+00, 0.0000e+00, 0.0000e+00, 0.0000e+00, 0.0000e+00,\n",
       "         4.9155e-32, 1.0000e+00, 0.0000e+00, 0.0000e+00, 0.0000e+00, 0.0000e+00,\n",
       "         0.0000e+00, 0.0000e+00, 0.0000e+00, 0.0000e+00, 0.0000e+00, 0.0000e+00,\n",
       "         0.0000e+00, 0.0000e+00, 0.0000e+00, 0.0000e+00, 0.0000e+00, 0.0000e+00,\n",
       "         0.0000e+00, 0.0000e+00, 0.0000e+00, 0.0000e+00, 0.0000e+00, 0.0000e+00,\n",
       "         0.0000e+00, 0.0000e+00, 0.0000e+00, 0.0000e+00, 0.0000e+00, 0.0000e+00,\n",
       "         0.0000e+00, 0.0000e+00, 0.0000e+00, 0.0000e+00, 0.0000e+00, 0.0000e+00,\n",
       "         0.0000e+00, 0.0000e+00, 0.0000e+00, 0.0000e+00, 0.0000e+00, 0.0000e+00,\n",
       "         5.4815e-28, 0.0000e+00, 0.0000e+00, 0.0000e+00, 0.0000e+00, 0.0000e+00,\n",
       "         0.0000e+00, 0.0000e+00, 0.0000e+00, 0.0000e+00, 0.0000e+00, 0.0000e+00,\n",
       "         0.0000e+00, 0.0000e+00, 0.0000e+00, 0.0000e+00, 0.0000e+00, 0.0000e+00,\n",
       "         0.0000e+00, 0.0000e+00, 0.0000e+00, 0.0000e+00, 0.0000e+00, 0.0000e+00,\n",
       "         0.0000e+00, 0.0000e+00, 0.0000e+00, 0.0000e+00, 0.0000e+00, 0.0000e+00,\n",
       "         0.0000e+00, 0.0000e+00, 0.0000e+00, 0.0000e+00, 0.0000e+00, 0.0000e+00,\n",
       "         0.0000e+00, 0.0000e+00]], grad_fn=<SoftmaxBackward>)"
      ]
     },
     "execution_count": 79,
     "metadata": {},
     "output_type": "execute_result"
    }
   ],
   "source": [
    "out1"
   ]
  },
  {
   "cell_type": "code",
   "execution_count": 80,
   "metadata": {
    "ExecuteTime": {
     "end_time": "2019-03-07T15:26:40.767750Z",
     "start_time": "2019-03-07T15:26:40.762400Z"
    }
   },
   "outputs": [
    {
     "data": {
      "text/plain": [
       "tensor(0.2787, grad_fn=<SumBackward0>)"
      ]
     },
     "execution_count": 80,
     "metadata": {},
     "output_type": "execute_result"
    }
   ],
   "source": [
    "torch.sum(out2)"
   ]
  },
  {
   "cell_type": "code",
   "execution_count": 28,
   "metadata": {
    "ExecuteTime": {
     "end_time": "2019-03-07T15:21:26.685034Z",
     "start_time": "2019-03-07T15:21:26.538215Z"
    }
   },
   "outputs": [
    {
     "data": {
      "text/html": [
       "\n",
       "<script language=\"javascript\">\n",
       "  /* Define the Animation class */\n",
       "  function Animation(frames, img_id, slider_id, interval, loop_select_id){\n",
       "    this.img_id = img_id;\n",
       "    this.slider_id = slider_id;\n",
       "    this.loop_select_id = loop_select_id;\n",
       "    this.interval = interval;\n",
       "    this.current_frame = 0;\n",
       "    this.direction = 0;\n",
       "    this.timer = null;\n",
       "    this.frames = new Array(frames.length);\n",
       "\n",
       "    for (var i=0; i<frames.length; i++)\n",
       "    {\n",
       "     this.frames[i] = new Image();\n",
       "     this.frames[i].src = frames[i];\n",
       "    }\n",
       "    document.getElementById(this.slider_id).max = this.frames.length - 1;\n",
       "    this.set_frame(this.current_frame);\n",
       "  }\n",
       "\n",
       "  Animation.prototype.get_loop_state = function(){\n",
       "    var button_group = document[this.loop_select_id].state;\n",
       "    for (var i = 0; i < button_group.length; i++) {\n",
       "        var button = button_group[i];\n",
       "        if (button.checked) {\n",
       "            return button.value;\n",
       "        }\n",
       "    }\n",
       "    return undefined;\n",
       "  }\n",
       "\n",
       "  Animation.prototype.set_frame = function(frame){\n",
       "    this.current_frame = frame;\n",
       "    document.getElementById(this.img_id).src = this.frames[this.current_frame].src;\n",
       "    document.getElementById(this.slider_id).value = this.current_frame;\n",
       "  }\n",
       "\n",
       "  Animation.prototype.next_frame = function()\n",
       "  {\n",
       "    this.set_frame(Math.min(this.frames.length - 1, this.current_frame + 1));\n",
       "  }\n",
       "\n",
       "  Animation.prototype.previous_frame = function()\n",
       "  {\n",
       "    this.set_frame(Math.max(0, this.current_frame - 1));\n",
       "  }\n",
       "\n",
       "  Animation.prototype.first_frame = function()\n",
       "  {\n",
       "    this.set_frame(0);\n",
       "  }\n",
       "\n",
       "  Animation.prototype.last_frame = function()\n",
       "  {\n",
       "    this.set_frame(this.frames.length - 1);\n",
       "  }\n",
       "\n",
       "  Animation.prototype.slower = function()\n",
       "  {\n",
       "    this.interval /= 0.7;\n",
       "    if(this.direction > 0){this.play_animation();}\n",
       "    else if(this.direction < 0){this.reverse_animation();}\n",
       "  }\n",
       "\n",
       "  Animation.prototype.faster = function()\n",
       "  {\n",
       "    this.interval *= 0.7;\n",
       "    if(this.direction > 0){this.play_animation();}\n",
       "    else if(this.direction < 0){this.reverse_animation();}\n",
       "  }\n",
       "\n",
       "  Animation.prototype.anim_step_forward = function()\n",
       "  {\n",
       "    this.current_frame += 1;\n",
       "    if(this.current_frame < this.frames.length){\n",
       "      this.set_frame(this.current_frame);\n",
       "    }else{\n",
       "      var loop_state = this.get_loop_state();\n",
       "      if(loop_state == \"loop\"){\n",
       "        this.first_frame();\n",
       "      }else if(loop_state == \"reflect\"){\n",
       "        this.last_frame();\n",
       "        this.reverse_animation();\n",
       "      }else{\n",
       "        this.pause_animation();\n",
       "        this.last_frame();\n",
       "      }\n",
       "    }\n",
       "  }\n",
       "\n",
       "  Animation.prototype.anim_step_reverse = function()\n",
       "  {\n",
       "    this.current_frame -= 1;\n",
       "    if(this.current_frame >= 0){\n",
       "      this.set_frame(this.current_frame);\n",
       "    }else{\n",
       "      var loop_state = this.get_loop_state();\n",
       "      if(loop_state == \"loop\"){\n",
       "        this.last_frame();\n",
       "      }else if(loop_state == \"reflect\"){\n",
       "        this.first_frame();\n",
       "        this.play_animation();\n",
       "      }else{\n",
       "        this.pause_animation();\n",
       "        this.first_frame();\n",
       "      }\n",
       "    }\n",
       "  }\n",
       "\n",
       "  Animation.prototype.pause_animation = function()\n",
       "  {\n",
       "    this.direction = 0;\n",
       "    if (this.timer){\n",
       "      clearInterval(this.timer);\n",
       "      this.timer = null;\n",
       "    }\n",
       "  }\n",
       "\n",
       "  Animation.prototype.play_animation = function()\n",
       "  {\n",
       "    this.pause_animation();\n",
       "    this.direction = 1;\n",
       "    var t = this;\n",
       "    if (!this.timer) this.timer = setInterval(function(){t.anim_step_forward();}, this.interval);\n",
       "  }\n",
       "\n",
       "  Animation.prototype.reverse_animation = function()\n",
       "  {\n",
       "    this.pause_animation();\n",
       "    this.direction = -1;\n",
       "    var t = this;\n",
       "    if (!this.timer) this.timer = setInterval(function(){t.anim_step_reverse();}, this.interval);\n",
       "  }\n",
       "</script>\n",
       "\n",
       "<div class=\"animation\" align=\"center\">\n",
       "    <img id=\"_anim_imgNKJGHTAVYINLILJV\">\n",
       "    <br>\n",
       "    <input id=\"_anim_sliderNKJGHTAVYINLILJV\" type=\"range\" style=\"width:350px\" name=\"points\" min=\"0\" max=\"1\" step=\"1\" value=\"0\" onchange=\"animNKJGHTAVYINLILJV.set_frame(parseInt(this.value));\"></input>\n",
       "    <br>\n",
       "    <button onclick=\"animNKJGHTAVYINLILJV.slower()\">&#8211;</button>\n",
       "    <button onclick=\"animNKJGHTAVYINLILJV.first_frame()\"><img class=\"anim_icon\" src=\"data:image/png;base64,iVBORw0KGgoAAAANSUhEUgAAABQAAAAUCAQAAAAngNWGAAAAAXNSR0IArs4c6QAAAAJiS0dEAP+Hj8y/AAAACXBIWXMAAAsTAAALEwEAmpwYAAAAB3RJTUUH3QURCAgaeZk4EQAAASlJREFUKM/dkj9LQnEUhp9zr3bpj1uBcKGiJWxzLWivKAIRjIhcCqcgqJbKRagPICiVSVEuNTu0tLYGUg4tkRGUdxLJ0u79Ndxr5FfwTO/L+xzO4XCgO+v2T70AFU+/A/Dhmlzg6Pr0DKAMwOH4zQxAAbAkv2xNeF2RoQUVc1ytgttXUbWVdN1dOPE8pz4j4APQsdFtKA0WY6vpKjqvVciHnvZTS6Ja4HgggJLs7MHxl9nCh8NYcO+iGG0agiaC4h9oa6Vsw2yiK+QHSZT934YoEQABNBcTNDszsrhm1m1B+bFS86PT6QFppx6oeSaeOwlMXRp1h4aK13Y2kuHhUo9ykPboPvFjeEvsrhTMt3ylHyB0r8KZyYdCrbfj4OveoHMANjuyx+76rV+/blxKMZUnLgAAAABJRU5ErkJggg==\"></button>\n",
       "    <button onclick=\"animNKJGHTAVYINLILJV.previous_frame()\"><img class=\"anim_icon\" src=\"data:image/png;base64,iVBORw0KGgoAAAANSUhEUgAAABQAAAAUCAQAAAAngNWGAAAAAXNSR0IArs4c6QAAAAJiS0dEAP+Hj8y/AAAACXBIWXMAAAsTAAALEwEAmpwYAAAAB3RJTUUH3QURCAgyTCyQ6wAAANRJREFUKM9jYBjO4AiUfgzFGGAp4+yayUvX6jMwMDCsYmBgOCS4OAOrSYmMgcc8/pd5Q3irC+Neh/1AlmeBMVgZmP8yMLD8/c/cqv9r90whzv/MX7Eq/MfAwMDIwCuZdfSV8U8WDgZGRmYGrAoZGRgY/jO8b3sj/J2F6T8j4z80pzEhmIwMjAxsSbqqlkeZGP//Z8SlkJnhPwMjwx/Guoe1NhmRwk+YGH5jV8jOwMPHzcDBysAwh8FrxQwtPU99HrwBXsnAwMDAsJiBgYGBoZ1xmKYqALHhMpn1o7igAAAAAElFTkSuQmCC\"></button>\n",
       "    <button onclick=\"animNKJGHTAVYINLILJV.reverse_animation()\"><img class=\"anim_icon\" src=\"data:image/png;base64,iVBORw0KGgoAAAANSUhEUgAAABQAAAAUCAQAAAAngNWGAAAAAXNSR0IArs4c6QAAAAJiS0dEAP+Hj8y/AAAACXBIWXMAAAsTAAALEwEAmpwYAAAAB3RJTUUH3QURCAgmVvZElgAAAVFJREFUKM+t0k8ow3EYx/H3s/2aLDUSZctFkgsHEi1XLi5ukpPSWsuJklwclsPSsDKFi7MSJ0I5qF2GHO2m0FY7+BdNv7Y9DpuxDSt5vsfvq+fT9/k+8D8VBxIAWH6H0ead4Qb5BRwCENoceZi5Stl/6BgCBmtWhjzxg4mUQ02rAhil7JgB9tze7aTLxFAKsUUd14B9ZzCyFUk401gQyQJaDNcBHwv7t7ETd0ZVQFEEzcNCdE/1wtj15imGWlEB8qkf2QaAWjbG/bPSamIDyX65/iwDIFx7tWjUvWCoSo5oGbYATN7PORt7W9IZEQXJH8ohuN7C0VVX91KNqYhq4a1lEGJI0j892tazXCWQRUpwAbYDcHczPxXuajq3mbnhfANz5eOJxsuNvs7+jud0UcuyL3QAkuEMx4rnIvBYq1JhEwPAUb3fG7x8tVdc292/7Po7f2VqA+Yz7ZwAAAAASUVORK5CYII=\"></button>\n",
       "    <button onclick=\"animNKJGHTAVYINLILJV.pause_animation()\"><img class=\"anim_icon\" src=\"data:image/png;base64,iVBORw0KGgoAAAANSUhEUgAAABQAAAAUCAQAAAAngNWGAAAAAXNSR0IArs4c6QAAAAJiS0dEAP+Hj8y/AAAACXBIWXMAAAsTAAALEwEAmpwYAAAAB3RJTUUH3QURCAkR91DQ2AAAAKtJREFUKM9jYCANTEVib2K4jcRbzQihGWEC00JuNjN8Z2Q0Zo3VYWA4lL005venH9+c3ZK5IfIsMIXMBtc12Bj+MMgxMDAwMPzWe2TBzPCf4SLcZCYY4/9/RgZGBiaYFf8gljFhKiQERhUOeoX/Gf8y/GX4y/APmlj+Mfxj+MfwH64Qnnq0zr9fyfLrPzP3eQYGBobvk5x4GX4xMIij23gdib0cRWYHiVmAAQDK5ircshCbHQAAAABJRU5ErkJggg==\"></button>\n",
       "    <button onclick=\"animNKJGHTAVYINLILJV.play_animation()\"><img class=\"anim_icon\" src=\"data:image/png;base64,iVBORw0KGgoAAAANSUhEUgAAABQAAAAUCAQAAAAngNWGAAAAAXNSR0IArs4c6QAAAAJiS0dEAP+Hj8y/AAAACXBIWXMAAAsTAAALEwEAmpwYAAAAB3RJTUUH3QURCAkEmo00MwAAAS9JREFUKM+tkj1IQmEUhp9j94LQj0FD4RRBLdLQ3ftb26PRcCiQIIiIDFwKC0OhaAiam5wVDBpqCKohQojMLYzaAiUatOtpuQrKVQl64fu+4Xt4OLwc+Fs+nNM16jsPAWS6gZXggoZfXmfhog3hcZ6aTXF87Sp68OmH4/YggAo8bmfyyeh6Z1AAKPVldyO1+Iz2uILq3AriJSe3l+H7aj+cuRnrTsVDxSxay+VYbMDnCtZxxQOU9G4nlU9E1HQBxRkCQMRGRnIbpxMARkvxCIoAorYMMrq0mJ0qu4COUW3xyVDqJC4P+86P0ewDQbQqgevhlc2C8ETApXAEFLzvwa3EXG9BoIE1GQUbv1h7k4fTXxBu6cKgUbX5M3ZzNC+a7rQ936HV56SlRpcle+Mf8wvgJ16zo/4BtQAAAABJRU5ErkJggg==\"></button>\n",
       "    <button onclick=\"animNKJGHTAVYINLILJV.next_frame()\"><img class=\"anim_icon\" src=\"data:image/png;base64,iVBORw0KGgoAAAANSUhEUgAAABQAAAAUCAQAAAAngNWGAAAAAXNSR0IArs4c6QAAAAJiS0dEAP+Hj8y/AAAACXBIWXMAAAsTAAALEwEAmpwYAAAAB3RJTUUH3QURCAkd/uac8wAAAMhJREFUKM9jYBie4DEUQ8B+fEq3+3UrMzAwMFxjYGBgYJizYubaOUxYFUaXh/6vWfRfEMIL/+//P5gZJoei4/f/7wxnY1PeNUXdE2RgYGZgYoCrY2BBVsjKwMDAwvCS4f3SG/dXxm5gYESSQ1HIwvCPgZmB8f8Pxv+Kxxb/YfiPJIdi9T8GJgaG/38ZFd4Fx0xUYsZt4h8GBgb2D2bLy7KnMTAwMEIxFoVCXIYr1IoDnkF4XAysqNIwUMDAwMDAsADKS2NkGL4AAIARMlfNIfZMAAAAAElFTkSuQmCC\"></button>\n",
       "    <button onclick=\"animNKJGHTAVYINLILJV.last_frame()\"><img class=\"anim_icon\" src=\"data:image/png;base64,iVBORw0KGgoAAAANSUhEUgAAABQAAAAUCAQAAAAngNWGAAAAAXNSR0IArs4c6QAAAAJiS0dEAP+Hj8y/AAAACXBIWXMAAAsTAAALEwEAmpwYAAAAB3RJTUUH3QURCAknOOpFQQAAAS9JREFUKM/dkrEvQ3EQxz/33mtoQxiYpANbLU26NAabSCcSUouGBVNDjYQaOiDpIEiKjURIw2Kx04hEYmkHEpGoJpSISaXq9Wd4P03/ht5y98197/u9XA4aK4rAWw3lgWddZ3S+/G9mEovtAB8AHE4pgTQAx8PbJweRmsq6GimmNpxaNYXVzMNNCI6A2figimwCGACK786zuWgh3qcsKf/w0pM4X0m/doNVFVzVGlEQsdRj193VxEWpH0RsdRu+zi3tVMqCAsDShoiYqiSV4OouVDFEqS9Pbiyg7vV62lpQ2BJ4Gg0meg0MbNpkYG/e+540NNFyrE1a8qHk5BaAjfnrzUaHfAWImVrLIXbgnx4/9X06s35cweWsVACa3a24PVp0X+rPv1aHFnSONdiL8Qci0lzwpOM5sQAAAABJRU5ErkJggg==\"></button>\n",
       "    <button onclick=\"animNKJGHTAVYINLILJV.faster()\">+</button>\n",
       "  <form action=\"#n\" name=\"_anim_loop_selectNKJGHTAVYINLILJV\" class=\"anim_control\">\n",
       "    <input type=\"radio\" name=\"state\" value=\"once\" checked> Once </input>\n",
       "    <input type=\"radio\" name=\"state\" value=\"loop\" > Loop </input>\n",
       "    <input type=\"radio\" name=\"state\" value=\"reflect\" > Reflect </input>\n",
       "  </form>\n",
       "</div>\n",
       "\n",
       "\n",
       "<script language=\"javascript\">\n",
       "  /* Instantiate the Animation class. */\n",
       "  /* The IDs given should match those used in the template above. */\n",
       "  (function() {\n",
       "    var img_id = \"_anim_imgNKJGHTAVYINLILJV\";\n",
       "    var slider_id = \"_anim_sliderNKJGHTAVYINLILJV\";\n",
       "    var loop_select_id = \"_anim_loop_selectNKJGHTAVYINLILJV\";\n",
       "    var frames = new Array(0);\n",
       "    \n",
       "  frames[0] = \"data:image/png;base64,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\"\n",
       "  frames[1] = \"data:image/png;base64,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\"\n",
       "  frames[2] = \"data:image/png;base64,iVBORw0KGgoAAAANSUhEUgAAAKAAAACgCAYAAACLz2ctAAAABHNCSVQICAgIfAhkiAAAAAlwSFlzAAALEgAACxIB0t1+/AAAADl0RVh0U29mdHdhcmUAbWF0cGxvdGxpYiB2ZXJzaW9uIDMuMC4zLCBodHRwOi8vbWF0cGxvdGxpYi5vcmcvnQurowAABaNJREFUeJzt3T9uG0cYxuFPgTsCAeLChU5gHSCuklzBBnuViesw91DqOCWbVIR9Bbuz+zC6ABG4SAAD7AIoBTnicLk7nFnuzLt/fg8gmB4NV5T0YnZmvl3q6uHh4cEAka/ULwDTRgAhRQAhRQAhRQAhRQAhRQAhRQAhRQAhRQAhRQAhRQAhRQAhRQAhRQAhRQAhRQAhRQAh9STXgd/9cHXccHtntlycbxtz/5Cu+hf8ui/fX343ByMgpAggpK5y3RX37vdfcxwWPfLyx58vPgYjIKTyjYBuEZI6We6qXUn1PRduZxGCwSOAkGIRgta6WITknwM6Q9goZiM6qT9zQAweAYRUtlpw37z6UGn4UHPa8drWr732mZn9tTD7ttLftW3Nbn6LOH5IV/0vOM7b79Oe2oXJBLC1mZnNGz638vqY2b/PnkUf9pvPny95VaNBAJvsQ2VzM1ua2W2g79zM7nYPY4KVEtSxm8w2zKuf0k5N64UdRr6VmW3tNISrQ5+b73bBig1gH0fAt2/ukvpTCy5pZodTrtlR+EL+yfRyxiLfKdjtLY2hFuyCttx/mIVPybYL3pPr693jzcaeZnppnUr9nTEC9tdTM/tvs3l8jHoEMMXMdiNf9XTcwA8h6rEIabB23ed2CJs/51va0RYNi5B28s8Bnb7VamNVgnY4tu2CGTESDkbMz8r/mTIHzGi7/ze0Eb1taEc0NqJDXMCaRrmZHYUw9rTax9OvCgFscFLbrevz8drWL3aLjKPasdmhklJnG/81xo4ARvCDdpZfwquzspORM1abWnPsc1SjMgGMdPPx+qTtKJR+8M4tTGL6NEitNfe9Np0vgLc1S/rYthz9Uy9TqnBh80fDk5Gxuk0TqB33Uuhn26ZfBFbBZ9SNfGc/P7f62nEGqbXmvtWmqQU3qAbL/3/t5/6ozBHdZVyRteNUfq35i5l9HVFx+XKuP7VgxPLLfLHlvtT+JRDAnGbeR4ZTsAth7MUOqf1LKLMIaZq05m73XbgISebXj1deW8eLkNQwBftf8jtriVpwA3+lG9V3YYcrp82O53z+9YR9rh0LasHsA56xfrGJ24je2uF028RdwOD6gwB2yoUwpl9LqZvGfb8BajIBPLnnNeWU/cvG7E24//2flec87357KLVctn5t9rftn3OmNr22mu+hgMkEcLIy1qa7wDbM1LlgxkwdMpjMJfl9lHqbQKrHe5vrbikwO9kqun/OfcHIwb/B3iqPxRdHUAvOoY+v1Y2E/mZ4NXzUgpHVdv+xNPnI5xDAKXEb5f6GuBiLEKFiixDHP/1W54CiRQjvEV2yf8XJm2Z2bL2w8O2l7p7nvftPEQflPaIRza9P1835bu0QUDaiISGsgphRipM6qk9nOGUf3XccMb1TvEc0IyCkCCCk2IYZkNzbNrxHNCaHvxecQ6bvLfe+4eMihL8XjKkggJBiETIgY1yEUAsu2T+kB7XjqI1oasEYEwIIKWrBAxJVO85w6s+JERBSBBBSBBBS7AOitWHsA1ILHm07+4AYPAIIKeaAaI0LUjF4XIxQsn9IV/0Lfl0WIRg8AggpAggpAggpAggp9gHRGrXgULtST2q1udvZhsHgEUBIMQdEa9SCMXjUgkv2D6EWDJRHACFFACFFACFFACHFPiBaoxYcalfqSa02dzvbMBg8Aggp5oBojVowBo9acMn+IdSCgfIIIKQIIKQIIKQIIKTYB0Rr1IJD7Uo9qdXmbmcbBoNHACHFHBCtUQvG4FELLtk/hFowUB4BhBQBhBQBhBQBhBT7gGiNWnCoXakntdrc7WzDYPAIIKSYA6I1asEYPGrBJfuHUAsGyiOAkMp2CgZiMAJCigBCigBCigBCigBCigBCigBCigBCigBCigBCigBCigBCigBCigBCigBCigBCigBCigBCigBC6n9sTUHRVTgLMwAAAABJRU5ErkJggg==\"\n",
       "  frames[3] = \"data:image/png;base64,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\"\n",
       "  frames[4] = \"data:image/png;base64,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\"\n",
       "  frames[5] = \"data:image/png;base64,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\"\n",
       "  frames[6] = \"data:image/png;base64,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\"\n",
       "  frames[7] = \"data:image/png;base64,iVBORw0KGgoAAAANSUhEUgAAAKAAAACgCAYAAACLz2ctAAAABHNCSVQICAgIfAhkiAAAAAlwSFlzAAALEgAACxIB0t1+/AAAADl0RVh0U29mdHdhcmUAbWF0cGxvdGxpYiB2ZXJzaW9uIDMuMC4zLCBodHRwOi8vbWF0cGxvdGxpYi5vcmcvnQurowAABaNJREFUeJzt3T9uG0cYxuFPgTsCAeLChU5gHSCuklzBBnuViesw91DqOCWbVIR9Bbuz+zC6ABG4SAAD7AIoBTnicLk7nFnuzLt/fg8gmB4NV5T0YnZmvl3q6uHh4cEAka/ULwDTRgAhRQAhRQAhRQAhRQAhRQAhRQAhRQAhRQAhRQAhRQAhRQAhRQAhRQAhRQAhRQAhRQAh9STXgd/9cHXccHtntlycbxtz/5Cu+hf8ui/fX343ByMgpAggpK5y3RX37vdfcxwWPfLyx58vPgYjIKTyjYBuEZI6We6qXUn1PRduZxGCwSOAkGIRgta6WITknwM6Q9goZiM6qT9zQAweAYRUtlpw37z6UGn4UHPa8drWr732mZn9tTD7ttLftW3Nbn6LOH5IV/0vOM7b79Oe2oXJBLC1mZnNGz638vqY2b/PnkUf9pvPny95VaNBAJvsQ2VzM1ua2W2g79zM7nYPY4KVEtSxm8w2zKuf0k5N64UdRr6VmW3tNISrQ5+b73bBig1gH0fAt2/ukvpTCy5pZodTrtlR+EL+yfRyxiLfKdjtLY2hFuyCttx/mIVPybYL3pPr693jzcaeZnppnUr9nTEC9tdTM/tvs3l8jHoEMMXMdiNf9XTcwA8h6rEIabB23ed2CJs/51va0RYNi5B28s8Bnb7VamNVgnY4tu2CGTESDkbMz8r/mTIHzGi7/ze0Eb1taEc0NqJDXMCaRrmZHYUw9rTax9OvCgFscFLbrevz8drWL3aLjKPasdmhklJnG/81xo4ARvCDdpZfwquzspORM1abWnPsc1SjMgGMdPPx+qTtKJR+8M4tTGL6NEitNfe9Np0vgLc1S/rYthz9Uy9TqnBh80fDk5Gxuk0TqB33Uuhn26ZfBFbBZ9SNfGc/P7f62nEGqbXmvtWmqQU3qAbL/3/t5/6ozBHdZVyRteNUfq35i5l9HVFx+XKuP7VgxPLLfLHlvtT+JRDAnGbeR4ZTsAth7MUOqf1LKLMIaZq05m73XbgISebXj1deW8eLkNQwBftf8jtriVpwA3+lG9V3YYcrp82O53z+9YR9rh0LasHsA56xfrGJ24je2uF028RdwOD6gwB2yoUwpl9LqZvGfb8BajIBPLnnNeWU/cvG7E24//2flec87357KLVctn5t9rftn3OmNr22mu+hgMkEcLIy1qa7wDbM1LlgxkwdMpjMJfl9lHqbQKrHe5vrbikwO9kqun/OfcHIwb/B3iqPxRdHUAvOoY+v1Y2E/mZ4NXzUgpHVdv+xNPnI5xDAKXEb5f6GuBiLEKFiixDHP/1W54CiRQjvEV2yf8XJm2Z2bL2w8O2l7p7nvftPEQflPaIRza9P1835bu0QUDaiISGsgphRipM6qk9nOGUf3XccMb1TvEc0IyCkCCCk2IYZkNzbNrxHNCaHvxecQ6bvLfe+4eMihL8XjKkggJBiETIgY1yEUAsu2T+kB7XjqI1oasEYEwIIKWrBAxJVO85w6s+JERBSBBBSBBBS7AOitWHsA1ILHm07+4AYPAIIKeaAaI0LUjF4XIxQsn9IV/0Lfl0WIRg8AggpAggpAggpAggp9gHRGrXgULtST2q1udvZhsHgEUBIMQdEa9SCMXjUgkv2D6EWDJRHACFFACFFACFFACHFPiBaoxYcalfqSa02dzvbMBg8Aggp5oBojVowBo9acMn+IdSCgfIIIKQIIKQIIKQIIKTYB0Rr1IJD7Uo9qdXmbmcbBoNHACHFHBCtUQvG4FELLtk/hFowUB4BhBQBhBQBhBQBhBT7gGiNWnCoXakntdrc7WzDYPAIIKSYA6I1asEYPGrBJfuHUAsGyiOAkMp2CgZiMAJCigBCigBCigBCigBCigBCigBCigBCigBCigBCigBCigBCigBCigBCigBCigBCigBCigBCigBC6n9sTUHRVTgLMwAAAABJRU5ErkJggg==\"\n",
       "  frames[8] = \"data:image/png;base64,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\"\n",
       "  frames[9] = \"data:image/png;base64,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\"\n",
       "\n",
       "\n",
       "    /* set a timeout to make sure all the above elements are created before\n",
       "       the object is initialized. */\n",
       "    setTimeout(function() {\n",
       "        animNKJGHTAVYINLILJV = new Animation(frames, img_id, slider_id, 200, loop_select_id);\n",
       "    }, 0);\n",
       "  })()\n",
       "</script>\n"
      ],
      "text/plain": [
       "<IPython.core.display.HTML object>"
      ]
     },
     "metadata": {},
     "output_type": "display_data"
    }
   ],
   "source": [
    "import matplotlib.pyplot as plt\n",
    "\n",
    "%matplotlib inline\n",
    "from JSAnimation.IPython_display import display_animation\n",
    "from matplotlib import animation\n",
    "from IPython.display import display\n",
    "def display_frames_as_gif(frames):\n",
    "    plt.figure(figsize=(frames[0].shape[1] / 72.0, frames[0].shape[0] / 72.0), dpi = 72)\n",
    "    patch = plt.imshow(frames[0])\n",
    "    plt.axis('off')\n",
    "\n",
    "    def animate(i):\n",
    "        patch.set_data(frames[i])\n",
    "\n",
    "    anim = animation.FuncAnimation(plt.gcf(), \n",
    "                                   animate, \n",
    "                                   frames=len(frames), \n",
    "                                   interval=200)\n",
    "    display(display_animation(anim, default_mode='once'))\n",
    "\n",
    "display_frames_as_gif(frames)"
   ]
  },
  {
   "cell_type": "code",
   "execution_count": null,
   "metadata": {},
   "outputs": [],
   "source": []
  }
 ],
 "metadata": {
  "kernelspec": {
   "display_name": "Python 3",
   "language": "python",
   "name": "python3"
  },
  "language_info": {
   "codemirror_mode": {
    "name": "ipython",
    "version": 3
   },
   "file_extension": ".py",
   "mimetype": "text/x-python",
   "name": "python",
   "nbconvert_exporter": "python",
   "pygments_lexer": "ipython3",
   "version": "3.6.8"
  },
  "latex_envs": {
   "LaTeX_envs_menu_present": true,
   "autoclose": false,
   "autocomplete": true,
   "bibliofile": "biblio.bib",
   "cite_by": "apalike",
   "current_citInitial": 1,
   "eqLabelWithNumbers": true,
   "eqNumInitial": 1,
   "hotkeys": {
    "equation": "Ctrl-E",
    "itemize": "Ctrl-I"
   },
   "labels_anchors": false,
   "latex_user_defs": false,
   "report_style_numbering": false,
   "user_envs_cfg": false
  }
 },
 "nbformat": 4,
 "nbformat_minor": 2
}
