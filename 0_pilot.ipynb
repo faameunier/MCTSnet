{
 "cells": [
  {
   "cell_type": "markdown",
   "metadata": {},
   "source": [
    "# Pilot - Sokoban Environment\n",
    "## v1"
   ]
  },
  {
   "cell_type": "code",
   "execution_count": 1,
   "metadata": {
    "ExecuteTime": {
     "end_time": "2019-03-05T20:30:10.072971Z",
     "start_time": "2019-03-05T20:30:09.934489Z"
    }
   },
   "outputs": [],
   "source": [
    "import gym\n",
    "import gym_sokoban\n",
    "import time"
   ]
  },
  {
   "cell_type": "markdown",
   "metadata": {},
   "source": [
    "## 0 - Random Sampling"
   ]
  },
  {
   "cell_type": "code",
   "execution_count": null,
   "metadata": {
    "ExecuteTime": {
     "end_time": "2019-03-05T20:36:17.402930Z",
     "start_time": "2019-03-05T20:36:12.663904Z"
    }
   },
   "outputs": [
    {
     "name": "stdout",
     "output_type": "stream",
     "text": [
      "push right -0.1 False {'action.name': 'push right', 'action.moved_player': True, 'action.moved_box': False}\n",
      "push left -0.1 False {'action.name': 'push left', 'action.moved_player': True, 'action.moved_box': False}\n",
      "move left -0.1 False {'action.name': 'move left', 'action.moved_player': True, 'action.moved_box': False}\n",
      "push up -0.1 False {'action.name': 'push up', 'action.moved_player': True, 'action.moved_box': False}\n",
      "move right -0.1 False {'action.name': 'move right', 'action.moved_player': False, 'action.moved_box': False}\n",
      "move right -0.1 False {'action.name': 'move right', 'action.moved_player': False, 'action.moved_box': False}\n",
      "move up -0.1 False {'action.name': 'move up', 'action.moved_player': True, 'action.moved_box': False}\n",
      "move left -0.1 False {'action.name': 'move left', 'action.moved_player': False, 'action.moved_box': False}\n",
      "push down -0.1 False {'action.name': 'push down', 'action.moved_player': True, 'action.moved_box': False}\n",
      "push down -0.1 False {'action.name': 'push down', 'action.moved_player': True, 'action.moved_box': False}\n",
      "move up -0.1 False {'action.name': 'move up', 'action.moved_player': True, 'action.moved_box': False}\n",
      "move up -0.1 False {'action.name': 'move up', 'action.moved_player': True, 'action.moved_box': False}\n",
      "push up -0.1 False {'action.name': 'push up', 'action.moved_player': True, 'action.moved_box': False}\n",
      "move right -0.1 False {'action.name': 'move right', 'action.moved_player': True, 'action.moved_box': False}\n",
      "move up -0.1 False {'action.name': 'move up', 'action.moved_player': False, 'action.moved_box': False}\n",
      "push up -0.1 False {'action.name': 'push up', 'action.moved_player': True, 'action.moved_box': True}\n",
      "move right -0.1 False {'action.name': 'move right', 'action.moved_player': False, 'action.moved_box': False}\n",
      "push up -0.1 False {'action.name': 'push up', 'action.moved_player': False, 'action.moved_box': False}\n",
      "move left -0.1 False {'action.name': 'move left', 'action.moved_player': True, 'action.moved_box': False}\n",
      "move left -0.1 False {'action.name': 'move left', 'action.moved_player': False, 'action.moved_box': False}\n",
      "push right -0.1 False {'action.name': 'push right', 'action.moved_player': True, 'action.moved_box': False}\n",
      "move left -0.1 False {'action.name': 'move left', 'action.moved_player': True, 'action.moved_box': False}\n",
      "push right -0.1 False {'action.name': 'push right', 'action.moved_player': True, 'action.moved_box': False}\n",
      "push up -0.1 False {'action.name': 'push up', 'action.moved_player': False, 'action.moved_box': False}\n",
      "push left -0.1 False {'action.name': 'push left', 'action.moved_player': True, 'action.moved_box': False}\n",
      "push left -0.1 False {'action.name': 'push left', 'action.moved_player': False, 'action.moved_box': False}\n",
      "push down -0.1 False {'action.name': 'push down', 'action.moved_player': True, 'action.moved_box': False}\n",
      "move down -0.1 False {'action.name': 'move down', 'action.moved_player': True, 'action.moved_box': False}\n",
      "push left -0.1 False {'action.name': 'push left', 'action.moved_player': False, 'action.moved_box': False}\n",
      "move up -0.1 False {'action.name': 'move up', 'action.moved_player': True, 'action.moved_box': False}\n",
      "move up -0.1 False {'action.name': 'move up', 'action.moved_player': True, 'action.moved_box': False}\n",
      "push right -0.1 False {'action.name': 'push right', 'action.moved_player': True, 'action.moved_box': False}\n",
      "move left -0.1 False {'action.name': 'move left', 'action.moved_player': True, 'action.moved_box': False}\n",
      "move up -0.1 False {'action.name': 'move up', 'action.moved_player': False, 'action.moved_box': False}\n",
      "push up -0.1 False {'action.name': 'push up', 'action.moved_player': False, 'action.moved_box': False}\n",
      "move up -0.1 False {'action.name': 'move up', 'action.moved_player': False, 'action.moved_box': False}\n",
      "push up -0.1 False {'action.name': 'push up', 'action.moved_player': False, 'action.moved_box': False}\n",
      "push right -0.1 False {'action.name': 'push right', 'action.moved_player': True, 'action.moved_box': False}\n",
      "push down -0.1 False {'action.name': 'push down', 'action.moved_player': True, 'action.moved_box': False}\n",
      "push down -0.1 False {'action.name': 'push down', 'action.moved_player': True, 'action.moved_box': False}\n",
      "move right -0.1 False {'action.name': 'move right', 'action.moved_player': True, 'action.moved_box': False}\n",
      "push left -0.1 False {'action.name': 'push left', 'action.moved_player': True, 'action.moved_box': False}\n",
      "push down -0.1 False {'action.name': 'push down', 'action.moved_player': True, 'action.moved_box': True}\n",
      "move down -0.1 False {'action.name': 'move down', 'action.moved_player': False, 'action.moved_box': False}\n",
      "push up -0.1 False {'action.name': 'push up', 'action.moved_player': True, 'action.moved_box': False}\n",
      "move left -0.1 False {'action.name': 'move left', 'action.moved_player': True, 'action.moved_box': False}\n",
      "push left -0.1 False {'action.name': 'push left', 'action.moved_player': False, 'action.moved_box': False}\n",
      "move left -0.1 False {'action.name': 'move left', 'action.moved_player': False, 'action.moved_box': False}\n",
      "move left -0.1 False {'action.name': 'move left', 'action.moved_player': False, 'action.moved_box': False}\n",
      "push down -0.1 False {'action.name': 'push down', 'action.moved_player': True, 'action.moved_box': False}\n",
      "push left -0.1 False {'action.name': 'push left', 'action.moved_player': False, 'action.moved_box': False}\n",
      "push up -0.1 False {'action.name': 'push up', 'action.moved_player': True, 'action.moved_box': False}\n",
      "push down -0.1 False {'action.name': 'push down', 'action.moved_player': True, 'action.moved_box': False}\n",
      "move up -0.1 False {'action.name': 'move up', 'action.moved_player': True, 'action.moved_box': False}\n",
      "move up -0.1 False {'action.name': 'move up', 'action.moved_player': True, 'action.moved_box': False}\n",
      "move left -0.1 False {'action.name': 'move left', 'action.moved_player': False, 'action.moved_box': False}\n",
      "move right -0.1 False {'action.name': 'move right', 'action.moved_player': True, 'action.moved_box': False}\n",
      "push left -0.1 False {'action.name': 'push left', 'action.moved_player': True, 'action.moved_box': False}\n",
      "move right -0.1 False {'action.name': 'move right', 'action.moved_player': True, 'action.moved_box': False}\n",
      "push up -0.1 False {'action.name': 'push up', 'action.moved_player': True, 'action.moved_box': False}\n",
      "move down -0.1 False {'action.name': 'move down', 'action.moved_player': True, 'action.moved_box': False}\n",
      "move left -0.1 False {'action.name': 'move left', 'action.moved_player': True, 'action.moved_box': False}\n",
      "move down -0.1 False {'action.name': 'move down', 'action.moved_player': True, 'action.moved_box': False}\n",
      "move left -0.1 False {'action.name': 'move left', 'action.moved_player': False, 'action.moved_box': False}\n",
      "push up -0.1 False {'action.name': 'push up', 'action.moved_player': True, 'action.moved_box': False}\n",
      "move up -0.1 False {'action.name': 'move up', 'action.moved_player': True, 'action.moved_box': False}\n",
      "move up -0.1 False {'action.name': 'move up', 'action.moved_player': False, 'action.moved_box': False}\n",
      "move right -0.1 False {'action.name': 'move right', 'action.moved_player': True, 'action.moved_box': False}\n"
     ]
    }
   ],
   "source": [
    "import time\n",
    "\n",
    "env = gym.make('Sokoban-v0')\n",
    "ACTION_LOOKUP = env.unwrapped.get_action_lookup()\n",
    "\n",
    "\n",
    "for i_episode in range(1):#20\n",
    "    observation = env.reset()\n",
    "\n",
    "    for t in range(100):#100\n",
    "        env.render(mode='human')\n",
    "        action = env.action_space.sample()\n",
    "\n",
    "        # Sleep makes the actions visible for users\n",
    "        time.sleep(1)\n",
    "        observation, reward, done, info = env.step(action)\n",
    "\n",
    "        print(ACTION_LOOKUP[action], reward, done, info)\n",
    "        if done:\n",
    "            print(\"Episode finished after {} timesteps\".format(t+1))\n",
    "            env.render()\n",
    "            break\n",
    "\n",
    "    env.close()\n",
    "time.sleep(10)"
   ]
  },
  {
   "cell_type": "markdown",
   "metadata": {},
   "source": [
    "## 1 - Pilot"
   ]
  },
  {
   "cell_type": "code",
   "execution_count": 5,
   "metadata": {
    "ExecuteTime": {
     "end_time": "2019-03-05T20:34:50.544814Z",
     "start_time": "2019-03-05T20:34:50.271670Z"
    }
   },
   "outputs": [],
   "source": [
    "env = gym.make('Sokoban-v0')\n",
    "\n",
    "env.render('human')\n",
    "\n",
    "action = env.action_space.sample()\n",
    "observation, reward, done, info = env.step(action)\n",
    "time.sleep(5)\n",
    "env.close()"
   ]
  },
  {
   "cell_type": "code",
   "execution_count": 45,
   "metadata": {},
   "outputs": [
    {
     "data": {
      "image/png": "[encoded data removed]",
      "text/plain": [
       "<PIL.Image.Image image mode=RGB size=160x160 at 0x2032108ABA8>"
      ]
     },
     "metadata": {},
     "output_type": "display_data"
    }
   ],
   "source": [
    "def render_img(env):\n",
    "    img = env.render(mode='rgb_array')\n",
    "    display_img = PIL.Image.fromarray(img)\n",
    "    display.clear_output(wait=True)\n",
    "    display.display(display_img)\n",
    "    return img\n",
    "render_img(env) ;\n",
    "x = env.room_state"
   ]
  },
  {
   "cell_type": "code",
   "execution_count": null,
   "metadata": {},
   "outputs": [
    {
     "data": {
      "image/png": "[encoded data removed]",
      "text/plain": [
       "<PIL.Image.Image image mode=RGB size=160x160 at 0x203227CE630>"
      ]
     },
     "metadata": {},
     "output_type": "display_data"
    },
    {
     "name": "stdout",
     "output_type": "stream",
     "text": [
      "-0.1\n",
      "step\n"
     ]
    }
   ],
   "source": [
    "import PIL\n",
    "from IPython import display\n",
    "\n",
    "env = gym.make('Sokoban-v0')\n",
    "frames = []  # only useful for the GIF\n",
    "for _ in range(10):\n",
    "    img = render_img(env)\n",
    "    frames.append(img)\n",
    "\n",
    "    action = env.action_space.sample()\n",
    "    observation, reward, done, info = env.step(action)\n",
    "    print(reward)\n",
    "    print(\"step\")\n",
    "    time.sleep(1)"
   ]
  },
  {
   "cell_type": "code",
   "execution_count": 120,
   "metadata": {},
   "outputs": [],
   "source": [
    "import torch\n",
    "def encode(x):\n",
    "    y = np.zeros((4, 10, 10))\n",
    "    y[0] = x == 0  # wall\n",
    "    y[1] = x == 5  # agent\n",
    "    y[2] = (x == 3) | (x == 4)  #box\n",
    "    y[3] = x == 2  #target\n",
    "    return y\n",
    "\n",
    "x = encode(env.room_state)"
   ]
  },
  {
   "cell_type": "code",
   "execution_count": 121,
   "metadata": {},
   "outputs": [],
   "source": [
    "import torch\n",
    "import torch.nn.functional as F\n",
    "import torch.nn as nn\n",
    "import torch.optim as optim\n",
    "\n",
    "class DQN(nn.Module):\n",
    "    def __init__(self):\n",
    "        super().__init__()\n",
    "        self.fc1 = nn.Linear(10*10*4, 128)\n",
    "    \n",
    "    def forward(self, x):\n",
    "        h = self.fc1(x.view(x.size(0), -1))\n",
    "        return F.softmax(h)\n",
    "\n",
    "y = torch.tensor(x.reshape((1, 4, 10, 10)), dtype=torch.float)"
   ]
  },
  {
   "cell_type": "code",
   "execution_count": 122,
   "metadata": {},
   "outputs": [
    {
     "name": "stderr",
     "output_type": "stream",
     "text": [
      "C:\\Users\\Horace\\Miniconda3\\lib\\site-packages\\ipykernel_launcher.py:13: UserWarning: Implicit dimension choice for softmax has been deprecated. Change the call to include dim=X as an argument.\n",
      "  del sys.path[0]\n"
     ]
    },
    {
     "data": {
      "text/plain": [
       "tensor([[0.0050, 0.0079, 0.0063, 0.0071, 0.0072, 0.0069, 0.0071, 0.0150, 0.0066,\n",
       "         0.0087, 0.0075, 0.0065, 0.0073, 0.0078, 0.0049, 0.0050, 0.0070, 0.0049,\n",
       "         0.0044, 0.0078, 0.0062, 0.0054, 0.0087, 0.0091, 0.0053, 0.0070, 0.0086,\n",
       "         0.0077, 0.0101, 0.0083, 0.0093, 0.0069, 0.0071, 0.0081, 0.0094, 0.0090,\n",
       "         0.0070, 0.0065, 0.0049, 0.0073, 0.0091, 0.0126, 0.0092, 0.0100, 0.0057,\n",
       "         0.0091, 0.0057, 0.0053, 0.0059, 0.0111, 0.0076, 0.0071, 0.0066, 0.0109,\n",
       "         0.0094, 0.0085, 0.0079, 0.0068, 0.0053, 0.0138, 0.0039, 0.0054, 0.0065,\n",
       "         0.0113, 0.0081, 0.0106, 0.0069, 0.0054, 0.0095, 0.0064, 0.0068, 0.0099,\n",
       "         0.0078, 0.0098, 0.0096, 0.0084, 0.0053, 0.0118, 0.0069, 0.0077, 0.0053,\n",
       "         0.0083, 0.0158, 0.0075, 0.0044, 0.0112, 0.0085, 0.0057, 0.0056, 0.0081,\n",
       "         0.0084, 0.0068, 0.0047, 0.0106, 0.0062, 0.0071, 0.0075, 0.0066, 0.0081,\n",
       "         0.0082, 0.0106, 0.0074, 0.0079, 0.0146, 0.0058, 0.0081, 0.0072, 0.0082,\n",
       "         0.0078, 0.0054, 0.0084, 0.0069, 0.0081, 0.0080, 0.0125, 0.0067, 0.0078,\n",
       "         0.0116, 0.0085, 0.0091, 0.0068, 0.0082, 0.0064, 0.0049, 0.0082, 0.0059,\n",
       "         0.0077, 0.0080]], grad_fn=<SoftmaxBackward>)"
      ]
     },
     "execution_count": 122,
     "metadata": {},
     "output_type": "execute_result"
    }
   ],
   "source": [
    "n = DQN()\n",
    "n(y)"
   ]
  },
  {
   "cell_type": "code",
   "execution_count": 150,
   "metadata": {},
   "outputs": [],
   "source": [
    "class CNN(nn.Module):\n",
    "    def __init__(self):\n",
    "        super().__init__()\n",
    "        self.conv1 = nn.Conv2d(4, 64, kernel_size=(3, 3), stride=1)\n",
    "        self.conv2 = nn.Conv2d(64, 64, kernel_size=(3, 3), stride=1)\n",
    "        self.conv3 = nn.Conv2d(64, 64, kernel_size=(3, 3), stride=1)\n",
    "        self.conv4 = nn.Conv2d(64, 32, kernel_size=(1, 1), stride=1)\n",
    "        self.fc1 = nn.Linear(32*4*4, 128)\n",
    "    \n",
    "    def forward(self, x):\n",
    "        h = F.relu(self.conv1(x))\n",
    "        h = F.relu(self.conv2(h))\n",
    "        h = F.relu(self.conv3(h))\n",
    "        h = F.relu(self.conv4(h))\n",
    "        h = self.fc1(h.view(h.size(0), -1))\n",
    "        return F.softmax(h)"
   ]
  },
  {
   "cell_type": "code",
   "execution_count": 151,
   "metadata": {},
   "outputs": [
    {
     "data": {
      "text/plain": [
       "torch.Size([1, 4, 10, 10])"
      ]
     },
     "execution_count": 151,
     "metadata": {},
     "output_type": "execute_result"
    }
   ],
   "source": [
    "y.shape"
   ]
  },
  {
   "cell_type": "code",
   "execution_count": 153,
   "metadata": {},
   "outputs": [],
   "source": [
    "class ReadoutNet(nn.Module):\n",
    "    def __init__(self):\n",
    "        super().__init__()\n",
    "        self.fc1 = nn.Linear(128, 128)\n",
    "        self.fc2 = nn.Linear(128, 8)\n",
    "    \n",
    "    def forward(self, x):\n",
    "        h = F.relu(self.fc1(x))\n",
    "        return F.softmax(self.fc2(x))"
   ]
  },
  {
   "cell_type": "code",
   "execution_count": 156,
   "metadata": {},
   "outputs": [
    {
     "name": "stderr",
     "output_type": "stream",
     "text": [
      "C:\\Users\\Horace\\Miniconda3\\lib\\site-packages\\ipykernel_launcher.py:16: UserWarning: Implicit dimension choice for softmax has been deprecated. Change the call to include dim=X as an argument.\n",
      "  app.launch_new_instance()\n",
      "C:\\Users\\Horace\\Miniconda3\\lib\\site-packages\\ipykernel_launcher.py:9: UserWarning: Implicit dimension choice for softmax has been deprecated. Change the call to include dim=X as an argument.\n",
      "  if __name__ == '__main__':\n"
     ]
    }
   ],
   "source": [
    "c = CNN()\n",
    "r = ReadoutNet()\n",
    "optimizer1 = optim.Adam(c.parameters())\n",
    "optimizer2 = optim.Adam(r.parameters())\n",
    "optimizer1.zero_grad()\n",
    "optimizer2.zero_grad()\n",
    "out1 = c(y)\n",
    "out2 = r(out1)\n",
    "loss = torch.mean(out2)**2\n",
    "loss.backward()\n",
    "optimizer1.step()\n",
    "optimizer2.step()"
   ]
  },
  {
   "cell_type": "code",
   "execution_count": 160,
   "metadata": {},
   "outputs": [
    {
     "name": "stderr",
     "output_type": "stream",
     "text": [
      "C:\\Users\\Horace\\Miniconda3\\lib\\site-packages\\ipykernel_launcher.py:16: UserWarning: Implicit dimension choice for softmax has been deprecated. Change the call to include dim=X as an argument.\n",
      "  app.launch_new_instance()\n"
     ]
    },
    {
     "data": {
      "text/plain": [
       "tensor([[1, 1, 1, 1, 1, 1, 1, 1, 1, 1, 1, 1, 1, 1, 1, 1, 1, 1, 1, 1, 1, 1, 1, 1,\n",
       "         1, 1, 1, 1, 1, 1, 1, 1, 1, 1, 1, 1, 1, 1, 1, 1, 1, 1, 1, 1, 1, 1, 1, 1,\n",
       "         1, 1, 1, 1, 1, 1, 1, 1, 1, 1, 1, 1, 1, 1, 1, 1, 1, 1, 1, 1, 1, 1, 1, 1,\n",
       "         1, 1, 1, 1, 1, 1, 1, 1, 1, 1, 1, 1, 1, 1, 1, 1, 1, 1, 1, 1, 1, 1, 1, 1,\n",
       "         1, 1, 1, 1, 1, 1, 1, 1, 1, 1, 1, 1, 1, 1, 1, 1, 1, 1, 1, 1, 1, 1, 1, 1,\n",
       "         1, 1, 1, 1, 1, 1, 1, 1]], dtype=torch.uint8)"
      ]
     },
     "execution_count": 160,
     "metadata": {},
     "output_type": "execute_result"
    }
   ],
   "source": [
    "out1b = c(y)\n",
    "out1b == out1"
   ]
  },
  {
   "cell_type": "code",
   "execution_count": 161,
   "metadata": {},
   "outputs": [
    {
     "name": "stderr",
     "output_type": "stream",
     "text": [
      "C:\\Users\\Horace\\Miniconda3\\lib\\site-packages\\ipykernel_launcher.py:9: UserWarning: Implicit dimension choice for softmax has been deprecated. Change the call to include dim=X as an argument.\n",
      "  if __name__ == '__main__':\n"
     ]
    },
    {
     "data": {
      "text/plain": [
       "tensor([[1, 1, 1, 1, 1, 1, 1, 1]], dtype=torch.uint8)"
      ]
     },
     "execution_count": 161,
     "metadata": {},
     "output_type": "execute_result"
    }
   ],
   "source": [
    "r(out1) == out2"
   ]
  },
  {
   "cell_type": "code",
   "execution_count": 162,
   "metadata": {},
   "outputs": [
    {
     "data": {
      "text/plain": [
       "tensor([[0.1212, 0.1182, 0.1295, 0.1218, 0.1312, 0.1138, 0.1324, 0.1320]],\n",
       "       grad_fn=<SoftmaxBackward>)"
      ]
     },
     "execution_count": 162,
     "metadata": {},
     "output_type": "execute_result"
    }
   ],
   "source": [
    "out2"
   ]
  },
  {
   "cell_type": "code",
   "execution_count": 6,
   "metadata": {},
   "outputs": [
    {
     "data": {
      "text/html": [
       "\n",
       "<script language=\"javascript\">\n",
       "  /* Define the Animation class */\n",
       "  function Animation(frames, img_id, slider_id, interval, loop_select_id){\n",
       "    this.img_id = img_id;\n",
       "    this.slider_id = slider_id;\n",
       "    this.loop_select_id = loop_select_id;\n",
       "    this.interval = interval;\n",
       "    this.current_frame = 0;\n",
       "    this.direction = 0;\n",
       "    this.timer = null;\n",
       "    this.frames = new Array(frames.length);\n",
       "\n",
       "    for (var i=0; i<frames.length; i++)\n",
       "    {\n",
       "     this.frames[i] = new Image();\n",
       "     this.frames[i].src = frames[i];\n",
       "    }\n",
       "    document.getElementById(this.slider_id).max = this.frames.length - 1;\n",
       "    this.set_frame(this.current_frame);\n",
       "  }\n",
       "\n",
       "  Animation.prototype.get_loop_state = function(){\n",
       "    var button_group = document[this.loop_select_id].state;\n",
       "    for (var i = 0; i < button_group.length; i++) {\n",
       "        var button = button_group[i];\n",
       "        if (button.checked) {\n",
       "            return button.value;\n",
       "        }\n",
       "    }\n",
       "    return undefined;\n",
       "  }\n",
       "\n",
       "  Animation.prototype.set_frame = function(frame){\n",
       "    this.current_frame = frame;\n",
       "    document.getElementById(this.img_id).src = this.frames[this.current_frame].src;\n",
       "    document.getElementById(this.slider_id).value = this.current_frame;\n",
       "  }\n",
       "\n",
       "  Animation.prototype.next_frame = function()\n",
       "  {\n",
       "    this.set_frame(Math.min(this.frames.length - 1, this.current_frame + 1));\n",
       "  }\n",
       "\n",
       "  Animation.prototype.previous_frame = function()\n",
       "  {\n",
       "    this.set_frame(Math.max(0, this.current_frame - 1));\n",
       "  }\n",
       "\n",
       "  Animation.prototype.first_frame = function()\n",
       "  {\n",
       "    this.set_frame(0);\n",
       "  }\n",
       "\n",
       "  Animation.prototype.last_frame = function()\n",
       "  {\n",
       "    this.set_frame(this.frames.length - 1);\n",
       "  }\n",
       "\n",
       "  Animation.prototype.slower = function()\n",
       "  {\n",
       "    this.interval /= 0.7;\n",
       "    if(this.direction > 0){this.play_animation();}\n",
       "    else if(this.direction < 0){this.reverse_animation();}\n",
       "  }\n",
       "\n",
       "  Animation.prototype.faster = function()\n",
       "  {\n",
       "    this.interval *= 0.7;\n",
       "    if(this.direction > 0){this.play_animation();}\n",
       "    else if(this.direction < 0){this.reverse_animation();}\n",
       "  }\n",
       "\n",
       "  Animation.prototype.anim_step_forward = function()\n",
       "  {\n",
       "    this.current_frame += 1;\n",
       "    if(this.current_frame < this.frames.length){\n",
       "      this.set_frame(this.current_frame);\n",
       "    }else{\n",
       "      var loop_state = this.get_loop_state();\n",
       "      if(loop_state == \"loop\"){\n",
       "        this.first_frame();\n",
       "      }else if(loop_state == \"reflect\"){\n",
       "        this.last_frame();\n",
       "        this.reverse_animation();\n",
       "      }else{\n",
       "        this.pause_animation();\n",
       "        this.last_frame();\n",
       "      }\n",
       "    }\n",
       "  }\n",
       "\n",
       "  Animation.prototype.anim_step_reverse = function()\n",
       "  {\n",
       "    this.current_frame -= 1;\n",
       "    if(this.current_frame >= 0){\n",
       "      this.set_frame(this.current_frame);\n",
       "    }else{\n",
       "      var loop_state = this.get_loop_state();\n",
       "      if(loop_state == \"loop\"){\n",
       "        this.last_frame();\n",
       "      }else if(loop_state == \"reflect\"){\n",
       "        this.first_frame();\n",
       "        this.play_animation();\n",
       "      }else{\n",
       "        this.pause_animation();\n",
       "        this.first_frame();\n",
       "      }\n",
       "    }\n",
       "  }\n",
       "\n",
       "  Animation.prototype.pause_animation = function()\n",
       "  {\n",
       "    this.direction = 0;\n",
       "    if (this.timer){\n",
       "      clearInterval(this.timer);\n",
       "      this.timer = null;\n",
       "    }\n",
       "  }\n",
       "\n",
       "  Animation.prototype.play_animation = function()\n",
       "  {\n",
       "    this.pause_animation();\n",
       "    this.direction = 1;\n",
       "    var t = this;\n",
       "    if (!this.timer) this.timer = setInterval(function(){t.anim_step_forward();}, this.interval);\n",
       "  }\n",
       "\n",
       "  Animation.prototype.reverse_animation = function()\n",
       "  {\n",
       "    this.pause_animation();\n",
       "    this.direction = -1;\n",
       "    var t = this;\n",
       "    if (!this.timer) this.timer = setInterval(function(){t.anim_step_reverse();}, this.interval);\n",
       "  }\n",
       "</script>\n",
       "\n",
       "<div class=\"animation\" align=\"center\">\n",
       "    <img id=\"_anim_imgGKWUEJCVQVDSGEPP\">\n",
       "    <br>\n",
       "    <input id=\"_anim_sliderGKWUEJCVQVDSGEPP\" type=\"range\" style=\"width:350px\" name=\"points\" min=\"0\" max=\"1\" step=\"1\" value=\"0\" onchange=\"animGKWUEJCVQVDSGEPP.set_frame(parseInt(this.value));\"></input>\n",
       "    <br>\n",
       "    <button onclick=\"animGKWUEJCVQVDSGEPP.slower()\">&#8211;</button>\n",
       "    <button onclick=\"animGKWUEJCVQVDSGEPP.first_frame()\"><img class=\"anim_icon\" src=\"data:image/png;base64,iVBORw0KGgoAAAANSUhEUgAAABQAAAAUCAQAAAAngNWGAAAAAXNSR0IArs4c6QAAAAJiS0dEAP+Hj8y/AAAACXBIWXMAAAsTAAALEwEAmpwYAAAAB3RJTUUH3QURCAgaeZk4EQAAASlJREFUKM/dkj9LQnEUhp9zr3bpj1uBcKGiJWxzLWivKAIRjIhcCqcgqJbKRagPICiVSVEuNTu0tLYGUg4tkRGUdxLJ0u79Ndxr5FfwTO/L+xzO4XCgO+v2T70AFU+/A/Dhmlzg6Pr0DKAMwOH4zQxAAbAkv2xNeF2RoQUVc1ytgttXUbWVdN1dOPE8pz4j4APQsdFtKA0WY6vpKjqvVciHnvZTS6Ja4HgggJLs7MHxl9nCh8NYcO+iGG0agiaC4h9oa6Vsw2yiK+QHSZT934YoEQABNBcTNDszsrhm1m1B+bFS86PT6QFppx6oeSaeOwlMXRp1h4aK13Y2kuHhUo9ykPboPvFjeEvsrhTMt3ylHyB0r8KZyYdCrbfj4OveoHMANjuyx+76rV+/blxKMZUnLgAAAABJRU5ErkJggg==\"></button>\n",
       "    <button onclick=\"animGKWUEJCVQVDSGEPP.previous_frame()\"><img class=\"anim_icon\" src=\"data:image/png;base64,iVBORw0KGgoAAAANSUhEUgAAABQAAAAUCAQAAAAngNWGAAAAAXNSR0IArs4c6QAAAAJiS0dEAP+Hj8y/AAAACXBIWXMAAAsTAAALEwEAmpwYAAAAB3RJTUUH3QURCAgyTCyQ6wAAANRJREFUKM9jYBjO4AiUfgzFGGAp4+yayUvX6jMwMDCsYmBgOCS4OAOrSYmMgcc8/pd5Q3irC+Neh/1AlmeBMVgZmP8yMLD8/c/cqv9r90whzv/MX7Eq/MfAwMDIwCuZdfSV8U8WDgZGRmYGrAoZGRgY/jO8b3sj/J2F6T8j4z80pzEhmIwMjAxsSbqqlkeZGP//Z8SlkJnhPwMjwx/Guoe1NhmRwk+YGH5jV8jOwMPHzcDBysAwh8FrxQwtPU99HrwBXsnAwMDAsJiBgYGBoZ1xmKYqALHhMpn1o7igAAAAAElFTkSuQmCC\"></button>\n",
       "    <button onclick=\"animGKWUEJCVQVDSGEPP.reverse_animation()\"><img class=\"anim_icon\" src=\"data:image/png;base64,iVBORw0KGgoAAAANSUhEUgAAABQAAAAUCAQAAAAngNWGAAAAAXNSR0IArs4c6QAAAAJiS0dEAP+Hj8y/AAAACXBIWXMAAAsTAAALEwEAmpwYAAAAB3RJTUUH3QURCAgmVvZElgAAAVFJREFUKM+t0k8ow3EYx/H3s/2aLDUSZctFkgsHEi1XLi5ukpPSWsuJklwclsPSsDKFi7MSJ0I5qF2GHO2m0FY7+BdNv7Y9DpuxDSt5vsfvq+fT9/k+8D8VBxIAWH6H0ead4Qb5BRwCENoceZi5Stl/6BgCBmtWhjzxg4mUQ02rAhil7JgB9tze7aTLxFAKsUUd14B9ZzCyFUk401gQyQJaDNcBHwv7t7ETd0ZVQFEEzcNCdE/1wtj15imGWlEB8qkf2QaAWjbG/bPSamIDyX65/iwDIFx7tWjUvWCoSo5oGbYATN7PORt7W9IZEQXJH8ohuN7C0VVX91KNqYhq4a1lEGJI0j892tazXCWQRUpwAbYDcHczPxXuajq3mbnhfANz5eOJxsuNvs7+jud0UcuyL3QAkuEMx4rnIvBYq1JhEwPAUb3fG7x8tVdc292/7Po7f2VqA+Yz7ZwAAAAASUVORK5CYII=\"></button>\n",
       "    <button onclick=\"animGKWUEJCVQVDSGEPP.pause_animation()\"><img class=\"anim_icon\" src=\"data:image/png;base64,iVBORw0KGgoAAAANSUhEUgAAABQAAAAUCAQAAAAngNWGAAAAAXNSR0IArs4c6QAAAAJiS0dEAP+Hj8y/AAAACXBIWXMAAAsTAAALEwEAmpwYAAAAB3RJTUUH3QURCAkR91DQ2AAAAKtJREFUKM9jYCANTEVib2K4jcRbzQihGWEC00JuNjN8Z2Q0Zo3VYWA4lL005venH9+c3ZK5IfIsMIXMBtc12Bj+MMgxMDAwMPzWe2TBzPCf4SLcZCYY4/9/RgZGBiaYFf8gljFhKiQERhUOeoX/Gf8y/GX4y/APmlj+Mfxj+MfwH64Qnnq0zr9fyfLrPzP3eQYGBobvk5x4GX4xMIij23gdib0cRWYHiVmAAQDK5ircshCbHQAAAABJRU5ErkJggg==\"></button>\n",
       "    <button onclick=\"animGKWUEJCVQVDSGEPP.play_animation()\"><img class=\"anim_icon\" src=\"data:image/png;base64,iVBORw0KGgoAAAANSUhEUgAAABQAAAAUCAQAAAAngNWGAAAAAXNSR0IArs4c6QAAAAJiS0dEAP+Hj8y/AAAACXBIWXMAAAsTAAALEwEAmpwYAAAAB3RJTUUH3QURCAkEmo00MwAAAS9JREFUKM+tkj1IQmEUhp9j94LQj0FD4RRBLdLQ3ftb26PRcCiQIIiIDFwKC0OhaAiam5wVDBpqCKohQojMLYzaAiUatOtpuQrKVQl64fu+4Xt4OLwc+Fs+nNM16jsPAWS6gZXggoZfXmfhog3hcZ6aTXF87Sp68OmH4/YggAo8bmfyyeh6Z1AAKPVldyO1+Iz2uILq3AriJSe3l+H7aj+cuRnrTsVDxSxay+VYbMDnCtZxxQOU9G4nlU9E1HQBxRkCQMRGRnIbpxMARkvxCIoAorYMMrq0mJ0qu4COUW3xyVDqJC4P+86P0ewDQbQqgevhlc2C8ETApXAEFLzvwa3EXG9BoIE1GQUbv1h7k4fTXxBu6cKgUbX5M3ZzNC+a7rQ936HV56SlRpcle+Mf8wvgJ16zo/4BtQAAAABJRU5ErkJggg==\"></button>\n",
       "    <button onclick=\"animGKWUEJCVQVDSGEPP.next_frame()\"><img class=\"anim_icon\" src=\"data:image/png;base64,iVBORw0KGgoAAAANSUhEUgAAABQAAAAUCAQAAAAngNWGAAAAAXNSR0IArs4c6QAAAAJiS0dEAP+Hj8y/AAAACXBIWXMAAAsTAAALEwEAmpwYAAAAB3RJTUUH3QURCAkd/uac8wAAAMhJREFUKM9jYBie4DEUQ8B+fEq3+3UrMzAwMFxjYGBgYJizYubaOUxYFUaXh/6vWfRfEMIL/+//P5gZJoei4/f/7wxnY1PeNUXdE2RgYGZgYoCrY2BBVsjKwMDAwvCS4f3SG/dXxm5gYESSQ1HIwvCPgZmB8f8Pxv+Kxxb/YfiPJIdi9T8GJgaG/38ZFd4Fx0xUYsZt4h8GBgb2D2bLy7KnMTAwMEIxFoVCXIYr1IoDnkF4XAysqNIwUMDAwMDAsADKS2NkGL4AAIARMlfNIfZMAAAAAElFTkSuQmCC\"></button>\n",
       "    <button onclick=\"animGKWUEJCVQVDSGEPP.last_frame()\"><img class=\"anim_icon\" src=\"data:image/png;base64,iVBORw0KGgoAAAANSUhEUgAAABQAAAAUCAQAAAAngNWGAAAAAXNSR0IArs4c6QAAAAJiS0dEAP+Hj8y/AAAACXBIWXMAAAsTAAALEwEAmpwYAAAAB3RJTUUH3QURCAknOOpFQQAAAS9JREFUKM/dkrEvQ3EQxz/33mtoQxiYpANbLU26NAabSCcSUouGBVNDjYQaOiDpIEiKjURIw2Kx04hEYmkHEpGoJpSISaXq9Wd4P03/ht5y98197/u9XA4aK4rAWw3lgWddZ3S+/G9mEovtAB8AHE4pgTQAx8PbJweRmsq6GimmNpxaNYXVzMNNCI6A2figimwCGACK786zuWgh3qcsKf/w0pM4X0m/doNVFVzVGlEQsdRj193VxEWpH0RsdRu+zi3tVMqCAsDShoiYqiSV4OouVDFEqS9Pbiyg7vV62lpQ2BJ4Gg0meg0MbNpkYG/e+540NNFyrE1a8qHk5BaAjfnrzUaHfAWImVrLIXbgnx4/9X06s35cweWsVACa3a24PVp0X+rPv1aHFnSONdiL8Qci0lzwpOM5sQAAAABJRU5ErkJggg==\"></button>\n",
       "    <button onclick=\"animGKWUEJCVQVDSGEPP.faster()\">+</button>\n",
       "  <form action=\"#n\" name=\"_anim_loop_selectGKWUEJCVQVDSGEPP\" class=\"anim_control\">\n",
       "    <input type=\"radio\" name=\"state\" value=\"once\" checked> Once </input>\n",
       "    <input type=\"radio\" name=\"state\" value=\"loop\" > Loop </input>\n",
       "    <input type=\"radio\" name=\"state\" value=\"reflect\" > Reflect </input>\n",
       "  </form>\n",
       "</div>\n",
       "\n",
       "\n",
       "<script language=\"javascript\">\n",
       "  /* Instantiate the Animation class. */\n",
       "  /* The IDs given should match those used in the template above. */\n",
       "  (function() {\n",
       "    var img_id = \"_anim_imgGKWUEJCVQVDSGEPP\";\n",
       "    var slider_id = \"_anim_sliderGKWUEJCVQVDSGEPP\";\n",
       "    var loop_select_id = \"_anim_loop_selectGKWUEJCVQVDSGEPP\";\n",
       "    var frames = new Array(0);\n",
       "    \n",
       "  frames[0] = \"data:image/png;base64,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\"\n",
       "  frames[1] = \"data:image/png;base64,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\"\n",
       "  frames[2] = \"data:image/png;base64,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\"\n",
       "  frames[3] = \"data:image/png;base64,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\"\n",
       "  frames[4] = \"data:image/png;base64,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\"\n",
       "  frames[5] = \"data:image/png;base64,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\"\n",
       "  frames[6] = \"data:image/png;base64,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\"\n",
       "  frames[7] = \"data:image/png;base64,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\"\n",
       "  frames[8] = \"data:image/png;base64,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\"\n",
       "  frames[9] = \"data:image/png;base64,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\"\n",
       "\n",
       "\n",
       "    /* set a timeout to make sure all the above elements are created before\n",
       "       the object is initialized. */\n",
       "    setTimeout(function() {\n",
       "        animGKWUEJCVQVDSGEPP = new Animation(frames, img_id, slider_id, 200, loop_select_id);\n",
       "    }, 0);\n",
       "  })()\n",
       "</script>\n"
      ],
      "text/plain": [
       "<IPython.core.display.HTML object>"
      ]
     },
     "metadata": {},
     "output_type": "display_data"
    }
   ],
   "source": [
    "%matplotlib inline\n",
    "from JSAnimation.IPython_display import display_animation\n",
    "from matplotlib import animation\n",
    "import matplotlib.pyplot as plt\n",
    "from IPython.display import display\n",
    "\n",
    "def display_frames_as_gif(frames):\n",
    "    plt.figure(figsize=(frames[0].shape[1] / 72.0, frames[0].shape[0] / 72.0), dpi = 72)\n",
    "    patch = plt.imshow(frames[0])\n",
    "    plt.axis('off')\n",
    "\n",
    "    def animate(i):\n",
    "        patch.set_data(frames[i])\n",
    "\n",
    "    anim = animation.FuncAnimation(plt.gcf(), \n",
    "                                   animate, \n",
    "                                   frames=len(frames), \n",
    "                                   interval=200)\n",
    "    display(display_animation(anim, default_mode='once'))\n",
    "\n",
    "display_frames_as_gif(frames)"
   ]
  },
  {
   "cell_type": "code",
   "execution_count": null,
   "metadata": {},
   "outputs": [],
   "source": []
  }
 ],
 "metadata": {
  "kernelspec": {
   "display_name": "Python 3",
   "language": "python",
   "name": "python3"
  },
  "language_info": {
   "codemirror_mode": {
    "name": "ipython",
    "version": 3
   },
   "file_extension": ".py",
   "mimetype": "text/x-python",
   "name": "python",
   "nbconvert_exporter": "python",
   "pygments_lexer": "ipython3",
   "version": "3.6.6"
  },
  "latex_envs": {
   "LaTeX_envs_menu_present": true,
   "autoclose": false,
   "autocomplete": true,
   "bibliofile": "biblio.bib",
   "cite_by": "apalike",
   "current_citInitial": 1,
   "eqLabelWithNumbers": true,
   "eqNumInitial": 1,
   "hotkeys": {
    "equation": "Ctrl-E",
    "itemize": "Ctrl-I"
   },
   "labels_anchors": false,
   "latex_user_defs": false,
   "report_style_numbering": false,
   "user_envs_cfg": false
  }
 },
 "nbformat": 4,
 "nbformat_minor": 2
}
