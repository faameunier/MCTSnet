{
 "cells": [
  {
   "cell_type": "markdown",
   "metadata": {},
   "source": [
    "# Pilot - Sokoban Environment\n",
    "## v1"
   ]
  },
  {
   "cell_type": "code",
   "execution_count": null,
   "metadata": {
    "ExecuteTime": {
     "end_time": "2019-03-05T20:30:10.072971Z",
     "start_time": "2019-03-05T20:30:09.934489Z"
    }
   },
   "outputs": [],
   "source": [
    "import gym\n",
    "import gym_sokoban\n"
   ]
  },
  {
   "cell_type": "markdown",
   "metadata": {},
   "source": [
    "## 0 - Random Sampling"
   ]
  },
  {
   "cell_type": "code",
   "execution_count": null,
   "metadata": {
    "ExecuteTime": {
     "end_time": "2019-03-05T20:36:17.402930Z",
     "start_time": "2019-03-05T20:36:12.663904Z"
    }
   },
   "outputs": [],
   "source": [
    "import time\n",
    "\n",
    "env = gym.make('Sokoban-v0')\n",
    "ACTION_LOOKUP = env.unwrapped.get_action_lookup()\n",
    "\n",
    "\n",
    "for i_episode in range(1):#20\n",
    "    observation = env.reset()\n",
    "\n",
    "    for t in range(100):#100\n",
    "        env.render(mode='human')\n",
    "        action = env.action_space.sample()\n",
    "\n",
    "        # Sleep makes the actions visible for users\n",
    "        time.sleep(1)\n",
    "        observation, reward, done, info = env.step(action)\n",
    "\n",
    "        print(ACTION_LOOKUP[action], reward, done, info)\n",
    "        if done:\n",
    "            print(\"Episode finished after {} timesteps\".format(t+1))\n",
    "            env.render()\n",
    "            break\n",
    "\n",
    "    env.close()\n",
    "time.sleep(10)"
   ]
  },
  {
   "cell_type": "markdown",
   "metadata": {},
   "source": [
    "## 1 - Pilot"
   ]
  },
  {
   "cell_type": "code",
   "execution_count": null,
   "metadata": {
    "ExecuteTime": {
     "end_time": "2019-03-05T20:34:50.544814Z",
     "start_time": "2019-03-05T20:34:50.271670Z"
    }
   },
   "outputs": [],
   "source": [
    "env = gym.make('Sokoban-v0')\n",
    "\n",
    "env.render('tiny_human')\n",
    "\n",
    "action = env.action_space.sample()\n",
    "observation, reward, done, info = env.step(action)\n"
   ]
  },
  {
   "cell_type": "code",
   "execution_count": null,
   "metadata": {
    "ExecuteTime": {
     "end_time": "2019-03-05T20:34:56.600618Z",
     "start_time": "2019-03-05T20:34:56.597391Z"
    }
   },
   "outputs": [],
   "source": [
    "observation.shape"
   ]
  },
  {
   "cell_type": "code",
   "execution_count": null,
   "metadata": {},
   "outputs": [],
   "source": []
  }
 ],
 "metadata": {
  "kernelspec": {
   "display_name": "Python 3",
   "language": "python",
   "name": "python3"
  },
  "language_info": {
   "codemirror_mode": {
    "name": "ipython",
    "version": 3
   },
   "file_extension": ".py",
   "mimetype": "text/x-python",
   "name": "python",
   "nbconvert_exporter": "python",
   "pygments_lexer": "ipython3",
   "version": "3.6.8"
  },
  "latex_envs": {
   "LaTeX_envs_menu_present": true,
   "autoclose": false,
   "autocomplete": true,
   "bibliofile": "biblio.bib",
   "cite_by": "apalike",
   "current_citInitial": 1,
   "eqLabelWithNumbers": true,
   "eqNumInitial": 1,
   "hotkeys": {
    "equation": "Ctrl-E",
    "itemize": "Ctrl-I"
   },
   "labels_anchors": false,
   "latex_user_defs": false,
   "report_style_numbering": false,
   "user_envs_cfg": false
  }
 },
 "nbformat": 4,
 "nbformat_minor": 2
}
